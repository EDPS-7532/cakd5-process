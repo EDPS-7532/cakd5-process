{
 "cells": [
  {
   "cell_type": "markdown",
   "id": "e923a675",
   "metadata": {},
   "source": [
    "## 정규 표현식의 기초 메타 문자\n",
    "\n",
    "- . ^ $ * + ? {} [] \\ |(\\+shift) ()\n",
    "-  []  문자 클래스\n",
    " -  \\d 숫자와 매치, [0-9]와 동일한 표현식\n",
    " -  \\D 숫자가 아닌것과 매치, [^0-9]와 동일한 표현식\n",
    " -  \\s whitespace 문자와 매치, [space, \\t(tap),\\n(계행),\\r,\\f,\\v]와 동일한 표현식\n",
    " -  \\S whitespace 문자가 아닌 것과 매치, [^ \\t(tap),\\n(계행),\\r,\\f,\\v,space]와 동일한 표현식\n",
    " -  \\w 문자 + 숫자와 매치, [a-z A-Z 0-9]와 동일한 표현식\n",
    " -  \\W 문자 + 숫자가 아닌 문자와 매치, [a-z A-Z 0-9]와 동일한 표현식\n",
    "\n",
    "- whitespace\n",
    " - spacebar(아스키코드 32)\n",
    " - \\b 뒤로 한 칸 이동(Backspace) (아스키코드 8)\n",
    " - \\t 수평탭 간격 띄우기\n",
    " - \\n 줄바꿈\n",
    " - \\v 수직탭 간격 띄우기\n",
    " - \\f 프린트 출력 용지를 한 페이지 넘김\n",
    " - \\r 동일한 줄의 맨 앞에서 커서 이동\n",
    " \n",
    "- Dot(.) 메타 문자는 줄바꿈 문자인 \\n를 제외한 모든 문자와 매치됨을 의미\n",
    "- 반복(\\*) 0부터 무한대로 반복 => ca*t 0부터 무한대로 반복  (caaaaaa*t, c*t\n",
    "- 반복(\\+) 최소 한번은 있어야 함 => ca+t\n",
    "- ca{m,n} a 반복 횟수가 m부터 n까지인 것을 매치\n",
    "- ca{2}t는 c+a(2번 반복)+t의 의미\n",
    "- 반복 횟수가 {1,}은 1 이상, {0, }은 0 이상인 경우로 +, * 와 동일하며 {,1}은 반복 횟수가 1 이하를   의미\n",
    "- ab?c b가 0~1번 사용되면 매치되는 것으로 ?은 앞에 b가 있어도 되고 없어도 된다.\n",
    "\n",
    "re 모듈 : 파이썬은 정규표현식을 지원하기 위해 기본으로 제공\n",
    "- re.compile의 결과로 리턴되는 객체를 이용하여 그 이후 작업 수행\n",
    "\n",
    "정규식을 이용한 문자열 검색\n",
    "- match() : 문자열의 처음부터 정규식과 매치되는지를 조사\n",
    "- search() : 문자열의 전체를 검색하여 정규식과 매치되는지 조사\n",
    "- findall() : 정규식과 매치되는 모든 문자열을 리스트로 리턴\n",
    "- finditer() : 정규식과 매치되는 모든 문자열을 반복 가능한 객체로 리턴"
   ]
  },
  {
   "cell_type": "code",
   "execution_count": 5,
   "id": "a4dec17a",
   "metadata": {},
   "outputs": [
    {
     "name": "stdout",
     "output_type": "stream",
     "text": [
      "<re.Match object; span=(0, 7), match='python '>\n"
     ]
    }
   ],
   "source": [
    "import re\n",
    "p = re.compile('[a-z]+\\s') #소문자를 걸러줌+\\s형태로 나타냄\n",
    "m = p.match('python python') #처음것만 나타냄   #span은 자리수 #match는 맞는 단어\n",
    "print(m)"
   ]
  },
  {
   "cell_type": "code",
   "execution_count": 6,
   "id": "79ccc768",
   "metadata": {},
   "outputs": [
    {
     "data": {
      "text/plain": [
       "<re.Match object; span=(0, 7), match='python '>"
      ]
     },
     "execution_count": 6,
     "metadata": {},
     "output_type": "execute_result"
    }
   ],
   "source": [
    "re.match('[a-z]+\\s',\"python python\") "
   ]
  },
  {
   "cell_type": "code",
   "execution_count": 7,
   "id": "c684f038",
   "metadata": {},
   "outputs": [
    {
     "data": {
      "text/plain": [
       "['python ', 'python ']"
      ]
     },
     "execution_count": 7,
     "metadata": {},
     "output_type": "execute_result"
    }
   ],
   "source": [
    "p.findall('python python ')   #뒤에 있는것도 나올려면 문자 뒤에 space를 쳐야한다."
   ]
  },
  {
   "cell_type": "code",
   "execution_count": 8,
   "id": "7d7cd1a6",
   "metadata": {},
   "outputs": [
    {
     "data": {
      "text/plain": [
       "['python ']"
      ]
     },
     "execution_count": 8,
     "metadata": {},
     "output_type": "execute_result"
    }
   ],
   "source": [
    "p.findall('python ')"
   ]
  },
  {
   "cell_type": "code",
   "execution_count": 9,
   "id": "33f9a8af",
   "metadata": {},
   "outputs": [
    {
     "name": "stdout",
     "output_type": "stream",
     "text": [
      "None\n"
     ]
    }
   ],
   "source": [
    "m = p.match('3python ')   # 문자 앞에 숫자가 있어서 나오지 않는다.\n",
    "print(m)"
   ]
  },
  {
   "cell_type": "code",
   "execution_count": 10,
   "id": "bc6e336e",
   "metadata": {},
   "outputs": [
    {
     "name": "stdout",
     "output_type": "stream",
     "text": [
      "<re.Match object; span=(1, 8), match='python '>\n"
     ]
    }
   ],
   "source": [
    "m = p.search('3python ')  #search는 문자열의 전체를 검색하여 나타나기 때문에 나온다.\n",
    "print(m)"
   ]
  },
  {
   "cell_type": "code",
   "execution_count": 11,
   "id": "aa0f5273",
   "metadata": {},
   "outputs": [
    {
     "name": "stdout",
     "output_type": "stream",
     "text": [
      "<re.Match object; span=(1, 6), match='anker'>\n",
      "<re.Match object; span=(0, 6), match='banker'>\n"
     ]
    }
   ],
   "source": [
    "# 문자 클래스 : []\n",
    "pattern = re.compile('[a-z]+')  #소문자들로 1개 이상(+)\n",
    "p1 = pattern.search('Banker')   #compile범위에 소문자가 있어서 대문자는 나오지 않는다.\n",
    "p2 = pattern.search('banker')\n",
    "print(p1)\n",
    "print(p2)"
   ]
  },
  {
   "cell_type": "code",
   "execution_count": 19,
   "id": "69d824e8",
   "metadata": {},
   "outputs": [
    {
     "name": "stdout",
     "output_type": "stream",
     "text": [
      "<re.Match object; span=(5, 6), match='a'>\n"
     ]
    },
    {
     "data": {
      "text/plain": [
       "'a'"
      ]
     },
     "execution_count": 19,
     "metadata": {},
     "output_type": "execute_result"
    }
   ],
   "source": [
    "# Q. '12345abc'에서 'a'만 출력하세요\n",
    "pattern = re.compile('[a]')\n",
    "p1 = pattern.search('12345abc')\n",
    "print(p1)\n",
    "p1.group()"
   ]
  },
  {
   "cell_type": "code",
   "execution_count": 16,
   "id": "da01b83f",
   "metadata": {},
   "outputs": [
    {
     "data": {
      "text/plain": [
       "'a'"
      ]
     },
     "execution_count": 16,
     "metadata": {},
     "output_type": "execute_result"
    }
   ],
   "source": [
    "import re\n",
    "\n",
    "pattern = re.compile('[a]')\n",
    "text = '12345abc'\n",
    "m = pattern.search(text)    #match가 안되는 이유는 a가 중간에 있음.\n",
    "m.group()"
   ]
  },
  {
   "cell_type": "code",
   "execution_count": 23,
   "id": "b6ef275b",
   "metadata": {},
   "outputs": [
    {
     "name": "stdout",
     "output_type": "stream",
     "text": [
      "<re.Match object; span=(5, 6), match='A'>\n"
     ]
    },
    {
     "data": {
      "text/plain": [
       "'A'"
      ]
     },
     "execution_count": 23,
     "metadata": {},
     "output_type": "execute_result"
    }
   ],
   "source": [
    "# Q. '12345Abc'에서 'A'만 출력하세요\n",
    "pattern = re.compile('[A]')\n",
    "p1 = pattern.search('12345Abc')\n",
    "print(p1)\n",
    "p1.group()"
   ]
  },
  {
   "cell_type": "code",
   "execution_count": 25,
   "id": "2fd38b4b",
   "metadata": {},
   "outputs": [
    {
     "name": "stdout",
     "output_type": "stream",
     "text": [
      "<re.Match object; span=(6, 7), match='대'>\n"
     ]
    },
    {
     "data": {
      "text/plain": [
       "'대'"
      ]
     },
     "execution_count": 25,
     "metadata": {},
     "output_type": "execute_result"
    }
   ],
   "source": [
    "# [과제] 'KOREA 대한민국'에서 '대' 만 출력하세요.\n",
    "pattern = re.compile('[대]')\n",
    "p1 = pattern.search('KOREA 대한민국')\n",
    "print(p1)\n",
    "p1.group()"
   ]
  },
  {
   "cell_type": "code",
   "execution_count": 38,
   "id": "55612388",
   "metadata": {},
   "outputs": [
    {
     "name": "stdout",
     "output_type": "stream",
     "text": [
      "['122333c']\n"
     ]
    }
   ],
   "source": [
    "# Q. '122333c'를 모두 출력하세요\n",
    "pattern = re.compile('122333c')\n",
    "p1 = pattern.findall('122333c')\n",
    "print(p1)"
   ]
  },
  {
   "cell_type": "code",
   "execution_count": 39,
   "id": "9ec17fa3",
   "metadata": {},
   "outputs": [
    {
     "data": {
      "text/plain": [
       "'122333c'"
      ]
     },
     "execution_count": 39,
     "metadata": {},
     "output_type": "execute_result"
    }
   ],
   "source": [
    "import re\n",
    "p = re.compile('12{2}3{3}c')   #{2} 2가 2번 반복됨을 의미 {3}은 3이 3번 반복을 의미\n",
    "text = '122333c'\n",
    "m = p.search(text)\n",
    "m.group()"
   ]
  },
  {
   "cell_type": "code",
   "execution_count": 26,
   "id": "237cb855",
   "metadata": {},
   "outputs": [
    {
     "name": "stdout",
     "output_type": "stream",
     "text": [
      "['aaaaBBBcccDDDeee']\n"
     ]
    }
   ],
   "source": [
    "# [과제] 'aaaaBBBcccDDDeee'를 모두 출력하세요\n",
    "pattern = re.compile('aaaaBBBcccDDDeee')\n",
    "p1 = pattern.findall('aaaaBBBcccDDDeee')\n",
    "print(p1)"
   ]
  },
  {
   "cell_type": "code",
   "execution_count": null,
   "id": "2bbc2d13",
   "metadata": {},
   "outputs": [],
   "source": [
    "import re\n",
    "p = re.compile('a{4}BBBcccDDDeee')"
   ]
  },
  {
   "cell_type": "code",
   "execution_count": 30,
   "id": "f0098d67",
   "metadata": {},
   "outputs": [
    {
     "name": "stdout",
     "output_type": "stream",
     "text": [
      "<re.Match object; span=(1, 2), match='C'>\n",
      "<re.Match object; span=(0, 1), match='C'>\n",
      "<re.Match object; span=(2, 3), match='C'>\n"
     ]
    },
    {
     "data": {
      "text/plain": [
       "'C'"
      ]
     },
     "execution_count": 30,
     "metadata": {},
     "output_type": "execute_result"
    }
   ],
   "source": [
    "# [과제] BC, CC, ABC 모두 C가 출력되는 정규 표현식을 ()에 작성하세요\n",
    "pattern = re.compile('[C]')\n",
    "text1 = 'BC'\n",
    "text2 = 'CC'\n",
    "text3 = 'ABC'\n",
    "p1 = pattern.search(text1)\n",
    "p2 = pattern.search(text2)\n",
    "p3 = pattern.search(text3)\n",
    "print(p1)\n",
    "print(p2)\n",
    "print(p3)\n",
    "p1.group()\n",
    "p2.group()\n",
    "p3.group()\n"
   ]
  },
  {
   "cell_type": "code",
   "execution_count": 41,
   "id": "7218d16c",
   "metadata": {},
   "outputs": [
    {
     "name": "stdout",
     "output_type": "stream",
     "text": [
      "['life', 'is', 'too', 'short']\n"
     ]
    }
   ],
   "source": [
    "p = re.compile('[a-z]+')\n",
    "result = p.findall('life is too short')\n",
    "print(result)"
   ]
  },
  {
   "cell_type": "code",
   "execution_count": 49,
   "id": "fff8216c",
   "metadata": {},
   "outputs": [
    {
     "name": "stdout",
     "output_type": "stream",
     "text": [
      "['life', 'is', 'too', 'short']\n",
      "life\n",
      "ife\n"
     ]
    }
   ],
   "source": [
    "p = re.compile('[a-z]+')\n",
    "result1 = p.findall('life is too short')  \n",
    "result2 = p.match('life is too short')\n",
    "result3 = p.search('Life is too short')   #전체에서 검색하여 하나만 검색(맨처음 적용된것)\n",
    "print(result1)\n",
    "print(result2.group())        #is, too,short뒤에 스페이스가 있어서 출력이 안됨\n",
    "print(result3.group())        "
   ]
  },
  {
   "cell_type": "code",
   "execution_count": 45,
   "id": "4d4d75fb",
   "metadata": {},
   "outputs": [
    {
     "name": "stdout",
     "output_type": "stream",
     "text": [
      "life\n",
      "is\n",
      "too\n",
      "short\n"
     ]
    }
   ],
   "source": [
    "#finditer는 findall과 동일하지만 그 결과로 반복 가능한 객체를 돌려준다.(반드시 반복해야함 )\n",
    "result = p.finditer('life is too short')\n",
    "\n",
    "# list(result) 의 형태로 작성하거나\n",
    "\n",
    "for r in result:print(r.group()) # 이러한 형태로 작성한다\n"
   ]
  },
  {
   "cell_type": "code",
   "execution_count": 37,
   "id": "918e334c",
   "metadata": {},
   "outputs": [
    {
     "name": "stdout",
     "output_type": "stream",
     "text": [
      "['032-232-3245']\n"
     ]
    }
   ],
   "source": [
    "# [과제] 정규 표현식을 사용하여 test에서 전화번호만 출력하세요.\n",
    "# text = \"문의사항이 있으면 032-232-3245로 연락주시기 바랍니다.\"\n",
    "\n",
    "pattern = re.compile('032-232-3245')\n",
    "p1 = pattern.findall(\"문의사항이 있으면 032-232-3245로 연락주시기 바랍니다.\")\n",
    "print(p1)"
   ]
  },
  {
   "cell_type": "code",
   "execution_count": 57,
   "id": "f4c66e7b",
   "metadata": {},
   "outputs": [
    {
     "name": "stdout",
     "output_type": "stream",
     "text": [
      "['1', '2', '3', '4', '1', '2', '3', '4']\n"
     ]
    }
   ],
   "source": [
    "# Q. '1234a1234'에서 '1','2','3','4'로 모두 출력하세요.\n",
    "import re\n",
    "text = '1234a1234'\n",
    "t = re.compile('[1234]')\n",
    "tx =t.findall(text)\n",
    "print(tx)"
   ]
  },
  {
   "cell_type": "code",
   "execution_count": 53,
   "id": "ee81c9d1",
   "metadata": {},
   "outputs": [
    {
     "name": "stdout",
     "output_type": "stream",
     "text": [
      "['1', '2', '3', '4']\n"
     ]
    }
   ],
   "source": [
    "#중복없이\n",
    "import re\n",
    "text = '1234a1234'\n",
    "t = re.compile('[0-9]')\n",
    "tx = t.findall(text)\n",
    "print(sorted(set(tx)))\n"
   ]
  },
  {
   "cell_type": "code",
   "execution_count": 54,
   "id": "b6a927a9",
   "metadata": {},
   "outputs": [
    {
     "name": "stdout",
     "output_type": "stream",
     "text": [
      "['1234', '1234']\n"
     ]
    }
   ],
   "source": [
    "import re\n",
    "p = re.compile('[0-9]+')\n",
    "f = p.findall('1234a1234')\n",
    "print(f)\n"
   ]
  },
  {
   "cell_type": "code",
   "execution_count": 56,
   "id": "d1d00a1a",
   "metadata": {},
   "outputs": [
    {
     "name": "stdout",
     "output_type": "stream",
     "text": [
      "['1', '2', '3', '4', '1', '2', '3', '4']\n"
     ]
    }
   ],
   "source": [
    "#'1','2','3','4'를 모두 출력하세요.\n",
    "import re\n",
    "p = re.compile('[1-4]')\n",
    "text = '1234a1234'\n",
    "fa = p.findall(text)\n",
    "print(fa)\n"
   ]
  },
  {
   "cell_type": "code",
   "execution_count": null,
   "id": "760d31c6",
   "metadata": {},
   "outputs": [],
   "source": [
    "# 'Python3 is very good programming language!' 에서 ['Python', 'is', 'very', 'good', programming', 'language']를 모두 출력하시오"
   ]
  },
  {
   "cell_type": "code",
   "execution_count": 60,
   "id": "39a0c8c8",
   "metadata": {},
   "outputs": [
    {
     "name": "stdout",
     "output_type": "stream",
     "text": [
      "['Python', 'is', 'very', 'good', 'programming', 'language']\n"
     ]
    }
   ],
   "source": [
    "import re\n",
    "p = re.compile('[A-Za-z]+')\n",
    "text = 'Python3 is very good programming language!'\n",
    "f = p.findall(text)\n",
    "print(f)"
   ]
  },
  {
   "cell_type": "code",
   "execution_count": 61,
   "id": "ea6034dc",
   "metadata": {},
   "outputs": [
    {
     "data": {
      "text/plain": [
       "['3 ', ' ', ' ', ' ', ' ', '!']"
      ]
     },
     "execution_count": 61,
     "metadata": {},
     "output_type": "execute_result"
    }
   ],
   "source": [
    "p = re.compile('[^A-Za-z]+')\n",
    "text = 'Python3 is very good programming language!'\n",
    "p.findall(text)"
   ]
  },
  {
   "cell_type": "code",
   "execution_count": 62,
   "id": "71d02285",
   "metadata": {},
   "outputs": [
    {
     "data": {
      "text/plain": [
       "['Python', 'is', 'very', 'good', 'programming', 'language']"
      ]
     },
     "execution_count": 62,
     "metadata": {},
     "output_type": "execute_result"
    }
   ],
   "source": [
    "p = re.compile('[A-Za-z]+')\n",
    "text = 'Python3 is very good programming language!'\n",
    "p.findall(text)"
   ]
  },
  {
   "cell_type": "code",
   "execution_count": 64,
   "id": "032eaab1",
   "metadata": {},
   "outputs": [
    {
     "name": "stdout",
     "output_type": "stream",
     "text": [
      "python\n",
      "0\n",
      "6\n",
      "(0, 6)\n"
     ]
    }
   ],
   "source": [
    "#match 객체의 메소드\n",
    "import re\n",
    "p = re.compile('[a-z]+')\n",
    "m = p.match('python')\n",
    "print(m.group())\n",
    "print(m.start())\n",
    "print(m.end())       #끝\n",
    "print(m.span())      #범위"
   ]
  },
  {
   "cell_type": "code",
   "execution_count": 65,
   "id": "341fc805",
   "metadata": {},
   "outputs": [
    {
     "name": "stdout",
     "output_type": "stream",
     "text": [
      "python\n",
      "2\n",
      "8\n",
      "(2, 8)\n"
     ]
    }
   ],
   "source": [
    "m = p.search('3 python')\n",
    "print(m.group())\n",
    "print(m.start())\n",
    "print(m.end())\n",
    "print(m.span())"
   ]
  },
  {
   "cell_type": "code",
   "execution_count": 69,
   "id": "0542cd7e",
   "metadata": {},
   "outputs": [
    {
     "name": "stdout",
     "output_type": "stream",
     "text": [
      "python\n"
     ]
    }
   ],
   "source": [
    "#모듈 단위로 수행하기\n",
    "m = re.match('[a-z]+', \"python\")\n",
    "print(m.group())"
   ]
  },
  {
   "cell_type": "code",
   "execution_count": 76,
   "id": "d8707c09",
   "metadata": {
    "scrolled": true
   },
   "outputs": [
    {
     "name": "stdout",
     "output_type": "stream",
     "text": [
      "None\n",
      "acb\n",
      "a12?Ab\n"
     ]
    }
   ],
   "source": [
    "# Dot(.) 메타 문자\n",
    "import re\n",
    "p = re.compile('a.+b')\n",
    "m1 = p.match('a\\nb')    \n",
    "m2 = p.match('acb')\n",
    "m3 = p.match('a12?Ab')\n",
    "\n",
    "print(m1)\n",
    "print(m2.group())\n",
    "print(m3.group())\n"
   ]
  },
  {
   "cell_type": "code",
   "execution_count": 81,
   "id": "ccea9d28",
   "metadata": {},
   "outputs": [
    {
     "data": {
      "text/plain": [
       "'a\\nb'"
      ]
     },
     "execution_count": 81,
     "metadata": {},
     "output_type": "execute_result"
    }
   ],
   "source": [
    "p = re.compile('a.b', re.DOTALL)\n",
    "m = p.match('a\\nb')\n",
    "m.group()"
   ]
  },
  {
   "cell_type": "code",
   "execution_count": 82,
   "id": "ba31cc62",
   "metadata": {},
   "outputs": [
    {
     "name": "stdout",
     "output_type": "stream",
     "text": [
      "<re.Match object; span=(0, 6), match='python'>\n",
      "<re.Match object; span=(0, 6), match='Python'>\n",
      "<re.Match object; span=(0, 6), match='PYTHON'>\n"
     ]
    }
   ],
   "source": [
    "# re.IGNORANCE 또는 re. I 옵션을 대소문자 구분없이 매치를 수행시 사용\n",
    "p = re.compile('[a-z]+', re.I)\n",
    "print(p.match('python'))\n",
    "print(p.match('Python'))\n",
    "print(p.match('PYTHON'))\n"
   ]
  },
  {
   "cell_type": "code",
   "execution_count": 83,
   "id": "9640a906",
   "metadata": {},
   "outputs": [
    {
     "name": "stdout",
     "output_type": "stream",
     "text": [
      "<re.Match object; span=(2, 8), match='python'>\n",
      "<re.Match object; span=(2, 8), match='Python'>\n",
      "<re.Match object; span=(2, 8), match='PYTHON'>\n"
     ]
    }
   ],
   "source": [
    "print(p.search('3 python'))\n",
    "print(p.search('3 Python'))\n",
    "print(p.search('3 PYTHON'))"
   ]
  },
  {
   "cell_type": "code",
   "execution_count": 84,
   "id": "27eda055",
   "metadata": {},
   "outputs": [
    {
     "name": "stdout",
     "output_type": "stream",
     "text": [
      "['python one']\n"
     ]
    }
   ],
   "source": [
    "# ^ : 문자열의 맨 처음에 매치가 된다.\n",
    "p = re.compile('^python\\s\\w+')  #처음에 ^가 온다  맨 뒤에 +가 온다\n",
    "\n",
    "data = \"\"\"python one\n",
    "life is too short\n",
    "python two\n",
    "you need python\n",
    "python three\"\"\"\n",
    "\n",
    "print(p.findall(data))    #^은 매처음 문자만 나온다. \\s는 space뒤에 있는 것이 온다 , \\s는 소문자만 온다."
   ]
  },
  {
   "cell_type": "code",
   "execution_count": 86,
   "id": "21380b9d",
   "metadata": {},
   "outputs": [
    {
     "name": "stdout",
     "output_type": "stream",
     "text": [
      "['python three']\n"
     ]
    }
   ],
   "source": [
    "# $: 문자열의 맨 마지막에 매치가 된다.\n",
    "p = re.compile('python\\s\\w+$')     # $는 ^와 달리 마지막에 오는것만 매칭한다\n",
    "\n",
    "ata = \"\"\"python one\n",
    "life is too short\n",
    "python two\n",
    "you need python\n",
    "python three\"\"\"\n",
    "\n",
    "print(p.findall(data))"
   ]
  },
  {
   "cell_type": "code",
   "execution_count": 87,
   "id": "c11d2d31",
   "metadata": {},
   "outputs": [
    {
     "name": "stdout",
     "output_type": "stream",
     "text": [
      "<re.Match object; span=(0, 8), match='\\\\section'>\n"
     ]
    },
    {
     "data": {
      "text/plain": [
       "['\\\\section', '\\\\section']"
      ]
     },
     "execution_count": 87,
     "metadata": {},
     "output_type": "execute_result"
    }
   ],
   "source": [
    "# Raw string 규칙 \\\\(역슬래시 자체로 구성하기 위해서 \\:역슬래시를 하나 더 붙인다. 2개 이상일때는 r를 붙인다.)\n",
    "\n",
    "p = re.compile(r'\\\\section')\n",
    "\n",
    "print(p.match('\\section'))\n",
    "p.findall('\\section\\section')\n"
   ]
  },
  {
   "cell_type": "code",
   "execution_count": 88,
   "id": "fb433cb7",
   "metadata": {},
   "outputs": [
    {
     "name": "stdout",
     "output_type": "stream",
     "text": [
      "<re.Match object; span=(0, 4), match='Crow'>\n"
     ]
    }
   ],
   "source": [
    "# | ( shift + \\ ) =  or와 동일한 의미\n",
    "\n",
    "p = re.compile('Crow|Servo')\n",
    "m = p.match('CrowHello')\n",
    "print(m)"
   ]
  },
  {
   "cell_type": "code",
   "execution_count": 93,
   "id": "83e85c87",
   "metadata": {},
   "outputs": [
    {
     "data": {
      "text/plain": [
       "'home'"
      ]
     },
     "execution_count": 93,
     "metadata": {},
     "output_type": "execute_result"
    }
   ],
   "source": [
    "# Q. 'we are going home'에서 home만 출력하세요.\n",
    "\n",
    "p = re.compile('home$')\n",
    "mk1 = p.search('we are going home')\n",
    "mk1.group()"
   ]
  },
  {
   "cell_type": "code",
   "execution_count": 103,
   "id": "f44b8218",
   "metadata": {},
   "outputs": [
    {
     "name": "stdout",
     "output_type": "stream",
     "text": [
      "[]\n"
     ]
    }
   ],
   "source": [
    "#[과제] 'home sweet'에서 home만 출력하세요\n",
    "\n",
    "p = re.compile('^home+ sweet')\n",
    "mk2 = '''home \n",
    "sweet '''\n",
    "print(p.findall(data))"
   ]
  },
  {
   "cell_type": "code",
   "execution_count": null,
   "id": "1bd847c7",
   "metadata": {},
   "outputs": [],
   "source": [
    "[과제] '199305, 1923A, a93247'에서 '199305'만 출력하세요."
   ]
  },
  {
   "cell_type": "code",
   "execution_count": null,
   "id": "d1f00991",
   "metadata": {},
   "outputs": [],
   "source": [
    "p = re.compile('199305, 1923A, a93247')\n",
    "mk3 = p.search('199305, 1923A, a93247')"
   ]
  },
  {
   "cell_type": "code",
   "execution_count": 110,
   "id": "c5fca77d",
   "metadata": {},
   "outputs": [
    {
     "name": "stdout",
     "output_type": "stream",
     "text": [
      "<re.Match object; span=(3, 9), match='ABCDEF'>\n",
      "ABCDEF\n",
      "ABCDEF\n",
      "AB\n",
      "CD\n",
      "EF\n"
     ]
    }
   ],
   "source": [
    "# 그룹핑 : 매치된 문자열 중에서 특정 부분의 문자열만 뽑아내는 경우 ()을 만들어 준다.\n",
    "# group(0) 매치된 전체 문자열, 1 첫번째 그룹, 2 두번째 그룹, n n번째 그룹\n",
    "#맨 밖에 있는 괄호부터 시작한다.\n",
    "#p = re.compile('((AB)(CD)(EF))+')\n",
    "p = re.compile('(AB(CD)EF)+')   #1st : ABEF, 2nd : CD\n",
    "m = p.search('DEFABCDEFDEF OK?')\n",
    "\n",
    "print(m)\n",
    "print(m.group(0))\n",
    "print(m.group(1))\n",
    "print(m.group(2))\n",
    "print(m.group(3))\n",
    "print(m.group(4))"
   ]
  },
  {
   "cell_type": "code",
   "execution_count": 120,
   "id": "ac71ba50",
   "metadata": {},
   "outputs": [
    {
     "name": "stdout",
     "output_type": "stream",
     "text": [
      "<re.Match object; span=(1, 11), match='abcdefghij'>\n",
      "abcdefghij\n",
      "abcdefghi\n",
      "bc\n",
      "e\n",
      "hi\n"
     ]
    }
   ],
   "source": [
    "# [과제] 'abcdefghij'에 대하여 중첩을 적용한 서브그룹 5개로 컴파일하여 \n",
    "# group() 함수를 이용하여 abcdefghi 와 e를 출력하세요\n",
    "p = re.compile('(a(bc)d(e)fg(hi))(j)')\n",
    "m = p.search('(abcdefghij')\n",
    "\n",
    "print(m)\n",
    "print(m.group(0))\n",
    "print(m.group(1))\n",
    "print(m.group(2))\n",
    "print(m.group(3))\n",
    "print(m.group(4))\n",
    "\n",
    "\n"
   ]
  }
 ],
 "metadata": {
  "kernelspec": {
   "display_name": "Python 3 (ipykernel)",
   "language": "python",
   "name": "python3"
  },
  "language_info": {
   "codemirror_mode": {
    "name": "ipython",
    "version": 3
   },
   "file_extension": ".py",
   "mimetype": "text/x-python",
   "name": "python",
   "nbconvert_exporter": "python",
   "pygments_lexer": "ipython3",
   "version": "3.9.7"
  }
 },
 "nbformat": 4,
 "nbformat_minor": 5
}
