{
 "cells": [
  {
   "cell_type": "markdown",
   "id": "d3e79e52",
   "metadata": {},
   "source": [
    " - KNN(K-Nearest Neighbor) 알고리즘 : 데이터를 가장 가까운 속성에 따라 분류하여 레이블링을 하는 알고리즘\n",
    " - \n"
   ]
  }
 ],
 "metadata": {
  "kernelspec": {
   "display_name": "Python 3 (ipykernel)",
   "language": "python",
   "name": "python3"
  },
  "language_info": {
   "codemirror_mode": {
    "name": "ipython",
    "version": 3
   },
   "file_extension": ".py",
   "mimetype": "text/x-python",
   "name": "python",
   "nbconvert_exporter": "python",
   "pygments_lexer": "ipython3",
   "version": "3.9.7"
  }
 },
 "nbformat": 4,
 "nbformat_minor": 5
}
