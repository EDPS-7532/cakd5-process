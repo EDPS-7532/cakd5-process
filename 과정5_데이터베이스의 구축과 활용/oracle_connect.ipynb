{
 "cells": [
  {
   "cell_type": "code",
   "execution_count": 1,
   "id": "9b21b9c1",
   "metadata": {
    "scrolled": true
   },
   "outputs": [
    {
     "name": "stdout",
     "output_type": "stream",
     "text": [
      "Requirement already satisfied: cx_oracle in c:\\users\\kal19\\anaconda3\\lib\\site-packages (8.3.0)\n"
     ]
    },
    {
     "name": "stderr",
     "output_type": "stream",
     "text": [
      "WARNING: Ignoring invalid distribution -pencv-python (c:\\users\\kal19\\anaconda3\\lib\\site-packages)\n",
      "WARNING: Ignoring invalid distribution -illow (c:\\users\\kal19\\anaconda3\\lib\\site-packages)\n",
      "WARNING: Ignoring invalid distribution -pencv-python (c:\\users\\kal19\\anaconda3\\lib\\site-packages)\n",
      "WARNING: Ignoring invalid distribution -illow (c:\\users\\kal19\\anaconda3\\lib\\site-packages)\n",
      "WARNING: Ignoring invalid distribution -pencv-python (c:\\users\\kal19\\anaconda3\\lib\\site-packages)\n",
      "WARNING: Ignoring invalid distribution -illow (c:\\users\\kal19\\anaconda3\\lib\\site-packages)\n",
      "WARNING: Ignoring invalid distribution -pencv-python (c:\\users\\kal19\\anaconda3\\lib\\site-packages)\n",
      "WARNING: Ignoring invalid distribution -illow (c:\\users\\kal19\\anaconda3\\lib\\site-packages)\n",
      "WARNING: Ignoring invalid distribution -pencv-python (c:\\users\\kal19\\anaconda3\\lib\\site-packages)\n",
      "WARNING: Ignoring invalid distribution -illow (c:\\users\\kal19\\anaconda3\\lib\\site-packages)\n",
      "WARNING: Ignoring invalid distribution -pencv-python (c:\\users\\kal19\\anaconda3\\lib\\site-packages)\n",
      "WARNING: Ignoring invalid distribution -illow (c:\\users\\kal19\\anaconda3\\lib\\site-packages)\n"
     ]
    }
   ],
   "source": [
    "!pip install cx_oracle"
   ]
  },
  {
   "cell_type": "code",
   "execution_count": 2,
   "id": "9b60a0cc",
   "metadata": {},
   "outputs": [
    {
     "data": {
      "text/plain": [
       "'(DESCRIPTION=(ADDRESS=(PROTOCOL=TCP)(HOST=localhost)(PORT=1521))(CONNECT_DATA=(SID=xe)))'"
      ]
     },
     "execution_count": 2,
     "metadata": {},
     "output_type": "execute_result"
    }
   ],
   "source": [
    "import cx_Oracle \n",
    "dsn = cx_Oracle.makedsn('localhost',1521,'xe')\n",
    "dsn"
   ]
  },
  {
   "cell_type": "markdown",
   "id": "18135fdf",
   "metadata": {},
   "source": [
    "DB 연결"
   ]
  },
  {
   "cell_type": "code",
   "execution_count": 3,
   "id": "b47e6684",
   "metadata": {
    "scrolled": true
   },
   "outputs": [
    {
     "data": {
      "text/plain": [
       "<cx_Oracle.Connection to C##CAKD5@(DESCRIPTION=(ADDRESS=(PROTOCOL=TCP)(HOST=localhost)(PORT=1521))(CONNECT_DATA=(SID=xe)))>"
      ]
     },
     "execution_count": 3,
     "metadata": {},
     "output_type": "execute_result"
    }
   ],
   "source": [
    "db = cx_Oracle.connect('C##CAKD5','cakd5',dsn)\n",
    "db"
   ]
  },
  {
   "cell_type": "markdown",
   "id": "70759b1c",
   "metadata": {},
   "source": [
    "DB에서 파이썬으로 가져와서 dataframe으로 만들어서 분석작업을 가능하게 할 수 있다. 그와 반대되는 과정도 가능하다"
   ]
  },
  {
   "cell_type": "code",
   "execution_count": 4,
   "id": "1ce9c892",
   "metadata": {
    "scrolled": true
   },
   "outputs": [
    {
     "data": {
      "text/html": [
       "<div>\n",
       "<style scoped>\n",
       "    .dataframe tbody tr th:only-of-type {\n",
       "        vertical-align: middle;\n",
       "    }\n",
       "\n",
       "    .dataframe tbody tr th {\n",
       "        vertical-align: top;\n",
       "    }\n",
       "\n",
       "    .dataframe thead th {\n",
       "        text-align: right;\n",
       "    }\n",
       "</style>\n",
       "<table border=\"1\" class=\"dataframe\">\n",
       "  <thead>\n",
       "    <tr style=\"text-align: right;\">\n",
       "      <th></th>\n",
       "      <th>BOOKID</th>\n",
       "      <th>BOOKNAME</th>\n",
       "      <th>PUBLISHER</th>\n",
       "      <th>PRICE</th>\n",
       "    </tr>\n",
       "  </thead>\n",
       "  <tbody>\n",
       "    <tr>\n",
       "      <th>0</th>\n",
       "      <td>1</td>\n",
       "      <td>축구의 역사</td>\n",
       "      <td>굿스포츠</td>\n",
       "      <td>7000</td>\n",
       "    </tr>\n",
       "    <tr>\n",
       "      <th>1</th>\n",
       "      <td>2</td>\n",
       "      <td>축구아는 여자</td>\n",
       "      <td>나무수</td>\n",
       "      <td>13000</td>\n",
       "    </tr>\n",
       "    <tr>\n",
       "      <th>2</th>\n",
       "      <td>3</td>\n",
       "      <td>축구의 이해</td>\n",
       "      <td>대한미디어</td>\n",
       "      <td>22000</td>\n",
       "    </tr>\n",
       "    <tr>\n",
       "      <th>3</th>\n",
       "      <td>4</td>\n",
       "      <td>골프 바이블</td>\n",
       "      <td>대한미디어</td>\n",
       "      <td>35000</td>\n",
       "    </tr>\n",
       "    <tr>\n",
       "      <th>4</th>\n",
       "      <td>5</td>\n",
       "      <td>피겨 교본</td>\n",
       "      <td>굿스포츠</td>\n",
       "      <td>8000</td>\n",
       "    </tr>\n",
       "  </tbody>\n",
       "</table>\n",
       "</div>"
      ],
      "text/plain": [
       "   BOOKID BOOKNAME PUBLISHER  PRICE\n",
       "0       1   축구의 역사      굿스포츠   7000\n",
       "1       2  축구아는 여자       나무수  13000\n",
       "2       3   축구의 이해     대한미디어  22000\n",
       "3       4   골프 바이블     대한미디어  35000\n",
       "4       5    피겨 교본      굿스포츠   8000"
      ]
     },
     "execution_count": 4,
     "metadata": {},
     "output_type": "execute_result"
    }
   ],
   "source": [
    "\n",
    "import pandas as pd\n",
    "cursor = db.cursor()\n",
    "cursor.execute('select*from book')\n",
    "x = cursor.fetchall()\n",
    "\n",
    "columns=['BOOKID','BOOKNAME','PUBLISHER','PRICE']\n",
    "df = pd.DataFrame(x,columns=columns)\n",
    "df.head()\n"
   ]
  },
  {
   "cell_type": "code",
   "execution_count": 1,
   "id": "68b4751d",
   "metadata": {},
   "outputs": [
    {
     "ename": "DatabaseError",
     "evalue": "ORA-00955: 기존의 객체가 이름을 사용하고 있습니다.",
     "output_type": "error",
     "traceback": [
      "\u001b[1;31m---------------------------------------------------------------------------\u001b[0m",
      "\u001b[1;31mDatabaseError\u001b[0m                             Traceback (most recent call last)",
      "\u001b[1;32m~\\AppData\\Local\\Temp/ipykernel_15932/2500525078.py\u001b[0m in \u001b[0;36m<module>\u001b[1;34m\u001b[0m\n\u001b[0;32m      4\u001b[0m \u001b[0mcursor\u001b[0m \u001b[1;33m=\u001b[0m \u001b[0mcon\u001b[0m\u001b[1;33m.\u001b[0m\u001b[0mcursor\u001b[0m\u001b[1;33m(\u001b[0m\u001b[1;33m)\u001b[0m\u001b[1;33m\u001b[0m\u001b[1;33m\u001b[0m\u001b[0m\n\u001b[0;32m      5\u001b[0m \u001b[0msql\u001b[0m \u001b[1;33m=\u001b[0m \u001b[1;34m\"create table sample1(id varchar2(10), score number)\"\u001b[0m\u001b[1;33m\u001b[0m\u001b[1;33m\u001b[0m\u001b[0m\n\u001b[1;32m----> 6\u001b[1;33m \u001b[0mcursor\u001b[0m\u001b[1;33m.\u001b[0m\u001b[0mexecute\u001b[0m\u001b[1;33m(\u001b[0m\u001b[0msql\u001b[0m\u001b[1;33m)\u001b[0m\u001b[1;33m\u001b[0m\u001b[1;33m\u001b[0m\u001b[0m\n\u001b[0m\u001b[0;32m      7\u001b[0m \u001b[0mcursor\u001b[0m\u001b[1;33m.\u001b[0m\u001b[0mclose\u001b[0m\u001b[1;33m(\u001b[0m\u001b[1;33m)\u001b[0m\u001b[1;33m\u001b[0m\u001b[1;33m\u001b[0m\u001b[0m\n\u001b[0;32m      8\u001b[0m \u001b[0mcon\u001b[0m\u001b[1;33m.\u001b[0m\u001b[0mcommit\u001b[0m\u001b[1;33m(\u001b[0m\u001b[1;33m)\u001b[0m\u001b[1;33m\u001b[0m\u001b[1;33m\u001b[0m\u001b[0m\n",
      "\u001b[1;31mDatabaseError\u001b[0m: ORA-00955: 기존의 객체가 이름을 사용하고 있습니다."
     ]
    }
   ],
   "source": [
    "# create\n",
    "import cx_Oracle\n",
    "con = cx_Oracle.connect('C##CAKD5/cakd5@localhost:1521/xe')\n",
    "cursor = con.cursor()\n",
    "sql = \"create table sample1(id varchar2(10), score number)\"\n",
    "cursor.execute(sql)\n",
    "cursor.close()\n",
    "con.commit()\n",
    "con.close()"
   ]
  },
  {
   "cell_type": "code",
   "execution_count": null,
   "id": "dbdfbdf3",
   "metadata": {},
   "outputs": [],
   "source": [
    "# 사용자함수\n",
    "def insert(t):\n",
    "    con = cx_Oracle.connect('C##CAKD5/cakd5@localhost:1521/xe')\n",
    "    cursor = con.cursor()\n",
    "    sql = \"insert into sample1 (id,score) values(:1,:2)\"\n",
    "    cursor.execute(sql,t)\n",
    "    cursor.close()\n",
    "    con.commit()\n",
    "    con.close()\n",
    "insert(('111',80))"
   ]
  },
  {
   "cell_type": "code",
   "execution_count": null,
   "id": "eecf9e35",
   "metadata": {},
   "outputs": [],
   "source": [
    "#insert - executemany\n",
    "rows = [('112',90),('142',60),('238',25),('832',12),('652',95)]\n",
    "def insertmany(t):\n",
    "    con = cx_Oracle.connect('C##CAKD5/cakd5@localhost:1521/xe')\n",
    "    cursor = con.cursor()\n",
    "    sql = \"insert into sample1 (id,score) values(:1,:2)\"\n",
    "    cursor.executemany(sql,t)\n",
    "    cursor.close()\n",
    "    con.commit()\n",
    "    con.close()\n",
    "insertmany(rows)"
   ]
  },
  {
   "cell_type": "code",
   "execution_count": null,
   "id": "2cd4be8a",
   "metadata": {},
   "outputs": [],
   "source": [
    "# Q. 3개의 속성(col01, col02, col03)으로 구성되는 테이블 sample2를 생성하고 10개의 데이터를 입력하세요(사용자 함수 사용)\n",
    "# 단, col에 대하여 제약조건 primary key설정(제약조건 이름 sample_pk)"
   ]
  },
  {
   "cell_type": "code",
   "execution_count": 7,
   "id": "13c740f4",
   "metadata": {},
   "outputs": [],
   "source": [
    "import cx_Oracle\n",
    "con = cx_Oracle.connect('C##CAKD5/cakd5@localhost:1521/xe')\n",
    "cursor = con.cursor()\n",
    "sql = \"create table sample2(col01 varchar2(10), col02 varchar2(10),col03 varchar2(10),constraint sample_pk primary key(col01))\"\n",
    "cursor.execute(sql)\n",
    "cursor.close()\n",
    "con.commit()\n",
    "con.close()"
   ]
  },
  {
   "cell_type": "code",
   "execution_count": 8,
   "id": "51c4c92a",
   "metadata": {
    "scrolled": true
   },
   "outputs": [],
   "source": [
    "def insertcol(t):\n",
    "    con = cx_Oracle.connect('C##CAKD5/cakd5@localhost:1521/xe')\n",
    "    cursor = con.cursor()\n",
    "    sql =\"insert into sample2 (col01,col02,col03) values(:1,:2,:3)\"\n",
    "    cursor.executemany(sql,t)\n",
    "    cursor.close()\n",
    "    con.commit()\n",
    "    con.close()\n",
    "rows = [('10','1','1'),('1','8','1'),('2','1','1'),('3','1','1'),('4','1','1'),('5','1','1'),('6','1','1'),('7','1','1'),('8','1','1'),('9','1','1')]\n",
    "insertcol(rows)\n"
   ]
  },
  {
   "cell_type": "code",
   "execution_count": 10,
   "id": "21793095",
   "metadata": {},
   "outputs": [],
   "source": [
    "#update\n",
    "def updatecol(t):\n",
    "    con = cx_Oracle.connect('C##CAKD5/cakd5@localhost:1521/xe')\n",
    "    cursor = con.cursor()\n",
    "    sql = \"update sample2 set col03=:2 where col03=:2 \"\n",
    "    cursor.execute(sql,t)\n",
    "    cursor.close()\n",
    "    con.commit()\n",
    "    con.close()\n",
    "updatecol(('3','1'))"
   ]
  },
  {
   "cell_type": "code",
   "execution_count": 11,
   "id": "4621aab7",
   "metadata": {},
   "outputs": [],
   "source": [
    "#delete\n",
    "def deletecol(t):\n",
    "    con = cx_Oracle.connect('C##CAKD5/cakd5@localhost:1521/xe')\n",
    "    cursor = con.cursor()\n",
    "    sql = \"delete sample2 where col01=:1 \"\n",
    "    cursor.execute(sql,t)\n",
    "    cursor.close()\n",
    "    con.commit()\n",
    "    con.close()\n",
    "deletecol(('10',))"
   ]
  },
  {
   "cell_type": "code",
   "execution_count": 12,
   "id": "356db3b5",
   "metadata": {},
   "outputs": [
    {
     "data": {
      "text/html": [
       "<div>\n",
       "<style scoped>\n",
       "    .dataframe tbody tr th:only-of-type {\n",
       "        vertical-align: middle;\n",
       "    }\n",
       "\n",
       "    .dataframe tbody tr th {\n",
       "        vertical-align: top;\n",
       "    }\n",
       "\n",
       "    .dataframe thead th {\n",
       "        text-align: right;\n",
       "    }\n",
       "</style>\n",
       "<table border=\"1\" class=\"dataframe\">\n",
       "  <thead>\n",
       "    <tr style=\"text-align: right;\">\n",
       "      <th></th>\n",
       "      <th>COL01</th>\n",
       "      <th>COL02</th>\n",
       "      <th>COL03</th>\n",
       "    </tr>\n",
       "  </thead>\n",
       "  <tbody>\n",
       "    <tr>\n",
       "      <th>0</th>\n",
       "      <td>1</td>\n",
       "      <td>8</td>\n",
       "      <td>3</td>\n",
       "    </tr>\n",
       "    <tr>\n",
       "      <th>1</th>\n",
       "      <td>2</td>\n",
       "      <td>1</td>\n",
       "      <td>3</td>\n",
       "    </tr>\n",
       "    <tr>\n",
       "      <th>2</th>\n",
       "      <td>3</td>\n",
       "      <td>1</td>\n",
       "      <td>3</td>\n",
       "    </tr>\n",
       "    <tr>\n",
       "      <th>3</th>\n",
       "      <td>4</td>\n",
       "      <td>1</td>\n",
       "      <td>3</td>\n",
       "    </tr>\n",
       "    <tr>\n",
       "      <th>4</th>\n",
       "      <td>5</td>\n",
       "      <td>1</td>\n",
       "      <td>3</td>\n",
       "    </tr>\n",
       "  </tbody>\n",
       "</table>\n",
       "</div>"
      ],
      "text/plain": [
       "  COL01 COL02 COL03\n",
       "0     1     8     3\n",
       "1     2     1     3\n",
       "2     3     1     3\n",
       "3     4     1     3\n",
       "4     5     1     3"
      ]
     },
     "execution_count": 12,
     "metadata": {},
     "output_type": "execute_result"
    }
   ],
   "source": [
    "import pandas as pd\n",
    "con = cx_Oracle.connect('C##CAKD5/cakd5@localhost:1521/xe')\n",
    "cursor = con.cursor()\n",
    "sql = \"select*from sample2\"\n",
    "cursor.execute(sql)\n",
    "x= cursor.fetchall()\n",
    "df_col = pd.DataFrame(x)\n",
    "cursor.execute(\"select column_name from user_tab_columns where table_name = 'SAMPLE2'\")\n",
    "col = cursor.fetchall()\n",
    "list_py =[]\n",
    "for i in col:\n",
    "    for j in i:\n",
    "        list_py.append(j)\n",
    "df_col.columns = list_py\n",
    "df_col.head()\n",
    "#print(df_col)\n",
    "#cursor.close()\n",
    "#con.close()"
   ]
  },
  {
   "cell_type": "code",
   "execution_count": 16,
   "id": "2b2b6dc5",
   "metadata": {},
   "outputs": [],
   "source": [
    "df_col.to_csv('./data/col3.csv')"
   ]
  },
  {
   "cell_type": "code",
   "execution_count": 20,
   "id": "f0eb6245",
   "metadata": {},
   "outputs": [
    {
     "data": {
      "text/plain": [
       "<_csv.reader at 0x1427b6f1e80>"
      ]
     },
     "execution_count": 20,
     "metadata": {},
     "output_type": "execute_result"
    }
   ],
   "source": [
    "import csv\n",
    "with open('./data/col3.csv','r') as csv_file:\n",
    "    csv_reader = csv.reader(csv_file)\n",
    "    next(csv_reader)\n",
    "    data = []\n",
    "    for line in csv_reader:\n",
    "        data.append((line[1],line[2],line[3]))\n",
    "    data\n",
    "csv_reader"
   ]
  },
  {
   "cell_type": "code",
   "execution_count": null,
   "id": "64dacd40",
   "metadata": {},
   "outputs": [],
   "source": [
    "with open('./data/col3.csv','r') as csv_file:\n",
    "    csv_reader = csv.reader(csv_file)\n",
    "    next(csv_reader)\n",
    "    con = cx_"
   ]
  },
  {
   "cell_type": "code",
   "execution_count": null,
   "id": "b8d0cae0",
   "metadata": {},
   "outputs": [],
   "source": []
  },
  {
   "cell_type": "code",
   "execution_count": 22,
   "id": "82b342a0",
   "metadata": {},
   "outputs": [
    {
     "data": {
      "text/plain": [
       "[('1', '8', '3'),\n",
       " ('2', '1', '3'),\n",
       " ('3', '1', '3'),\n",
       " ('4', '1', '3'),\n",
       " ('5', '1', '3'),\n",
       " ('6', '1', '3'),\n",
       " ('7', '1', '3'),\n",
       " ('8', '1', '3'),\n",
       " ('9', '1', '3')]"
      ]
     },
     "execution_count": 22,
     "metadata": {},
     "output_type": "execute_result"
    }
   ],
   "source": [
    "# 한글깨질때 인코딩 하는방법 \n",
    "with open('./data/col3.csv','r',encoding=\"UTF-8\") as csv_file:\n",
    "    csv_reader = csv.reader(csv_file)\n",
    "    next(csv_reader)\n",
    "    data = []\n",
    "    for line in csv_reader:\n",
    "        data.append((line[1],line[2],line[3]))\n",
    "data\n"
   ]
  },
  {
   "cell_type": "code",
   "execution_count": 23,
   "id": "f9cb6367",
   "metadata": {},
   "outputs": [],
   "source": [
    "con = cx_Oracle.connect('C##CAKD5/cakd5@localhost:1521/xe')\n",
    "cursor = con.cursor()\n",
    "sql = \"alter table sample2 drop constraint sample_pk\"\n",
    "cursor.execute(sql)\n",
    "cursor.close()\n",
    "con.commit()\n",
    "con.close()"
   ]
  },
  {
   "cell_type": "code",
   "execution_count": 24,
   "id": "592b1d46",
   "metadata": {},
   "outputs": [],
   "source": [
    "with open('./data/col3.csv','r') as csv_file:\n",
    "    csv_reader = csv.reader(csv_file)\n",
    "    next(csv_reader)\n",
    "    con = cx_Oracle.connect('C##CAKD5/cakd5@localhost:1521/xe')\n",
    "    cursor = con.cursor()\n",
    "    sql = \"insert into sample2(col01,col02,col03) values(:1,:2,:3)\"\n",
    "    data = []\n",
    "    for line in csv_reader:\n",
    "        data.append((line[1],line[2],line[3]))\n",
    "    cursor.executemany(sql,data)\n",
    "    cursor.close()\n",
    "    con.commit()\n",
    "    con.close()\n",
    "    "
   ]
  },
  {
   "cell_type": "code",
   "execution_count": 50,
   "id": "bbefc3c1",
   "metadata": {
    "scrolled": true
   },
   "outputs": [
    {
     "data": {
      "text/html": [
       "<div>\n",
       "<style scoped>\n",
       "    .dataframe tbody tr th:only-of-type {\n",
       "        vertical-align: middle;\n",
       "    }\n",
       "\n",
       "    .dataframe tbody tr th {\n",
       "        vertical-align: top;\n",
       "    }\n",
       "\n",
       "    .dataframe thead th {\n",
       "        text-align: right;\n",
       "    }\n",
       "</style>\n",
       "<table border=\"1\" class=\"dataframe\">\n",
       "  <thead>\n",
       "    <tr style=\"text-align: right;\">\n",
       "      <th></th>\n",
       "      <th>id</th>\n",
       "      <th>sales</th>\n",
       "    </tr>\n",
       "  </thead>\n",
       "  <tbody>\n",
       "    <tr>\n",
       "      <th>0</th>\n",
       "      <td>0</td>\n",
       "      <td>33</td>\n",
       "    </tr>\n",
       "    <tr>\n",
       "      <th>1</th>\n",
       "      <td>1</td>\n",
       "      <td>5</td>\n",
       "    </tr>\n",
       "    <tr>\n",
       "      <th>2</th>\n",
       "      <td>2</td>\n",
       "      <td>92</td>\n",
       "    </tr>\n",
       "    <tr>\n",
       "      <th>3</th>\n",
       "      <td>3</td>\n",
       "      <td>50</td>\n",
       "    </tr>\n",
       "    <tr>\n",
       "      <th>4</th>\n",
       "      <td>4</td>\n",
       "      <td>4</td>\n",
       "    </tr>\n",
       "  </tbody>\n",
       "</table>\n",
       "</div>"
      ],
      "text/plain": [
       "   id  sales\n",
       "0   0     33\n",
       "1   1      5\n",
       "2   2     92\n",
       "3   3     50\n",
       "4   4      4"
      ]
     },
     "execution_count": 50,
     "metadata": {},
     "output_type": "execute_result"
    }
   ],
   "source": [
    "# 대량 데이터 입력\n",
    "import numpy as np\n",
    "import pandas as pd\n",
    "\n",
    "df = pd.DataFrame()\n",
    "df['id'] = np.arange(10000)\n",
    "df['sales'] = np.random.randint(1,100,size=10000)\n",
    "df.head()"
   ]
  },
  {
   "cell_type": "code",
   "execution_count": null,
   "id": "91210744",
   "metadata": {},
   "outputs": [],
   "source": [
    "con = cx_Oracle.connect('C##CAKD5/cakd5@localhost:1521/xe')\n",
    "cursor = con.cursor()\n",
    "sql='insert into sample3 (id,sales) values (:1,:2)'\n",
    "id = df.id.to_list()\n",
    "sales = df.sales.to_list()\n",
    "data = []\n",
    "for i,v in zip(id,sales):\n",
    "    data.append((i,v))\n",
    "cursor.executemany(sql,data)\n",
    "cursor.close()\n",
    "con.commit()\n",
    "con.close()\n"
   ]
  },
  {
   "cell_type": "code",
   "execution_count": 61,
   "id": "b57be782",
   "metadata": {
    "scrolled": true
   },
   "outputs": [
    {
     "name": "stdout",
     "output_type": "stream",
     "text": [
      "<class 'pandas.core.frame.DataFrame'>\n",
      "RangeIndex: 10000 entries, 0 to 9999\n",
      "Data columns (total 2 columns):\n",
      " #   Column  Non-Null Count  Dtype\n",
      "---  ------  --------------  -----\n",
      " 0   id      10000 non-null  int32\n",
      " 1   sales   10000 non-null  int32\n",
      "dtypes: int32(2)\n",
      "memory usage: 78.2 KB\n"
     ]
    }
   ],
   "source": [
    "df.info()"
   ]
  },
  {
   "cell_type": "code",
   "execution_count": 62,
   "id": "e25d2cc0",
   "metadata": {},
   "outputs": [],
   "source": [
    "df['id'] = df.id.astype('str')"
   ]
  },
  {
   "cell_type": "code",
   "execution_count": 63,
   "id": "61a44e44",
   "metadata": {},
   "outputs": [
    {
     "data": {
      "text/plain": [
       "[('0', 33),\n",
       " ('1', 5),\n",
       " ('2', 92),\n",
       " ('3', 50),\n",
       " ('4', 4),\n",
       " ('5', 89),\n",
       " ('6', 1),\n",
       " ('7', 21),\n",
       " ('8', 51),\n",
       " ('9', 7)]"
      ]
     },
     "execution_count": 63,
     "metadata": {},
     "output_type": "execute_result"
    }
   ],
   "source": [
    "ar = df.values\n",
    "results = list([tuple(e) for e in ar])\n",
    "results[:10]"
   ]
  },
  {
   "cell_type": "code",
   "execution_count": 65,
   "id": "2bc3a043",
   "metadata": {},
   "outputs": [],
   "source": [
    "import cx_Oracle\n",
    "con = cx_Oracle.connect('C##CAKD5/cakd5@localhost:1521/xe')\n",
    "cursor = con.cursor()\n",
    "sql = \"insert into sample3(id,score) values(:1,:2)\"\n",
    "#data = []\n",
    "#for r in results:\n",
    "#    data.append((r[0],r[1]))\n",
    "cursor.executemany(sql,results)\n",
    "cursor.close()\n",
    "con.commit()\n",
    "con.close()"
   ]
  },
  {
   "cell_type": "code",
   "execution_count": null,
   "id": "95c99d67",
   "metadata": {},
   "outputs": [],
   "source": [
    "# Q. ID의 자료타입을 NUMBER로 변경하여 ID 기준으로 올림차순으로 정렬하여 출력하세요."
   ]
  },
  {
   "cell_type": "code",
   "execution_count": 54,
   "id": "eca5404e",
   "metadata": {},
   "outputs": [],
   "source": [
    "df['id'] = df.id.astype('int')"
   ]
  },
  {
   "cell_type": "code",
   "execution_count": 56,
   "id": "fb376002",
   "metadata": {},
   "outputs": [
    {
     "data": {
      "text/plain": [
       "[(0, 33),\n",
       " (1, 5),\n",
       " (2, 92),\n",
       " (3, 50),\n",
       " (4, 4),\n",
       " (5, 89),\n",
       " (6, 1),\n",
       " (7, 21),\n",
       " (8, 51),\n",
       " (9, 7)]"
      ]
     },
     "execution_count": 56,
     "metadata": {},
     "output_type": "execute_result"
    }
   ],
   "source": [
    "ar = df.values\n",
    "results = list([tuple(e) for e in ar])\n",
    "results[:10]"
   ]
  },
  {
   "cell_type": "code",
   "execution_count": 66,
   "id": "bffd91a9",
   "metadata": {},
   "outputs": [
    {
     "ename": "TypeError",
     "evalue": "function missing required argument 'parameters' (pos 2)",
     "output_type": "error",
     "traceback": [
      "\u001b[1;31m---------------------------------------------------------------------------\u001b[0m",
      "\u001b[1;31mTypeError\u001b[0m                                 Traceback (most recent call last)",
      "\u001b[1;32m~\\AppData\\Local\\Temp/ipykernel_17112/47536414.py\u001b[0m in \u001b[0;36m<module>\u001b[1;34m\u001b[0m\n\u001b[0;32m      2\u001b[0m \u001b[0mcursor\u001b[0m \u001b[1;33m=\u001b[0m \u001b[0mcon\u001b[0m\u001b[1;33m.\u001b[0m\u001b[0mcursor\u001b[0m\u001b[1;33m(\u001b[0m\u001b[1;33m)\u001b[0m\u001b[1;33m\u001b[0m\u001b[1;33m\u001b[0m\u001b[0m\n\u001b[0;32m      3\u001b[0m \u001b[0msql\u001b[0m \u001b[1;33m=\u001b[0m \u001b[1;34m\"truncate table sample3\"\u001b[0m\u001b[1;33m\u001b[0m\u001b[1;33m\u001b[0m\u001b[0m\n\u001b[1;32m----> 4\u001b[1;33m \u001b[0mcursor\u001b[0m\u001b[1;33m.\u001b[0m\u001b[0mexecutemany\u001b[0m\u001b[1;33m(\u001b[0m\u001b[0msql\u001b[0m\u001b[1;33m)\u001b[0m\u001b[1;33m\u001b[0m\u001b[1;33m\u001b[0m\u001b[0m\n\u001b[0m\u001b[0;32m      5\u001b[0m \u001b[0mcursor\u001b[0m\u001b[1;33m.\u001b[0m\u001b[0mclose\u001b[0m\u001b[1;33m(\u001b[0m\u001b[1;33m)\u001b[0m\u001b[1;33m\u001b[0m\u001b[1;33m\u001b[0m\u001b[0m\n\u001b[0;32m      6\u001b[0m \u001b[0mcon\u001b[0m\u001b[1;33m.\u001b[0m\u001b[0mcommit\u001b[0m\u001b[1;33m(\u001b[0m\u001b[1;33m)\u001b[0m\u001b[1;33m\u001b[0m\u001b[1;33m\u001b[0m\u001b[0m\n",
      "\u001b[1;31mTypeError\u001b[0m: function missing required argument 'parameters' (pos 2)"
     ]
    }
   ],
   "source": [
    "con = cx_Oracle.connect('C##CAKD5/cakd5@localhost:1521/xe')\n",
    "cursor = con.cursor()\n",
    "sql = \"truncate table sample3\"\n",
    "cursor.executemany(sql)\n",
    "cursor.close()\n",
    "con.commit()\n",
    "con.close()"
   ]
  },
  {
   "cell_type": "markdown",
   "id": "6d083477",
   "metadata": {},
   "source": [
    "[과제] employees 테이블을 불러와서 다음사항을 수행하세요\n",
    " \n",
    " - 컬럼명을 포함하여 employees 테이블을 데이터프레임으로 출력\n",
    " - department_id별 평균 연봉을 출력\n",
    " - 부서별 평균 연봉을 수평 그래프로 시각화"
   ]
  },
  {
   "cell_type": "code",
   "execution_count": 70,
   "id": "4dfa8a00",
   "metadata": {},
   "outputs": [
    {
     "data": {
      "text/html": [
       "<div>\n",
       "<style scoped>\n",
       "    .dataframe tbody tr th:only-of-type {\n",
       "        vertical-align: middle;\n",
       "    }\n",
       "\n",
       "    .dataframe tbody tr th {\n",
       "        vertical-align: top;\n",
       "    }\n",
       "\n",
       "    .dataframe thead th {\n",
       "        text-align: right;\n",
       "    }\n",
       "</style>\n",
       "<table border=\"1\" class=\"dataframe\">\n",
       "  <thead>\n",
       "    <tr style=\"text-align: right;\">\n",
       "      <th></th>\n",
       "      <th>EMPLOYEE_ID</th>\n",
       "      <th>FIRST_NAME</th>\n",
       "      <th>LAST_NAME</th>\n",
       "      <th>EMAIL</th>\n",
       "      <th>PHONE_NUMBER</th>\n",
       "      <th>HIRE_DATE</th>\n",
       "      <th>JOB_ID</th>\n",
       "      <th>SALARY</th>\n",
       "      <th>COMMISSION_PCT</th>\n",
       "      <th>MANAGER_ID</th>\n",
       "      <th>DEPARTMENT_ID</th>\n",
       "    </tr>\n",
       "  </thead>\n",
       "  <tbody>\n",
       "    <tr>\n",
       "      <th>0</th>\n",
       "      <td>100</td>\n",
       "      <td>Steven</td>\n",
       "      <td>King</td>\n",
       "      <td>SKING</td>\n",
       "      <td>515.123.4567</td>\n",
       "      <td>2003-06-17</td>\n",
       "      <td>AD_PRES</td>\n",
       "      <td>24000.0</td>\n",
       "      <td>NaN</td>\n",
       "      <td>NaN</td>\n",
       "      <td>90.0</td>\n",
       "    </tr>\n",
       "    <tr>\n",
       "      <th>1</th>\n",
       "      <td>101</td>\n",
       "      <td>Neena</td>\n",
       "      <td>Kochhar</td>\n",
       "      <td>NKOCHHAR</td>\n",
       "      <td>515.123.4568</td>\n",
       "      <td>2005-09-21</td>\n",
       "      <td>AD_VP</td>\n",
       "      <td>17000.0</td>\n",
       "      <td>NaN</td>\n",
       "      <td>100.0</td>\n",
       "      <td>90.0</td>\n",
       "    </tr>\n",
       "    <tr>\n",
       "      <th>2</th>\n",
       "      <td>102</td>\n",
       "      <td>Lex</td>\n",
       "      <td>De Haan</td>\n",
       "      <td>LDEHAAN</td>\n",
       "      <td>515.123.4569</td>\n",
       "      <td>2001-01-13</td>\n",
       "      <td>AD_VP</td>\n",
       "      <td>17000.0</td>\n",
       "      <td>NaN</td>\n",
       "      <td>100.0</td>\n",
       "      <td>90.0</td>\n",
       "    </tr>\n",
       "    <tr>\n",
       "      <th>3</th>\n",
       "      <td>103</td>\n",
       "      <td>Alexander</td>\n",
       "      <td>Hunold</td>\n",
       "      <td>AHUNOLD</td>\n",
       "      <td>590.423.4567</td>\n",
       "      <td>2006-01-03</td>\n",
       "      <td>IT_PROG</td>\n",
       "      <td>9000.0</td>\n",
       "      <td>NaN</td>\n",
       "      <td>102.0</td>\n",
       "      <td>60.0</td>\n",
       "    </tr>\n",
       "    <tr>\n",
       "      <th>4</th>\n",
       "      <td>104</td>\n",
       "      <td>Bruce</td>\n",
       "      <td>Ernst</td>\n",
       "      <td>BERNST</td>\n",
       "      <td>590.423.4568</td>\n",
       "      <td>2007-05-21</td>\n",
       "      <td>IT_PROG</td>\n",
       "      <td>6000.0</td>\n",
       "      <td>NaN</td>\n",
       "      <td>103.0</td>\n",
       "      <td>60.0</td>\n",
       "    </tr>\n",
       "    <tr>\n",
       "      <th>...</th>\n",
       "      <td>...</td>\n",
       "      <td>...</td>\n",
       "      <td>...</td>\n",
       "      <td>...</td>\n",
       "      <td>...</td>\n",
       "      <td>...</td>\n",
       "      <td>...</td>\n",
       "      <td>...</td>\n",
       "      <td>...</td>\n",
       "      <td>...</td>\n",
       "      <td>...</td>\n",
       "    </tr>\n",
       "    <tr>\n",
       "      <th>102</th>\n",
       "      <td>202</td>\n",
       "      <td>Pat</td>\n",
       "      <td>Fay</td>\n",
       "      <td>PFAY</td>\n",
       "      <td>603.123.6666</td>\n",
       "      <td>2005-08-17</td>\n",
       "      <td>MK_REP</td>\n",
       "      <td>6000.0</td>\n",
       "      <td>NaN</td>\n",
       "      <td>201.0</td>\n",
       "      <td>20.0</td>\n",
       "    </tr>\n",
       "    <tr>\n",
       "      <th>103</th>\n",
       "      <td>203</td>\n",
       "      <td>Susan</td>\n",
       "      <td>Mavris</td>\n",
       "      <td>SMAVRIS</td>\n",
       "      <td>515.123.7777</td>\n",
       "      <td>2002-06-07</td>\n",
       "      <td>HR_REP</td>\n",
       "      <td>6500.0</td>\n",
       "      <td>NaN</td>\n",
       "      <td>101.0</td>\n",
       "      <td>40.0</td>\n",
       "    </tr>\n",
       "    <tr>\n",
       "      <th>104</th>\n",
       "      <td>204</td>\n",
       "      <td>Hermann</td>\n",
       "      <td>Baer</td>\n",
       "      <td>HBAER</td>\n",
       "      <td>515.123.8888</td>\n",
       "      <td>2002-06-07</td>\n",
       "      <td>PR_REP</td>\n",
       "      <td>10000.0</td>\n",
       "      <td>NaN</td>\n",
       "      <td>101.0</td>\n",
       "      <td>70.0</td>\n",
       "    </tr>\n",
       "    <tr>\n",
       "      <th>105</th>\n",
       "      <td>205</td>\n",
       "      <td>Shelley</td>\n",
       "      <td>Higgins</td>\n",
       "      <td>SHIGGINS</td>\n",
       "      <td>515.123.8080</td>\n",
       "      <td>2002-06-07</td>\n",
       "      <td>AC_MGR</td>\n",
       "      <td>12008.0</td>\n",
       "      <td>NaN</td>\n",
       "      <td>101.0</td>\n",
       "      <td>110.0</td>\n",
       "    </tr>\n",
       "    <tr>\n",
       "      <th>106</th>\n",
       "      <td>206</td>\n",
       "      <td>William</td>\n",
       "      <td>Gietz</td>\n",
       "      <td>WGIETZ</td>\n",
       "      <td>515.123.8181</td>\n",
       "      <td>2002-06-07</td>\n",
       "      <td>AC_ACCOUNT</td>\n",
       "      <td>8300.0</td>\n",
       "      <td>NaN</td>\n",
       "      <td>205.0</td>\n",
       "      <td>110.0</td>\n",
       "    </tr>\n",
       "  </tbody>\n",
       "</table>\n",
       "<p>107 rows × 11 columns</p>\n",
       "</div>"
      ],
      "text/plain": [
       "     EMPLOYEE_ID FIRST_NAME LAST_NAME     EMAIL  PHONE_NUMBER  HIRE_DATE  \\\n",
       "0            100     Steven      King     SKING  515.123.4567 2003-06-17   \n",
       "1            101      Neena   Kochhar  NKOCHHAR  515.123.4568 2005-09-21   \n",
       "2            102        Lex   De Haan   LDEHAAN  515.123.4569 2001-01-13   \n",
       "3            103  Alexander    Hunold   AHUNOLD  590.423.4567 2006-01-03   \n",
       "4            104      Bruce     Ernst    BERNST  590.423.4568 2007-05-21   \n",
       "..           ...        ...       ...       ...           ...        ...   \n",
       "102          202        Pat       Fay      PFAY  603.123.6666 2005-08-17   \n",
       "103          203      Susan    Mavris   SMAVRIS  515.123.7777 2002-06-07   \n",
       "104          204    Hermann      Baer     HBAER  515.123.8888 2002-06-07   \n",
       "105          205    Shelley   Higgins  SHIGGINS  515.123.8080 2002-06-07   \n",
       "106          206    William     Gietz    WGIETZ  515.123.8181 2002-06-07   \n",
       "\n",
       "         JOB_ID   SALARY  COMMISSION_PCT  MANAGER_ID  DEPARTMENT_ID  \n",
       "0       AD_PRES  24000.0             NaN         NaN           90.0  \n",
       "1         AD_VP  17000.0             NaN       100.0           90.0  \n",
       "2         AD_VP  17000.0             NaN       100.0           90.0  \n",
       "3       IT_PROG   9000.0             NaN       102.0           60.0  \n",
       "4       IT_PROG   6000.0             NaN       103.0           60.0  \n",
       "..          ...      ...             ...         ...            ...  \n",
       "102      MK_REP   6000.0             NaN       201.0           20.0  \n",
       "103      HR_REP   6500.0             NaN       101.0           40.0  \n",
       "104      PR_REP  10000.0             NaN       101.0           70.0  \n",
       "105      AC_MGR  12008.0             NaN       101.0          110.0  \n",
       "106  AC_ACCOUNT   8300.0             NaN       205.0          110.0  \n",
       "\n",
       "[107 rows x 11 columns]"
      ]
     },
     "execution_count": 70,
     "metadata": {},
     "output_type": "execute_result"
    }
   ],
   "source": [
    "import pandas as pd\n",
    "cursor = db.cursor()\n",
    "cursor.execute('select*from employees')\n",
    "x = cursor.fetchall()\n",
    "\n",
    "columns=['EMPLOYEE_ID','FIRST_NAME','LAST_NAME','EMAIL','PHONE_NUMBER','HIRE_DATE','JOB_ID','SALARY','COMMISSION_PCT','MANAGER_ID','DEPARTMENT_ID']\n",
    "df2 = pd.DataFrame(x,columns=columns)\n",
    "df2\n"
   ]
  },
  {
   "cell_type": "code",
   "execution_count": 69,
   "id": "3ab43810",
   "metadata": {},
   "outputs": [
    {
     "name": "stdout",
     "output_type": "stream",
     "text": [
      "EMPLOYEE_ID        153.000000\n",
      "SALARY            6461.831776\n",
      "COMMISSION_PCT       0.222857\n",
      "MANAGER_ID         124.764151\n",
      "DEPARTMENT_ID       63.207547\n",
      "dtype: float64 \n",
      "\n"
     ]
    },
    {
     "name": "stderr",
     "output_type": "stream",
     "text": [
      "C:\\Users\\kal19\\AppData\\Local\\Temp/ipykernel_17112/4078411026.py:1: FutureWarning: DataFrame.mean and DataFrame.median with numeric_only=None will include datetime64 and datetime64tz columns in a future version.\n",
      "  col_avg = df2.mean()\n",
      "C:\\Users\\kal19\\AppData\\Local\\Temp/ipykernel_17112/4078411026.py:1: FutureWarning: Dropping of nuisance columns in DataFrame reductions (with 'numeric_only=None') is deprecated; in a future version this will raise TypeError.  Select only valid columns before calling the reduction.\n",
      "  col_avg = df2.mean()\n"
     ]
    }
   ],
   "source": [
    "col_avg = df2.mean()\n",
    "print(col_avg,\"\\n\")"
   ]
  },
  {
   "cell_type": "markdown",
   "id": "49b327f0",
   "metadata": {},
   "source": [
    "[과제] PURPROD 테이블을 불러와서 다음사항을 수행하시오\n",
    " - 고객별 2014년 2015년 총구매액 및 평균구매액내역출력\n",
    " - 고객별 2014 VS 2015 총구매액 기준 성장율"
   ]
  },
  {
   "cell_type": "code",
   "execution_count": null,
   "id": "d7eb7cad",
   "metadata": {},
   "outputs": [],
   "source": [
    "dk"
   ]
  }
 ],
 "metadata": {
  "kernelspec": {
   "display_name": "Python 3 (ipykernel)",
   "language": "python",
   "name": "python3"
  },
  "language_info": {
   "codemirror_mode": {
    "name": "ipython",
    "version": 3
   },
   "file_extension": ".py",
   "mimetype": "text/x-python",
   "name": "python",
   "nbconvert_exporter": "python",
   "pygments_lexer": "ipython3",
   "version": "3.9.7"
  }
 },
 "nbformat": 4,
 "nbformat_minor": 5
}
