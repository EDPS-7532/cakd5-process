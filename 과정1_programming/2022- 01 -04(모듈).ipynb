{
 "cells": [
  {
   "cell_type": "markdown",
   "id": "ee78532b",
   "metadata": {},
   "source": [
    "## 모듈\n",
    "- 특정 기능들(함수, 변수, 클래스 등)이 구현되어 있는 파이썬 파일(.py)\n",
    "\n",
    "### 패키지\n",
    "- 특정 기능과 관련된 여러 모듈들을 하나의 상위 폴더에 넣어놓은 것을 의미\n",
    "- 패키지안에 여러가지 폴더 존재 가능\n",
    "- 패키지를 표현해주기 위해 \\_init.py가 존재\n",
    "\n",
    "### 라이브러리\n",
    "- 여러 모듈과 패키지를 묶어 라이브러리하고 함\n",
    "- 파이썬 설치시 기본적으로 설치되는 라이브러리를 표준 라이브러리라고 함\n",
    "- 외부(3rd party)에서 개발한 모듈과 패키지를 묶어 외부 라이브러리라고 함\n"
   ]
  },
  {
   "cell_type": "code",
   "execution_count": 3,
   "id": "e046ed25",
   "metadata": {},
   "outputs": [],
   "source": [
    "# 모듈 mod1 만들기\n",
    "with open('mod1.py','w') as f:\n",
    "    f.write('''\n",
    "def add(x,y):\n",
    "    return x + y\n",
    "print (add(3,4))\n",
    "''')"
   ]
  },
  {
   "cell_type": "code",
   "execution_count": 4,
   "id": "fe4061aa",
   "metadata": {},
   "outputs": [
    {
     "name": "stdout",
     "output_type": "stream",
     "text": [
      "\n",
      "def add(x,y):\n",
      "    return x + y\n",
      "print (add(3,4))\n",
      "\n"
     ]
    }
   ],
   "source": [
    "with open('mod1.py','r') as f:\n",
    "    data = f.read()\n",
    "    print(data)"
   ]
  },
  {
   "cell_type": "code",
   "execution_count": 5,
   "id": "977aa4a8",
   "metadata": {},
   "outputs": [
    {
     "name": "stdout",
     "output_type": "stream",
     "text": [
      "7\n"
     ]
    }
   ],
   "source": [
    "!python mod1.py"
   ]
  },
  {
   "cell_type": "code",
   "execution_count": 6,
   "id": "b7ff290c",
   "metadata": {},
   "outputs": [
    {
     "name": "stdout",
     "output_type": "stream",
     "text": [
      "7\n"
     ]
    }
   ],
   "source": [
    "import mod1"
   ]
  },
  {
   "cell_type": "code",
   "execution_count": 8,
   "id": "c0f59f0d",
   "metadata": {},
   "outputs": [],
   "source": [
    "# 모듈 mod2 만들기\n",
    "with open('mod2.py', 'w') as f:\n",
    "    f.write('''\n",
    "def add(x,y):\n",
    "    return x + y\n",
    "\n",
    "if __name__ == \"__main__\":  '#__name__이라는 변수의 값이 __main__이라면 아래의 코드를 실행하라.'\n",
    "    print (add(3,4))    \n",
    "    ''')"
   ]
  },
  {
   "cell_type": "code",
   "execution_count": 14,
   "id": "95354f9f",
   "metadata": {},
   "outputs": [
    {
     "name": "stdout",
     "output_type": "stream",
     "text": [
      "\n",
      "def add(x,y):\n",
      "    return x + y\n",
      "\n",
      "if __name__ == \"__main__\":\n",
      "    print (add(3,4))    \n",
      "    \n"
     ]
    }
   ],
   "source": [
    "with open('mod2.py','r') as f:\n",
    "    data = f.read()\n",
    "    print(data)"
   ]
  },
  {
   "cell_type": "code",
   "execution_count": 10,
   "id": "bdd1cca0",
   "metadata": {},
   "outputs": [
    {
     "name": "stdout",
     "output_type": "stream",
     "text": [
      "7\n"
     ]
    }
   ],
   "source": [
    "!python mod2.py"
   ]
  },
  {
   "cell_type": "code",
   "execution_count": 11,
   "id": "938f5376",
   "metadata": {},
   "outputs": [],
   "source": [
    "import mod2"
   ]
  },
  {
   "cell_type": "code",
   "execution_count": 12,
   "id": "0acf298c",
   "metadata": {},
   "outputs": [
    {
     "data": {
      "text/plain": [
       "5"
      ]
     },
     "execution_count": 12,
     "metadata": {},
     "output_type": "execute_result"
    }
   ],
   "source": [
    "mod2.add(2,3)"
   ]
  },
  {
   "cell_type": "code",
   "execution_count": 17,
   "id": "35ca6844",
   "metadata": {
    "scrolled": true
   },
   "outputs": [
    {
     "name": "stdout",
     "output_type": "stream",
     "text": [
      " C 드라이브의 볼륨에는 이름이 없습니다.\n",
      " 볼륨 일련 번호: EE07-8CCE\n",
      "\n",
      " C:\\cakd5\\workspace\\mi_programming 디렉터리\n",
      "\n",
      "2022-01-04  오전 10:44    <DIR>          .\n",
      "2022-01-04  오전 10:44    <DIR>          ..\n",
      "2022-01-04  오전 10:13    <DIR>          .ipynb_checkpoints\n",
      "2021-12-31  오후 03:41            57,231 2021-12-29(1).ipynb\n",
      "2021-12-30  오전 08:46            59,707 2021-12-29.ipynb\n",
      "2021-12-31  오후 04:19            50,168 2021-12-30-1.ipynb\n",
      "2022-01-04  오전 10:44             7,649 2022- 01 -04(모듈.ipynb\n",
      "2022-01-04  오전 10:19           399,693 2022-01-03(함수_응용).ipynb\n",
      "2022-01-03  오전 09:09             7,786 CAKD5 1주 평가 과제.ipynb\n",
      "2022-01-04  오전 10:10    <DIR>          data\n",
      "2021-12-31  오전 11:29                18 foo.txt\n",
      "2022-01-04  오전 09:17            25,970 info.txt\n",
      "2021-12-29  오전 08:41             3,627 jupyter notebook-1(21.12.28).ipynb\n",
      "2022-01-04  오전 10:24                53 mod1.py\n",
      "2022-01-04  오전 10:31                95 mod2.py\n",
      "2021-12-31  오후 12:15                40 test.txt\n",
      "2021-12-31  오전 11:11                 0 test1,txt\n",
      "2021-12-31  오전 11:44             1,062 test_new.txt\n",
      "2021-12-28  오후 03:49                72 Untitled.ipynb\n",
      "2021-12-31  오후 08:48             7,279 Untitled1.ipynb\n",
      "2021-12-31  오후 04:52               958 Untitled2.ipynb\n",
      "2021-12-31  오후 06:34             2,548 Untitled3.ipynb\n",
      "2021-12-31  오후 06:45             4,611 Untitled4.ipynb\n",
      "2022-01-04  오전 10:33    <DIR>          __pycache__\n",
      "2021-12-28  오후 04:18            94,995 매직명령어.jpg\n",
      "2021-12-29  오후 01:49             2,663 캡처1.PNG\n",
      "2022-01-03  오전 10:30            42,850 함수.ipynb\n",
      "              22개 파일             769,075 바이트\n",
      "               5개 디렉터리  946,148,143,104 바이트 남음\n",
      "\n",
      " C 드라이브의 볼륨에는 이름이 없습니다.\n",
      " 볼륨 일련 번호: EE07-8CCE\n",
      "\n",
      " C:\\cakd5\\workspace\\mi_programming 디렉터리\n",
      "\n",
      "2022-01-04  오전 10:44    <DIR>          .\n",
      "2022-01-04  오전 10:44    <DIR>          ..\n",
      "2022-01-04  오전 10:13    <DIR>          .ipynb_checkpoints\n",
      "2021-12-31  오후 03:41            57,231 2021-12-29(1).ipynb\n",
      "2021-12-30  오전 08:46            59,707 2021-12-29.ipynb\n",
      "2021-12-31  오후 04:19            50,168 2021-12-30-1.ipynb\n",
      "2022-01-04  오전 10:44             7,649 2022- 01 -04(모듈.ipynb\n",
      "2022-01-04  오전 10:19           399,693 2022-01-03(함수_응용).ipynb\n",
      "2022-01-03  오전 09:09             7,786 CAKD5 1주 평가 과제.ipynb\n",
      "2022-01-04  오전 10:10    <DIR>          data\n",
      "2021-12-31  오전 11:29                18 foo.txt\n",
      "2022-01-04  오전 09:17            25,970 info.txt\n",
      "2021-12-29  오전 08:41             3,627 jupyter notebook-1(21.12.28).ipynb\n",
      "2022-01-04  오전 10:24                53 mod1.py\n",
      "2022-01-04  오전 10:31                95 mod2.py\n",
      "2021-12-31  오후 12:15                40 test.txt\n",
      "2021-12-31  오전 11:11                 0 test1,txt\n",
      "2021-12-31  오전 11:44             1,062 test_new.txt\n",
      "2021-12-28  오후 03:49                72 Untitled.ipynb\n",
      "2021-12-31  오후 08:48             7,279 Untitled1.ipynb\n",
      "2021-12-31  오후 04:52               958 Untitled2.ipynb\n",
      "2021-12-31  오후 06:34             2,548 Untitled3.ipynb\n",
      "2021-12-31  오후 06:45             4,611 Untitled4.ipynb\n",
      "2022-01-04  오전 10:33    <DIR>          __pycache__\n",
      "2021-12-28  오후 04:18            94,995 매직명령어.jpg\n",
      "2021-12-29  오후 01:49             2,663 캡처1.PNG\n",
      "2022-01-03  오전 10:30            42,850 함수.ipynb\n",
      "              22개 파일             769,075 바이트\n",
      "               5개 디렉터리  946,148,143,104 바이트 남음\n"
     ]
    }
   ],
   "source": [
    "# 시스템 명령어의 결과값 리턴 받기\n",
    "import os  #외장함수 : os를 내려받기 때문에\n",
    "f = os.popen('dir')\n",
    "print(f.read())\n",
    "!dir\n"
   ]
  },
  {
   "cell_type": "code",
   "execution_count": 18,
   "id": "4ff9a9d0",
   "metadata": {},
   "outputs": [
    {
     "data": {
      "text/plain": [
       "'test2.txt'"
      ]
     },
     "execution_count": 18,
     "metadata": {},
     "output_type": "execute_result"
    }
   ],
   "source": [
    "#파일 복사\n",
    "import shutil\n",
    "shutil.copy('test.txt','test2.txt')"
   ]
  },
  {
   "cell_type": "code",
   "execution_count": 19,
   "id": "a2ba799b",
   "metadata": {},
   "outputs": [
    {
     "name": "stdout",
     "output_type": "stream",
     "text": [
      " C 드라이브의 볼륨에는 이름이 없습니다.\n",
      " 볼륨 일련 번호: EE07-8CCE\n",
      "\n",
      " C:\\cakd5\\workspace\\mi_programming 디렉터리\n",
      "\n",
      "2022-01-04  오전 10:47    <DIR>          .\n",
      "2022-01-04  오전 10:47    <DIR>          ..\n",
      "2022-01-04  오전 10:13    <DIR>          .ipynb_checkpoints\n",
      "2021-12-31  오후 03:41            57,231 2021-12-29(1).ipynb\n",
      "2021-12-30  오전 08:46            59,707 2021-12-29.ipynb\n",
      "2021-12-31  오후 04:19            50,168 2021-12-30-1.ipynb\n",
      "2022-01-04  오전 10:46            10,487 2022- 01 -04(모듈.ipynb\n",
      "2022-01-04  오전 10:19           399,693 2022-01-03(함수_응용).ipynb\n",
      "2022-01-03  오전 09:09             7,786 CAKD5 1주 평가 과제.ipynb\n",
      "2022-01-04  오전 10:10    <DIR>          data\n",
      "2021-12-31  오전 11:29                18 foo.txt\n",
      "2022-01-04  오전 09:17            25,970 info.txt\n",
      "2021-12-29  오전 08:41             3,627 jupyter notebook-1(21.12.28).ipynb\n",
      "2022-01-04  오전 10:24                53 mod1.py\n",
      "2022-01-04  오전 10:31                95 mod2.py\n",
      "2021-12-31  오후 12:15                40 test.txt\n",
      "2021-12-31  오전 11:11                 0 test1,txt\n",
      "2022-01-04  오전 10:47                40 test2.txt\n",
      "2021-12-31  오전 11:44             1,062 test_new.txt\n",
      "2021-12-28  오후 03:49                72 Untitled.ipynb\n",
      "2021-12-31  오후 08:48             7,279 Untitled1.ipynb\n",
      "2021-12-31  오후 04:52               958 Untitled2.ipynb\n",
      "2021-12-31  오후 06:34             2,548 Untitled3.ipynb\n",
      "2021-12-31  오후 06:45             4,611 Untitled4.ipynb\n",
      "2022-01-04  오전 10:33    <DIR>          __pycache__\n",
      "2021-12-28  오후 04:18            94,995 매직명령어.jpg\n",
      "2021-12-29  오후 01:49             2,663 캡처1.PNG\n",
      "2022-01-03  오전 10:30            42,850 함수.ipynb\n",
      "              23개 파일             771,953 바이트\n",
      "               5개 디렉터리  946,148,007,936 바이트 남음\n"
     ]
    }
   ],
   "source": [
    "!dir"
   ]
  },
  {
   "cell_type": "code",
   "execution_count": 1,
   "id": "5d5cf66e",
   "metadata": {},
   "outputs": [
    {
     "name": "stdout",
     "output_type": "stream",
     "text": [
      "Start\n",
      "working : 0\n",
      "\n",
      "working : 1\n",
      "\n",
      "working : 2\n",
      "\n",
      "working : 3\n",
      "\n",
      "working : 4\n",
      "\n",
      "working : 0\n",
      "\n",
      "working : 1\n",
      "\n",
      "working : 2\n",
      "\n",
      "working : 3\n",
      "\n",
      "working : 4\n",
      "\n",
      "working : 0\n",
      "\n",
      "working : 1\n",
      "\n",
      "working : 2\n",
      "\n",
      "working : 3\n",
      "\n",
      "working : 4\n",
      "\n",
      "working : 0\n",
      "\n",
      "working : 1\n",
      "\n",
      "working : 2\n",
      "\n",
      "working : 3\n",
      "\n",
      "working : 4\n",
      "\n",
      "working : 0\n",
      "\n",
      "working : 1\n",
      "\n",
      "working : 2\n",
      "\n",
      "working : 3\n",
      "\n",
      "working : 4\n",
      "\n",
      "End\n"
     ]
    }
   ],
   "source": [
    "import time\n",
    "\n",
    "def long_task(): #5초의 시간이 걸리는 함수\n",
    "    for i in range(5):\n",
    "        time.sleep(1) #1초마다 대기\n",
    "        print(f'working : {i}\\n')\n",
    "print('Start')\n",
    "for i in range(5):\n",
    "    long_task()\n",
    "print('End')"
   ]
  },
  {
   "cell_type": "code",
   "execution_count": 2,
   "id": "9efdcdbb",
   "metadata": {},
   "outputs": [
    {
     "name": "stdout",
     "output_type": "stream",
     "text": [
      "Start\n",
      "working : 0\n",
      "working : 0\n",
      "working : 0\n",
      "\n",
      "\n",
      "\n",
      "working : 0\n",
      "\n",
      "working : 0\n",
      "\n",
      "working : 1\n",
      "working : 1\n",
      "\n",
      "working : 1\n",
      "\n",
      "working : 1\n",
      "\n",
      "\n",
      "working : 1\n",
      "\n",
      "working : 2\n",
      "\n",
      "working : 2\n",
      "\n",
      "working : 2\n",
      "\n",
      "working : 2\n",
      "working : 2\n",
      "\n",
      "\n",
      "working : 3\n",
      "working : 3\n",
      "working : 3\n",
      "\n",
      "\n",
      "\n",
      "working : 3\n",
      "\n",
      "working : 3\n",
      "\n",
      "working : 4\n",
      "working : 4\n",
      "working : 4\n",
      "working : 4\n",
      "\n",
      "\n",
      "working : 4\n",
      "\n",
      "\n",
      "\n",
      "End\n"
     ]
    }
   ],
   "source": [
    "#5초만에 작동하는 방법\n",
    "import time\n",
    "import threading\n",
    "\n",
    "def long_task():\n",
    "    for i in range(5):\n",
    "        time.sleep(1)\n",
    "        print(f'working : {i}\\n')\n",
    "print('Start')\n",
    "\n",
    "threads = []\n",
    "for i in range(5):     #일꾼 만들어주기\n",
    "    t = threading.Thread(target=long_task)\n",
    "    threads.append(t)\n",
    "    \n",
    "for t in threads:   # 하나씩 불러내어 일을 시작한다.\n",
    "    t.start()\n",
    "    \n",
    "for t in threads:   # join으로 스레드가 종료될 때까지 기다린다.\n",
    "    t.join()  \n",
    "    \n",
    "print('End')"
   ]
  },
  {
   "cell_type": "code",
   "execution_count": null,
   "id": "4578de9b",
   "metadata": {},
   "outputs": [],
   "source": []
  }
 ],
 "metadata": {
  "kernelspec": {
   "display_name": "Python 3 (ipykernel)",
   "language": "python",
   "name": "python3"
  },
  "language_info": {
   "codemirror_mode": {
    "name": "ipython",
    "version": 3
   },
   "file_extension": ".py",
   "mimetype": "text/x-python",
   "name": "python",
   "nbconvert_exporter": "python",
   "pygments_lexer": "ipython3",
   "version": "3.9.7"
  }
 },
 "nbformat": 4,
 "nbformat_minor": 5
}
