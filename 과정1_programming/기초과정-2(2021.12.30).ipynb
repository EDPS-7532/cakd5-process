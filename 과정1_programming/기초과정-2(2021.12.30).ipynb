{
 "cells": [
  {
   "cell_type": "code",
   "execution_count": 1,
   "id": "cb1d463d",
   "metadata": {},
   "outputs": [
    {
     "data": {
      "text/plain": [
       "1"
      ]
     },
     "execution_count": 1,
     "metadata": {},
     "output_type": "execute_result"
    }
   ],
   "source": [
    "#2와 5를 더한후 3으로 나눈 나머지 값을 사용자 함수를 이용하여 구하세요\n",
    "def cal_abc(a,b,c):   #사용자함수 이름(사용될 인자값):\n",
    "    return(a+b)%c\n",
    "\n",
    "cal_abc(2,5,3)\n",
    "    "
   ]
  },
  {
   "cell_type": "code",
   "execution_count": 3,
   "id": "b7c48932",
   "metadata": {},
   "outputs": [
    {
     "name": "stdout",
     "output_type": "stream",
     "text": [
      "It is true\n",
      "'Python is fit for data analysis'\n"
     ]
    }
   ],
   "source": [
    "#문자옆 앞의 공백을 제거하고 아래와 같이 출력하세요\n",
    "\n",
    "input_a = \"\"\"\n",
    "                       It is true\n",
    "'Python is fit for data analysis'\n",
    "\"\"\"\n",
    "print(input_a.strip())   # 공백제거\n"
   ]
  },
  {
   "cell_type": "code",
   "execution_count": 8,
   "id": "851ae111",
   "metadata": {},
   "outputs": [
    {
     "name": "stdout",
     "output_type": "stream",
     "text": [
      "['10', '20', '30', '40', '50']\n"
     ]
    },
    {
     "data": {
      "text/plain": [
       "['10', '20', '30', '40', '50']"
      ]
     },
     "execution_count": 8,
     "metadata": {},
     "output_type": "execute_result"
    }
   ],
   "source": [
    "#\"10/20/30/40/50\"을 '/'을 기준으로 자르세요\n",
    "a = \"10/20/30/40/50\"\n",
    "b = \"10,20,30,40,50\"\n",
    "print(a.split(\"/\"))\n",
    "b.split(\",\")                  #자르기"
   ]
  },
  {
   "cell_type": "code",
   "execution_count": 30,
   "id": "7ddb5b14",
   "metadata": {},
   "outputs": [
    {
     "name": "stdout",
     "output_type": "stream",
     "text": [
      "20\n",
      "20\n",
      "400\n"
     ]
    }
   ],
   "source": [
    "#짝수와 짝수를 입력하면 곱한 값을 출력하고 홀수와 홀수를 입력하면 덧셈값을 출력하고 \n",
    "#그외에는 다시 입력하는 메시지를 출력하세요.\n",
    "\n",
    "x = int(input())\n",
    "y = int(input())\n",
    "\n",
    "if (x % 2 ==0) & (y % 2 ==0):\n",
    "    print(x * y)\n",
    "elif (x % 2 == 1) & (y % 2 ==1):\n",
    "    print(x + y)\n",
    "else:\n",
    "    print('다시 입력해 주세요')"
   ]
  },
  {
   "cell_type": "code",
   "execution_count": 21,
   "id": "69f3f7fd",
   "metadata": {},
   "outputs": [
    {
     "name": "stdout",
     "output_type": "stream",
     "text": [
      "50 * 50 의 최대값은 2500 입니다.\n"
     ]
    }
   ],
   "source": [
    "#[과제] 1부터 100까지 아래와 같이 2개의 수를 곱해서  가장 큰 수를 구하세요.\n",
    "#[1*99, 2*98, ... 99*1]\n",
    "\n",
    "max_p=0\n",
    "max_a=0\n",
    "\n",
    "for i in range(1,51):\n",
    "    if max_p<i*(100-i):\n",
    "        max_p=i*(100-i)\n",
    "        max_a=i\n",
    "print(max_a, \"*\",100-max_a,\"의 최대값은\",max_p,\"입니다.\")\n"
   ]
  },
  {
   "cell_type": "code",
   "execution_count": null,
   "id": "e055a6ea",
   "metadata": {},
   "outputs": [],
   "source": [
    "#[ [과제] [    ]을 채워서 아래의 출력과 같이 출력하세요.\n",
    "# 출력 :\n",
    "# [[1,4,7],[2,5,8],[3,6,9]]\n",
    "\n",
    "numbers = [1,2,3,4,5,6,7,8,9]\n",
    "output = [[], [], []]\n",
    "\n",
    "for number in numbers:\n",
    "    output[           ].append(number)\n",
    "print(output)\n"
   ]
  },
  {
   "cell_type": "code",
   "execution_count": 2,
   "id": "8fbb56b6",
   "metadata": {},
   "outputs": [
    {
     "name": "stdout",
     "output_type": "stream",
     "text": [
      "[[1, 4, 7], [2, 5, 8], [3, 6, 9]]\n"
     ]
    }
   ],
   "source": [
    "numbers = [1,2,3,4,5,6,7,8,9]\n",
    "output = [[],[],[]]\n",
    "\n",
    "for number in numbers:\n",
    "    output[(number-1)%3].append(number)\n",
    "print(output)"
   ]
  },
  {
   "cell_type": "markdown",
   "id": "61fa6141",
   "metadata": {},
   "source": [
    " python random 모듈\n",
    "    https://nittaku.tistory.com/443"
   ]
  },
  {
   "cell_type": "markdown",
   "id": "297d97c9",
   "metadata": {},
   "source": [
    "https://codedrive.tistory.com/91\n",
    "\n",
    "내장함수, 외장함수\n"
   ]
  },
  {
   "cell_type": "code",
   "execution_count": 20,
   "id": "1bea8812",
   "metadata": {},
   "outputs": [
    {
     "data": {
      "text/plain": [
       "array([12, 15,  0,  3,  3,  7,  9, 19, 18,  4,  6, 12,  1,  6,  7, 14, 17,\n",
       "        5, 13,  8])"
      ]
     },
     "execution_count": 20,
     "metadata": {},
     "output_type": "execute_result"
    }
   ],
   "source": [
    "import numpy as np\n",
    "np. random.seed(0)\n",
    "num = np.random.randint(20,size=20)  #정수를 랜덤헤게 뽑기 0~20개를 20개로 랜덤으로 출력\n",
    "num"
   ]
  },
  {
   "cell_type": "code",
   "execution_count": 4,
   "id": "1422a800",
   "metadata": {},
   "outputs": [
    {
     "name": "stdout",
     "output_type": "stream",
     "text": [
      "로또 게임을 몇 번 할까요?> 3\n",
      "게임 수 : 3\n",
      "[1, 5, 7, 17, 28, 29]\n",
      "[2, 21, 23, 29, 30, 32]\n",
      "[2, 7, 9, 30, 33, 41]\n"
     ]
    }
   ],
   "source": [
    "#[과제] 사용자가 입력한 게임 회수만큼 로또 번호를 출력하는 프로그램을 작성하세요.\n",
    "\n",
    "\n",
    "import random\n",
    "\n",
    "num = input(\"게임 수 : \")\n",
    "\n",
    "for i in range(0, int(num)):\n",
    "    lotto = random.sample(range(1, 46), 6)\n",
    "    lotto.sort()\n",
    "    print(lotto)"
   ]
  },
  {
   "cell_type": "code",
   "execution_count": null,
   "id": "add32009",
   "metadata": {},
   "outputs": [],
   "source": [
    "#[과제] 남녀 파트너 정해주기 프로그램을 작성하세요.(5개 커플)"
   ]
  },
  {
   "cell_type": "code",
   "execution_count": 30,
   "id": "e7c8d234",
   "metadata": {},
   "outputs": [
    {
     "name": "stdout",
     "output_type": "stream",
     "text": [
      "커플1:남자1-여자2\n",
      "커플2:남자5-여자4\n",
      "커플3:남자2-여자3\n",
      "커플4:남자3-여자5\n",
      "커플5:남자4-여자1\n"
     ]
    }
   ],
   "source": [
    "from random import shuffle\n",
    "\n",
    "male = ['남자1', '남자2','남자3','남자4','남자5']\n",
    "female = ['여자1','여자2','여자3','여자4','여자5']\n",
    "shuffle(male)\n",
    "shuffle(female)\n",
    "couples = zip(male,female)\n",
    "\n",
    "for i, couple in enumerate(couples):\n",
    "    print(f'커플{i+1}:{couple[0]}-{couple[1]}')\n",
    "\n",
    "\n"
   ]
  },
  {
   "cell_type": "code",
   "execution_count": 16,
   "id": "93b0c43e",
   "metadata": {},
   "outputs": [
    {
     "data": {
      "text/plain": [
       "'bcdea'"
      ]
     },
     "execution_count": 16,
     "metadata": {},
     "output_type": "execute_result"
    }
   ],
   "source": [
    "#입력받은 문자역의 각 문자를 그 다음 문자로 변경하여 출력하세요\n",
    "#입력 abcde -> 출력bcdea \n",
    "\n",
    "str = \"abcde\"\n",
    "lst = list(str)\n",
    "lst.append(lst[0])\n",
    "lst.remove(lst[0])\n",
    "str = ''.join(lst)\n",
    "str\n",
    "\n"
   ]
  },
  {
   "cell_type": "code",
   "execution_count": 17,
   "id": "e9a5e194",
   "metadata": {},
   "outputs": [
    {
     "name": "stdout",
     "output_type": "stream",
     "text": [
      "입력 : ksm\n",
      "smk\n"
     ]
    }
   ],
   "source": [
    "a=list(input(\"입력 : \"))\n",
    "\n",
    "for i in range(len(a)-1):\n",
    "    print(a[i+1],end='')\n",
    "print(a[0])\n"
   ]
  },
  {
   "cell_type": "code",
   "execution_count": 19,
   "id": "0180e40e",
   "metadata": {},
   "outputs": [
    {
     "name": "stdout",
     "output_type": "stream",
     "text": [
      "문장을 입력하세요> 박기범\n",
      "기범박\n"
     ]
    }
   ],
   "source": [
    "text = input('문장을 입력하세요> ')\n",
    "ret = ''\n",
    "for i in range(len(text)):\n",
    "    if i != len(text)-1:   #!=같지 않다.\n",
    "        ret +=  text[i+1]\n",
    "    else: \n",
    "        ret += text[0]\n",
    "print(ret)"
   ]
  },
  {
   "cell_type": "code",
   "execution_count": null,
   "id": "7273e6c0",
   "metadata": {},
   "outputs": [],
   "source": [
    "#음식점의 음식 주문가격 산출 프로그램을 자유롭게 작성하세요\n",
    "'''\n",
    "중앙 식당에 오신 것을 환영합니다\n",
    "\n",
    "========================================\n",
    "\n",
    "          - 메  뉴 -\n",
    "    1. 불고기 비빔밥 : 12,000원\n",
    "    2. 야채 비빔밥 : 8,000원\n",
    "    3. 전주 비빔밥 : 10,000원\n",
    "\n",
    "    세트 주문시 : 3000원 추가\n",
    "    (세트는 밥과 반찬이 추가됩니다.)\n",
    "\n",
    "========================================\n",
    "\n",
    "비빔밥 메뉴를 선택해 주세요. 1, 2, 3 >>> 2\n",
    "세트 주문을 하시겠습니까? 3,000원 추가. y, n >>> y\n",
    "총 금액은 11000원 입니다.\n",
    "'''\n",
    "order = input(\"비빔밥 메뉴를 선택해 주세요. >> [불고기비빔밥, 야채 비빔밥, 전주비빕밥]:\")\n",
    "set_order = input(\"세트 주문을 하시겠습니까?. >> [y,n]:\")\n",
    "   \n",
    "if order == \"불고기 비빕밥\":\n",
    "        price = 12_000\n",
    "elif order == \"야채 비빔밥\":\n",
    "        price = 8_000\n",
    "elif order == \"전주 비빔밥\":\n",
    "         price = 10_000\n",
    "else:\n",
    "    print(\"메뉴를 선택해 주세요.\")\n",
    "\n",
    "if set_order == \"y\":\n",
    "       price += 3_000\n",
    "else:\n",
    "    price = price\n",
    "    \n",
    "print(f'총 금액은 {price} 원입니다.')"
   ]
  },
  {
   "cell_type": "code",
   "execution_count": 20,
   "id": "89da43da",
   "metadata": {},
   "outputs": [
    {
     "name": "stdout",
     "output_type": "stream",
     "text": [
      "메뉴를 선택해 주세요.1,2,3: 2\n",
      "세트 주문을 하시겠습니까? 3,000원 추가. y,n: n\n",
      "총 금액은 7,000원입니다.\n"
     ]
    }
   ],
   "source": [
    "m=int(input('메뉴를 선택해 주세요.1,2,3: '))\n",
    "s=input('세트 주문을 하시겠습니까? 3,000원 추가. y,n: ')\n",
    "if (m==1):\n",
    "    if (s==\"y\"):\n",
    "        print('총 금액은 9,000원입니다.')\n",
    "    else:\n",
    "        print('총 금액은 6,000원입니다.')\n",
    "elif (m==2):\n",
    "    if (s==\"y\"):\n",
    "        print('총 금액은 10,000원입니다.')\n",
    "    else:\n",
    "        print('총 금액은 7,000원입니다.')\n",
    "else:\n",
    "    if (s==\"y\"):\n",
    "        print('총 금액은 6,000원입니다.')\n",
    "    else:\n",
    "        print('총 금액은 3,000원입니다.')\n"
   ]
  },
  {
   "cell_type": "code",
   "execution_count": 21,
   "id": "495436c3",
   "metadata": {},
   "outputs": [
    {
     "name": "stdout",
     "output_type": "stream",
     "text": [
      "\n",
      "오늘도 큰솥 도시락을 찾아주셔서 감사합니다.\n",
      "\n",
      "    치킨마요 \\ 3500\n",
      "    참치마요 \\ 3000\n",
      "포테이토마요 \\ 3300\n",
      "\n",
      "※ 토핑 추가 \\ 500\n",
      "\n",
      "어떤 메뉴를 고르시겠어요? 참치마요\n",
      "참치마요의 가격은 3000원입니다.\n",
      "토핑을 추가하시겠어요? [네/아니오] 네\n",
      "주문하신 메뉴의 총 가격은 3500원입니다.\n",
      "맛있게 드세요.\n"
     ]
    }
   ],
   "source": [
    "menu = {'치킨마요':3500, '참치마요':3000, '포테이토마요':3300, '토핑':500}\n",
    "\n",
    "print(f'''\n",
    "오늘도 큰솥 도시락을 찾아주셔서 감사합니다.\n",
    "\n",
    "    치킨마요 \\ {menu['치킨마요']}\n",
    "    참치마요 \\ {menu['참치마요']}\n",
    "포테이토마요 \\ {menu['포테이토마요']}\n",
    "\n",
    "※ 토핑 추가 \\ {menu['토핑']}\n",
    "''')\n",
    "while 1:\n",
    "    food = input('어떤 메뉴를 고르시겠어요? ')\n",
    "\n",
    "    if food in menu:\n",
    "        print(f'{food}의 가격은 {menu[food]}원입니다.')\n",
    "        top = input('토핑을 추가하시겠어요? [네/아니오] ')\n",
    "        if top=='네':\n",
    "            print('주문하신 메뉴의 총 가격은 %d원입니다.\\n맛있게 드세요.' %(int(menu[food])+int(menu['토핑'])))\n",
    "            break\n",
    "        elif top=='아니오':\n",
    "            print(f'주문하신 메뉴의 총 가격은 {menu[food]}원입니다.\\n맛있게 드세요.')\n",
    "            break\n",
    "        else: print('주문 오류입니다. 다시 주문해 주세요.')\n",
    "    \n",
    "    else: print('주문하신 메뉴는 없는 메뉴입니다.')\n"
   ]
  },
  {
   "cell_type": "code",
   "execution_count": null,
   "id": "0900e9f8",
   "metadata": {},
   "outputs": [],
   "source": [
    "#[과제] 수정 보완하세요.\n",
    "menu = \"\"\"\n",
    "\n",
    "    - 메   뉴 -\n",
    "1.떡볶이 : 6,000원\n",
    "2.순대   : 7,000원\n",
    "3.김밥   : 3,000원\n",
    "\n",
    "세트 주문시 : 3,000원 추가\n",
    "\n",
    "\"\"\"\n",
    "\n",
    "print('중앙 식당에 오신 것을 환영합니다.'+'\\n')\n",
    "print(\"=\"*40)\n",
    "print(menu)\n",
    "print(\"=\"*40)\n",
    "print()\n",
    "\n",
    "order = input('메뉴를 선택해 주세요. 1,2,3 >>> ')\n",
    "combo = input('세트 주문을 하시겠습니까? 3,000원 추가. y, n >>> ')\n",
    "\n",
    "price = 0\n",
    "if order == '1':\n",
    "    price = 6000\n",
    "elif order == '2':\n",
    "    price = 7000\n",
    "elif order == '3':\n",
    "    price = 3000\n",
    "else:\n",
    "    print:(f'다시 선택해 주세요')\n",
    "    \n",
    "if combo == 'y':\n",
    "    price += 3000\n",
    "elif combo == 'n':\n",
    "    price = price\n",
    "else:\n",
    "    print('잘못 입력했습니다. y or n을 입력해 주세요')\n",
    "print(f'총 금액은 {price}원 입니다.')"
   ]
  },
  {
   "cell_type": "code",
   "execution_count": 24,
   "id": "415ff160",
   "metadata": {},
   "outputs": [
    {
     "name": "stdout",
     "output_type": "stream",
     "text": [
      "가위 바위 보 중 하나를 넣어주세요: 가위\n",
      "사용자는 가위를 냈습니다.\n",
      "사용자는 승리 했습니다\n"
     ]
    }
   ],
   "source": [
    "#[과제] player가 3승할 때까지 계속 진행되는  가위 바위 보 게임 프로그램을 제작하세요\n",
    "# 게임은 player와 컴퓨터가 진행합니다\n",
    "\n",
    "import random\n",
    "\n",
    "computer = random.choice(['가위','바위','보'])\n",
    "player = input('가위 바위 보 중 하나를 넣어주세요: ')\n",
    "\n",
    "if computer == '가위':\n",
    "    print('컴퓨터는 가위입니다.')\n",
    "    if player == '가위':\n",
    "        print('사용자는 가위를 냈습니다.')\n",
    "        print('무승부입니다')\n",
    "    elif player == '바위':\n",
    "        print('사용자는 바위를 냈습니다.')\n",
    "        print('사용자의 승리입니다.')\n",
    "    elif player == '보' :\n",
    "        print('사용자는 보를 냈습니다.')\n",
    "        print('사용자는 패배했습니다.')\n",
    "elif computer == '바위':\n",
    "    print('컴퓨터는 바위를 냈습니다.')\n",
    "    if player == '가위':\n",
    "        print('사용자는 가위를 냈습니다.')\n",
    "        print('사용자의 패배입니다')\n",
    "    elif player == '바위':\n",
    "        print('사용자는 바위를 냈습니다.')\n",
    "        print('무승부입니다.')\n",
    "    elif player == '보' :\n",
    "        print('사용자는 보를 냈습니다.')\n",
    "        print('사용자는 승리했습니다.')\n",
    "elif computer == '보':\n",
    "    if player == '가위':\n",
    "        print('사용자는 가위를 냈습니다.')\n",
    "        print('사용자는 승리 했습니다')\n",
    "    elif player == '바위':\n",
    "        print('사용자는 바위를 냈습니다.')\n",
    "        print('사용자의 패배입니다.')\n",
    "    elif player == '보' :\n",
    "        print('사용자는 보를 냈습니다.')\n",
    "        print('무승부입니다.')\n",
    "        \n",
    "        "
   ]
  },
  {
   "cell_type": "code",
   "execution_count": 29,
   "id": "650c8c81",
   "metadata": {},
   "outputs": [
    {
     "name": "stdout",
     "output_type": "stream",
     "text": [
      "게임을 하시겠습니까?[y/n]: y\n",
      "숫자를 입력하세요(0~10): 10\n",
      "down\n",
      "숫자를 입력하세요(0~10): 5\n",
      "down\n",
      "숫자를 입력하세요(0~10): 2\n",
      "up\n",
      "숫자를 입력하세요(0~10): 3\n",
      "범위 안의 숫자를 입력해주세요.\n",
      "정답입니다.\n",
      "게임을 하시겠습니까?[y/n]: n\n",
      "게임을 종료합니다.\n"
     ]
    }
   ],
   "source": [
    "#컴퓨터가 랜덤하게 생성하는 숫자 맞추기 게임 프로그램을 작성하세요\n",
    "import numpy as np\n",
    "while(1):\n",
    "    s_e=input(\"게임을 하시겠습니까?[y/n]: \")\n",
    "\n",
    "    if(s_e==\"y\"):\n",
    "        anser= np.random.randint(0,10)\n",
    "        while(a != anser):\n",
    "            a=int(input(\"숫자를 입력하세요(0~10): \"))\n",
    "            if(a>anser):\n",
    "                print(\"down\")\n",
    "            elif(a<anser):\n",
    "                print(\"up\")\n",
    "            else:\n",
    "                print(\"범위 안의 숫자를 입력해주세요.\")\n",
    "        print(\"정답입니다.\")\n",
    "    else:\n",
    "        print(\"게임을 종료합니다.\")\n",
    "        break\n"
   ]
  }
 ],
 "metadata": {
  "kernelspec": {
   "display_name": "Python 3 (ipykernel)",
   "language": "python",
   "name": "python3"
  },
  "language_info": {
   "codemirror_mode": {
    "name": "ipython",
    "version": 3
   },
   "file_extension": ".py",
   "mimetype": "text/x-python",
   "name": "python",
   "nbconvert_exporter": "python",
   "pygments_lexer": "ipython3",
   "version": "3.9.7"
  }
 },
 "nbformat": 4,
 "nbformat_minor": 5
}
