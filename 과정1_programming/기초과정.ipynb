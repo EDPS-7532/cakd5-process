{
 "cells": [
  {
   "cell_type": "code",
   "execution_count": null,
   "id": "5887e15b",
   "metadata": {},
   "outputs": [],
   "source": [
    "print(\"Hello Python\")"
   ]
  },
  {
   "cell_type": "markdown",
   "id": "006af615",
   "metadata": {},
   "source": [
    "## 파이썬 기초\n",
    "### 파이썬이란\n",
    "#### 파이썬의 특징\n",
    "  -1990년 암스테르담의 귀도 반 로섬(Guido Van Rossum)이 개발한 인터프리터 언어  \n",
    "  -컴퓨터 프로그래밍 교육을 위해 많이 사용하지만, 기업의 실무를 위해서도 많이 사용하는 언어. 구글에서 만들 소프트웨어의 50%이상이 파이썬으로 작성\n",
    "  \n",
    "#### 파이썬의 특징  \n",
    " - 파이썬은 인간다운 언어이다.  \n",
    " - 파이썬은 문법이 쉬워 빠르게 배울 수 있다. \n",
    " - 파이썬은 무료이지만 강력하다.\n",
    " - 파이썬은 간결하다\n",
    " - 파이썬은 프로그래밍을 즐기게 해준다\n",
    " - 파이썬은 개발 속도가 빠르다\n",
    " \n",
    "#### 파이썬으로 할 수 있는 일\n",
    "  - 시스템 유틸리티 제작\n",
    "  - GUI 프로그래밍\n",
    "  - C/C++와의 결합\n",
    "  - 웹 프로그래밍\n",
    "  - 수치 연산 프로그래밍  \n",
    "  - 데이터베이스 프로그래밍\n",
    "  - 데이터 분석, 사물 인터넷\n",
    "  \n",
    " #### 참조\n",
    "  - 표현식: 어떠한 값을 만들어 내는 간단한 코드."
   ]
  },
  {
   "cell_type": "code",
   "execution_count": 3,
   "id": "8527c421",
   "metadata": {},
   "outputs": [
    {
     "name": "stdout",
     "output_type": "stream",
     "text": [
      "Python 3.7.11\n"
     ]
    }
   ],
   "source": [
    "!python -V"
   ]
  },
  {
   "cell_type": "code",
   "execution_count": 6,
   "id": "8098e0c8",
   "metadata": {},
   "outputs": [
    {
     "name": "stdout",
     "output_type": "stream",
     "text": [
      "273\n"
     ]
    },
    {
     "data": {
      "text/plain": [
       "60"
      ]
     },
     "execution_count": 6,
     "metadata": {},
     "output_type": "execute_result"
    }
   ],
   "source": [
    "# 표현식\n",
    "print(273)\n",
    "10+20+30"
   ]
  },
  {
   "cell_type": "code",
   "execution_count": 13,
   "id": "97836950",
   "metadata": {},
   "outputs": [
    {
     "name": "stdout",
     "output_type": "stream",
     "text": [
      "Hello Python\n",
      "52 Hello Python 8\n"
     ]
    }
   ],
   "source": [
    "# 표현식이 하나 이상씩 모이면 문장\n",
    "print(\"Hello Python\")\n",
    "print(52,'Hello Python', 5+3)"
   ]
  },
  {
   "cell_type": "code",
   "execution_count": 14,
   "id": "e707e33d",
   "metadata": {},
   "outputs": [
    {
     "name": "stdout",
     "output_type": "stream",
     "text": [
      "2\n"
     ]
    }
   ],
   "source": [
    "# 문징이 모여서 프로그램\n",
    "a =  1;b = 1;c=a+b\n",
    "print(c)"
   ]
  },
  {
   "cell_type": "code",
   "execution_count": 23,
   "id": "64fd0d8f",
   "metadata": {},
   "outputs": [
    {
     "name": "stdout",
     "output_type": "stream",
     "text": [
      "['False', 'None', 'True', 'and', 'as', 'assert', 'async', 'await', 'break', 'class', 'continue', 'def', 'del', 'elif', 'else', 'except', 'finally', 'for', 'from', 'global', 'if', 'import', 'in', 'is', 'lambda', 'nonlocal', 'not', 'or', 'pass', 'raise', 'return', 'try', 'while', 'with', 'yield']\n",
      "35\n"
     ]
    }
   ],
   "source": [
    "# python keyword\n",
    "import keyword\n",
    "print(keyword.kwlist)\n",
    "print(len(keyword.kwlist))"
   ]
  },
  {
   "cell_type": "markdown",
   "id": "5dd25405",
   "metadata": {},
   "source": [
    "식별자 기본 규칙\n",
    "- 키워드를 사용하면 안된다.\n",
    "- 특수문자는 언더 바(_)만 사용한다.\n",
    "- 숫자로 시작하면 안된다.\n",
    "- 공백을 포함할 수 없다."
   ]
  },
  {
   "cell_type": "markdown",
   "id": "ac65c788",
   "metadata": {},
   "source": [
    "- alpha\n",
    "- break # 키워드\n",
    "- alpha10\n",
    "- _alpha10\n",
    "- 273alpha # 숫자\n",
    "- has space # 공백\n",
    "- Alpha\n",
    "- ALPHA"
   ]
  },
  {
   "cell_type": "markdown",
   "id": "7f51a4c8",
   "metadata": {},
   "source": [
    " https://bibi6666667.tistory.com/277  \n",
    " 파이썬은 snake_case와 CamelCase를 모두 사용\n",
    "\n",
    " - itemlist ltem_list ItemList\n",
    " - loginstatus login_status Login Status\n",
    " - 캐멀 케이스(대문자로 시작)클래스\n",
    " - 스네이크 케이스(소문자로 시작)뒤에 ()가 있다-함수\n",
    " - 스네이크 케이스(소문자로 시작)뒤에 ()가 없다-변수\n"
   ]
  },
  {
   "cell_type": "code",
   "execution_count": 28,
   "id": "f1830c9a",
   "metadata": {},
   "outputs": [
    {
     "name": "stdout",
     "output_type": "stream",
     "text": [
      "3이 있습니다.\n"
     ]
    }
   ],
   "source": [
    "# 사람이 생각하는 방식을 그대로 표현 할 수 있는 언어\n",
    "\n",
    "if 3 in [1,2,3,4]:print('3이 있습니다.')"
   ]
  },
  {
   "cell_type": "code",
   "execution_count": 40,
   "id": "3dc2653e",
   "metadata": {},
   "outputs": [
    {
     "name": "stdout",
     "output_type": "stream",
     "text": [
      "17이 있습니다.\n"
     ]
    }
   ],
   "source": [
    "if 17 in[13,14,15,16,17,18,19]:print('17이 있습니다.')"
   ]
  },
  {
   "cell_type": "code",
   "execution_count": 49,
   "id": "62449ffa",
   "metadata": {},
   "outputs": [
    {
     "name": "stdout",
     "output_type": "stream",
     "text": [
      "123\n",
      "-123\n",
      "0\n",
      "1.23\n",
      "127\n",
      "2748\n",
      "42\n"
     ]
    }
   ],
   "source": [
    "# 파이썬 자료형 - 숫자형(정수, 실수 , 8진수, 16진수)\n",
    "a = 123 \n",
    "b = -123\n",
    "c = 0\n",
    "d = 1.23\n",
    "e = 0o177 # 8진수 0o으로 시작.\n",
    "f = 0xABC #  16진수 0x로 시작\n",
    "g = 0b101010 # 2진수는 0o로 시작\n",
    "print(a)\n",
    "print(b)\n",
    "print(c)\n",
    "print(d)\n",
    "print(e)\n",
    "print(f)\n",
    "print(g)"
   ]
  },
  {
   "cell_type": "code",
   "execution_count": 52,
   "id": "777b8e1e",
   "metadata": {},
   "outputs": [
    {
     "name": "stdout",
     "output_type": "stream",
     "text": [
      "10\n",
      "2\n",
      "12\n",
      "20\n",
      "5.0\n",
      "0\n",
      "5\n",
      "8\n"
     ]
    }
   ],
   "source": [
    "# 사칙연산\n",
    "a = 10\n",
    "b = 2\n",
    "c = a + b\n",
    "d = a * b\n",
    "e = a / b\n",
    "f = a % b   # 나머지\n",
    "g = a // b  # 몫\n",
    "h = 2 ** 3  # 제곱\n",
    "print(a)\n",
    "print(b)\n",
    "print(c)\n",
    "print(d)\n",
    "print(e)\n",
    "print(f)\n",
    "print(g)\n",
    "print(h)\n"
   ]
  },
  {
   "cell_type": "code",
   "execution_count": 54,
   "id": "9cb329c0",
   "metadata": {},
   "outputs": [
    {
     "ename": "TypeError",
     "evalue": "can only concatenate str (not \"int\") to str",
     "output_type": "error",
     "traceback": [
      "\u001b[1;31m---------------------------------------------------------------------------\u001b[0m",
      "\u001b[1;31mTypeError\u001b[0m                                 Traceback (most recent call last)",
      "\u001b[1;32m~\\AppData\\Local\\Temp/ipykernel_2112/2549730768.py\u001b[0m in \u001b[0;36m<module>\u001b[1;34m\u001b[0m\n\u001b[0;32m      2\u001b[0m \u001b[0mstring\u001b[0m \u001b[1;33m=\u001b[0m \u001b[1;34m\"문자열\"\u001b[0m\u001b[1;33m\u001b[0m\u001b[1;33m\u001b[0m\u001b[0m\n\u001b[0;32m      3\u001b[0m \u001b[0mnumber\u001b[0m \u001b[1;33m=\u001b[0m \u001b[1;36m273\u001b[0m\u001b[1;33m\u001b[0m\u001b[1;33m\u001b[0m\u001b[0m\n\u001b[1;32m----> 4\u001b[1;33m \u001b[0mstring\u001b[0m \u001b[1;33m+\u001b[0m \u001b[0mnumber\u001b[0m\u001b[1;33m\u001b[0m\u001b[1;33m\u001b[0m\u001b[0m\n\u001b[0m",
      "\u001b[1;31mTypeError\u001b[0m: can only concatenate str (not \"int\") to str"
     ]
    }
   ],
   "source": [
    "# 다른 타입간 연산을 안됨\n",
    "string = \"문자열\"\n",
    "number = 273\n",
    "string + number"
   ]
  },
  {
   "cell_type": "code",
   "execution_count": 57,
   "id": "27e07b04",
   "metadata": {},
   "outputs": [
    {
     "data": {
      "text/plain": [
       "str"
      ]
     },
     "execution_count": 57,
     "metadata": {},
     "output_type": "execute_result"
    }
   ],
   "source": [
    "a = 10\n",
    "a = \"문자\"\n",
    "# a = 100\n",
    "type(a)"
   ]
  },
  {
   "cell_type": "code",
   "execution_count": 59,
   "id": "c658c228",
   "metadata": {},
   "outputs": [
    {
     "data": {
      "text/plain": [
       "200"
      ]
     },
     "execution_count": 59,
     "metadata": {},
     "output_type": "execute_result"
    }
   ],
   "source": [
    "# 복합 대입 연산자\n",
    "num = 10\n",
    "num += 10\n",
    "num *= 10\n",
    "num"
   ]
  },
  {
   "cell_type": "code",
   "execution_count": 63,
   "id": "ecb08b1a",
   "metadata": {},
   "outputs": [
    {
     "data": {
      "text/plain": [
       "10.0"
      ]
     },
     "execution_count": 63,
     "metadata": {},
     "output_type": "execute_result"
    }
   ],
   "source": [
    "num = 100\n",
    "num += 100\n",
    "num /= 20\n",
    "num"
   ]
  },
  {
   "cell_type": "code",
   "execution_count": 61,
   "id": "68eb65cc",
   "metadata": {},
   "outputs": [
    {
     "name": "stdout",
     "output_type": "stream",
     "text": [
      "인사말을 입력하세요:안녕하세요\n"
     ]
    },
    {
     "data": {
      "text/plain": [
       "'안녕하세요'"
      ]
     },
     "execution_count": 61,
     "metadata": {},
     "output_type": "execute_result"
    }
   ],
   "source": [
    "# 사용자 입력\n",
    "input('인사말을 입력하세요:')"
   ]
  },
  {
   "cell_type": "code",
   "execution_count": 67,
   "id": "12c1520c",
   "metadata": {},
   "outputs": [
    {
     "name": "stdout",
     "output_type": "stream",
     "text": [
      "숫자를 입력하세요:10\n",
      "10\n"
     ]
    },
    {
     "data": {
      "text/plain": [
       "str"
      ]
     },
     "execution_count": 67,
     "metadata": {},
     "output_type": "execute_result"
    }
   ],
   "source": [
    "num = input('숫자를 입력하세요:')\n",
    "print(num)\n",
    "type(num)"
   ]
  },
  {
   "cell_type": "code",
   "execution_count": 68,
   "id": "599e5fe4",
   "metadata": {},
   "outputs": [
    {
     "name": "stdout",
     "output_type": "stream",
     "text": [
      "숫자를 입력하세요12\n",
      "숫자를 입력하세요12\n",
      "1212\n"
     ]
    }
   ],
   "source": [
    "num1 = input('숫자를 입력하세요')\n",
    "num2 = input('숫자를 입력하세요')\n",
    "print(num1 + num2)"
   ]
  },
  {
   "cell_type": "code",
   "execution_count": 70,
   "id": "f1f9cd8e",
   "metadata": {},
   "outputs": [
    {
     "name": "stdout",
     "output_type": "stream",
     "text": [
      "숫자를 입력하세요14\n",
      "숫자를 입력하세요145\n",
      "159\n"
     ]
    }
   ],
   "source": [
    "# input() 함수를 사용하면 숫자도 문자로 전환되어 숫자인산을 위한 변환 필요\n",
    "num1 = input('숫자를 입력하세요')\n",
    "num1_n = int(num1) #int로 숫자변경\n",
    "num2 = input('숫자를 입력하세요')\n",
    "num2_n = int(num2)\n",
    "print(num1_n+num2_n)\n"
   ]
  },
  {
   "cell_type": "code",
   "execution_count": 77,
   "id": "1ceb89bd",
   "metadata": {},
   "outputs": [
    {
     "name": "stdout",
     "output_type": "stream",
     "text": [
      "숫자를 입력하세요3\n",
      "숫자를 입력하세요3.3\n",
      "6.3\n"
     ]
    }
   ],
   "source": [
    "#0. 3과 3.3을 입력하고 숫자 연산을 수해하여 6.3을 출력하세요\n",
    "num1 = input('숫자를 입력하세요')\n",
    "num1_n = int(num1)\n",
    "num2 = input('숫자를 입력하세요')\n",
    "num2_n = float(num2) # float로 문자를 숫자로 변환\n",
    "print(num1_n + num2_n)\n"
   ]
  },
  {
   "cell_type": "code",
   "execution_count": 80,
   "id": "5ac89f65",
   "metadata": {},
   "outputs": [],
   "source": [
    "# 0. a = 52와 b = 52.237일때  a+b 5252.237으로 출력되도록 a와 b를 문자열 자료형으로 변환하세요"
   ]
  },
  {
   "cell_type": "code",
   "execution_count": 82,
   "id": "c7504bf3",
   "metadata": {},
   "outputs": [
    {
     "name": "stdout",
     "output_type": "stream",
     "text": [
      "5252.237\n"
     ]
    }
   ],
   "source": [
    "a = 52\n",
    "b = 52.237\n",
    "print(str(a)+str(b))"
   ]
  },
  {
   "cell_type": "code",
   "execution_count": 101,
   "id": "7c456123",
   "metadata": {},
   "outputs": [
    {
     "name": "stdout",
     "output_type": "stream",
     "text": [
      "python's value is great\n"
     ]
    }
   ],
   "source": [
    "#문자열 : \"\",'',\"\"\" \"\"\",''' '''\n",
    "p1 = \"python's value is great\"\n",
    "#p2 = 'python's value is great'\n",
    "print(p1)"
   ]
  },
  {
   "cell_type": "code",
   "execution_count": 89,
   "id": "f1f03913",
   "metadata": {},
   "outputs": [
    {
     "ename": "SyntaxError",
     "evalue": "invalid syntax (Temp/ipykernel_2112/2797158412.py, line 1)",
     "output_type": "error",
     "traceback": [
      "\u001b[1;36m  File \u001b[1;32m\"C:\\Users\\admin\\AppData\\Local\\Temp/ipykernel_2112/2797158412.py\"\u001b[1;36m, line \u001b[1;32m1\u001b[0m\n\u001b[1;33m    s1 = ''\"python is valuable\" he says'\u001b[0m\n\u001b[1;37m                                 ^\u001b[0m\n\u001b[1;31mSyntaxError\u001b[0m\u001b[1;31m:\u001b[0m invalid syntax\n"
     ]
    }
   ],
   "source": [
    "s1 = ''\"python is valuable\" he says'\n",
    "si "
   ]
  },
  {
   "cell_type": "code",
   "execution_count": 93,
   "id": "77dc8a05",
   "metadata": {},
   "outputs": [
    {
     "data": {
      "text/plain": [
       "\"python's value is great\""
      ]
     },
     "execution_count": 93,
     "metadata": {},
     "output_type": "execute_result"
    }
   ],
   "source": [
    "s2 = 'python\\'s value is great'\n",
    "s2"
   ]
  },
  {
   "cell_type": "code",
   "execution_count": 102,
   "id": "772dbcae",
   "metadata": {},
   "outputs": [
    {
     "name": "stdout",
     "output_type": "stream",
     "text": [
      "Once you study data analysis\n",
      "You need Python\n",
      "Once you study data analysis\n",
      "you need Python\n",
      "nice you study data analysis\n",
      "you need Python\n"
     ]
    }
   ],
   "source": [
    "y1 = \"Once you study data analysis\\nYou need Python\"\n",
    "print(y1)\n",
    "y2 = '''Once you study data analysis\n",
    "you need Python'''\n",
    "print(y2)\n",
    "y3 = \"\"\"nice you study data analysis\n",
    "you need Python\"\"\"\n",
    "print(y3)"
   ]
  },
  {
   "cell_type": "code",
   "execution_count": 104,
   "id": "bebb1906",
   "metadata": {},
   "outputs": [
    {
     "name": "stdout",
     "output_type": "stream",
     "text": [
      "파이썬은 귀도 반 로섬(Guido Van Rossum)이 개발한 인터프리터 언어이다\n",
      "파이썬은 컴퓨터 프로그래밍 교육을 위해 많이 사용한다\n",
      "파이썬은 인간다운 언어이다\n"
     ]
    }
   ],
   "source": [
    "y1 = \"파이썬은 귀도 반 로섬(Guido Van Rossum)이 개발한 인터프리터 언어이다\"\n",
    "print(y1)\n",
    "y2 = '''파이썬은 컴퓨터 프로그래밍 교육을 위해 많이 사용한다'''\n",
    "print(y2)\n",
    "y3 = \"\"\"파이썬은 인간다운 언어이다\"\"\"\n",
    "print(y3)"
   ]
  },
  {
   "cell_type": "code",
   "execution_count": 106,
   "id": "3b179bdf",
   "metadata": {},
   "outputs": [
    {
     "name": "stdout",
     "output_type": "stream",
     "text": [
      "Python is easy to learn\n",
      "PythonPythonPython\n",
      "____________________\n"
     ]
    }
   ],
   "source": [
    "# 문자열 연산\n",
    "a1 = 'Python'\n",
    "a2 =  ' is easy to learn'\n",
    "print(a1 + a2)\n",
    "print(a1 * 3)\n",
    "print(\"_\" *20)\n"
   ]
  },
  {
   "cell_type": "code",
   "execution_count": 109,
   "id": "0435a16b",
   "metadata": {},
   "outputs": [
    {
     "name": "stdout",
     "output_type": "stream",
     "text": [
      "[1, 'a', 'abc', [1, 2, 3, 4, 5], ['a', 'b', 'c']]\n"
     ]
    }
   ],
   "source": [
    "# 자료형 - List\n",
    "# 리스트는 []로 표시하며 []안의 요소를 콤마로 구분하여 순서있게 나열\n",
    "list1 = [1,2,3,4,5]\n",
    "list2 = ['a','b','c'] #문자는 반드시 따옴표를 첨가해야한다\n",
    "list3 = [1,'a','abc',[1,2,3,4,5],['a','b','c']]\n",
    "print(list3)"
   ]
  },
  {
   "cell_type": "code",
   "execution_count": 113,
   "id": "b2fde5c3",
   "metadata": {},
   "outputs": [
    {
     "data": {
      "text/plain": [
       "'b'"
      ]
     },
     "execution_count": 113,
     "metadata": {},
     "output_type": "execute_result"
    }
   ],
   "source": [
    "# 인댁싱 0부터 시작함\n",
    "list1 = [1,2,3,4,5]\n",
    "list1[:]   # 처음부터 끝까지\n",
    "list3[2]   # 3이 출력\n",
    "list3[3][4] #5가 출력\n",
    "list3[4][1] #b가 출력"
   ]
  },
  {
   "cell_type": "code",
   "execution_count": 118,
   "id": "9d2104a7",
   "metadata": {},
   "outputs": [
    {
     "name": "stdout",
     "output_type": "stream",
     "text": [
      "[1, 1, 2, 3, 4, 5, 6, 7, 8, 9]\n",
      "['a', 'a', 'c']\n",
      "['a', 'c']\n"
     ]
    }
   ],
   "source": [
    "# 리스트 수정, 삭제\n",
    "\n",
    "a = [0,1,2,3,4,5,6,7,8,9]\n",
    "b = ['a','b','c']\n",
    "a[0] = 1\n",
    "b[1] = 'a'\n",
    "\n",
    "print(a)\n",
    "print(b)\n",
    "del b[1]\n",
    "print(b)\n"
   ]
  },
  {
   "cell_type": "code",
   "execution_count": 121,
   "id": "5d0ce13c",
   "metadata": {},
   "outputs": [
    {
     "name": "stdout",
     "output_type": "stream",
     "text": [
      "[0, 1, 2, 3, 4, 5, 6, 7, 8, 9, 'a', 'b', 'c']\n"
     ]
    },
    {
     "data": {
      "text/plain": [
       "[0, 1, 2, 3, 4, 5, 6, 7, 8, 9, 'a', 'b', 1]"
      ]
     },
     "execution_count": 121,
     "metadata": {},
     "output_type": "execute_result"
    }
   ],
   "source": [
    "a = [0,1,2,3,4,5,6,7,8,9]\n",
    "b = ['a','b','c']\n",
    "c = a + b\n",
    "print(c)\n",
    "c[-1] = 1\n",
    "c\n"
   ]
  },
  {
   "cell_type": "code",
   "execution_count": 123,
   "id": "6cc33f5f",
   "metadata": {
    "scrolled": true
   },
   "outputs": [
    {
     "data": {
      "text/plain": [
       "[0, 1, 2, 3, 4, 5, 6, 7, 8, 9, 'a', 2, 1]"
      ]
     },
     "execution_count": 123,
     "metadata": {},
     "output_type": "execute_result"
    }
   ],
   "source": [
    "c[-2] = 2\n",
    "c"
   ]
  },
  {
   "cell_type": "code",
   "execution_count": 130,
   "id": "34dc682c",
   "metadata": {},
   "outputs": [
    {
     "name": "stdout",
     "output_type": "stream",
     "text": [
      "[1, 2, 3, 4]\n",
      "[4, 3, 2, 1]\n",
      "[4, 3, 2, 1]\n"
     ]
    }
   ],
   "source": [
    "# 정렬\n",
    "b = [2,4,3,1]\n",
    "b.sort()\n",
    "print(b)\n",
    "# 내림차순\n",
    "b_d = sorted(b, reverse=True)\n",
    "print(b_d)\n",
    "b. reverse()\n",
    "print(b)"
   ]
  },
  {
   "cell_type": "code",
   "execution_count": 134,
   "id": "9ab340fd",
   "metadata": {},
   "outputs": [
    {
     "name": "stdout",
     "output_type": "stream",
     "text": [
      "[1, 1, 1, 2, 2, 3, 4, 5, 6, 7, 8, 9]\n",
      "[9, 8, 7, 6, 5, 4, 3, 2, 2, 1, 1, 1]\n"
     ]
    }
   ],
   "source": [
    "# 정렬 , 내림차순으로 변환\n",
    "s = [1, 1, 2, 3, 4, 5, 6, 7, 8, 9, 2, 1]\n",
    "s.sort()\n",
    "print(s)\n",
    "s.reverse()\n",
    "print(s)\n"
   ]
  },
  {
   "cell_type": "code",
   "execution_count": 136,
   "id": "dbaf7635",
   "metadata": {},
   "outputs": [
    {
     "name": "stdout",
     "output_type": "stream",
     "text": [
      "2\n"
     ]
    }
   ],
   "source": [
    "# 인덱스 위치 반환\n",
    "c = [1,2,3,4,5]\n",
    "print(c. index(3))"
   ]
  },
  {
   "cell_type": "code",
   "execution_count": 160,
   "id": "dd0244ef",
   "metadata": {},
   "outputs": [
    {
     "name": "stdout",
     "output_type": "stream",
     "text": [
      "[90, 6, 26, 65, 88, 51, 33, 45, 11, 68, 37, 84, 51, 66, 95, 30, 52, 37, 66, 9, 26, 1, 46, 92, 34, 38, 53, 72, 38, 19, 81, 51, 61, 10, 24, 69, 63, 40, 88, 7, 37, 74, 65, 9, 95, 28, 47, 4, 9, 62, 56, 79, 15, 58, 79, 55, 86, 19, 71, 82, 70, 73, 44, 22, 28, 28, 76, 33, 91, 10, 4, 29, 35, 70, 60, 8, 73, 67, 77, 55, 64, 56, 65, 38, 35, 85, 9, 31, 98, 54, 17, 69, 12, 56, 63, 14, 40, 71, 26, 27]\n"
     ]
    },
    {
     "data": {
      "text/plain": [
       "3"
      ]
     },
     "execution_count": 160,
     "metadata": {},
     "output_type": "execute_result"
    }
   ],
   "source": [
    "import numpy as np\n",
    "c = np.random.randint(100, size=100).tolist()\n",
    "print(c)\n",
    "c. index(65)\n"
   ]
  },
  {
   "cell_type": "code",
   "execution_count": 143,
   "id": "c6dbbea1",
   "metadata": {},
   "outputs": [
    {
     "name": "stdout",
     "output_type": "stream",
     "text": [
      "2\n"
     ]
    }
   ],
   "source": [
    "#개수 반환\n",
    "c = [1,1,3,3,3,5,5]\n",
    "print(c.count(5))"
   ]
  },
  {
   "cell_type": "code",
   "execution_count": 152,
   "id": "c908a658",
   "metadata": {},
   "outputs": [
    {
     "name": "stdout",
     "output_type": "stream",
     "text": [
      "[1, 2, 3, 4, 5]\n",
      "[1, 2, 3, 4, 5, 6]\n",
      "[5, 1, 2, 3, 4, 5, 6]\n",
      "[5, 1, 2, 3, 4, 5, 6, 7]\n"
     ]
    }
   ],
   "source": [
    "#리스트 확장\n",
    "h = [1,2,3]\n",
    "h. extend([4,5])\n",
    "print(h)\n",
    "h. append(6)\n",
    "print(h)\n",
    "h. insert(0,5)\n",
    "print(h)\n",
    "h. insert(7,7)\n",
    "print(h)\n"
   ]
  },
  {
   "cell_type": "code",
   "execution_count": 153,
   "id": "f913277b",
   "metadata": {},
   "outputs": [
    {
     "data": {
      "text/plain": [
       "'b'"
      ]
     },
     "execution_count": 153,
     "metadata": {},
     "output_type": "execute_result"
    }
   ],
   "source": [
    "#튜플\n",
    "tuple1 = (1,2,3,4,5)\n",
    "tuple2 = ('a','b''c')\n",
    "tuple3 = (1,'a','abc',[1,2,3,4,5],['a','b','c'])\n",
    "\n",
    "tuple1[:]\n",
    "tuple3[2]\n",
    "tuple3[3][4]\n",
    "tuple3[4][1]"
   ]
  },
  {
   "cell_type": "code",
   "execution_count": 154,
   "id": "1587cbdf",
   "metadata": {},
   "outputs": [
    {
     "name": "stdout",
     "output_type": "stream",
     "text": [
      "[1, 2, 3, 4, 5]\n",
      "[6, 2, 3, 4, 5]\n"
     ]
    }
   ],
   "source": [
    "print(list1)\n",
    "list1[0] = 6\n",
    "print(list1)"
   ]
  },
  {
   "cell_type": "code",
   "execution_count": 155,
   "id": "c7f1718b",
   "metadata": {},
   "outputs": [
    {
     "ename": "TypeError",
     "evalue": "'tuple' object does not support item assignment",
     "output_type": "error",
     "traceback": [
      "\u001b[1;31m---------------------------------------------------------------------------\u001b[0m",
      "\u001b[1;31mTypeError\u001b[0m                                 Traceback (most recent call last)",
      "\u001b[1;32m~\\AppData\\Local\\Temp/ipykernel_2112/3731753504.py\u001b[0m in \u001b[0;36m<module>\u001b[1;34m\u001b[0m\n\u001b[0;32m      1\u001b[0m \u001b[1;31m#자료형 - Tuple\u001b[0m\u001b[1;33m\u001b[0m\u001b[1;33m\u001b[0m\u001b[1;33m\u001b[0m\u001b[0m\n\u001b[0;32m      2\u001b[0m \u001b[1;31m#튜플의 요소값은 변경할 수 없음 프로그램에서 그 값이 항상 변하지 않아야 되는 경우에 사용\u001b[0m\u001b[1;33m\u001b[0m\u001b[1;33m\u001b[0m\u001b[1;33m\u001b[0m\u001b[0m\n\u001b[1;32m----> 3\u001b[1;33m \u001b[0mtuple1\u001b[0m\u001b[1;33m[\u001b[0m\u001b[1;36m0\u001b[0m\u001b[1;33m]\u001b[0m \u001b[1;33m=\u001b[0m\u001b[1;36m6\u001b[0m\u001b[1;33m\u001b[0m\u001b[1;33m\u001b[0m\u001b[0m\n\u001b[0m\u001b[0;32m      4\u001b[0m \u001b[0mprint\u001b[0m\u001b[1;33m(\u001b[0m\u001b[0mtuple1\u001b[0m\u001b[1;33m)\u001b[0m\u001b[1;33m\u001b[0m\u001b[1;33m\u001b[0m\u001b[0m\n",
      "\u001b[1;31mTypeError\u001b[0m: 'tuple' object does not support item assignment"
     ]
    }
   ],
   "source": [
    "#자료형 - Tuple\n",
    "#튜플의 요소값은 변경할 수 없음 프로그램에서 그 값이 항상 변하지 않아야 되는 경우에 사용\n",
    "tuple1[0] =6\n",
    "print(tuple1)"
   ]
  },
  {
   "cell_type": "code",
   "execution_count": 156,
   "id": "41a22a96",
   "metadata": {},
   "outputs": [
    {
     "name": "stdout",
     "output_type": "stream",
     "text": [
      "(1,)\n",
      "(1, 2, 3)\n",
      "(1, 2, 3, 1, 2, 3, 1, 2, 3)\n",
      "(1, 1, 2, 3)\n",
      "1\n"
     ]
    },
    {
     "data": {
      "text/plain": [
       "int"
      ]
     },
     "execution_count": 156,
     "metadata": {},
     "output_type": "execute_result"
    }
   ],
   "source": [
    "t1 = (1,) # 1개의 요소만 가질 때는 요소 뒤에 콤마를 붙여야 함\n",
    "print(t1)\n",
    "t2 = 1,2,3\n",
    "print(t2)\n",
    "print(t2 * 3)\n",
    "t3 = t1 + t2\n",
    "print(t3)\n",
    "t4 = (1)\n",
    "print(t4)\n",
    "type(t4)"
   ]
  },
  {
   "cell_type": "code",
   "execution_count": 163,
   "id": "9688446b",
   "metadata": {},
   "outputs": [
    {
     "name": "stdout",
     "output_type": "stream",
     "text": [
      "1\n",
      "{'a': 1, 'b': 5, 'c': 3}\n"
     ]
    }
   ],
   "source": [
    "#자료형 - 시전(키와 값을 하나의 요소로 하는 순서가 없는 집합) 중괄호로 처리한다\n",
    "d1 = {'a':1, 'b':2, 'c':3}\n",
    "print(d1['a'])\n",
    "d1['b'] = 5\n",
    "print(d1)"
   ]
  },
  {
   "cell_type": "code",
   "execution_count": 164,
   "id": "09a25cb7",
   "metadata": {},
   "outputs": [
    {
     "name": "stdout",
     "output_type": "stream",
     "text": [
      "dict_keys(['a', 'b', 'c'])\n",
      "dict_values([1, 5, 3])\n",
      "dict_items([('a', 1), ('b', 5), ('c', 3)])\n"
     ]
    }
   ],
   "source": [
    "print(d1 .keys())\n",
    "print(d1 .values())\n",
    "print(d1 .items())"
   ]
  },
  {
   "cell_type": "code",
   "execution_count": 166,
   "id": "2fa62a8b",
   "metadata": {},
   "outputs": [
    {
     "name": "stdout",
     "output_type": "stream",
     "text": [
      "6\n",
      "{'p': 5, 'q': 6, 'r': 10, 's': 8}\n"
     ]
    }
   ],
   "source": [
    "추가 연습\n",
    "p1 = {'p':5,'q':6,'r':7,'s':8}\n",
    "print(p1['q'])\n",
    "p1['r'] = 10\n",
    "print(p1)"
   ]
  },
  {
   "cell_type": "code",
   "execution_count": 169,
   "id": "34f6b8c6",
   "metadata": {},
   "outputs": [
    {
     "ename": "NameError",
     "evalue": "name 'keys' is not defined",
     "output_type": "error",
     "traceback": [
      "\u001b[1;31m---------------------------------------------------------------------------\u001b[0m",
      "\u001b[1;31mNameError\u001b[0m                                 Traceback (most recent call last)",
      "\u001b[1;32m~\\AppData\\Local\\Temp/ipykernel_2112/3726102451.py\u001b[0m in \u001b[0;36m<module>\u001b[1;34m\u001b[0m\n\u001b[1;32m----> 1\u001b[1;33m \u001b[0mprint\u001b[0m\u001b[1;33m(\u001b[0m\u001b[0mp1\u001b[0m \u001b[1;33m,\u001b[0m\u001b[0mkeys\u001b[0m\u001b[1;33m(\u001b[0m\u001b[1;33m)\u001b[0m\u001b[1;33m)\u001b[0m\u001b[1;33m\u001b[0m\u001b[1;33m\u001b[0m\u001b[0m\n\u001b[0m\u001b[0;32m      2\u001b[0m \u001b[0mprint\u001b[0m\u001b[1;33m(\u001b[0m\u001b[0mp1\u001b[0m \u001b[1;33m,\u001b[0m\u001b[0mvalues\u001b[0m\u001b[1;33m(\u001b[0m\u001b[1;33m)\u001b[0m\u001b[1;33m)\u001b[0m\u001b[1;33m\u001b[0m\u001b[1;33m\u001b[0m\u001b[0m\n\u001b[0;32m      3\u001b[0m \u001b[0mprint\u001b[0m\u001b[1;33m(\u001b[0m\u001b[0mp1\u001b[0m \u001b[1;33m,\u001b[0m\u001b[0mitems\u001b[0m\u001b[1;33m(\u001b[0m\u001b[1;33m)\u001b[0m\u001b[1;33m)\u001b[0m\u001b[1;33m\u001b[0m\u001b[1;33m\u001b[0m\u001b[0m\n",
      "\u001b[1;31mNameError\u001b[0m: name 'keys' is not defined"
     ]
    }
   ],
   "source": [
    "print(p1 ,keys())\n",
    "print(p1 ,values())\n",
    "print(p1 ,items())"
   ]
  },
  {
   "cell_type": "code",
   "execution_count": 165,
   "id": "0c7f5998",
   "metadata": {},
   "outputs": [
    {
     "name": "stdout",
     "output_type": "stream",
     "text": [
      "{1, 2, 3, 4, 5}\n",
      "{'e', 'l', '0', 'H'}\n"
     ]
    }
   ],
   "source": [
    "# 자료형 - 집합, set(중복을 허용하지 않으며 순서가 없다.)\n",
    "s1 = set([1,2,3,4,5])\n",
    "s2 = set('Hell0')\n",
    "print(s1)\n",
    "print(s2)"
   ]
  },
  {
   "cell_type": "code",
   "execution_count": 170,
   "id": "44d307fd",
   "metadata": {},
   "outputs": [
    {
     "name": "stdout",
     "output_type": "stream",
     "text": [
      "2\n",
      "l\n"
     ]
    }
   ],
   "source": [
    "# 집합은 인덱시으로 값을 얻을 수 없으며 필요시 리스트나 튜플로 변환 후 인덱싱\n",
    "l1 = list(s1)\n",
    "print(l1[1])\n",
    "l2 = list(s2)\n",
    "print(l2[1])"
   ]
  },
  {
   "cell_type": "code",
   "execution_count": 176,
   "id": "5aec9abe",
   "metadata": {},
   "outputs": [
    {
     "name": "stdout",
     "output_type": "stream",
     "text": [
      "[1, 2, 3, 4, 5, 6]\n",
      "[1, 2, 3, 4, 5, 6]\n",
      "(1, 2, 3, 4, 5, 6)\n",
      "(1, 2, 3, 4, 5, 6)\n"
     ]
    }
   ],
   "source": [
    "# Q, s1, s2의 합집합과 교집합을 각각 리시트와 튜플로 출력하세요\n",
    "# 합집합(s1/s2), 교집합(s1 & s2)\n",
    "s1 = set([1,2,3,4,5,6])\n",
    "s2 = set([1,2,3,4,5,6])\n",
    "\n",
    "print(list(s1|s2))\n",
    "print(list(s1&s2))\n",
    "print(tuple(s1|s2))\n",
    "print(tuple(s1&s2))\n",
    "\n"
   ]
  },
  {
   "cell_type": "code",
   "execution_count": 181,
   "id": "3717e996",
   "metadata": {},
   "outputs": [
    {
     "ename": "SyntaxError",
     "evalue": "invalid syntax (Temp/ipykernel_2112/2741407075.py, line 3)",
     "output_type": "error",
     "traceback": [
      "\u001b[1;36m  File \u001b[1;32m\"C:\\Users\\admin\\AppData\\Local\\Temp/ipykernel_2112/2741407075.py\"\u001b[1;36m, line \u001b[1;32m3\u001b[0m\n\u001b[1;33m    lf 'a' in li:\u001b[0m\n\u001b[1;37m         ^\u001b[0m\n\u001b[1;31mSyntaxError\u001b[0m\u001b[1;31m:\u001b[0m invalid syntax\n"
     ]
    }
   ],
   "source": [
    "# 들여쓰기\n",
    "li = ['a','b','c']\n",
    "lf 'a' in li:\n",
    "    print('a가 li에 있습니다.')\n",
    "else:\n",
    "    print('a가 li에 없습니다.')\n",
    "\n"
   ]
  },
  {
   "cell_type": "code",
   "execution_count": 180,
   "id": "aa6321c7",
   "metadata": {},
   "outputs": [
    {
     "data": {
      "text/plain": [
       "' 나의 이름은 김귀동입니다. 나이는20입니다.'"
      ]
     },
     "execution_count": 180,
     "metadata": {},
     "output_type": "execute_result"
    }
   ],
   "source": [
    "#문자열 포멧\n",
    "name = '김귀동'\n",
    "age = 20\n",
    "f' 나의 이름은 {name}입니다. 나이는{age}입니다.'"
   ]
  },
  {
   "cell_type": "code",
   "execution_count": 188,
   "id": "3394c1a7",
   "metadata": {},
   "outputs": [
    {
     "data": {
      "text/plain": [
       "'나의 이름은 홍길동입니다. 나이는 30입니다.'"
      ]
     },
     "execution_count": 188,
     "metadata": {},
     "output_type": "execute_result"
    }
   ],
   "source": [
    "d = {'name':'홍길동', 'age':30}\n",
    "f'나의 이름은 {d[\"name\"]}입니다. 나이는 {d[\"age\"]}입니다.'"
   ]
  },
  {
   "cell_type": "code",
   "execution_count": 189,
   "id": "363750bb",
   "metadata": {},
   "outputs": [
    {
     "ename": "ValueError",
     "evalue": "Invalid format specifier",
     "output_type": "error",
     "traceback": [
      "\u001b[1;31m---------------------------------------------------------------------------\u001b[0m",
      "\u001b[1;31mValueError\u001b[0m                                Traceback (most recent call last)",
      "\u001b[1;32m~\\AppData\\Local\\Temp/ipykernel_2112/3252426835.py\u001b[0m in \u001b[0;36m<module>\u001b[1;34m\u001b[0m\n\u001b[0;32m      1\u001b[0m \u001b[0my\u001b[0m \u001b[1;33m=\u001b[0m \u001b[1;36m3.42134234\u001b[0m\u001b[1;33m\u001b[0m\u001b[1;33m\u001b[0m\u001b[0m\n\u001b[0;32m      2\u001b[0m \u001b[1;34mf'{y:0.4f}'\u001b[0m \u001b[1;31m#소수점 4자리까지 표현하고 총 자리수를 10으로 맞춤\u001b[0m\u001b[1;33m\u001b[0m\u001b[1;33m\u001b[0m\u001b[0m\n\u001b[1;32m----> 3\u001b[1;33m \u001b[1;34mf'{y:10,4f}'\u001b[0m\u001b[1;33m\u001b[0m\u001b[1;33m\u001b[0m\u001b[0m\n\u001b[0m",
      "\u001b[1;31mValueError\u001b[0m: Invalid format specifier"
     ]
    }
   ],
   "source": [
    "y = 3.42134234\n",
    "f'{y:0.4f}' #소수점 4자리까지 표현하고 총 자리수를 10으로 맞춤\n",
    "f'{y:10,4f}'"
   ]
  },
  {
   "cell_type": "code",
   "execution_count": 192,
   "id": "9d843233",
   "metadata": {},
   "outputs": [
    {
     "name": "stdout",
     "output_type": "stream",
     "text": [
      "홍길동선수가 1등입니다.\n",
      "홍길동 선수가 1등입니다.\n"
     ]
    }
   ],
   "source": [
    "#포멧함수\n",
    "f1 = \"{}선수가 {}등입니다.\".format('홍길동',1)\n",
    "# f1 = \"{1} 선수가 {0}등입니다.\" format(1,'홍길동')\n",
    "print(f1)\n",
    "print(\"%s 선수가 %d등입니다.\" %(\"홍길동\",1))"
   ]
  },
  {
   "cell_type": "code",
   "execution_count": 79,
   "id": "61897f0a",
   "metadata": {},
   "outputs": [
    {
     "name": "stdout",
     "output_type": "stream",
     "text": [
      "파이썬은 자바보다 2배 쉽습니다.\n",
      "파이썬은 자바보다 2배 쉽습니다.\n"
     ]
    }
   ],
   "source": [
    "f2 = \"{}은 {}보다 {}배 쉽습니다.\".format('파이썬', '자바', 2)\n",
    "print(f2)\n",
    "print(\"%s은 %s보다 %d배 쉽습니다.\" %('파이썬', '자바', 2))\n"
   ]
  },
  {
   "cell_type": "code",
   "execution_count": 211,
   "id": "9e190244",
   "metadata": {},
   "outputs": [
    {
     "ename": "SyntaxError",
     "evalue": "invalid syntax (Temp/ipykernel_2112/1269838476.py, line 1)",
     "output_type": "error",
     "traceback": [
      "\u001b[1;36m  File \u001b[1;32m\"C:\\Users\\admin\\AppData\\Local\\Temp/ipykernel_2112/1269838476.py\"\u001b[1;36m, line \u001b[1;32m1\u001b[0m\n\u001b[1;33m    과제: 아래와 같이 출력하세요.\u001b[0m\n\u001b[1;37m             ^\u001b[0m\n\u001b[1;31mSyntaxError\u001b[0m\u001b[1;31m:\u001b[0m invalid syntax\n"
     ]
    }
   ],
   "source": [
    "과제: 아래와 같이 출력하세요.\n",
    "    12345\n",
    "         12345\n",
    "    12.3456789\n",
    "               12.346  \n",
    "    \n",
    "    "
   ]
  },
  {
   "cell_type": "code",
   "execution_count": 235,
   "id": "6f72059f",
   "metadata": {},
   "outputs": [
    {
     "name": "stdout",
     "output_type": "stream",
     "text": [
      "12345\n"
     ]
    },
    {
     "data": {
      "text/plain": [
       "'    12345'"
      ]
     },
     "execution_count": 235,
     "metadata": {},
     "output_type": "execute_result"
    }
   ],
   "source": [
    "x = 12345\n",
    "print(x)\n",
    "f'{x:9.0f}'\n"
   ]
  },
  {
   "cell_type": "code",
   "execution_count": 240,
   "id": "4c31e318",
   "metadata": {},
   "outputs": [
    {
     "name": "stdout",
     "output_type": "stream",
     "text": [
      "현상 유지\n"
     ]
    }
   ],
   "source": [
    "# 제어문 - if~elif~else\n",
    "# \"수입과 지출금액을 비교해서 수입이 많으면 저축 증가, 반대이면 빛이증가, 같으면 현상유지\"\n",
    "i = 5,000,000\n",
    "e = 5,000,000\n",
    "\n",
    "if i>e:\n",
    "    print('저축 증가')\n",
    "elif i<e:\n",
    "    print('빛이 증가')\n",
    "else:\n",
    "    print('현상 유지')"
   ]
  },
  {
   "cell_type": "code",
   "execution_count": 242,
   "id": "535cb622",
   "metadata": {},
   "outputs": [
    {
     "name": "stdout",
     "output_type": "stream",
     "text": [
      "5 15 6 20 7 25 "
     ]
    }
   ],
   "source": [
    "# for 반복문\n",
    "numbers = [5,15,6,20,7,25]\n",
    "for number in numbers:\n",
    "    print(number,end=' ')\n",
    "    \n"
   ]
  },
  {
   "cell_type": "code",
   "execution_count": 6,
   "id": "516b072f",
   "metadata": {},
   "outputs": [
    {
     "name": "stdout",
     "output_type": "stream",
     "text": [
      "1 2 3 4 5 "
     ]
    }
   ],
   "source": [
    "# for ~ continue ~ break\n",
    "# 1~10 법위의 정수에서 부터 5까지만 출력하세요\n",
    "for i in range(1,11):\n",
    "    print(i,end=' ')\n",
    "    if i < 5:\n",
    "        continue\n",
    "    else:\n",
    "        break"
   ]
  },
  {
   "cell_type": "code",
   "execution_count": 21,
   "id": "aafc2eaf",
   "metadata": {},
   "outputs": [
    {
     "name": "stdout",
     "output_type": "stream",
     "text": [
      "15 20 25 "
     ]
    }
   ],
   "source": [
    "#numbers 리스트에서 15,20,25를 출력하세요 (for 문과 if 조건 사용 필수)\n",
    "numbers = [5,15,6,20,7,25]\n",
    "for number in numbers:\n",
    "    if number > 10:\n",
    "        print(number,end=' ')\n",
    "    else: \n",
    "        continue"
   ]
  },
  {
   "cell_type": "code",
   "execution_count": 23,
   "id": "5d2a6b87",
   "metadata": {},
   "outputs": [
    {
     "name": "stdout",
     "output_type": "stream",
     "text": [
      "45\n",
      "1035\n"
     ]
    }
   ],
   "source": [
    "#while  (무한 반복이므로 break로 끊어준다)\n",
    "# 정수 1부터 n까지 더할 때 그 합이 1000보다 커지게 되는 n과 합을 구하세요\n",
    "\n",
    "x = 1\n",
    "sum = 0\n",
    "while 1:\n",
    "    sum = sum + x\n",
    "    if sum > 1000:\n",
    "       print(x)  \n",
    "       print(sum)\n",
    "       break\n",
    "    x = x + 1\n",
    "        \n",
    "        "
   ]
  },
  {
   "cell_type": "code",
   "execution_count": 52,
   "id": "0833530c",
   "metadata": {},
   "outputs": [
    {
     "name": "stdout",
     "output_type": "stream",
     "text": [
      "0\n"
     ]
    }
   ],
   "source": [
    "#while문을 사용해 1부터 1000까지의 정수중 3의 배수의 합을 구해보세요\n",
    "\n",
    "i=0\n",
    "sum=0\n",
    "\n",
    "while i < 1000:\n",
    "    i+=1\n",
    "    if 1%3==0:\n",
    "        sum = sum+i\n",
    "\n",
    "print(sum)"
   ]
  },
  {
   "cell_type": "code",
   "execution_count": 16,
   "id": "da12a180",
   "metadata": {},
   "outputs": [
    {
     "name": "stdout",
     "output_type": "stream",
     "text": [
      "4550\n"
     ]
    }
   ],
   "source": [
    "#[과제] 1부터 100까지의 정수중 5에서 95까지의 합을 구하세요\n",
    "\n",
    "i=0\n",
    "sum=0\n",
    "i= 5\n",
    "while i <= 95:\n",
    "        sum=sum+i\n",
    "        i=i+1\n",
    "\n",
    "print(sum)    "
   ]
  },
  {
   "cell_type": "code",
   "execution_count": 27,
   "id": "6d4a0f7d",
   "metadata": {},
   "outputs": [
    {
     "name": "stdout",
     "output_type": "stream",
     "text": [
      "15\n",
      "30\n",
      "45\n",
      "60\n",
      "75\n",
      "90\n",
      "105\n",
      "120\n",
      "135\n",
      "150\n",
      "165\n",
      "180\n",
      "195\n",
      "210\n",
      "225\n",
      "240\n",
      "255\n",
      "270\n",
      "285\n",
      "300\n",
      "315\n",
      "330\n",
      "345\n",
      "360\n",
      "375\n",
      "390\n",
      "405\n",
      "420\n",
      "435\n",
      "450\n",
      "465\n",
      "480\n",
      "495\n",
      "510\n",
      "525\n",
      "540\n",
      "555\n",
      "570\n",
      "585\n",
      "600\n",
      "615\n",
      "630\n",
      "645\n",
      "660\n",
      "675\n",
      "690\n",
      "705\n",
      "720\n",
      "735\n",
      "750\n",
      "765\n",
      "780\n",
      "795\n",
      "810\n",
      "825\n",
      "840\n",
      "855\n",
      "870\n",
      "885\n",
      "900\n",
      "915\n",
      "930\n",
      "945\n",
      "960\n",
      "975\n",
      "990\n",
      "33165\n"
     ]
    }
   ],
   "source": [
    "#{과제] while문을 사용하여 1부터 1000까지의 정수중 3과 5의 공배수의 합을 구해 보세요.\n",
    "sum=0 \n",
    "i = 0\n",
    "while i <=1000:\n",
    "       i = i + 1\n",
    "       if(i %3!=0) or (i % 5!=0):\n",
    "          continue\n",
    "       print(i)\n",
    "       sum+=i\n",
    "\n",
    "print(sum)"
   ]
  },
  {
   "cell_type": "code",
   "execution_count": 55,
   "id": "a01d1fda",
   "metadata": {},
   "outputs": [
    {
     "name": "stdout",
     "output_type": "stream",
     "text": [
      "숫자를 입력하세요1\n",
      "숫자를 입력하세요2\n",
      "숫자를 입력하세요3\n",
      "숫자를 입력하세요4\n",
      "숫자를 입력하세요5\n",
      "12345\n"
     ]
    }
   ],
   "source": [
    "#과제 1부터 5까지 입력해서 12345를 출력하세요\n",
    "num1 = input('숫자를 입력하세요')\n",
    "num2 = input('숫자를 입력하세요')\n",
    "num3 = input('숫자를 입력하세요')\n",
    "num4 = input('숫자를 입력하세요')\n",
    "num5 = input('숫자를 입력하세요')\n",
    "print(num1 + num2 + num3 + num4 + num5)"
   ]
  },
  {
   "cell_type": "code",
   "execution_count": 65,
   "id": "bb194d9b",
   "metadata": {},
   "outputs": [
    {
     "name": "stdout",
     "output_type": "stream",
     "text": [
      "[0, 1, 2, 3, 4, 5, 6, 7, 8, 'b', 'c']\n"
     ]
    }
   ],
   "source": [
    "#과제 0,1,2,3,4,5,6,7,8,9,'a','b','c'에서 9와 'a'를 삭제후 리스트로 출력하세요\n",
    "a = [0,1,2,3,4,5,6,7,8,9,'a','b','c']\n",
    "\n",
    "del a[10]\n",
    "del a[9]\n",
    "print(a)"
   ]
  },
  {
   "cell_type": "code",
   "execution_count": 61,
   "id": "a4732cd8",
   "metadata": {},
   "outputs": [
    {
     "name": "stdout",
     "output_type": "stream",
     "text": [
      "[0, 1, 2, 3, 4, 5, 6, 7, 8, 'b']\n"
     ]
    }
   ],
   "source": [
    "#과제 0,1,2,3,4,5,6,7,8,'b','c'에서 c를 삭제후 출력하세요.\n",
    "a = [0,1,2,3,4,5,6,7,8,'b','c']\n",
    "\n",
    "del a[10]\n",
    "print(a)"
   ]
  },
  {
   "cell_type": "code",
   "execution_count": 166,
   "id": "ad3be150",
   "metadata": {},
   "outputs": [
    {
     "name": "stdout",
     "output_type": "stream",
     "text": [
      "[9, 9, 8, 8, 5, 4, 4, 4, 3, 1]\n"
     ]
    }
   ],
   "source": [
    "#과제 4,8,5,4,8,4,3,9,1,9,를 내림차순으로 정렬하세요\n",
    "a = [4,8,5,4,8,4,3,9,1,9]\n",
    "a= sorted(a, reverse=True)\n",
    "print(a)"
   ]
  },
  {
   "cell_type": "code",
   "execution_count": 4,
   "id": "986397f7",
   "metadata": {},
   "outputs": [
    {
     "name": "stdout",
     "output_type": "stream",
     "text": [
      "2021년 12월 29일 22시 46분 59초\n"
     ]
    }
   ],
   "source": [
    "#format 함수를 이용해서 다음과 같은 형식으로 현재 날짜/시간을 출력하세요\n",
    "#2021년 12월 29일 15시 47분 30초 \n",
    "\n",
    "import datetime \n",
    "\n",
    "d=datetime.datetime.now()\n",
    "year= d.year\n",
    "month = d.month\n",
    "day = d.day\n",
    "hour = d.hour\n",
    "minute = d.minute\n",
    "second = d.second\n",
    "\n",
    "\n",
    "print(f'{year}년 {month}월 {day}일 {hour}시 {minute}분 {second}초')\n"
   ]
  },
  {
   "cell_type": "code",
   "execution_count": 23,
   "id": "afc8aedc",
   "metadata": {},
   "outputs": [],
   "source": [
    "#과제 현재 시각을 오전과 오후로 구분하는 프로그램을 작성하세요\n",
    "from datetime import datetime\n",
    "\n",
    "now = datetime.now()\n",
    "ampm = now.strftime('%p')\n",
    "ampm_kr = '오전' if ampm == 'AM' else '오후'"
   ]
  },
  {
   "cell_type": "code",
   "execution_count": 1,
   "id": "758f7156",
   "metadata": {},
   "outputs": [
    {
     "name": "stdout",
     "output_type": "stream",
     "text": [
      "number8\n",
      "입력한 숫자 8은 짝수입니다\n"
     ]
    }
   ],
   "source": [
    "#정수를 입력하면 홀수,짝수를 판별하는 프로그램 작성\n",
    "num=input('number')\n",
    "if int(num)%2==0:\n",
    "    print(f'입력한 숫자 {num}은 짝수입니다')\n",
    "else: \n",
    "    print(f'입력한 숫자 {num}은 홀수입니다.')"
   ]
  },
  {
   "cell_type": "code",
   "execution_count": 3,
   "id": "bee344a0",
   "metadata": {
    "scrolled": true
   },
   "outputs": [
    {
     "name": "stdout",
     "output_type": "stream",
     "text": [
      "태어난 해는? 1961\n",
      "소 띠\n"
     ]
    }
   ],
   "source": [
    "#과제 태어난 연도를 입력받아 띠를 출력하는 프로그램을 작성하세요\n",
    "#원숭이, 닭,개,돼지, 쥐,소,범,토끼 용,뱀,말,양띠\n",
    "\n",
    "year_input = int(input(\"태어난 해는? \"))\n",
    "birth_year =year_input%12\n",
    "\n",
    "if birth_year==0:\n",
    "    print(\"원숭이 띠\")\n",
    "elif birth_year==1:\n",
    "    print(\"닭 띠\")\n",
    "elif birth_year==2:\n",
    "    print(\"개 띠\")\n",
    "elif birth_year==3:\n",
    "    print(\"돼지 띠\")\n",
    "elif birth_year==4:\n",
    "    print(\"쥐 띠\")\n",
    "elif birth_year==5:\n",
    "    print(\"소 띠\")\n",
    "elif birth_year==6:\n",
    "    print(\"범 띠\")\n",
    "elif birth_year==7:\n",
    "    print(\"토끼 띠\")\n",
    "elif birth_year==8:\n",
    "    print(\"용 띠\")\n",
    "elif birth_year==9:\n",
    "    print(\"뱀 띠\")\n",
    "elif birth_year==10:\n",
    "    print(\"말 띠\")\n",
    "else:\n",
    "    print(\"양 띠\")"
   ]
  },
  {
   "cell_type": "code",
   "execution_count": 24,
   "id": "eba05a97",
   "metadata": {},
   "outputs": [
    {
     "name": "stdout",
     "output_type": "stream",
     "text": [
      "겨울\n"
     ]
    }
   ],
   "source": [
    "\n",
    " #계절구분프로그램\n",
    "#각 계절별 출력 멘트는 계절에 맞게 창작\n",
    " #조건문으로 datetime모듈을 import해서 datetime.now함수를 사용해서 작성\n",
    "import datetime\n",
    " t = datetime.datetime.now()\n",
    "mon =t.month\n",
    "\n",
    "if mon>=3 and mon<=5:\n",
    "    print('봄')\n",
    "elif mon>6 and mon<=8:\n",
    "    print('여름')\n",
    "elif mon>=9 and mon<=11:\n",
    "    print('가을')\n",
    "else:\n",
    "    print('겨울')\n",
    "   "
   ]
  },
  {
   "cell_type": "code",
   "execution_count": 129,
   "id": "c56cd868",
   "metadata": {},
   "outputs": [
    {
     "name": "stdout",
     "output_type": "stream",
     "text": [
      "32\n",
      "25\n"
     ]
    }
   ],
   "source": [
    "#람다 함수를 이용해서 a의 b제곱을 구하는 식으로 만들고\n",
    "#a,b가 아래와 같이 주어졌을 때 각각의 값을  구하세요\n",
    "# a = 2, b = 5\n",
    "# a = 5, b = 2\n",
    "\n",
    "#print((lambda x: a**b)(x))\n",
    "\n",
    "print((lambda x: 2**5)(x))\n",
    "print((lambda x: 5**2)(x))\n"
   ]
  },
  {
   "cell_type": "code",
   "execution_count": null,
   "id": "83b68e6c",
   "metadata": {},
   "outputs": [],
   "source": [
    "#[[과제] 커피 자판기 프로그램\n",
    "\n",
    "#시나리오 : 자판기 커피 재고 5잔, 커피 1잔 가격 300원, 재고 범위내에서 300원 이상 돈을 넣으면 거스름돈과 커피를 주고 그렇지 않으면 반환하며 재고가 소진되면 안내멘트 출력\n",
    "#각 Case별 멘트 출력은 상황에 맞게 창작\n",
    "#while, if ~ elif ~ else 제어문을 사용하여 작성\n",
    "\n",
    "cost=300; stock=5\n",
    "\n",
    "while 1:\n",
    "    if stock>0:\n",
    "         buy=input('구매를 원하는 수량을 입력하세요: ')\n",
    "    if int(buy)>stock:\n",
    "        print(f'재고가 부족합니다. 남은 수량:{stock}')\n",
    "        \n",
    "    elif int(buy)<=stock:\n",
    "        print(f'구매 수량은 {buy}잔, 금액은 {int(buy)*cost}원 입니다.')\n",
    "        in_cost=input('금액을 투입하여 주세요. 투입한 금액: ')\n",
    "        if int(in_cost)==int(buy)*300:\n",
    "            print('커피 나왔습니다. 감사합니다.')\n",
    "            stock=stock-int(buy)\n",
    "            if stock==0:\n",
    "                print(\"재고가 모두 소진되었습니다. 판매를 중지합니다.\")\n",
    "                break\n",
    "        elif int(in_cost)<int(buy)*300:\n",
    "            print(f'금액이 부족합니다. 투입된 금액 : {in_cost}원, 부족한 금액:{int(buy)*300-int(in_cost)}')\n",
    "            print('투입한 금액을 반환합니다.')\n",
    "            continue\n",
    "        else:\n",
    "            print(f'투입한 금액은 {in_cost}원, 거스름돈은 {int(in_cost)-int(buy)*300}원 입니다.')\n",
    "            print('커피와 거스름돈을 챙겨주세요. 감사합니다.')\n",
    "            stock=stock-int(buy)\n",
    "         \n",
    "    \n"
   ]
  },
  {
   "cell_type": "code",
   "execution_count": 246,
   "id": "0c6c1312",
   "metadata": {},
   "outputs": [
    {
     "name": "stdout",
     "output_type": "stream",
     "text": [
      "2\n",
      "1\n"
     ]
    }
   ],
   "source": [
    "#5를 2로 나누었을때의 몫과 나머지를 구하세요\n",
    "a=5\n",
    "b=2\n",
    "print(a // b)   \n",
    "print(a % b)"
   ]
  },
  {
   "cell_type": "code",
   "execution_count": 248,
   "id": "2601d063",
   "metadata": {},
   "outputs": [
    {
     "name": "stdout",
     "output_type": "stream",
     "text": [
      "1030301\n"
     ]
    }
   ],
   "source": [
    "#101의 3승을 구하세요\n",
    "print(101**3)"
   ]
  },
  {
   "cell_type": "code",
   "execution_count": 254,
   "id": "bfd43f29",
   "metadata": {},
   "outputs": [
    {
     "name": "stdout",
     "output_type": "stream",
     "text": [
      "python3.8.3\n"
     ]
    }
   ],
   "source": [
    "# python과 3.8.3을 합쳐서 python 3.8.3으로 출력하세요\n",
    "a ='python'\n",
    "b ='3.8.3'\n",
    "print(a+b)"
   ]
  },
  {
   "cell_type": "code",
   "execution_count": 255,
   "id": "27526109",
   "metadata": {},
   "outputs": [
    {
     "data": {
      "text/plain": [
       "int"
      ]
     },
     "execution_count": 255,
     "metadata": {},
     "output_type": "execute_result"
    }
   ],
   "source": [
    "# a=5 a= '10' a= 15일때 a의 자료형은 무엇인가?\n",
    "a = 5; a = '10'; a =15\n",
    "type(a)\n"
   ]
  },
  {
   "cell_type": "code",
   "execution_count": null,
   "id": "51c0d914",
   "metadata": {},
   "outputs": [],
   "source": [
    "#5의 3승을 3으로 나누었을때의 나머지를 복합 대입 연산자를 이용해서 구하시요\n",
    "a=5**3\n",
    "a%=3\n",
    "print(a)\n",
    "\n"
   ]
  },
  {
   "cell_type": "code",
   "execution_count": 1,
   "id": "89fdd434",
   "metadata": {},
   "outputs": [
    {
     "name": "stdout",
     "output_type": "stream",
     "text": [
      "성함을 입력해주세요: 마경수\n"
     ]
    },
    {
     "data": {
      "text/plain": [
       "'마경수입니다.'"
      ]
     },
     "execution_count": 1,
     "metadata": {},
     "output_type": "execute_result"
    }
   ],
   "source": [
    "#이름을 물어보고 답하는 내용을 출력하세요\n",
    "name = input(\"성함을 입력해주세요: \")\n",
    "f'{name}입니다.'\n"
   ]
  },
  {
   "cell_type": "code",
   "execution_count": 5,
   "id": "92c19873",
   "metadata": {},
   "outputs": [
    {
     "name": "stdout",
     "output_type": "stream",
     "text": [
      "첫 번째 숫자를 입력해 주세요.3\n",
      "두 번째 숫자를 입력해 주세요.4\n",
      "세 번째 숫자를 입력해 주세요.5\n",
      "16\n"
     ]
    }
   ],
   "source": [
    "\n",
    "# 숫자 3개를 입력해서 첫번째 숫자를 두번째 숫자 승한 뒤에 세번째 숫자로 나누었을 때 \n",
    "# 몫을 구하세요.\n",
    "a = int(input('첫 번째 숫자를 입력해 주세요.'))\n",
    "b = int(input('두 번째 숫자를 입력해 주세요.'))\n",
    "c = int(input('세 번째 숫자를 입력해 주세요.'))\n",
    "d = (a**b)//c\n",
    "\n",
    "print(d)\n",
    "      "
   ]
  }
 ],
 "metadata": {
  "kernelspec": {
   "display_name": "Python 3 (ipykernel)",
   "language": "python",
   "name": "python3"
  },
  "language_info": {
   "codemirror_mode": {
    "name": "ipython",
    "version": 3
   },
   "file_extension": ".py",
   "mimetype": "text/x-python",
   "name": "python",
   "nbconvert_exporter": "python",
   "pygments_lexer": "ipython3",
   "version": "3.9.7"
  }
 },
 "nbformat": 4,
 "nbformat_minor": 5
}
