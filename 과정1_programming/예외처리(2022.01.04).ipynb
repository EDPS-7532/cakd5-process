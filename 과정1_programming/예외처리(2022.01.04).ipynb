{
 "cells": [
  {
   "cell_type": "code",
   "execution_count": 2,
   "id": "02f83a47",
   "metadata": {},
   "outputs": [
    {
     "name": "stdout",
     "output_type": "stream",
     "text": [
      "구문오류!\n"
     ]
    }
   ],
   "source": [
    "# 구문 오류 : 프로그램 실행전에 발생하는 오류\n",
    "# 예외 또는 런타임 오류 : 프로그램 실행중에 발생하는 오류\n",
    "\n",
    "print('구문오류!')   #구문오류"
   ]
  },
  {
   "cell_type": "code",
   "execution_count": 2,
   "id": "a2e98b71",
   "metadata": {},
   "outputs": [
    {
     "name": "stdout",
     "output_type": "stream",
     "text": [
      "정수 입력> 가\n"
     ]
    },
    {
     "ename": "ValueError",
     "evalue": "invalid literal for int() with base 10: '가'",
     "output_type": "error",
     "traceback": [
      "\u001b[1;31m---------------------------------------------------------------------------\u001b[0m",
      "\u001b[1;31mValueError\u001b[0m                                Traceback (most recent call last)",
      "\u001b[1;32m~\\AppData\\Local\\Temp/ipykernel_2640/1516746136.py\u001b[0m in \u001b[0;36m<module>\u001b[1;34m\u001b[0m\n\u001b[0;32m      1\u001b[0m \u001b[1;31m# 정수를 입력하지 않을 경우 예외 발생(실행오류)\u001b[0m\u001b[1;33m\u001b[0m\u001b[1;33m\u001b[0m\u001b[0m\n\u001b[1;32m----> 2\u001b[1;33m \u001b[0mnum_input\u001b[0m \u001b[1;33m=\u001b[0m \u001b[0mint\u001b[0m\u001b[1;33m(\u001b[0m\u001b[0minput\u001b[0m\u001b[1;33m(\u001b[0m\u001b[1;34m'정수 입력> '\u001b[0m\u001b[1;33m)\u001b[0m\u001b[1;33m)\u001b[0m\u001b[1;33m\u001b[0m\u001b[1;33m\u001b[0m\u001b[0m\n\u001b[0m\u001b[0;32m      3\u001b[0m \u001b[0mprint\u001b[0m\u001b[1;33m(\u001b[0m\u001b[1;34m'원의 반지름: '\u001b[0m\u001b[1;33m,\u001b[0m \u001b[0mnum_input\u001b[0m\u001b[1;33m)\u001b[0m\u001b[1;33m\u001b[0m\u001b[1;33m\u001b[0m\u001b[0m\n",
      "\u001b[1;31mValueError\u001b[0m: invalid literal for int() with base 10: '가'"
     ]
    }
   ],
   "source": [
    "# 정수를 입력하지 않을 경우 예외 발생(실행오류)\n",
    "num_input = int(input('정수 입력> '))\n",
    "print('원의 반지름: ', num_input)"
   ]
  },
  {
   "cell_type": "code",
   "execution_count": 1,
   "id": "b7678877",
   "metadata": {},
   "outputs": [
    {
     "name": "stdout",
     "output_type": "stream",
     "text": [
      "정수입력10\n",
      "정수 : 10\n"
     ]
    }
   ],
   "source": [
    "# 조건문으로 예외 처리\n",
    "\n",
    "num_input = input('정수입력')\n",
    "if num_input.isdigit() == True:\n",
    "    print(\"정수 : {0}\".format(num_input))\n",
    "else:\n",
    "    print(\"오류\")      "
   ]
  },
  {
   "cell_type": "code",
   "execution_count": 5,
   "id": "fd32f64f",
   "metadata": {},
   "outputs": [
    {
     "name": "stdout",
     "output_type": "stream",
     "text": [
      "정수입력10\n",
      "정수맞음\n"
     ]
    }
   ],
   "source": [
    "num=int(input('정수입력'))\n",
    "if type(num)==int:\n",
    "    print(\"정수맞음\")\n",
    "else:\n",
    "    print(\"정수아님\")\n"
   ]
  },
  {
   "cell_type": "code",
   "execution_count": 3,
   "id": "5304412c",
   "metadata": {
    "scrolled": true
   },
   "outputs": [
    {
     "name": "stdout",
     "output_type": "stream",
     "text": [
      "안녕하세요\n"
     ]
    },
    {
     "ename": "NameError",
     "evalue": "name 'param1' is not defined",
     "output_type": "error",
     "traceback": [
      "\u001b[1;31m---------------------------------------------------------------------------\u001b[0m",
      "\u001b[1;31mNameError\u001b[0m                                 Traceback (most recent call last)",
      "\u001b[1;32m~\\AppData\\Local\\Temp/ipykernel_8388/360487619.py\u001b[0m in \u001b[0;36m<module>\u001b[1;34m\u001b[0m\n\u001b[0;32m      1\u001b[0m \u001b[1;31m#param =1\u001b[0m\u001b[1;33m\u001b[0m\u001b[1;33m\u001b[0m\u001b[1;33m\u001b[0m\u001b[0m\n\u001b[0;32m      2\u001b[0m \u001b[0mprint\u001b[0m\u001b[1;33m(\u001b[0m\u001b[1;34m'안녕하세요'\u001b[0m\u001b[1;33m)\u001b[0m\u001b[1;33m\u001b[0m\u001b[1;33m\u001b[0m\u001b[0m\n\u001b[1;32m----> 3\u001b[1;33m \u001b[0mprint\u001b[0m\u001b[1;33m(\u001b[0m\u001b[0mparam1\u001b[0m\u001b[1;33m)\u001b[0m\u001b[1;33m\u001b[0m\u001b[1;33m\u001b[0m\u001b[0m\n\u001b[0m",
      "\u001b[1;31mNameError\u001b[0m: name 'param1' is not defined"
     ]
    }
   ],
   "source": [
    "#param =1 \n",
    "print('안녕하세요')\n",
    "print(param1)\n"
   ]
  },
  {
   "cell_type": "code",
   "execution_count": 4,
   "id": "770df65c",
   "metadata": {},
   "outputs": [
    {
     "name": "stdout",
     "output_type": "stream",
     "text": [
      "안녕하세요\n",
      "예외가 발생했습니다.\n"
     ]
    }
   ],
   "source": [
    "try:\n",
    "    print('안녕하세요')\n",
    "    print(param1)\n",
    "except:\n",
    "    print('예외가 발생했습니다.')\n"
   ]
  },
  {
   "cell_type": "code",
   "execution_count": 7,
   "id": "f7669dae",
   "metadata": {},
   "outputs": [
    {
     "name": "stdout",
     "output_type": "stream",
     "text": [
      "안녕하세요\n",
      "예외가 발생했습니다.\n",
      "무조건 실행하는 코드\n"
     ]
    }
   ],
   "source": [
    "try:\n",
    "    print('안녕하세요')\n",
    "    print(param1)\n",
    "except:\n",
    "    print('예외가 발생했습니다.')\n",
    "finally:\n",
    "    print('무조건 실행하는 코드')"
   ]
  },
  {
   "cell_type": "code",
   "execution_count": 10,
   "id": "67abc6c4",
   "metadata": {},
   "outputs": [
    {
     "name": "stdout",
     "output_type": "stream",
     "text": [
      "name 'param2' is not defined\n"
     ]
    }
   ],
   "source": [
    "# 코드에서 예외 발생 내용을 확인하고자 하는 경우 처리 방법\n",
    "\n",
    "try:\n",
    "    print(param2)\n",
    "except Exception as e:\n",
    "    print(e)"
   ]
  },
  {
   "cell_type": "code",
   "execution_count": 12,
   "id": "d9ab8f83",
   "metadata": {},
   "outputs": [
    {
     "name": "stdout",
     "output_type": "stream",
     "text": [
      "1\n",
      "2\n",
      "3\n",
      "4\n",
      "5\n",
      "6\n",
      "7\n",
      "8\n",
      "9\n",
      "10\n",
      "11\n",
      "12\n",
      "13\n",
      "14\n",
      "15\n",
      "사용자에 의해 프로그램이 중단되었습니다.\n"
     ]
    }
   ],
   "source": [
    "import time\n",
    "count = 1\n",
    "try:\n",
    "    5\n",
    "    while True:\n",
    "        print(count)\n",
    "        count += 1\n",
    "        time.sleep(0.5)\n",
    "except KeyboardInterrupt:\n",
    "    print('사용자에 의해 프로그램이 중단되었습니다.')"
   ]
  },
  {
   "cell_type": "code",
   "execution_count": 3,
   "id": "63770290",
   "metadata": {},
   "outputs": [
    {
     "name": "stdout",
     "output_type": "stream",
     "text": [
      "['52', '273', '32', '103']\n"
     ]
    }
   ],
   "source": [
    "#Q. 리스트['52','273','32',\"문자\",'103'] 에서 숫자 부분만 출력하세요(예외처리 수행)\n",
    "list_input = ['52', '273','32','문자','103']\n",
    "list_num = []\n",
    "for i in list_input:    \n",
    "    try:\n",
    "        int(i)\n",
    "        list_num.append(i)\n",
    "        \n",
    "    except:\n",
    "        pass\n",
    "print(list_num)"
   ]
  },
  {
   "cell_type": "code",
   "execution_count": 18,
   "id": "56d1fee6",
   "metadata": {},
   "outputs": [
    {
     "name": "stdout",
     "output_type": "stream",
     "text": [
      "정수입력10\n",
      "정수입니다.\n"
     ]
    }
   ],
   "source": [
    "#. Q. 정수를 입력하면 '정수', 정수가 아니면 정수 아님을 출력하세요.\n",
    "try:\n",
    "    num=int(input('정수입력'))\n",
    "    int(num)\n",
    "    print('정수입니다.')\n",
    "except:\n",
    "    print:('정수가 아닙니다.')\n"
   ]
  },
  {
   "cell_type": "code",
   "execution_count": 19,
   "id": "24401cf4",
   "metadata": {},
   "outputs": [
    {
     "name": "stdout",
     "output_type": "stream",
     "text": [
      "정수 입력> 10\n",
      "정수\n"
     ]
    }
   ],
   "source": [
    "try:\n",
    "    num_input = int(input('정수 입력> '))\n",
    "except:\n",
    "    print('정수 아님')\n",
    "else:\n",
    "    print('정수')"
   ]
  },
  {
   "cell_type": "code",
   "execution_count": 41,
   "id": "8e355d2a",
   "metadata": {},
   "outputs": [
    {
     "name": "stdout",
     "output_type": "stream",
     "text": [
      "정수입력8\n",
      "프로그램 종료\n"
     ]
    }
   ],
   "source": [
    "#. Q. 정수를 입력하면 '입력 정수' > '예외 발생하지 않음' > '프로그램 종료'\n",
    "# 정수가 아니면 '입력 값'> '정수 아님' > '프로그램 종료' 순서대로 출력하세요.\n",
    "try:\n",
    "    num=int(input('정수입력'))\n",
    "except:\n",
    "    print(\"정수아님\")\n",
    "    int(num)\n",
    "    time.sleep(1)   \n",
    "    print('예외 발생하지 않음')\n",
    "finally:    \n",
    "    print('프로그램 종료')\n",
    "\n",
    "\n",
    "    \n"
   ]
  },
  {
   "cell_type": "code",
   "execution_count": 29,
   "id": "92a89b3e",
   "metadata": {},
   "outputs": [
    {
     "name": "stdout",
     "output_type": "stream",
     "text": [
      "정수를 입력하세요.>>30\n",
      "30\n",
      "예외 발생하지 않음\n",
      "프로그램 종료\n"
     ]
    }
   ],
   "source": [
    "try:\n",
    "    num = int(input(\"정수를 입력하세요.>>\"))\n",
    "except:\n",
    "    print(\"정수아님\")\n",
    "else:\n",
    "    print(num)\n",
    "    print('예외 발생하지 않음')\n",
    "finally:\n",
    "    print(\"프로그램 종료\")\n",
    "    "
   ]
  },
  {
   "cell_type": "code",
   "execution_count": 32,
   "id": "24389f11",
   "metadata": {},
   "outputs": [
    {
     "name": "stdout",
     "output_type": "stream",
     "text": [
      "프로그램이 시작되었습니다.\n",
      "try 구문이 시작되었습니다.\n",
      "프로그램이 종료되었습니다.\n"
     ]
    }
   ],
   "source": [
    "print('프로그램이 시작되었습니다.')\n",
    "while True:\n",
    "    try:\n",
    "        print('try 구문이 시작되었습니다.')\n",
    "        break\n",
    "    except:\n",
    "        print('except 구문이 실행되었습니다.')\n",
    "        \n",
    "    print('finally 구문이 실행되었습니다.')\n",
    "    print('while 반복문의 마지막 줄입니다.')\n",
    "print('프로그램이 종료되었습니다.')"
   ]
  },
  {
   "cell_type": "code",
   "execution_count": null,
   "id": "911466c8",
   "metadata": {},
   "outputs": [],
   "source": [
    "#. 위 코드에서 try ~ except ~ finally를 사용하여 아래와 같이 출력하세요.\n",
    "\n",
    "프로그램이 시작되었습니다.\n",
    "try 구문이 시작되었습니다.\n",
    "except 구문이 실행되었습니다.\n",
    "finally 구문이 실행되었습니다.\n",
    "프로그램이 종료되었습니다."
   ]
  },
  {
   "cell_type": "code",
   "execution_count": 4,
   "id": "ae60f099",
   "metadata": {},
   "outputs": [
    {
     "name": "stdout",
     "output_type": "stream",
     "text": [
      "프로그램이 시작되었습니다.\n",
      "try 구문이 시작되었습니다.\n",
      "except 구문이 실행되었습니다.\n",
      "finally 구문이 실행되었습니다.\n",
      "while 반복문의 마지막 줄입니다.\n",
      "프로그램이 종료되었습니다.\n"
     ]
    }
   ],
   "source": [
    "print('프로그램이 시작되었습니다.')\n",
    "while True:\n",
    "    try:\n",
    "        print('try 구문이 시작되었습니다.')\n",
    "        int('a')\n",
    "    except:\n",
    "        print('except 구문이 실행되었습니다.')\n",
    "        break\n",
    "    finally:\n",
    "        print('finally 구문이 실행되었습니다.')\n",
    "print('while 반복문의 마지막 줄입니다.')\n",
    "print('프로그램이 종료되었습니다.')\n"
   ]
  },
  {
   "cell_type": "code",
   "execution_count": 7,
   "id": "1a3ed970",
   "metadata": {},
   "outputs": [
    {
     "name": "stdout",
     "output_type": "stream",
     "text": [
      "프로그램이 시작되었습니다.\n",
      "try 구문이 시작되었습니다.\n",
      "2\n",
      "finally 구문이 실행되었습니다.\n",
      "while 반복문의 마지막 줄입니다.\n",
      "프로그램이 종료되었습니다.\n"
     ]
    }
   ],
   "source": [
    "print('프로그램이 시작되었습니다.')\n",
    "while True:\n",
    "    try:\n",
    "        print('try 구문이 시작되었습니다.')\n",
    "        c = a + 1   # =은 대입의 의미,==은 동률\n",
    "        print(c)\n",
    "        break\n",
    "    except:\n",
    "        print('except 구문이 실행되었습니다.')\n",
    "        break\n",
    "    finally:\n",
    "        print('finally 구문이 실행되었습니다.')\n",
    "        print('while 반복문의 마지막 줄입니다.')\n",
    "print('프로그램이 종료되었습니다.')\n"
   ]
  },
  {
   "cell_type": "code",
   "execution_count": 25,
   "id": "087d5c7f",
   "metadata": {},
   "outputs": [
    {
     "name": "stdout",
     "output_type": "stream",
     "text": [
      "정수 입력> 40\n",
      "원의 반지름: 40\n",
      "원의 둘레: 251.20000000000002\n",
      "원의 넓이: 5024.0\n"
     ]
    }
   ],
   "source": [
    "#[과제] 숫자 대신 문자를 입력 시 예외가 발생되는 아래 코드를 수정해서 \n",
    "#예외 객체의 자료형과 예외 객체 자료 자체를 출력하세요\n",
    "\n",
    "num_input = int(input('정수 입력> '))\n",
    "print('원의 반지름:', num_input)\n",
    "print('원의 둘레:',2*3.14*num_input)\n",
    "print('원의 넓이:',3.14*num_input*num_input)\n"
   ]
  },
  {
   "cell_type": "code",
   "execution_count": 6,
   "id": "a2eef6a2",
   "metadata": {
    "scrolled": true
   },
   "outputs": [
    {
     "name": "stdout",
     "output_type": "stream",
     "text": [
      "정수 입력> *\n",
      "type(exception) : <class 'ValueError'>\n",
      "exception : invalid literal for int() with base 10: '*'\n",
      "프로그램 종료\n"
     ]
    }
   ],
   "source": [
    "try:\n",
    "    num_input = int(input('정수 입력> '))\n",
    "    print('원의 반지름:', num_input)\n",
    "    print('원의 둘레:',2*3.14*num_input)\n",
    "    print('원의 넓이:',3.14*num_input*num_input)\n",
    "except Exception as exception :\n",
    "    print(\"type(exception) :\", type(exception))\n",
    "    print(\"exception :\",exception)\n",
    "finally:\n",
    "    print(\"프로그램 종료\")\n",
    "    \n",
    "    "
   ]
  },
  {
   "cell_type": "code",
   "execution_count": null,
   "id": "d0a2c9e7",
   "metadata": {},
   "outputs": [],
   "source": [
    "print(f'프로그램을 시작합니다.')\n",
    "while True\n",
    "    try:\n",
    "        print(num_input = in(input('정수를 입력하세요> '))\n",
    "        int('a')"
   ]
  },
  {
   "cell_type": "code",
   "execution_count": 7,
   "id": "cb47928a",
   "metadata": {},
   "outputs": [
    {
     "name": "stdout",
     "output_type": "stream",
     "text": [
      "정수입력> 52\n"
     ]
    },
    {
     "ename": "IndexError",
     "evalue": "list index out of range",
     "output_type": "error",
     "traceback": [
      "\u001b[1;31m---------------------------------------------------------------------------\u001b[0m",
      "\u001b[1;31mIndexError\u001b[0m                                Traceback (most recent call last)",
      "\u001b[1;32m~\\AppData\\Local\\Temp/ipykernel_7536/1892120770.py\u001b[0m in \u001b[0;36m<module>\u001b[1;34m\u001b[0m\n\u001b[0;32m      5\u001b[0m \u001b[1;33m\u001b[0m\u001b[0m\n\u001b[0;32m      6\u001b[0m \u001b[0mnum_input\u001b[0m \u001b[1;33m=\u001b[0m  \u001b[0mint\u001b[0m\u001b[1;33m(\u001b[0m\u001b[0minput\u001b[0m\u001b[1;33m(\u001b[0m\u001b[1;34m'정수입력> '\u001b[0m\u001b[1;33m)\u001b[0m\u001b[1;33m)\u001b[0m\u001b[1;33m\u001b[0m\u001b[1;33m\u001b[0m\u001b[0m\n\u001b[1;32m----> 7\u001b[1;33m \u001b[0mprint\u001b[0m\u001b[1;33m(\u001b[0m\u001b[1;34m'{}번째 요소: {}'\u001b[0m\u001b[1;33m.\u001b[0m\u001b[0mformat\u001b[0m\u001b[1;33m(\u001b[0m\u001b[0mnum_input\u001b[0m\u001b[1;33m,\u001b[0m \u001b[0mlist_num\u001b[0m\u001b[1;33m[\u001b[0m\u001b[0mnum_input\u001b[0m\u001b[1;33m-\u001b[0m\u001b[1;36m1\u001b[0m\u001b[1;33m]\u001b[0m\u001b[1;33m)\u001b[0m\u001b[1;33m)\u001b[0m\u001b[1;33m\u001b[0m\u001b[1;33m\u001b[0m\u001b[0m\n\u001b[0m",
      "\u001b[1;31mIndexError\u001b[0m: list index out of range"
     ]
    }
   ],
   "source": [
    "#[과제] 아래 코드를 보완하여 발생가능한 모든 예외(정수, 인덱스,미리 파악하지 못한 예외)를 처리한 후 마지막에 \"모든 예외처리 완료\"를 \n",
    "#출력하세요.(try, except, except, finally)\n",
    "\n",
    "list_num = [52,273, 32, 72, 100]\n",
    "\n",
    "num_input =  int(input('정수입력> '))\n",
    "print('{}번째 요소: {}'.format(num_input, list_num[num_input-1]))"
   ]
  },
  {
   "cell_type": "code",
   "execution_count": 9,
   "id": "58bb0351",
   "metadata": {},
   "outputs": [
    {
     "name": "stdout",
     "output_type": "stream",
     "text": [
      "정수입력> 가\n",
      "정수를 입력해주세요.\n",
      "모든 예외처리 완료\n"
     ]
    }
   ],
   "source": [
    "try:\n",
    "    list_num = [52,273, 32, 72, 100]\n",
    "    num_input =  int(input('정수입력> '))\n",
    "    print('{}번째 요소: {}'.format(num_input, list_num[num_input-1]))\n",
    "except ValueError :\n",
    "    print(\"정수를 입력해주세요.\")\n",
    "except IndexError :\n",
    "    print(\"범위에 맞는 수를 입력해 주세요\")\n",
    "finally :\n",
    "    print(\"모든 예외처리 완료\")\n",
    "\n",
    "    "
   ]
  },
  {
   "cell_type": "code",
   "execution_count": 4,
   "id": "436b46df",
   "metadata": {},
   "outputs": [
    {
     "name": "stdout",
     "output_type": "stream",
     "text": [
      "정수 입력 > 4\n",
      "4번째 요소: 72\n",
      "모든 예외처리 완료\n"
     ]
    }
   ],
   "source": [
    "list_num = [52, 273, 32, 72, 100]\n",
    "\n",
    "while 1: \n",
    "    try: \n",
    "        num_input = int(input('정수 입력 > '))\n",
    "        print('{}번째 요소: {}'.format(num_input, list_num[num_input -1]))\n",
    "        break\n",
    "    except IndexError:\n",
    "        print(\"인덱스 오류, 범위 안의 값을 입력하세요\")\n",
    "    except ValueError:\n",
    "        print(\"정수 값을 입력하세요\")\n",
    "    except Excetion:\n",
    "        print(\"정수 값을 입력하세요\")\n",
    "    finally:\n",
    "        print(\"모든 예외처리 완료\")"
   ]
  }
 ],
 "metadata": {
  "kernelspec": {
   "display_name": "Python 3 (ipykernel)",
   "language": "python",
   "name": "python3"
  },
  "language_info": {
   "codemirror_mode": {
    "name": "ipython",
    "version": 3
   },
   "file_extension": ".py",
   "mimetype": "text/x-python",
   "name": "python",
   "nbconvert_exporter": "python",
   "pygments_lexer": "ipython3",
   "version": "3.9.7"
  }
 },
 "nbformat": 4,
 "nbformat_minor": 5
}
