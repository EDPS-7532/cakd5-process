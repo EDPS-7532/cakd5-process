{
 "cells": [
  {
   "cell_type": "code",
   "execution_count": 5,
   "id": "f83aafcc",
   "metadata": {},
   "outputs": [],
   "source": [
    "import numpy as np  #numpy를 하기위해서 항상 먼저 작성하고 실행 시켜야함\n",
    "import pandas as pd"
   ]
  },
  {
   "cell_type": "code",
   "execution_count": 4,
   "id": "7b13be5f",
   "metadata": {},
   "outputs": [
    {
     "data": {
      "text/plain": [
       "array([[2, 1, 6, 3, 5],\n",
       "       [8, 9, 8, 5, 4],\n",
       "       [5, 1, 9, 9, 6],\n",
       "       [4, 5, 4, 7, 2],\n",
       "       [2, 6, 3, 4, 2]])"
      ]
     },
     "execution_count": 4,
     "metadata": {},
     "output_type": "execute_result"
    }
   ],
   "source": [
    "arr = np.random.randint(1,10, size =(5,5)) #randint(무작위로 정수를 추출)=>1~10사이에 있는 정수들을 5,5로 무작위로 출력\n",
    "arr"
   ]
  },
  {
   "cell_type": "code",
   "execution_count": 5,
   "id": "223c7b62",
   "metadata": {},
   "outputs": [
    {
     "data": {
      "text/plain": [
       "array([[2, 8, 5, 4, 2],\n",
       "       [1, 9, 1, 5, 6],\n",
       "       [6, 8, 9, 4, 3],\n",
       "       [3, 5, 9, 7, 4],\n",
       "       [5, 4, 6, 2, 2]])"
      ]
     },
     "execution_count": 5,
     "metadata": {},
     "output_type": "execute_result"
    }
   ],
   "source": [
    "arr.T  #T : 행과열이 서로 바뀐다(전치)"
   ]
  },
  {
   "cell_type": "code",
   "execution_count": 6,
   "id": "8e2707ce",
   "metadata": {
    "scrolled": true
   },
   "outputs": [
    {
     "data": {
      "text/plain": [
       "array([[2, 8, 5, 4, 2],\n",
       "       [1, 9, 1, 5, 6],\n",
       "       [6, 8, 9, 4, 3],\n",
       "       [3, 5, 9, 7, 4],\n",
       "       [5, 4, 6, 2, 2]])"
      ]
     },
     "execution_count": 6,
     "metadata": {},
     "output_type": "execute_result"
    }
   ],
   "source": [
    "np.transpose(arr) #np.transpose형태로도 가능 \n"
   ]
  },
  {
   "cell_type": "code",
   "execution_count": 7,
   "id": "9666f1ef",
   "metadata": {},
   "outputs": [
    {
     "data": {
      "text/plain": [
       "array([[113, 111, 143, 127,  84],\n",
       "       [111, 144, 125, 116,  69],\n",
       "       [143, 125, 206, 179, 130],\n",
       "       [127, 116, 179, 180, 111],\n",
       "       [ 84,  69, 130, 111,  85]])"
      ]
     },
     "execution_count": 7,
     "metadata": {},
     "output_type": "execute_result"
    }
   ],
   "source": [
    "#행렬곱과 내적(딥러닝에서 중요함)\n",
    "np.dot(arr.T,arr)"
   ]
  },
  {
   "cell_type": "code",
   "execution_count": 8,
   "id": "14b819f2",
   "metadata": {},
   "outputs": [
    {
     "name": "stdout",
     "output_type": "stream",
     "text": [
      "[[0 1 2]\n",
      " [3 4 5]] \n",
      "\n",
      "[[0 3]\n",
      " [1 4]\n",
      " [2 5]] \n",
      "\n"
     ]
    }
   ],
   "source": [
    "a = np.arange(6).reshape(2,3)\n",
    "print(a,'\\n')\n",
    "\n",
    "#2행3열 => 3행2열로 변환 ** 0은 2차원(열), 1은 1차원(행)\n",
    "y = np.swapaxes(a,0,1)\n",
    "print(y,'\\n') \n"
   ]
  },
  {
   "cell_type": "code",
   "execution_count": 9,
   "id": "80514f3a",
   "metadata": {},
   "outputs": [
    {
     "name": "stdout",
     "output_type": "stream",
     "text": [
      "[[0 3]\n",
      " [1 4]\n",
      " [2 5]]\n"
     ]
    }
   ],
   "source": [
    "y = np.transpose(a)\n",
    "print(y)"
   ]
  },
  {
   "cell_type": "code",
   "execution_count": 10,
   "id": "c2689184",
   "metadata": {},
   "outputs": [
    {
     "name": "stdout",
     "output_type": "stream",
     "text": [
      "[[0 3]\n",
      " [1 4]\n",
      " [2 5]]\n"
     ]
    }
   ],
   "source": [
    "y = a.T\n",
    "print(y)"
   ]
  },
  {
   "cell_type": "code",
   "execution_count": 11,
   "id": "24f45f0d",
   "metadata": {},
   "outputs": [
    {
     "ename": "SyntaxError",
     "evalue": "invalid syntax (Temp/ipykernel_6012/1049642885.py, line 2)",
     "output_type": "error",
     "traceback": [
      "\u001b[1;36m  File \u001b[1;32m\"C:\\Users\\admin\\AppData\\Local\\Temp/ipykernel_6012/1049642885.py\"\u001b[1;36m, line \u001b[1;32m2\u001b[0m\n\u001b[1;33m    [[  1   2   3   4   5   6   7   8   9  10]\u001b[0m\n\u001b[1;37m            ^\u001b[0m\n\u001b[1;31mSyntaxError\u001b[0m\u001b[1;31m:\u001b[0m invalid syntax\n"
     ]
    }
   ],
   "source": [
    "# Q. 1 ~ 100을 아래와 같이 출력하세요.\n",
    "[[  1   2   3   4   5   6   7   8   9  10]\n",
    " [ 20  19  18  17  16  15  14  13  12  11]\n",
    " [ 21  22  23  24  25  26  27  28  29  30]\n",
    " [ 40  39  38  37  36  35  34  33  32  31]\n",
    " [ 41  42  43  44  45  46  47  48  49  50]\n",
    " [ 60  59  58  57  56  55  54  53  52  51]\n",
    " [ 61  62  63  64  65  66  67  68  69  70]\n",
    " [ 80  79  78  77  76  75  74  73  72  71]\n",
    " [ 81  82  83  84  85  86  87  88  89  90]\n",
    " [100  99  98  97  96  95  94  93  92  91]] <class 'numpy.ndarray'>\n"
   ]
  },
  {
   "cell_type": "code",
   "execution_count": 12,
   "id": "107cc1de",
   "metadata": {
    "scrolled": true
   },
   "outputs": [
    {
     "name": "stdout",
     "output_type": "stream",
     "text": [
      "[[  1   2   3   4   5   6   7   8   9  10]\n",
      " [ 20  19  18  17  16  15  14  13  12  11]\n",
      " [ 21  22  23  24  25  26  27  28  29  30]\n",
      " [ 40  39  38  37  36  35  34  33  32  31]\n",
      " [ 41  42  43  44  45  46  47  48  49  50]\n",
      " [ 60  59  58  57  56  55  54  53  52  51]\n",
      " [ 61  62  63  64  65  66  67  68  69  70]\n",
      " [ 80  79  78  77  76  75  74  73  72  71]\n",
      " [ 81  82  83  84  85  86  87  88  89  90]\n",
      " [100  99  98  97  96  95  94  93  92  91]]\n"
     ]
    }
   ],
   "source": [
    "arr = np.arange(1,101).reshape(10,10)\n",
    "arr[[1,3,5,7,9]] = arr[[1,3,5,7,9]][:,[9,8,7,6,5,4,3,2,1,0]]\n",
    "print(arr)\n"
   ]
  },
  {
   "cell_type": "code",
   "execution_count": 13,
   "id": "8da06137",
   "metadata": {
    "scrolled": true
   },
   "outputs": [
    {
     "name": "stdout",
     "output_type": "stream",
     "text": [
      "[[  1   2   3   4   5   6   7   8   9  10]\n",
      " [ 20  19  18  17  16  15  14  13  12  11]\n",
      " [ 21  22  23  24  25  26  27  28  29  30]\n",
      " [ 40  39  38  37  36  35  34  33  32  31]\n",
      " [ 41  42  43  44  45  46  47  48  49  50]\n",
      " [ 60  59  58  57  56  55  54  53  52  51]\n",
      " [ 61  62  63  64  65  66  67  68  69  70]\n",
      " [ 80  79  78  77  76  75  74  73  72  71]\n",
      " [ 81  82  83  84  85  86  87  88  89  90]\n",
      " [100  99  98  97  96  95  94  93  92  91]] <class 'numpy.ndarray'>\n"
     ]
    }
   ],
   "source": [
    "arr = np.arange(1,101).reshape(10,10)\n",
    "for i in range(1,10):\n",
    "    if i % 2 == 1:\n",
    "        arr[i] = arr[i][::-1]\n",
    "print(arr, type(arr))\n"
   ]
  },
  {
   "cell_type": "code",
   "execution_count": 14,
   "id": "ccf6753f",
   "metadata": {},
   "outputs": [
    {
     "name": "stdout",
     "output_type": "stream",
     "text": [
      "[[[0 1 2]\n",
      "  [3 4 5]]] (1, 2, 3) \n",
      "\n",
      "[[[0 1 2]]\n",
      "\n",
      " [[3 4 5]]] (2, 1, 3) \n",
      "\n"
     ]
    }
   ],
   "source": [
    "# (0,1,2) 0:3차원,1:2차원,3:1차원\n",
    "# 3차원과 2차원을 바꾸는 경우 : (1,2,3) => (2,1,3) *(3차원,2차원,1차원)\n",
    "a =np.arange(6).reshape(1,2,3)  #3차원1개, 2차원2개 1차원 3개\n",
    "print(a,a.shape,'\\n')\n",
    "\n",
    "y = np.transpose(a,(1,0,2))   #3차원 2개, 2차원1개 1차원 2개\n",
    "print(y,y.shape,'\\n')\n"
   ]
  },
  {
   "cell_type": "code",
   "execution_count": 15,
   "id": "da489b0a",
   "metadata": {},
   "outputs": [
    {
     "name": "stdout",
     "output_type": "stream",
     "text": [
      "[[[0 1 2]\n",
      "  [3 4 5]]] (1, 2, 3) \n",
      "\n",
      "[[[0]\n",
      "  [1]\n",
      "  [2]]\n",
      "\n",
      " [[3]\n",
      "  [4]\n",
      "  [5]]] (2, 3, 1)\n"
     ]
    }
   ],
   "source": [
    "# (1,2,3) => (2,3,1) \n",
    "a = np.arange(6).reshape(1,2,3)  #3차원1개 ,2행3열(2차원 2개 1차원 3개)\n",
    "print(a,a.shape,'\\n')\n",
    "y = np.transpose(a,(1,2,0))  #3차원 2개, 3행1열    (0,1,2) => 1,2,0으로 변환\n",
    "print(y,y.shape)"
   ]
  },
  {
   "cell_type": "code",
   "execution_count": 16,
   "id": "07c2038a",
   "metadata": {
    "scrolled": true
   },
   "outputs": [
    {
     "name": "stdout",
     "output_type": "stream",
     "text": [
      "[[[ 0  1  2  3]\n",
      "  [ 4  5  6  7]]\n",
      "\n",
      " [[ 8  9 10 11]\n",
      "  [12 13 14 15]]] (2, 2, 4) \n",
      "\n"
     ]
    }
   ],
   "source": [
    "#. [과제] 아래 배열에서 3차원과 2차원을 변경하여 출력하세요(shape 확인)\n",
    "arr = np.arange(16).reshape(2,2,4)\n",
    "print(arr,arr.shape,'\\n')"
   ]
  },
  {
   "cell_type": "code",
   "execution_count": 52,
   "id": "7ec22c9f",
   "metadata": {},
   "outputs": [
    {
     "name": "stdout",
     "output_type": "stream",
     "text": [
      "[[[ 0  1  2  3]\n",
      "  [ 4  5  6  7]]\n",
      "\n",
      " [[ 8  9 10 11]\n",
      "  [12 13 14 15]]] (2, 2, 4) \n",
      "\n",
      "[[[ 0  1  2  3]\n",
      "  [ 8  9 10 11]]\n",
      "\n",
      " [[ 4  5  6  7]\n",
      "  [12 13 14 15]]] (2, 2, 4)\n"
     ]
    }
   ],
   "source": [
    "arr = np.arange(16).reshape(2,2,4)\n",
    "print(arr,arr.shape,'\\n')\n",
    "\n",
    "y = np.transpose(arr,(1,0,2))  \n",
    "print(y,y.shape)"
   ]
  },
  {
   "cell_type": "code",
   "execution_count": null,
   "id": "45af3a98",
   "metadata": {},
   "outputs": [],
   "source": [
    "# [과제] 상기 과제의 arr에서 2차원과 1차원을 변경하여 출력하세요."
   ]
  },
  {
   "cell_type": "code",
   "execution_count": 48,
   "id": "656acdc4",
   "metadata": {},
   "outputs": [
    {
     "name": "stdout",
     "output_type": "stream",
     "text": [
      "[1 2 0]\n",
      "[1 2 0]\n"
     ]
    }
   ],
   "source": [
    "#나머지를 구할 경우 사용하는 함수\n",
    "value1 = np.array([15,30,45])  #배열을 구할때는 np.array는 기본임\n",
    "value2 = np.array([2,7,9])\n",
    "print(np.mod(value1,value2))\n",
    "print(np.remainder(value1,value2))"
   ]
  },
  {
   "cell_type": "code",
   "execution_count": 51,
   "id": "d9b748b2",
   "metadata": {},
   "outputs": [
    {
     "name": "stdout",
     "output_type": "stream",
     "text": [
      "[       inf 0.01176471 0.54054054 1.         0.01      ]\n",
      "[100] \n",
      "\n",
      "[0.01]\n"
     ]
    },
    {
     "name": "stderr",
     "output_type": "stream",
     "text": [
      "C:\\Users\\admin\\Anaconda3\\envs\\cakd5\\lib\\site-packages\\ipykernel_launcher.py:3: RuntimeWarning: divide by zero encountered in reciprocal\n",
      "  This is separate from the ipykernel package so we can avoid doing imports until\n"
     ]
    }
   ],
   "source": [
    "# 각 수의 역수를 구해주는 함수(tuple) => reciprocal\n",
    "value = np.array([0,85,1.85,1,100])\n",
    "print(np.reciprocal(value))\n",
    "\n",
    "value1 = np.array([100],dtype = int)\n",
    "print(value1,'\\n')\n",
    "print(np.reciprocal(value1,dtype=float))"
   ]
  },
  {
   "cell_type": "code",
   "execution_count": 54,
   "id": "e858cd36",
   "metadata": {},
   "outputs": [
    {
     "name": "stdout",
     "output_type": "stream",
     "text": [
      "[  4 100 225] \n",
      "\n",
      "[   2  100 3375]\n"
     ]
    }
   ],
   "source": [
    "# 승수의 결과값을 표시해주는 함수\n",
    "value1 = np.array([2,10,15])\n",
    "value2 = np.array([1,2,3])\n",
    "\n",
    "print(np.power(value1,2),'\\n')\n",
    "print(np.power(value1,value2))   # 2의 1승, 10의 2승, 15의 3승"
   ]
  },
  {
   "cell_type": "code",
   "execution_count": 66,
   "id": "0e54ea5d",
   "metadata": {},
   "outputs": [
    {
     "data": {
      "text/plain": [
       "array([-0.99185765, -0.017324  , -1.73150598,  0.92066503, -1.09667587,\n",
       "        0.75244251,  1.80395224,  0.31976084,  1.58836296, -1.665607  ])"
      ]
     },
     "execution_count": 66,
     "metadata": {},
     "output_type": "execute_result"
    }
   ],
   "source": [
    "arr = np.random.randn(10)\n",
    "#print(arr.mean(),'\\n')   #mean : 평균\n",
    "#print(arr.std())    #std : 표준편차\n",
    "arr"
   ]
  },
  {
   "cell_type": "code",
   "execution_count": 67,
   "id": "13d226c1",
   "metadata": {},
   "outputs": [
    {
     "data": {
      "text/plain": [
       "5"
      ]
     },
     "execution_count": 67,
     "metadata": {},
     "output_type": "execute_result"
    }
   ],
   "source": [
    "#양수인 원소의 개수\n",
    "(arr > 0).sum()   #조건을 만족하는 개수.sum"
   ]
  },
  {
   "cell_type": "code",
   "execution_count": 68,
   "id": "839c9f01",
   "metadata": {},
   "outputs": [
    {
     "data": {
      "text/plain": [
       "True"
      ]
     },
     "execution_count": 68,
     "metadata": {},
     "output_type": "execute_result"
    }
   ],
   "source": [
    "# 하나 이상의 값이 True인지 검사 (boolean)\n",
    "bools = np.array([False,False,True,True])\n",
    "bools.any()"
   ]
  },
  {
   "cell_type": "code",
   "execution_count": 69,
   "id": "cddd57b1",
   "metadata": {},
   "outputs": [
    {
     "data": {
      "text/plain": [
       "False"
      ]
     },
     "execution_count": 69,
     "metadata": {},
     "output_type": "execute_result"
    }
   ],
   "source": [
    "# 모든 원소가 True인지 검사\n",
    "bools.all()"
   ]
  },
  {
   "cell_type": "code",
   "execution_count": 71,
   "id": "68bcbdc3",
   "metadata": {
    "scrolled": true
   },
   "outputs": [
    {
     "name": "stdout",
     "output_type": "stream",
     "text": [
      "[[-0.06532326  0.54853623  0.70194877  1.26544737]\n",
      " [ 0.21779619 -1.43319325  0.350015   -1.094192  ]\n",
      " [ 0.32257968  1.08353919 -1.57378352  0.12039715]\n",
      " [-0.01395492  0.62103891  1.15072478  0.89087021]] \n",
      "\n"
     ]
    },
    {
     "data": {
      "text/plain": [
       "array([[-2,  2,  2,  2],\n",
       "       [ 2, -2,  2, -2],\n",
       "       [ 2,  2, -2,  2],\n",
       "       [-2,  2,  2,  2]])"
      ]
     },
     "execution_count": 71,
     "metadata": {},
     "output_type": "execute_result"
    }
   ],
   "source": [
    "# 삼항식의 벡터화 버전(조건을 만족하면)\n",
    "arr = np.random.randn(4,4)\n",
    "print(arr,'\\n')\n",
    "np.where(arr > 0 ,2 ,-2)   #arr>0 이면 2, 아닐경우( 0 이거나 음수) -2"
   ]
  },
  {
   "cell_type": "code",
   "execution_count": 72,
   "id": "bd41d6ac",
   "metadata": {},
   "outputs": [
    {
     "data": {
      "text/plain": [
       "array([[-0.06532326,  2.        ,  2.        ,  2.        ],\n",
       "       [ 2.        , -1.43319325,  2.        , -1.094192  ],\n",
       "       [ 2.        ,  2.        , -1.57378352,  2.        ],\n",
       "       [-0.01395492,  2.        ,  2.        ,  2.        ]])"
      ]
     },
     "execution_count": 72,
     "metadata": {},
     "output_type": "execute_result"
    }
   ],
   "source": [
    "#arr의 모든 양수를 2로 바꿀 경우\n",
    "np.where(arr > 0,2,arr)  # arr>0 일 경우에만 2, 나머지는 그대로arr을 작성"
   ]
  },
  {
   "cell_type": "code",
   "execution_count": 80,
   "id": "aaf0ae06",
   "metadata": {},
   "outputs": [
    {
     "name": "stdout",
     "output_type": "stream",
     "text": [
      "[[1 2 3]\n",
      " [1 2 3]\n",
      " [1 2 3]] \n",
      "\n",
      "[[1 1 1]\n",
      " [2 2 2]\n",
      " [3 3 3]]\n"
     ]
    }
   ],
   "source": [
    "# 두개의 1차원 배열을 받아서 가능한 모든 (x,y)짝을 만들수 잇는 2차원 배열 2개 반환\n",
    "x = np.arange(1,4)\n",
    "y = np.arange(1,4)\n",
    "xs,ys = np.meshgrid(x,y)\n",
    "print(xs,'\\n')\n",
    "print(ys)"
   ]
  },
  {
   "cell_type": "code",
   "execution_count": 88,
   "id": "0807561e",
   "metadata": {},
   "outputs": [
    {
     "name": "stdout",
     "output_type": "stream",
     "text": [
      "[45 48 65 68 68 10 84 22 37 88] \n",
      "\n",
      "[10 22 37 45 48 65 68 68 84 88] \n",
      "\n",
      "[45 48 65 68 68 10 84 22 37 88]\n"
     ]
    }
   ],
   "source": [
    "# np.sort() 순서대로 숫자를 정렬하는 함수\n",
    "np.random.seed(0)   # 랜덤 숫자를 고정시키는 함수\n",
    "arr = np.random.randint(1,100, size=10)\n",
    "print(arr,'\\n')\n",
    "print(np.sort(arr),'\\n')\n",
    "print(arr)"
   ]
  },
  {
   "cell_type": "code",
   "execution_count": 89,
   "id": "b9e863e6",
   "metadata": {},
   "outputs": [
    {
     "name": "stdout",
     "output_type": "stream",
     "text": [
      "[10 22 37 45 48 65 68 68 84 88]\n"
     ]
    }
   ],
   "source": [
    "#np.sort는 원본은 반영되지 않는다. 출력은 가능\n",
    "sorted = np.sort(arr)\n",
    "print(sorted)"
   ]
  },
  {
   "cell_type": "code",
   "execution_count": 94,
   "id": "1b542898",
   "metadata": {},
   "outputs": [
    {
     "name": "stdout",
     "output_type": "stream",
     "text": [
      "[[ 8 12]\n",
      " [ 7  1]]\n",
      "[[ 7  1]\n",
      " [ 8 12]] \n",
      "\n",
      "[[ 8 12]\n",
      " [ 1  7]]\n"
     ]
    }
   ],
   "source": [
    "# 행렬이 2차원 이상일 때 axis 축 값 설정을 통해 행,열 방향으로 정렬 수행\n",
    "arr2d = np.array([[8,12],[7,1]])\n",
    "print(arr2d)\n",
    "sort_ar2d_axis0 = np.sort(arr2d,axis=0 )  #axis =0 행\n",
    "print(sort_ar2d_axis0,'\\n')         # 위, 아래의 행을 서로 바꿈\n",
    "sort_ar2d_axis1 = np.sort(arr2d,axis=1)  #axis =1 열\n",
    "print(sort_ar2d_axis1)        #2행의 배열을 앞뒤로 변경"
   ]
  },
  {
   "cell_type": "code",
   "execution_count": 99,
   "id": "ae64ff0e",
   "metadata": {},
   "outputs": [
    {
     "name": "stdout",
     "output_type": "stream",
     "text": [
      "[6 1 4 4 8 4 6 3 5 8] \n",
      "\n"
     ]
    },
    {
     "data": {
      "text/plain": [
       "array([1, 3, 4, 4, 4, 5, 6, 6, 8, 8])"
      ]
     },
     "execution_count": 99,
     "metadata": {},
     "output_type": "execute_result"
    }
   ],
   "source": [
    "#ndarray.sort() : 원본 반영 => 배열에 바로 sort를 씀\n",
    "np.random.seed(0)\n",
    "arr = np.random.randint(1,10,size=10)\n",
    "#arr = np.random.randn(6)\n",
    "print(arr,'\\n')\n",
    "arr.sort()  # 원본 반영(배열.sort)\n",
    "print(arr)"
   ]
  },
  {
   "cell_type": "code",
   "execution_count": 105,
   "id": "aad1c5b8",
   "metadata": {},
   "outputs": [
    {
     "name": "stdout",
     "output_type": "stream",
     "text": [
      "[[6 1 4]\n",
      " [4 8 4]\n",
      " [6 3 5]\n",
      " [8 7 9]\n",
      " [9 2 7]] \n",
      "\n",
      "[[1 4 6]\n",
      " [4 4 8]\n",
      " [3 5 6]\n",
      " [7 8 9]\n",
      " [2 7 9]]\n"
     ]
    }
   ],
   "source": [
    "# 다차원 배열의 정렬은 sort 메소드에 넘긴 축에 따라 1차원 부분을 정렬\n",
    "# 열방향 정렬 default\n",
    "np.random.seed(0)\n",
    "arr = np.random.randint(1,10,size=(5,3))\n",
    "print(arr,'\\n')\n",
    "arr.sort(1)  #1은 종방향\n",
    "print(arr)\n"
   ]
  },
  {
   "cell_type": "code",
   "execution_count": 107,
   "id": "0d32ce50",
   "metadata": {
    "scrolled": true
   },
   "outputs": [
    {
     "name": "stdout",
     "output_type": "stream",
     "text": [
      "[[6 1 4]\n",
      " [4 8 4]\n",
      " [6 3 5]\n",
      " [8 7 9]\n",
      " [9 2 7]] \n",
      "\n",
      "[[1 4 6]\n",
      " [4 4 8]\n",
      " [3 5 6]\n",
      " [7 8 9]\n",
      " [2 7 9]]\n"
     ]
    }
   ],
   "source": [
    "#횡방향 정렬\n",
    "np.random.seed(0)\n",
    "arr = np.random.randint(1,10,size=(5,3))\n",
    "print(arr,'\\n')\n",
    "arr.sort()    #0은 횡방향 =>\n",
    "print(arr)"
   ]
  },
  {
   "cell_type": "code",
   "execution_count": 108,
   "id": "2f2c9709",
   "metadata": {},
   "outputs": [
    {
     "name": "stdout",
     "output_type": "stream",
     "text": [
      "[3 1 9 5]\n",
      "<class 'numpy.ndarray'>\n"
     ]
    },
    {
     "data": {
      "text/plain": [
       "array([1, 0, 3, 2], dtype=int64)"
      ]
     },
     "execution_count": 108,
     "metadata": {},
     "output_type": "execute_result"
    }
   ],
   "source": [
    "# 정렬된 행렬의 인덱스 반환(argsort) : 기존 원본 행렬의 원소에 대한 인덱스를 필요로 할 때 \n",
    "org_array = np.array([3,1,9,5])\n",
    "sort_indices = np.argsort(org_array)\n",
    "print(org_array)\n",
    "print(type(sort_indices))\n",
    "sort_indices                       # 작은 숫자 순서대로 인덱스 번호가 앞으로 배정된다."
   ]
  },
  {
   "cell_type": "code",
   "execution_count": 109,
   "id": "70488764",
   "metadata": {},
   "outputs": [
    {
     "data": {
      "text/plain": [
       "-1.6721886708490616"
      ]
     },
     "execution_count": 109,
     "metadata": {},
     "output_type": "execute_result"
    }
   ],
   "source": [
    "#배열에서 정렬한 후 5%에 해당되는 원소만 출력 (할때마다 바뀜 => 고정시키려면 random.seed()를 앞에 붙인다)\n",
    "large_arr = np.random.randn(1000)\n",
    "large_arr.sort()\n",
    "large_arr[int(0.05*len(large_arr))]"
   ]
  },
  {
   "cell_type": "code",
   "execution_count": 110,
   "id": "c3e0f9dd",
   "metadata": {},
   "outputs": [
    {
     "data": {
      "text/plain": [
       "array(['Bob', 'Joe', 'Will'], dtype='<U4')"
      ]
     },
     "execution_count": 110,
     "metadata": {},
     "output_type": "execute_result"
    }
   ],
   "source": [
    "# 배열 집합 연산(문자,숫자) => 중복을 피함\n",
    "names = np.array(['Bob','Joe','Will','Joe','Joe'])\n",
    "np.unique(names)"
   ]
  },
  {
   "cell_type": "code",
   "execution_count": 1,
   "id": "44fbde52",
   "metadata": {},
   "outputs": [
    {
     "data": {
      "text/plain": [
       "['Bob', 'Joe', 'Will']"
      ]
     },
     "execution_count": 1,
     "metadata": {},
     "output_type": "execute_result"
    }
   ],
   "source": [
    "import numpy as np\n",
    "names = np.array(['Bob','Joe','Will','Joe','Joe'])\n",
    "sorted(set(names))   #종복제외"
   ]
  },
  {
   "cell_type": "code",
   "execution_count": 2,
   "id": "0f6cafe5",
   "metadata": {},
   "outputs": [
    {
     "data": {
      "text/plain": [
       "array([ True, False, False,  True,  True, False,  True])"
      ]
     },
     "execution_count": 2,
     "metadata": {},
     "output_type": "execute_result"
    }
   ],
   "source": [
    "#첫번재 배열의 원소가 두번째 배열의 원소를 포함하는 지 알려주는 불리언 배열을 반환\n",
    "values = np.array([6,0,0,3,2,5,6])\n",
    "np.in1d(values, [2,3,6])    #첫번째 배열의 원소가, 두번째 배열(2,3,6)을 포함하는지 여부"
   ]
  },
  {
   "cell_type": "code",
   "execution_count": 3,
   "id": "735bd88c",
   "metadata": {},
   "outputs": [],
   "source": [
    "# 배열 데이터의 입출력\n",
    "# np.save, np.load는 바이너리 형식으로 입출력 .npy file로 저장\n",
    "\n",
    "arr = np.arange(10)\n",
    "np.save('some_array',arr)"
   ]
  },
  {
   "cell_type": "code",
   "execution_count": 4,
   "id": "11378aa0",
   "metadata": {},
   "outputs": [
    {
     "data": {
      "text/plain": [
       "array([0, 1, 2, 3, 4, 5, 6, 7, 8, 9])"
      ]
     },
     "execution_count": 4,
     "metadata": {},
     "output_type": "execute_result"
    }
   ],
   "source": [
    "np.load('some_array.npy')"
   ]
  },
  {
   "cell_type": "code",
   "execution_count": 6,
   "id": "809bc8bf",
   "metadata": {},
   "outputs": [],
   "source": [
    "#여러개를 한꺼번에 저장\n",
    "#np.savez : 여러개의 배열을 압축된 형식으로 저장\n",
    "np.savez('array_archive.npz',a=arr,b=arr)"
   ]
  },
  {
   "cell_type": "code",
   "execution_count": 9,
   "id": "dc684603",
   "metadata": {},
   "outputs": [
    {
     "data": {
      "text/plain": [
       "array([0, 1, 2, 3, 4, 5, 6, 7, 8, 9])"
      ]
     },
     "execution_count": 9,
     "metadata": {},
     "output_type": "execute_result"
    }
   ],
   "source": [
    "arch = np.load('array_archive.npz')\n",
    "arch['a']"
   ]
  },
  {
   "cell_type": "code",
   "execution_count": 12,
   "id": "91047827",
   "metadata": {},
   "outputs": [
    {
     "name": "stdout",
     "output_type": "stream",
     "text": [
      "[1 1 1 1 1 1 1 1 1 1]\n",
      "<class 'numpy.ndarray'>\n"
     ]
    },
    {
     "data": {
      "text/plain": [
       "array([0, 1, 2, 3, 4, 5, 6, 7, 8, 9], dtype=int64)"
      ]
     },
     "execution_count": 12,
     "metadata": {},
     "output_type": "execute_result"
    }
   ],
   "source": [
    "# Q. 인덱싱을 사용하여 [1 0 1 0 1 0 1 0 1 0 ] 을 출력하세요\n",
    "a = np.ones(10,dtype=int)\n",
    "a\n"
   ]
  },
  {
   "cell_type": "code",
   "execution_count": 28,
   "id": "8edf7974",
   "metadata": {},
   "outputs": [
    {
     "name": "stdout",
     "output_type": "stream",
     "text": [
      "[1 0 1 0 1 0 1 0 1 0]\n"
     ]
    }
   ],
   "source": [
    "a = np.ones(10).astype(int)\n",
    "a[[1,3,5,7,9]] = 0\n",
    "print(a)\n"
   ]
  },
  {
   "cell_type": "code",
   "execution_count": 19,
   "id": "a0a3a725",
   "metadata": {},
   "outputs": [
    {
     "data": {
      "text/plain": [
       "array([6, 7, 8, 9])"
      ]
     },
     "execution_count": 19,
     "metadata": {},
     "output_type": "execute_result"
    }
   ],
   "source": [
    "# Q. a = np.arange(10)에서 [6,7,8,9] 출력\n",
    "a= np.arange(10)\n",
    "a1 = a[a>5]\n",
    "a1\n"
   ]
  },
  {
   "cell_type": "code",
   "execution_count": 21,
   "id": "db5cb5fd",
   "metadata": {},
   "outputs": [
    {
     "name": "stdout",
     "output_type": "stream",
     "text": [
      "9 0\n"
     ]
    }
   ],
   "source": [
    "# Q. a에서 최대값, 최소값 인덱스 출력\n",
    "print(max(a),min(a))"
   ]
  },
  {
   "cell_type": "code",
   "execution_count": 22,
   "id": "d5d72d2e",
   "metadata": {},
   "outputs": [
    {
     "name": "stdout",
     "output_type": "stream",
     "text": [
      "최댓값: 8\n",
      "최솟값: 0\n"
     ]
    }
   ],
   "source": [
    "a =np.arange(1,10)\n",
    "print(f'최댓값: {np.argmax(a)}\\n최솟값: {np.argmin(a)}')"
   ]
  },
  {
   "cell_type": "code",
   "execution_count": null,
   "id": "e57c6ac6",
   "metadata": {},
   "outputs": [],
   "source": [
    "# Q a에서 인덱스 배열을 역순으로 출력하세요"
   ]
  },
  {
   "cell_type": "code",
   "execution_count": 24,
   "id": "188490bc",
   "metadata": {},
   "outputs": [
    {
     "data": {
      "text/plain": [
       "array([8, 7, 6, 5, 4, 3, 2, 1, 0], dtype=int64)"
      ]
     },
     "execution_count": 24,
     "metadata": {},
     "output_type": "execute_result"
    }
   ],
   "source": [
    "np.argsort(a)[::-1]"
   ]
  },
  {
   "cell_type": "code",
   "execution_count": null,
   "id": "bbc43112",
   "metadata": {},
   "outputs": [],
   "source": [
    "#Q. np.ones((10,10))을 아래와 같이 출력하세요\n",
    "array([[1., 1., 1., 1., 1., 1., 1., 1., 1., 1.],\n",
    "       [1., 0., 0., 0., 0., 0., 0., 0., 0., 1.],\n",
    "       [1., 0., 0., 0., 0., 0., 0., 0., 0., 1.],\n",
    "       [1., 0., 0., 0., 0., 0., 0., 0., 0., 1.],\n",
    "       [1., 0., 0., 0., 0., 0., 0., 0., 0., 1.],\n",
    "       [1., 0., 0., 0., 0., 0., 0., 0., 0., 1.],\n",
    "       [1., 0., 0., 0., 0., 0., 0., 0., 0., 1.],\n",
    "       [1., 0., 0., 0., 0., 0., 0., 0., 0., 1.],\n",
    "       [1., 0., 0., 0., 0., 0., 0., 0., 0., 1.],\n",
    "       [1., 1., 1., 1., 1., 1., 1., 1., 1., 1.]])\n"
   ]
  },
  {
   "cell_type": "code",
   "execution_count": 3,
   "id": "700919f1",
   "metadata": {},
   "outputs": [
    {
     "data": {
      "text/plain": [
       "array([[1., 1., 1., 1., 1., 1., 1., 1., 1., 1.],\n",
       "       [1., 0., 0., 0., 0., 0., 0., 0., 0., 1.],\n",
       "       [1., 0., 0., 0., 0., 0., 0., 0., 0., 1.],\n",
       "       [1., 0., 0., 0., 0., 0., 0., 0., 0., 1.],\n",
       "       [1., 0., 0., 0., 0., 0., 0., 0., 0., 1.],\n",
       "       [1., 0., 0., 0., 0., 0., 0., 0., 0., 1.],\n",
       "       [1., 0., 0., 0., 0., 0., 0., 0., 0., 1.],\n",
       "       [1., 0., 0., 0., 0., 0., 0., 0., 0., 1.],\n",
       "       [1., 0., 0., 0., 0., 0., 0., 0., 0., 1.],\n",
       "       [1., 1., 1., 1., 1., 1., 1., 1., 1., 1.]])"
      ]
     },
     "execution_count": 3,
     "metadata": {},
     "output_type": "execute_result"
    }
   ],
   "source": [
    "import numpy as np\n",
    "b=np.ones((10,10))\n",
    "b[1:9,1:9]=0\n",
    "b\n"
   ]
  },
  {
   "cell_type": "code",
   "execution_count": null,
   "id": "5efe87d3",
   "metadata": {},
   "outputs": [],
   "source": [
    "#[도전과제] np.arange(336).reshape(6,7,8)에서 100번째 요소의 인덱스를 구하세요 \n"
   ]
  },
  {
   "cell_type": "code",
   "execution_count": null,
   "id": "6f3d7405",
   "metadata": {},
   "outputs": [],
   "source": [
    "#[과제] np.ones((5,5))을 아래와 같이 출력하세요\n",
    "array([[0., 0., 0., 0., 0., 0., 0., 0., 0.],\n",
    "       [0., 0., 0., 0., 0., 0., 0., 0., 0.],\n",
    "       [0., 0., 1., 1., 1., 1., 1., 0., 0.],\n",
    "       [0., 0., 1., 1., 1., 1., 1., 0., 0.],\n",
    "       [0., 0., 1., 1., 1., 1., 1., 0., 0.],\n",
    "       [0., 0., 1., 1., 1., 1., 1., 0., 0.],\n",
    "       [0., 0., 1., 1., 1., 1., 1., 0., 0.],\n",
    "       [0., 0., 0., 0., 0., 0., 0., 0., 0.],\n",
    "       [0., 0., 0., 0., 0., 0., 0., 0., 0.]])\n"
   ]
  },
  {
   "cell_type": "code",
   "execution_count": 17,
   "id": "906bebcb",
   "metadata": {},
   "outputs": [
    {
     "data": {
      "text/plain": [
       "array([[0., 0., 0., 0., 0., 0., 0., 0., 0.],\n",
       "       [0., 0., 0., 0., 0., 0., 0., 0., 0.],\n",
       "       [0., 0., 1., 1., 1., 1., 1., 0., 0.],\n",
       "       [0., 0., 1., 1., 1., 1., 1., 0., 0.],\n",
       "       [0., 0., 1., 1., 1., 1., 1., 0., 0.],\n",
       "       [0., 0., 1., 1., 1., 1., 1., 0., 0.],\n",
       "       [0., 0., 1., 1., 1., 1., 1., 0., 0.],\n",
       "       [0., 0., 0., 0., 0., 0., 0., 0., 0.],\n",
       "       [0., 0., 0., 0., 0., 0., 0., 0., 0.]])"
      ]
     },
     "execution_count": 17,
     "metadata": {},
     "output_type": "execute_result"
    }
   ],
   "source": [
    "b=np.zeros((9,9))\n",
    "b[2:7,2:7]=1\n",
    "b\n"
   ]
  },
  {
   "cell_type": "code",
   "execution_count": 69,
   "id": "d6fa2360",
   "metadata": {},
   "outputs": [],
   "source": [
    "b = np.ones((5,5))\n",
    "arr = b.arr"
   ]
  },
  {
   "cell_type": "code",
   "execution_count": null,
   "id": "b25569e6",
   "metadata": {},
   "outputs": [],
   "source": [
    "# [과제] np.zeros((8,8))을 이용해서 아래와 같이 출력하세요(두가지 방식 인덱싱,tile방식)\n",
    "array([[0, 1, 0, 1, 0, 1, 0, 1],\n",
    "       [1, 0, 1, 0, 1, 0, 1, 0],\n",
    "       [0, 1, 0, 1, 0, 1, 0, 1],\n",
    "       [1, 0, 1, 0, 1, 0, 1, 0],\n",
    "       [0, 1, 0, 1, 0, 1, 0, 1],\n",
    "       [1, 0, 1, 0, 1, 0, 1, 0],\n",
    "       [0, 1, 0, 1, 0, 1, 0, 1],\n",
    "       [1, 0, 1, 0, 1, 0, 1, 0]])\n"
   ]
  },
  {
   "cell_type": "code",
   "execution_count": 31,
   "id": "31cb1398",
   "metadata": {},
   "outputs": [
    {
     "data": {
      "text/plain": [
       "array([[0, 0, 0, 0, 0, 0, 0, 0],\n",
       "       [1, 0, 0, 0, 0, 0, 0, 0],\n",
       "       [0, 0, 0, 0, 0, 0, 0, 0],\n",
       "       [0, 0, 1, 0, 0, 0, 0, 0],\n",
       "       [0, 0, 0, 0, 0, 0, 0, 0],\n",
       "       [0, 0, 0, 0, 1, 0, 0, 0],\n",
       "       [0, 0, 0, 0, 0, 0, 0, 0],\n",
       "       [0, 0, 0, 0, 0, 0, 1, 0]])"
      ]
     },
     "execution_count": 31,
     "metadata": {},
     "output_type": "execute_result"
    }
   ],
   "source": [
    "b = np.zeros((8,8), dtype=int)\n",
    "b[[1,3,5,7],[0,2,4,6]]=1  \n",
    "b"
   ]
  },
  {
   "cell_type": "code",
   "execution_count": 34,
   "id": "1aa31c7d",
   "metadata": {},
   "outputs": [
    {
     "data": {
      "text/plain": [
       "array([[0, 1, 0, 1, 0, 1, 0, 1],\n",
       "       [1, 0, 1, 0, 1, 0, 1, 0],\n",
       "       [0, 1, 0, 1, 0, 1, 0, 1],\n",
       "       [1, 0, 1, 0, 1, 0, 1, 0],\n",
       "       [0, 1, 0, 1, 0, 1, 0, 1],\n",
       "       [1, 0, 1, 0, 1, 0, 1, 0],\n",
       "       [0, 1, 0, 1, 0, 1, 0, 1],\n",
       "       [1, 0, 1, 0, 1, 0, 1, 0]])"
      ]
     },
     "execution_count": 34,
     "metadata": {},
     "output_type": "execute_result"
    }
   ],
   "source": [
    "a = np.array([[0,1,0,1],[1,0,1,0]])\n",
    "np.tile(a,(4,2))"
   ]
  },
  {
   "cell_type": "code",
   "execution_count": null,
   "id": "6f03c582",
   "metadata": {},
   "outputs": [],
   "source": [
    "# [도전과제] np.arange(4)를 이용해서 아래와 같이 출력하세요.\n",
    "array([[0, 0, 0, 0, 0],\n",
    "       [1, 0, 0, 0, 0],\n",
    "       [0, 2, 0, 0, 0],\n",
    "       [0, 0, 3, 0, 0],\n",
    "       [0, 0, 0, 4, 0]])\n"
   ]
  },
  {
   "cell_type": "markdown",
   "id": "3d82b110",
   "metadata": {},
   "source": [
    "[파이썬 random 함수]"
   ]
  },
  {
   "cell_type": "code",
   "execution_count": 44,
   "id": "3fc7feeb",
   "metadata": {},
   "outputs": [
    {
     "name": "stdout",
     "output_type": "stream",
     "text": [
      "0.9742004201645091 \n",
      "\n",
      "9 \n",
      "\n",
      "18.47893204569474 \n",
      "\n",
      "6 \n",
      "\n",
      "3 \n",
      "\n",
      "[3, 5, 2] \n",
      "\n",
      "[3, 5, 1, 2, 4]\n"
     ]
    }
   ],
   "source": [
    "import random\n",
    "print(random.random(),'\\n') #0.0 <= x <1.0 사이\n",
    "print(random.randint(1,10),'\\n')  #1에서 10사이의 정수중에서 난수 값 리턴\n",
    "print(random.uniform(10,20),'\\n') # min max사이 float리턴\n",
    "print(random.randrange(10),'\\n') # 지정범위 int값을 지정\n",
    "print(random.choice([1,2,3,4,5]),'\\n') #리스트 내부에 있는 요소를 랜덤하게 선택\n",
    "li = [1,2,3,4,5]\n",
    "print(random.sample(li,3),'\\n') # 리스트 요소를 중복이 안되게 리턴\n",
    "random.shuffle(li)   #리스트 요소를 다시 섞어서 린턴\n",
    "print(li)\n"
   ]
  },
  {
   "cell_type": "markdown",
   "id": "f3dd1cca",
   "metadata": {},
   "source": [
    "[numpy random함수]\n",
    "\n",
    "- np.random.seed  :  seed를 통한 난수 생성\n",
    "- np.random.randint  :  정수 난수 1개 생성\n",
    "- np.random.rand  :  0부터 1사이의 균일분포에서 난수 매트릭스 배열 생성\n",
    "- np.random.randn  :  가우시안 표준 정규분포에서 난수  매트릭스 배열 생성\n",
    "- np.random.shuffle  :  기존의 데이터 순서 바꾸기\n",
    "- np.random.choice  :  기존 데이터에서 sampling "
   ]
  },
  {
   "cell_type": "code",
   "execution_count": 53,
   "id": "cd249b2a",
   "metadata": {
    "scrolled": true
   },
   "outputs": [
    {
     "name": "stdout",
     "output_type": "stream",
     "text": [
      "3 \n",
      "\n",
      "9 \n",
      "\n",
      "[4 0 3 6 9 0 2 8 3 8] \n",
      "\n",
      "[17 14 10 19 15 18 17 12 13 15] \n",
      "\n",
      "[[10 18 12 17 11]\n",
      " [13 19 14 15 17]\n",
      " [15 17 17 12 16]]\n"
     ]
    }
   ],
   "source": [
    "print(np.random.randint(6), '\\n')  # 0~5까지 정수인 난수 1개\n",
    "print(np.random.randint(1,20),'\\n') # 1~19까지 정수인 난수 1개\n",
    "print(np.random.randint(10,size=10),'\\n')  #0에서 9까지 정수인 난수 10개\n",
    "print(np.random.randint(10,20, size=10),'\\n')  # 10에서 19까지 정수인 난수 10개\n",
    "print(np.random.randint(10,20, size=(3,5)))  # 10 ~ 19까지 정수인 난수로 3행 5열 배열 생성"
   ]
  },
  {
   "cell_type": "code",
   "execution_count": 49,
   "id": "d1b6024e",
   "metadata": {},
   "outputs": [
    {
     "name": "stdout",
     "output_type": "stream",
     "text": [
      "[0.92367184 0.04466746 0.68390444 0.39979562 0.53051995 0.37566187] \n",
      "\n"
     ]
    },
    {
     "data": {
      "text/plain": [
       "0.4930368648998121"
      ]
     },
     "execution_count": 49,
     "metadata": {},
     "output_type": "execute_result"
    }
   ],
   "source": [
    "r = np.random.rand(6)  # 0 ~ 1 사이의 균일분포\n",
    "print(r,'\\n')\n",
    "r.mean()"
   ]
  },
  {
   "cell_type": "code",
   "execution_count": 31,
   "id": "8be57cf2",
   "metadata": {},
   "outputs": [
    {
     "name": "stdout",
     "output_type": "stream",
     "text": [
      "[-0.70702942 -0.62686981  0.20349052 -0.9748533  -0.41723524  0.81450272] \n",
      "\n"
     ]
    },
    {
     "data": {
      "text/plain": [
       "-0.28466575545955625"
      ]
     },
     "execution_count": 31,
     "metadata": {},
     "output_type": "execute_result"
    }
   ],
   "source": [
    "# 표준 정규분포 \n",
    "r = np.random.randn(6)\n",
    "print(r,'\\n')\n",
    "r.mean()"
   ]
  },
  {
   "cell_type": "code",
   "execution_count": 53,
   "id": "51ed0cbd",
   "metadata": {},
   "outputs": [
    {
     "name": "stdout",
     "output_type": "stream",
     "text": [
      "[1 2 3 4 5] \n",
      "\n"
     ]
    },
    {
     "data": {
      "text/plain": [
       "array([1, 4, 5, 2, 3])"
      ]
     },
     "execution_count": 53,
     "metadata": {},
     "output_type": "execute_result"
    }
   ],
   "source": [
    "list = np.arange(1,6)\n",
    "print(list,'\\n')\n",
    "np.random.shuffle(list)\n",
    "list"
   ]
  },
  {
   "cell_type": "code",
   "execution_count": 54,
   "id": "2e80170d",
   "metadata": {},
   "outputs": [
    {
     "data": {
      "text/plain": [
       "4"
      ]
     },
     "execution_count": 54,
     "metadata": {},
     "output_type": "execute_result"
    }
   ],
   "source": [
    "np.random.choice(list)"
   ]
  },
  {
   "cell_type": "code",
   "execution_count": 55,
   "id": "61fcbcf0",
   "metadata": {
    "scrolled": true
   },
   "outputs": [
    {
     "name": "stdout",
     "output_type": "stream",
     "text": [
      "[ 2  3  7 11]\n",
      "[3 2 1 2]\n"
     ]
    }
   ],
   "source": [
    "a = np.array([11,11,3,3,2,2,2,7])\n",
    "index,count = np.unique(a,return_counts=True)\n",
    "print(index)   #unique한 숫자를 추출\n",
    "print(count)  #2,3,7,11의 갯수"
   ]
  },
  {
   "cell_type": "code",
   "execution_count": 58,
   "id": "63c477d1",
   "metadata": {
    "scrolled": true
   },
   "outputs": [
    {
     "data": {
      "text/plain": [
       "array([1.58646537, 1.68151094, 1.97550979, 1.08455562, 1.61193221,\n",
       "       1.45481624, 1.79126734, 1.66154005, 1.27455196, 1.33765732])"
      ]
     },
     "execution_count": 58,
     "metadata": {},
     "output_type": "execute_result"
    }
   ],
   "source": [
    "np.random.uniform(1.0,2.0, 10)"
   ]
  },
  {
   "cell_type": "code",
   "execution_count": 3,
   "id": "a691714c",
   "metadata": {},
   "outputs": [
    {
     "name": "stdout",
     "output_type": "stream",
     "text": [
      "[[0.43053967 0.75487148 0.72176729]\n",
      " [0.22168412 0.5338501  0.78587806]]\n"
     ]
    }
   ],
   "source": [
    "print(np.random.uniform(0,1,(2,3)))   #최대, 최소값을 지정함 "
   ]
  },
  {
   "cell_type": "code",
   "execution_count": 57,
   "id": "aa570b2b",
   "metadata": {},
   "outputs": [
    {
     "data": {
      "text/plain": [
       "array([[0.67364491, 0.33432474, 0.44857534],\n",
       "       [0.35376261, 0.29685328, 0.17526121]])"
      ]
     },
     "execution_count": 57,
     "metadata": {},
     "output_type": "execute_result"
    }
   ],
   "source": [
    "# 0 ~ 1 사이의 난수 실수값으로 행렬 생성\n",
    "# uniform 함수의 최소값, 최대값을 각각 0, 1로 지정한 것과 같음 \n",
    "np.random.random_sample((2,3))"
   ]
  },
  {
   "cell_type": "code",
   "execution_count": 61,
   "id": "fc1fd29b",
   "metadata": {
    "scrolled": true
   },
   "outputs": [
    {
     "name": "stdout",
     "output_type": "stream",
     "text": [
      "Requirement already satisfied: pandas in c:\\users\\admin\\anaconda3\\envs\\cakd5\\lib\\site-packages (1.3.4)\n",
      "Requirement already satisfied: numpy>=1.17.3 in c:\\users\\admin\\anaconda3\\envs\\cakd5\\lib\\site-packages (from pandas) (1.21.2)\n",
      "Requirement already satisfied: python-dateutil>=2.7.3 in c:\\users\\admin\\anaconda3\\envs\\cakd5\\lib\\site-packages (from pandas) (2.8.2)\n",
      "Requirement already satisfied: pytz>=2017.3 in c:\\users\\admin\\anaconda3\\envs\\cakd5\\lib\\site-packages (from pandas) (2021.3)\n",
      "Requirement already satisfied: six>=1.5 in c:\\users\\admin\\anaconda3\\envs\\cakd5\\lib\\site-packages (from python-dateutil>=2.7.3->pandas) (1.16.0)\n"
     ]
    }
   ],
   "source": [
    "!pip install pandas"
   ]
  },
  {
   "cell_type": "code",
   "execution_count": 7,
   "id": "4aeb4d27",
   "metadata": {},
   "outputs": [
    {
     "data": {
      "text/plain": [
       "array([[0.09122515, 0.15722206, 0.39748393, 0.63877192, 0.457907  ,\n",
       "        0.76484824, 0.78349832, 0.81919947],\n",
       "       [0.69943432, 0.49327942, 0.47106977, 0.23876503, 0.70332819,\n",
       "        0.19214196, 0.29888798, 0.77101969],\n",
       "       [0.09047603, 0.21781636, 0.99489477, 0.82079653, 0.44444129,\n",
       "        0.48236628, 0.26392249, 0.39455605],\n",
       "       [0.62610247, 0.01003733, 0.64715409, 0.55254735, 0.73756492,\n",
       "        0.70100572, 0.94329671, 0.99121302]])"
      ]
     },
     "execution_count": 7,
     "metadata": {},
     "output_type": "execute_result"
    }
   ],
   "source": [
    "ar = np.random.rand(4,8)  #rand는 균일분포\n",
    "ar"
   ]
  },
  {
   "cell_type": "code",
   "execution_count": 8,
   "id": "e8b5cee4",
   "metadata": {
    "scrolled": true
   },
   "outputs": [
    {
     "name": "stdout",
     "output_type": "stream",
     "text": [
      "          0         1         2         3         4         5         6  \\\n",
      "0  0.091225  0.157222  0.397484  0.638772  0.457907  0.764848  0.783498   \n",
      "1  0.699434  0.493279  0.471070  0.238765  0.703328  0.192142  0.298888   \n",
      "2  0.090476  0.217816  0.994895  0.820797  0.444441  0.482366  0.263922   \n",
      "3  0.626102  0.010037  0.647154  0.552547  0.737565  0.701006  0.943297   \n",
      "\n",
      "          7  \n",
      "0  0.819199  \n",
      "1  0.771020  \n",
      "2  0.394556  \n",
      "3  0.991213   <class 'pandas.core.frame.DataFrame'>\n"
     ]
    }
   ],
   "source": [
    "# 배열을 데이타프레임으로 변환  (우선 ar의 rand로 만든다)  >>> (열이 있다)\n",
    "import pandas as pd\n",
    "df = pd.DataFrame(ar)\n",
    "print(df,type(df))"
   ]
  },
  {
   "cell_type": "code",
   "execution_count": 11,
   "id": "9afe8d74",
   "metadata": {
    "scrolled": true
   },
   "outputs": [
    {
     "data": {
      "text/html": [
       "<div>\n",
       "<style scoped>\n",
       "    .dataframe tbody tr th:only-of-type {\n",
       "        vertical-align: middle;\n",
       "    }\n",
       "\n",
       "    .dataframe tbody tr th {\n",
       "        vertical-align: top;\n",
       "    }\n",
       "\n",
       "    .dataframe thead th {\n",
       "        text-align: right;\n",
       "    }\n",
       "</style>\n",
       "<table border=\"1\" class=\"dataframe\">\n",
       "  <thead>\n",
       "    <tr style=\"text-align: right;\">\n",
       "      <th></th>\n",
       "      <th>id</th>\n",
       "      <th>gender</th>\n",
       "      <th>age</th>\n",
       "      <th>region</th>\n",
       "      <th>product</th>\n",
       "      <th>price</th>\n",
       "      <th>qty</th>\n",
       "      <th>time</th>\n",
       "    </tr>\n",
       "  </thead>\n",
       "  <tbody>\n",
       "    <tr>\n",
       "      <th>0</th>\n",
       "      <td>0.091225</td>\n",
       "      <td>0.157222</td>\n",
       "      <td>0.397484</td>\n",
       "      <td>0.638772</td>\n",
       "      <td>0.457907</td>\n",
       "      <td>0.764848</td>\n",
       "      <td>0.783498</td>\n",
       "      <td>0.819199</td>\n",
       "    </tr>\n",
       "    <tr>\n",
       "      <th>1</th>\n",
       "      <td>0.699434</td>\n",
       "      <td>0.493279</td>\n",
       "      <td>0.471070</td>\n",
       "      <td>0.238765</td>\n",
       "      <td>0.703328</td>\n",
       "      <td>0.192142</td>\n",
       "      <td>0.298888</td>\n",
       "      <td>0.771020</td>\n",
       "    </tr>\n",
       "    <tr>\n",
       "      <th>2</th>\n",
       "      <td>0.090476</td>\n",
       "      <td>0.217816</td>\n",
       "      <td>0.994895</td>\n",
       "      <td>0.820797</td>\n",
       "      <td>0.444441</td>\n",
       "      <td>0.482366</td>\n",
       "      <td>0.263922</td>\n",
       "      <td>0.394556</td>\n",
       "    </tr>\n",
       "    <tr>\n",
       "      <th>3</th>\n",
       "      <td>0.626102</td>\n",
       "      <td>0.010037</td>\n",
       "      <td>0.647154</td>\n",
       "      <td>0.552547</td>\n",
       "      <td>0.737565</td>\n",
       "      <td>0.701006</td>\n",
       "      <td>0.943297</td>\n",
       "      <td>0.991213</td>\n",
       "    </tr>\n",
       "  </tbody>\n",
       "</table>\n",
       "</div>"
      ],
      "text/plain": [
       "         id    gender       age    region   product     price       qty  \\\n",
       "0  0.091225  0.157222  0.397484  0.638772  0.457907  0.764848  0.783498   \n",
       "1  0.699434  0.493279  0.471070  0.238765  0.703328  0.192142  0.298888   \n",
       "2  0.090476  0.217816  0.994895  0.820797  0.444441  0.482366  0.263922   \n",
       "3  0.626102  0.010037  0.647154  0.552547  0.737565  0.701006  0.943297   \n",
       "\n",
       "       time  \n",
       "0  0.819199  \n",
       "1  0.771020  \n",
       "2  0.394556  \n",
       "3  0.991213  "
      ]
     },
     "execution_count": 11,
     "metadata": {},
     "output_type": "execute_result"
    }
   ],
   "source": [
    "columns = ['id','gender','age','region','product','price','qty','time']\n",
    "index = [np.arange(4)]\n",
    "df = pd.DataFrame(ar,index,columns=columns)\n",
    "df"
   ]
  },
  {
   "cell_type": "code",
   "execution_count": 27,
   "id": "82954d2f",
   "metadata": {
    "scrolled": true
   },
   "outputs": [
    {
     "data": {
      "text/html": [
       "<div>\n",
       "<style scoped>\n",
       "    .dataframe tbody tr th:only-of-type {\n",
       "        vertical-align: middle;\n",
       "    }\n",
       "\n",
       "    .dataframe tbody tr th {\n",
       "        vertical-align: top;\n",
       "    }\n",
       "\n",
       "    .dataframe thead th {\n",
       "        text-align: right;\n",
       "    }\n",
       "</style>\n",
       "<table border=\"1\" class=\"dataframe\">\n",
       "  <thead>\n",
       "    <tr style=\"text-align: right;\">\n",
       "      <th></th>\n",
       "      <th>ID</th>\n",
       "      <th>Gender</th>\n",
       "      <th>Age</th>\n",
       "    </tr>\n",
       "  </thead>\n",
       "  <tbody>\n",
       "    <tr>\n",
       "      <th>1</th>\n",
       "      <td>2451</td>\n",
       "      <td>M</td>\n",
       "      <td>20</td>\n",
       "    </tr>\n",
       "    <tr>\n",
       "      <th>2</th>\n",
       "      <td>1314</td>\n",
       "      <td>M</td>\n",
       "      <td>20</td>\n",
       "    </tr>\n",
       "    <tr>\n",
       "      <th>3</th>\n",
       "      <td>4214</td>\n",
       "      <td>F</td>\n",
       "      <td>30</td>\n",
       "    </tr>\n",
       "  </tbody>\n",
       "</table>\n",
       "</div>"
      ],
      "text/plain": [
       "     ID Gender Age\n",
       "1  2451      M  20\n",
       "2  1314      M  20\n",
       "3  4214      F  30"
      ]
     },
     "execution_count": 27,
     "metadata": {},
     "output_type": "execute_result"
    }
   ],
   "source": [
    "# Q. id, gender, age 컬럼에 대하여 의미있는 값으로 변환하여 3개의 컬럼으로 구성된 df를 출력하세요\n",
    "ID = np.random.randint(1000,10000,3)\n",
    "gen = np.random.choice(['M','F'],3)\n",
    "age = np.random.randint(10,40,3)\n",
    "\n",
    "data = np.array([ID,gen,age]).reshape(3,3).transpose()\n",
    "df=pd.DataFrame(data,np.arange(1,4),['ID','Gender','Age'])\n",
    "df\n",
    "\n",
    "\n"
   ]
  },
  {
   "cell_type": "code",
   "execution_count": 24,
   "id": "25db6384",
   "metadata": {},
   "outputs": [
    {
     "data": {
      "text/html": [
       "<div>\n",
       "<style scoped>\n",
       "    .dataframe tbody tr th:only-of-type {\n",
       "        vertical-align: middle;\n",
       "    }\n",
       "\n",
       "    .dataframe tbody tr th {\n",
       "        vertical-align: top;\n",
       "    }\n",
       "\n",
       "    .dataframe thead th {\n",
       "        text-align: right;\n",
       "    }\n",
       "</style>\n",
       "<table border=\"1\" class=\"dataframe\">\n",
       "  <thead>\n",
       "    <tr style=\"text-align: right;\">\n",
       "      <th></th>\n",
       "      <th>id</th>\n",
       "      <th>gender</th>\n",
       "      <th>age</th>\n",
       "    </tr>\n",
       "  </thead>\n",
       "  <tbody>\n",
       "    <tr>\n",
       "      <th>1</th>\n",
       "      <td>830.0</td>\n",
       "      <td>1.0</td>\n",
       "      <td>1.0</td>\n",
       "    </tr>\n",
       "    <tr>\n",
       "      <th>2</th>\n",
       "      <td>696.0</td>\n",
       "      <td>0.0</td>\n",
       "      <td>15.0</td>\n",
       "    </tr>\n",
       "    <tr>\n",
       "      <th>3</th>\n",
       "      <td>301.0</td>\n",
       "      <td>1.0</td>\n",
       "      <td>118.0</td>\n",
       "    </tr>\n",
       "    <tr>\n",
       "      <th>4</th>\n",
       "      <td>730.0</td>\n",
       "      <td>0.0</td>\n",
       "      <td>44.0</td>\n",
       "    </tr>\n",
       "    <tr>\n",
       "      <th>5</th>\n",
       "      <td>633.0</td>\n",
       "      <td>1.0</td>\n",
       "      <td>115.0</td>\n",
       "    </tr>\n",
       "    <tr>\n",
       "      <th>6</th>\n",
       "      <td>870.0</td>\n",
       "      <td>1.0</td>\n",
       "      <td>43.0</td>\n",
       "    </tr>\n",
       "    <tr>\n",
       "      <th>7</th>\n",
       "      <td>55.0</td>\n",
       "      <td>1.0</td>\n",
       "      <td>29.0</td>\n",
       "    </tr>\n",
       "    <tr>\n",
       "      <th>8</th>\n",
       "      <td>392.0</td>\n",
       "      <td>0.0</td>\n",
       "      <td>12.0</td>\n",
       "    </tr>\n",
       "    <tr>\n",
       "      <th>9</th>\n",
       "      <td>913.0</td>\n",
       "      <td>0.0</td>\n",
       "      <td>73.0</td>\n",
       "    </tr>\n",
       "    <tr>\n",
       "      <th>10</th>\n",
       "      <td>835.0</td>\n",
       "      <td>0.0</td>\n",
       "      <td>82.0</td>\n",
       "    </tr>\n",
       "  </tbody>\n",
       "</table>\n",
       "</div>"
      ],
      "text/plain": [
       "       id  gender    age\n",
       "1   830.0     1.0    1.0\n",
       "2   696.0     0.0   15.0\n",
       "3   301.0     1.0  118.0\n",
       "4   730.0     0.0   44.0\n",
       "5   633.0     1.0  115.0\n",
       "6   870.0     1.0   43.0\n",
       "7    55.0     1.0   29.0\n",
       "8   392.0     0.0   12.0\n",
       "9   913.0     0.0   73.0\n",
       "10  835.0     0.0   82.0"
      ]
     },
     "execution_count": 24,
     "metadata": {},
     "output_type": "execute_result"
    }
   ],
   "source": [
    "ID = np.random.randint(1000,10000,3)\n",
    "gen = np.random.choice(['M','F'],3)\n",
    "age = np.random.randint(10,40,3)\n",
    "\n",
    "data = np.array([ID,gen,age]).reshape(3,3).transpose()\n",
    "df=pd.DataFrame(data,np.arange(1,4),['ID','Gender','Age'])\n",
    "df\n",
    "h = np.zeros((3, 10))\n",
    "id_ = np.random.randint(1, 1000, size = (1, 10))\n",
    "gender = np.random.randint(2, size = (1, 10))\n",
    "age = np.random.randint(0, 120, size = (1, 10))\n",
    "\n",
    "h[0] = id_\n",
    "h[1] = gender\n",
    "h[2] = age\n",
    "\n",
    "h = np.transpose(h)\n",
    "\n",
    "columns = ['id', 'gender', 'age']\n",
    "index = np.arange(1, 11)\n",
    "df = pd.DataFrame(h, index, columns = columns)\n",
    "\n",
    "df\n"
   ]
  },
  {
   "cell_type": "code",
   "execution_count": 67,
   "id": "ff25afa7",
   "metadata": {},
   "outputs": [
    {
     "data": {
      "text/html": [
       "<div>\n",
       "<style scoped>\n",
       "    .dataframe tbody tr th:only-of-type {\n",
       "        vertical-align: middle;\n",
       "    }\n",
       "\n",
       "    .dataframe tbody tr th {\n",
       "        vertical-align: top;\n",
       "    }\n",
       "\n",
       "    .dataframe thead th {\n",
       "        text-align: right;\n",
       "    }\n",
       "</style>\n",
       "<table border=\"1\" class=\"dataframe\">\n",
       "  <thead>\n",
       "    <tr style=\"text-align: right;\">\n",
       "      <th></th>\n",
       "      <th>id</th>\n",
       "      <th>gender</th>\n",
       "      <th>age</th>\n",
       "    </tr>\n",
       "  </thead>\n",
       "  <tbody>\n",
       "    <tr>\n",
       "      <th>0</th>\n",
       "      <td>1</td>\n",
       "      <td>0</td>\n",
       "      <td>10</td>\n",
       "    </tr>\n",
       "    <tr>\n",
       "      <th>1</th>\n",
       "      <td>2</td>\n",
       "      <td>1</td>\n",
       "      <td>20</td>\n",
       "    </tr>\n",
       "    <tr>\n",
       "      <th>2</th>\n",
       "      <td>3</td>\n",
       "      <td>1</td>\n",
       "      <td>30</td>\n",
       "    </tr>\n",
       "    <tr>\n",
       "      <th>3</th>\n",
       "      <td>4</td>\n",
       "      <td>0</td>\n",
       "      <td>40</td>\n",
       "    </tr>\n",
       "  </tbody>\n",
       "</table>\n",
       "</div>"
      ],
      "text/plain": [
       "   id  gender  age\n",
       "0   1       0   10\n",
       "1   2       1   20\n",
       "2   3       1   30\n",
       "3   4       0   40"
      ]
     },
     "execution_count": 67,
     "metadata": {},
     "output_type": "execute_result"
    }
   ],
   "source": [
    "ar = np.zeros((4,3))\n",
    "columns = ['id','gender','age']\n",
    "index = [np.arange(4)]   \n",
    "df = pd.DataFrame(ar,index,columns=columns)\n",
    "#df.id = np.array([1,2,3,4])\n",
    "df.id= np.arange(1,5)     # 값이 많으면 random함수를 써서 작성\n",
    "#df.gender = np.array([0,1,0,1])\n",
    "np.random.seed(0)\n",
    "df.gender = np.random.randint(2,size=4)\n",
    "#df.age = np.array([20,30,40,50])\n",
    "df.age = np.arange(1,5)*10\n",
    "df\n",
    "\n"
   ]
  },
  {
   "cell_type": "markdown",
   "id": "979ef7ae",
   "metadata": {},
   "source": [
    "#[과제] 아래 가이드에 따라서 고객 구매데이터를 생성하고 데이터 프레임으로 변환하여 출력하세요.(관측치 = 행, 1000개)\n",
    " - id: 1~1000번 일련번호\n",
    " - gender : 0,1정수 난수 생성\n",
    " - age : 0~80사이 정수 난수 생성\n",
    " - region : 1~10사이의 정수 난수 생성\n",
    " - product_19 : 제품코드 11111 ~ 99999\n",
    " - product_20 : 제품코드 11111 ~ 99999\n",
    " - price_19: 1000~50000 사이 실수 난수 생성\n",
    " - price_20: 1000~50000 사이 실수 난수 생성\n",
    " - quantity_19:1~100 사이 정수 난수 생성\n",
    " - quantity_20:1~100 사이 정수 난수 생성\n",
    " - time_19:01~24 사이 정수 난수 생성\n",
    " - time_20:01~24 사이 정수 난수 생성\n",
    " - amount_19:price_19* quantity_19\n",
    " - amount_20:price_20* quantity_20\n",
    " - sales : 19년 대비 20년 구매금액이 증가하면1, 감소하면 0\n",
    " "
   ]
  },
  {
   "cell_type": "code",
   "execution_count": 72,
   "id": "1cae59d0",
   "metadata": {},
   "outputs": [
    {
     "data": {
      "text/html": [
       "<div>\n",
       "<style scoped>\n",
       "    .dataframe tbody tr th:only-of-type {\n",
       "        vertical-align: middle;\n",
       "    }\n",
       "\n",
       "    .dataframe tbody tr th {\n",
       "        vertical-align: top;\n",
       "    }\n",
       "\n",
       "    .dataframe thead th {\n",
       "        text-align: right;\n",
       "    }\n",
       "</style>\n",
       "<table border=\"1\" class=\"dataframe\">\n",
       "  <thead>\n",
       "    <tr style=\"text-align: right;\">\n",
       "      <th></th>\n",
       "      <th>id</th>\n",
       "      <th>gender</th>\n",
       "      <th>age</th>\n",
       "    </tr>\n",
       "  </thead>\n",
       "  <tbody>\n",
       "    <tr>\n",
       "      <th>0</th>\n",
       "      <td>1</td>\n",
       "      <td>0</td>\n",
       "      <td>10</td>\n",
       "    </tr>\n",
       "    <tr>\n",
       "      <th>1</th>\n",
       "      <td>2</td>\n",
       "      <td>1</td>\n",
       "      <td>20</td>\n",
       "    </tr>\n",
       "    <tr>\n",
       "      <th>2</th>\n",
       "      <td>3</td>\n",
       "      <td>1</td>\n",
       "      <td>30</td>\n",
       "    </tr>\n",
       "    <tr>\n",
       "      <th>3</th>\n",
       "      <td>4</td>\n",
       "      <td>0</td>\n",
       "      <td>40</td>\n",
       "    </tr>\n",
       "  </tbody>\n",
       "</table>\n",
       "</div>"
      ],
      "text/plain": [
       "   id  gender  age\n",
       "0   1       0   10\n",
       "1   2       1   20\n",
       "2   3       1   30\n",
       "3   4       0   40"
      ]
     },
     "execution_count": 72,
     "metadata": {},
     "output_type": "execute_result"
    }
   ],
   "source": [
    "ar = np.zeros((4,3))\n",
    "columns = ['id','gender','age']\n",
    "index = [np.arange(4)]   \n",
    "df = pd.DataFrame(ar,index,columns=columns)\n",
    "#df.id = np.array([1,2,3,4])\n",
    "df.id= np.arange(1,5)     # 값이 많으면 random함수를 써서 작성\n",
    "#df.gender = np.array([0,1,0,1])\n",
    "np.random.seed(0)\n",
    "df.gender = np.random.randint(2,size=4)\n",
    "#df.age = np.array([20,30,40,50])\n",
    "df.age = np.arange(1,5)*10\n",
    "df"
   ]
  },
  {
   "cell_type": "code",
   "execution_count": 9,
   "id": "663ac32f",
   "metadata": {},
   "outputs": [
    {
     "name": "stdout",
     "output_type": "stream",
     "text": [
      "(10000, 14)\n"
     ]
    },
    {
     "data": {
      "text/html": [
       "<div>\n",
       "<style scoped>\n",
       "    .dataframe tbody tr th:only-of-type {\n",
       "        vertical-align: middle;\n",
       "    }\n",
       "\n",
       "    .dataframe tbody tr th {\n",
       "        vertical-align: top;\n",
       "    }\n",
       "\n",
       "    .dataframe thead th {\n",
       "        text-align: right;\n",
       "    }\n",
       "</style>\n",
       "<table border=\"1\" class=\"dataframe\">\n",
       "  <thead>\n",
       "    <tr style=\"text-align: right;\">\n",
       "      <th></th>\n",
       "      <th>id</th>\n",
       "      <th>gender</th>\n",
       "      <th>age</th>\n",
       "      <th>product_19</th>\n",
       "      <th>product_20</th>\n",
       "      <th>price_19</th>\n",
       "      <th>price_20</th>\n",
       "      <th>quantity_19</th>\n",
       "      <th>quantity_20</th>\n",
       "      <th>time_19</th>\n",
       "      <th>time_20</th>\n",
       "      <th>amount_19</th>\n",
       "      <th>amount_20</th>\n",
       "      <th>sales</th>\n",
       "    </tr>\n",
       "  </thead>\n",
       "  <tbody>\n",
       "    <tr>\n",
       "      <th>1</th>\n",
       "      <td>1</td>\n",
       "      <td>M</td>\n",
       "      <td>10</td>\n",
       "      <td>134</td>\n",
       "      <td>129</td>\n",
       "      <td>32700</td>\n",
       "      <td>20500</td>\n",
       "      <td>51</td>\n",
       "      <td>65</td>\n",
       "      <td>21</td>\n",
       "      <td>3</td>\n",
       "      <td>1667700</td>\n",
       "      <td>1332500</td>\n",
       "      <td>0</td>\n",
       "    </tr>\n",
       "    <tr>\n",
       "      <th>2</th>\n",
       "      <td>2</td>\n",
       "      <td>F</td>\n",
       "      <td>36</td>\n",
       "      <td>182</td>\n",
       "      <td>186</td>\n",
       "      <td>13000</td>\n",
       "      <td>42200</td>\n",
       "      <td>89</td>\n",
       "      <td>27</td>\n",
       "      <td>22</td>\n",
       "      <td>21</td>\n",
       "      <td>1157000</td>\n",
       "      <td>1139400</td>\n",
       "      <td>0</td>\n",
       "    </tr>\n",
       "    <tr>\n",
       "      <th>3</th>\n",
       "      <td>3</td>\n",
       "      <td>F</td>\n",
       "      <td>79</td>\n",
       "      <td>122</td>\n",
       "      <td>161</td>\n",
       "      <td>47600</td>\n",
       "      <td>1100</td>\n",
       "      <td>70</td>\n",
       "      <td>24</td>\n",
       "      <td>4</td>\n",
       "      <td>19</td>\n",
       "      <td>3332000</td>\n",
       "      <td>26400</td>\n",
       "      <td>0</td>\n",
       "    </tr>\n",
       "    <tr>\n",
       "      <th>4</th>\n",
       "      <td>4</td>\n",
       "      <td>M</td>\n",
       "      <td>33</td>\n",
       "      <td>197</td>\n",
       "      <td>154</td>\n",
       "      <td>44200</td>\n",
       "      <td>36600</td>\n",
       "      <td>34</td>\n",
       "      <td>7</td>\n",
       "      <td>18</td>\n",
       "      <td>21</td>\n",
       "      <td>1502800</td>\n",
       "      <td>256200</td>\n",
       "      <td>0</td>\n",
       "    </tr>\n",
       "    <tr>\n",
       "      <th>5</th>\n",
       "      <td>5</td>\n",
       "      <td>F</td>\n",
       "      <td>59</td>\n",
       "      <td>146</td>\n",
       "      <td>173</td>\n",
       "      <td>26900</td>\n",
       "      <td>22500</td>\n",
       "      <td>89</td>\n",
       "      <td>28</td>\n",
       "      <td>12</td>\n",
       "      <td>11</td>\n",
       "      <td>2394100</td>\n",
       "      <td>630000</td>\n",
       "      <td>0</td>\n",
       "    </tr>\n",
       "    <tr>\n",
       "      <th>...</th>\n",
       "      <td>...</td>\n",
       "      <td>...</td>\n",
       "      <td>...</td>\n",
       "      <td>...</td>\n",
       "      <td>...</td>\n",
       "      <td>...</td>\n",
       "      <td>...</td>\n",
       "      <td>...</td>\n",
       "      <td>...</td>\n",
       "      <td>...</td>\n",
       "      <td>...</td>\n",
       "      <td>...</td>\n",
       "      <td>...</td>\n",
       "      <td>...</td>\n",
       "    </tr>\n",
       "    <tr>\n",
       "      <th>9996</th>\n",
       "      <td>9996</td>\n",
       "      <td>M</td>\n",
       "      <td>3</td>\n",
       "      <td>218</td>\n",
       "      <td>179</td>\n",
       "      <td>40100</td>\n",
       "      <td>48800</td>\n",
       "      <td>23</td>\n",
       "      <td>8</td>\n",
       "      <td>9</td>\n",
       "      <td>15</td>\n",
       "      <td>922300</td>\n",
       "      <td>390400</td>\n",
       "      <td>0</td>\n",
       "    </tr>\n",
       "    <tr>\n",
       "      <th>9997</th>\n",
       "      <td>9997</td>\n",
       "      <td>F</td>\n",
       "      <td>33</td>\n",
       "      <td>167</td>\n",
       "      <td>214</td>\n",
       "      <td>23900</td>\n",
       "      <td>18400</td>\n",
       "      <td>3</td>\n",
       "      <td>50</td>\n",
       "      <td>15</td>\n",
       "      <td>24</td>\n",
       "      <td>71700</td>\n",
       "      <td>920000</td>\n",
       "      <td>1</td>\n",
       "    </tr>\n",
       "    <tr>\n",
       "      <th>9998</th>\n",
       "      <td>9998</td>\n",
       "      <td>M</td>\n",
       "      <td>34</td>\n",
       "      <td>130</td>\n",
       "      <td>184</td>\n",
       "      <td>17300</td>\n",
       "      <td>25700</td>\n",
       "      <td>11</td>\n",
       "      <td>91</td>\n",
       "      <td>10</td>\n",
       "      <td>24</td>\n",
       "      <td>190300</td>\n",
       "      <td>2338700</td>\n",
       "      <td>1</td>\n",
       "    </tr>\n",
       "    <tr>\n",
       "      <th>9999</th>\n",
       "      <td>9999</td>\n",
       "      <td>F</td>\n",
       "      <td>10</td>\n",
       "      <td>113</td>\n",
       "      <td>210</td>\n",
       "      <td>12800</td>\n",
       "      <td>45300</td>\n",
       "      <td>62</td>\n",
       "      <td>57</td>\n",
       "      <td>7</td>\n",
       "      <td>4</td>\n",
       "      <td>793600</td>\n",
       "      <td>2582100</td>\n",
       "      <td>1</td>\n",
       "    </tr>\n",
       "    <tr>\n",
       "      <th>10000</th>\n",
       "      <td>10000</td>\n",
       "      <td>M</td>\n",
       "      <td>72</td>\n",
       "      <td>185</td>\n",
       "      <td>116</td>\n",
       "      <td>19900</td>\n",
       "      <td>10700</td>\n",
       "      <td>66</td>\n",
       "      <td>68</td>\n",
       "      <td>23</td>\n",
       "      <td>6</td>\n",
       "      <td>1313400</td>\n",
       "      <td>727600</td>\n",
       "      <td>0</td>\n",
       "    </tr>\n",
       "  </tbody>\n",
       "</table>\n",
       "<p>10000 rows × 14 columns</p>\n",
       "</div>"
      ],
      "text/plain": [
       "          id gender  age  product_19  product_20  price_19  price_20  \\\n",
       "1          1      M   10         134         129     32700     20500   \n",
       "2          2      F   36         182         186     13000     42200   \n",
       "3          3      F   79         122         161     47600      1100   \n",
       "4          4      M   33         197         154     44200     36600   \n",
       "5          5      F   59         146         173     26900     22500   \n",
       "...      ...    ...  ...         ...         ...       ...       ...   \n",
       "9996    9996      M    3         218         179     40100     48800   \n",
       "9997    9997      F   33         167         214     23900     18400   \n",
       "9998    9998      M   34         130         184     17300     25700   \n",
       "9999    9999      F   10         113         210     12800     45300   \n",
       "10000  10000      M   72         185         116     19900     10700   \n",
       "\n",
       "       quantity_19  quantity_20  time_19  time_20  amount_19  amount_20  sales  \n",
       "1               51           65       21        3    1667700    1332500      0  \n",
       "2               89           27       22       21    1157000    1139400      0  \n",
       "3               70           24        4       19    3332000      26400      0  \n",
       "4               34            7       18       21    1502800     256200      0  \n",
       "5               89           28       12       11    2394100     630000      0  \n",
       "...            ...          ...      ...      ...        ...        ...    ...  \n",
       "9996            23            8        9       15     922300     390400      0  \n",
       "9997             3           50       15       24      71700     920000      1  \n",
       "9998            11           91       10       24     190300    2338700      1  \n",
       "9999            62           57        7        4     793600    2582100      1  \n",
       "10000           66           68       23        6    1313400     727600      0  \n",
       "\n",
       "[10000 rows x 14 columns]"
      ]
     },
     "execution_count": 9,
     "metadata": {},
     "output_type": "execute_result"
    }
   ],
   "source": [
    "import warnings\n",
    "warnings.filterwarnings('ignore')\n",
    "import numpy as np\n",
    "import pandas as pd\n",
    "\n",
    "customer = 10000\n",
    "\n",
    "array = np.zeros((customer,14),dtype = int)\n",
    "df = pd.DataFrame(array,(np.arange(1,customer+1)),\\\n",
    "                  columns = ['id','gender','age','product_19','product_20','price_19','price_20','quantity_19','quantity_20','time_19','time_20','amount_19','amount_20','sales'])\n",
    "np.random.seed(0)\n",
    "df.id = np.arange(1,customer+1)\n",
    "df.gender = np.random.choice(['M','F'],customer)\n",
    "df.age = np.random.randint(1,81,size=customer)\n",
    "df.product_19 = np.random.randint(111,222,size = customer)\n",
    "df.product_20 = np.random.randint(111,222,size = customer)\n",
    "\n",
    "pricearray= np.random.randint(10,500,size = 1000)*100\n",
    "\n",
    "for i in range(1,customer+1):\n",
    "    df.price_19[i] = pricearray[df.product_19[i]]\n",
    "    df.price_20[i] = pricearray[df.product_20[i]]\n",
    "\n",
    "df.quantity_19 = np.random.randint(1,101,size = customer)\n",
    "df.quantity_20 = np.random.randint(1,101,size = customer)\n",
    "\n",
    "df.time_19 = np.random.randint(1,25,size = customer)\n",
    "df.time_20 = np.random.randint(1,25,size = customer)\n",
    "\n",
    "df.amount_19 = df.price_19*df.quantity_19\n",
    "df.amount_20 = df.price_20*df.quantity_20\n",
    "\n",
    "for i in range(1,customer+1):\n",
    "    if df.amount_20[i]>df.amount_19[i]:\n",
    "        df.sales[i] = 1\n",
    "    else:\n",
    "        df.sales[i] = 0\n",
    "print(df.shape)\n",
    "df"
   ]
  },
  {
   "cell_type": "code",
   "execution_count": 8,
   "id": "68141b73",
   "metadata": {},
   "outputs": [
    {
     "name": "stdout",
     "output_type": "stream",
     "text": [
      "5034\n"
     ]
    }
   ],
   "source": [
    "df[df.sales==0]\n",
    "print(len(df[df.sales==0]))\n",
    "# df[df.sales==1].head()"
   ]
  }
 ],
 "metadata": {
  "kernelspec": {
   "display_name": "Python 3 (ipykernel)",
   "language": "python",
   "name": "python3"
  },
  "language_info": {
   "codemirror_mode": {
    "name": "ipython",
    "version": 3
   },
   "file_extension": ".py",
   "mimetype": "text/x-python",
   "name": "python",
   "nbconvert_exporter": "python",
   "pygments_lexer": "ipython3",
   "version": "3.9.7"
  }
 },
 "nbformat": 4,
 "nbformat_minor": 5
}
