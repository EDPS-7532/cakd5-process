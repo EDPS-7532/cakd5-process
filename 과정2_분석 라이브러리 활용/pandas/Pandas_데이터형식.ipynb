{
 "cells": [
  {
   "cell_type": "markdown",
   "id": "edd19116",
   "metadata": {},
   "source": [
    "## 판다스\n",
    "\n",
    " - 판다스를 구조화된 데이터 형식을 제공. 시리즈는 1차원 배열, 데이터프레임은 2차원 배열\n",
    " - 라이브러리는 여러 종류의 class와 다양한 내장 함수로 구성. 시리즈와 데이터프레임은 대표적인 클래스 객체임\n",
    " - 시리즈 인덱스는 데이터값과 일대일 대응, 파이썬 딕셔너리와 비슷한 구조. pandas.Series(딕셔너리)\n",
    " - Contents\n",
    "   - Series(변환, 인덱스 구조, 원소 선택)\n",
    "   - DataFrame(변환, 인덱스, 삭제, 선택, 추가, 변경, 전치 등)\n",
    "  "
   ]
  },
  {
   "cell_type": "markdown",
   "id": "381831a3",
   "metadata": {},
   "source": [
    "라이브러리 > 모듈 > 클래스 > 함수\n",
    "import : 외장(파이썬 할때 같이 설치)"
   ]
  },
  {
   "cell_type": "code",
   "execution_count": 3,
   "id": "d5f9246c",
   "metadata": {},
   "outputs": [
    {
     "name": "stdout",
     "output_type": "stream",
     "text": [
      "a    1\n",
      "b    2\n",
      "c    3\n",
      "dtype: int64 <class 'pandas.core.series.Series'>\n"
     ]
    }
   ],
   "source": [
    "# 딕셔러니를 시리즈로 변환\n",
    "import pandas as pd  #pd:판다스의 별칭\n",
    "\n",
    "dic_data = {'a':1,'b':2,'c':3}\n",
    "sr = pd.Series(dic_data)\n",
    "print(sr,type(sr))"
   ]
  },
  {
   "cell_type": "code",
   "execution_count": 5,
   "id": "e6069c9b",
   "metadata": {},
   "outputs": [
    {
     "name": "stdout",
     "output_type": "stream",
     "text": [
      "a    2021-01-29\n",
      "b          3.14\n",
      "c           BBC\n",
      "d           752\n",
      "e          True\n",
      "dtype: object <class 'pandas.core.series.Series'>\n"
     ]
    }
   ],
   "source": [
    "# 리스트를 시리즈로 변환\n",
    "\n",
    "list_data = ['2021-01-29',3.14,'BBC',752,True]\n",
    "sr = pd.Series(list_data, index=['a','b','c','d','e'])\n",
    "print(sr,type(sr))"
   ]
  },
  {
   "cell_type": "code",
   "execution_count": 8,
   "id": "f60652ba",
   "metadata": {},
   "outputs": [
    {
     "name": "stdout",
     "output_type": "stream",
     "text": [
      "Index(['a', 'b', 'c', 'd', 'e'], dtype='object')\n",
      "['2021-01-29' 3.14 'BBC' 752 True]\n"
     ]
    }
   ],
   "source": [
    "idx = sr.index\n",
    "print(idx)\n",
    "val = sr.values\n",
    "print(val)"
   ]
  },
  {
   "cell_type": "code",
   "execution_count": 9,
   "id": "9d8b42c0",
   "metadata": {},
   "outputs": [
    {
     "name": "stdout",
     "output_type": "stream",
     "text": [
      "이름              영인\n",
      "생년월일    2015-05-04\n",
      "성별               여\n",
      "학생여부          True\n",
      "dtype: object <class 'pandas.core.series.Series'>\n"
     ]
    }
   ],
   "source": [
    "# 튜플을 시리즈로 변환\n",
    "tup_data = ('영인','2015-05-04','여',True)\n",
    "sr = pd.Series(tup_data,index=['이름','생년월일','성별','학생여부'])\n",
    "print(sr,type(sr))"
   ]
  },
  {
   "cell_type": "code",
   "execution_count": 10,
   "id": "a2c10548",
   "metadata": {},
   "outputs": [
    {
     "name": "stdout",
     "output_type": "stream",
     "text": [
      "영인\n",
      "영인 \n",
      "\n"
     ]
    }
   ],
   "source": [
    "print(sr[0])    # 정수 위치 인덱스\n",
    "print(sr['이름'],'\\n')   #이름 인덱스\n",
    "#둘다 결과는 같다."
   ]
  },
  {
   "cell_type": "code",
   "execution_count": 14,
   "id": "3f81c017",
   "metadata": {},
   "outputs": [
    {
     "name": "stdout",
     "output_type": "stream",
     "text": [
      "생년월일    2015-05-04\n",
      "성별               여\n",
      "dtype: object \n",
      "\n",
      "생년월일    2015-05-04\n",
      "성별               여\n",
      "dtype: object\n"
     ]
    }
   ],
   "source": [
    "print(sr['생년월일':'성별'],'\\n')\n",
    "print(sr[1:3])"
   ]
  },
  {
   "cell_type": "code",
   "execution_count": 15,
   "id": "6cff44c7",
   "metadata": {},
   "outputs": [
    {
     "name": "stdout",
     "output_type": "stream",
     "text": [
      "생년월일    2015-05-04\n",
      "학생여부          True\n",
      "dtype: object\n"
     ]
    }
   ],
   "source": [
    "print(sr[[1,3]])  # 대괄호 하나 더 있으면 각각 추출 가능"
   ]
  },
  {
   "cell_type": "code",
   "execution_count": 16,
   "id": "4c3666dd",
   "metadata": {},
   "outputs": [
    {
     "name": "stdout",
     "output_type": "stream",
     "text": [
      "[11 12 13 14 15] <class 'numpy.ndarray'> \n",
      "\n",
      "ED1    11\n",
      "ED2    12\n",
      "ED3    13\n",
      "ED4    14\n",
      "ED5    15\n",
      "dtype: int32 <class 'pandas.core.series.Series'>\n"
     ]
    }
   ],
   "source": [
    "#배열을 시리즈로 변환\n",
    "import numpy as np\n",
    "\n",
    "s1 = np.arange(start=11,stop=16)\n",
    "s2 = pd.Series(s1,index=['ED1','ED2','ED3','ED4','ED5'])    #배열을 넣고 인덱스를 넣는다\n",
    "print(s1,type(s1),'\\n')\n",
    "print(s2,type(s2))"
   ]
  },
  {
   "cell_type": "code",
   "execution_count": 19,
   "id": "be8d4056",
   "metadata": {},
   "outputs": [
    {
     "name": "stdout",
     "output_type": "stream",
     "text": [
      "ED2    12\n",
      "ED3    13\n",
      "dtype: int32 \n",
      "\n"
     ]
    }
   ],
   "source": [
    "print(s2[1:3],'\\n')"
   ]
  },
  {
   "cell_type": "code",
   "execution_count": 17,
   "id": "0b8817f7",
   "metadata": {
    "scrolled": true
   },
   "outputs": [
    {
     "name": "stdout",
     "output_type": "stream",
     "text": [
      "ED2    12\n",
      "ED3    13\n",
      "dtype: int32\n"
     ]
    }
   ],
   "source": [
    "print(s2[1:3],'\\n')"
   ]
  },
  {
   "cell_type": "code",
   "execution_count": 22,
   "id": "5601eaf3",
   "metadata": {},
   "outputs": [
    {
     "name": "stdout",
     "output_type": "stream",
     "text": [
      "<class 'pandas.core.series.Series'>\n",
      "[11 12 13 14 15] <class 'numpy.ndarray'>\n"
     ]
    }
   ],
   "source": [
    "#Series를 배열로 변환\n",
    "\n",
    "print(type(s2))\n",
    "# 배열로 전환하는 공식\n",
    "ar = np.array(s2)\n",
    "print(ar,type(ar))"
   ]
  },
  {
   "cell_type": "code",
   "execution_count": null,
   "id": "9b86bc2a",
   "metadata": {},
   "outputs": [],
   "source": [
    "# Q. 4가지 자료형 데이터를 생성하고 각각 Series로 변환하여 출력하세요"
   ]
  },
  {
   "cell_type": "code",
   "execution_count": 25,
   "id": "a7ae44d2",
   "metadata": {},
   "outputs": [
    {
     "name": "stdout",
     "output_type": "stream",
     "text": [
      "restroy       1\n",
      "Prots         2\n",
      "Champberry    3\n",
      "Annecy        4\n",
      "dtype: int64 <class 'pandas.core.series.Series'>\n"
     ]
    }
   ],
   "source": [
    "dic_data = {'restroy':1,'Prots':2,'Champberry':3,'Annecy':4}\n",
    "sr = pd.Series(dic_data)\n",
    "print(sr,type(sr))"
   ]
  },
  {
   "cell_type": "code",
   "execution_count": 27,
   "id": "378fe854",
   "metadata": {},
   "outputs": [
    {
     "name": "stdout",
     "output_type": "stream",
     "text": [
      "x       restory\n",
      "y          Pros\n",
      "z    Champberry\n",
      "k        Annecy\n",
      "dtype: object <class 'pandas.core.series.Series'>\n"
     ]
    }
   ],
   "source": [
    "list_data = ['restory','Pros','Champberry','Annecy']\n",
    "sr = pd.Series(list_data, index=['x','y','z','k'])\n",
    "print(sr,type(sr))"
   ]
  },
  {
   "cell_type": "code",
   "execution_count": 28,
   "id": "f178dd85",
   "metadata": {
    "scrolled": true
   },
   "outputs": [
    {
     "name": "stdout",
     "output_type": "stream",
     "text": [
      "restory          restory\n",
      "Pros                Pros\n",
      "Champberry    Champberry\n",
      "Annecy            Annecy\n",
      "dtype: object <class 'pandas.core.series.Series'>\n"
     ]
    }
   ],
   "source": [
    "tup_data = ('restory','Pros','Champberry','Annecy')\n",
    "sr = pd.Series(tup_data,index=['restory','Pros','Champberry','Annecy'])\n",
    "print(sr,type(sr))"
   ]
  },
  {
   "cell_type": "code",
   "execution_count": 29,
   "id": "03cdf6f4",
   "metadata": {},
   "outputs": [
    {
     "name": "stdout",
     "output_type": "stream",
     "text": [
      "[11 12 13 14 15] <class 'numpy.ndarray'> \n",
      "\n",
      "ED1    11\n",
      "ED2    12\n",
      "ED3    13\n",
      "ED4    14\n",
      "ED5    15\n",
      "dtype: int32 <class 'pandas.core.series.Series'>\n"
     ]
    }
   ],
   "source": [
    "s1 = np.arange(start=11,stop=16)\n",
    "s2 = pd.Series(s1,index=['ED1','ED2','ED3','ED4','ED5'])   \n",
    "print(s1,type(s1),'\\n')\n",
    "print(s2,type(s2))"
   ]
  },
  {
   "cell_type": "code",
   "execution_count": 33,
   "id": "769caa50",
   "metadata": {
    "scrolled": false
   },
   "outputs": [
    {
     "data": {
      "text/plain": [
       "Califonia    1000\n",
       "Ohio         2000\n",
       "Oregon       3000\n",
       "Texas        4000\n",
       "Name: population, dtype: int32"
      ]
     },
     "execution_count": 33,
     "metadata": {},
     "output_type": "execute_result"
    }
   ],
   "source": [
    "data = np.arange(1000,5000,1000)\n",
    "obj = pd.Series(data)\n",
    "state = ['Califonia','Ohio','Oregon','Texas']\n",
    "obj.name = 'population'\n",
    "obj.index = state\n",
    "# obj.index.name = 'state' 데이터의 이름을 짓는방법\n",
    "obj"
   ]
  },
  {
   "cell_type": "code",
   "execution_count": 34,
   "id": "caf3ad94",
   "metadata": {
    "scrolled": false
   },
   "outputs": [
    {
     "data": {
      "text/plain": [
       "Califonia       NaN\n",
       "Ohio         2000.0\n",
       "Oregon       3000.0\n",
       "Texas        4000.0\n",
       "Name: population, dtype: float64"
      ]
     },
     "execution_count": 34,
     "metadata": {},
     "output_type": "execute_result"
    }
   ],
   "source": [
    "obj. Califonia = np.nan   #nan = null(nan을 설정하는방법1)\n",
    "obj"
   ]
  },
  {
   "cell_type": "code",
   "execution_count": 39,
   "id": "11291289",
   "metadata": {},
   "outputs": [
    {
     "data": {
      "text/plain": [
       "Califonia       NaN\n",
       "Ohio         2000.0\n",
       "Oregon       3000.0\n",
       "Texas        4000.0\n",
       "Newyork      3000.0\n",
       "Name: population, dtype: float64"
      ]
     },
     "execution_count": 39,
     "metadata": {},
     "output_type": "execute_result"
    }
   ],
   "source": [
    "obj['Newyork'] = 3000   #중간에 추가하고 싶을때 사용한다.\n",
    "obj"
   ]
  },
  {
   "cell_type": "code",
   "execution_count": 37,
   "id": "95b8a6c8",
   "metadata": {
    "scrolled": true
   },
   "outputs": [
    {
     "data": {
      "text/plain": [
       "nan"
      ]
     },
     "execution_count": 37,
     "metadata": {},
     "output_type": "execute_result"
    }
   ],
   "source": [
    "obj['Califonia']  # nan을 설정하는 방법 2"
   ]
  },
  {
   "cell_type": "code",
   "execution_count": 40,
   "id": "aa82c3c9",
   "metadata": {},
   "outputs": [
    {
     "data": {
      "text/plain": [
       "3000"
      ]
     },
     "execution_count": 40,
     "metadata": {},
     "output_type": "execute_result"
    }
   ],
   "source": [
    "obj.Newyork   #데이터에서 뉴욕을 확인"
   ]
  },
  {
   "cell_type": "code",
   "execution_count": 35,
   "id": "255d5845",
   "metadata": {},
   "outputs": [
    {
     "data": {
      "text/plain": [
       "Califonia     True\n",
       "Ohio         False\n",
       "Oregon       False\n",
       "Texas        False\n",
       "Name: population, dtype: bool"
      ]
     },
     "execution_count": 35,
     "metadata": {},
     "output_type": "execute_result"
    }
   ],
   "source": [
    "obj.isnull()   #null이 있는지 여부를 물을때"
   ]
  },
  {
   "cell_type": "code",
   "execution_count": 36,
   "id": "689fdc2e",
   "metadata": {},
   "outputs": [
    {
     "data": {
      "text/plain": [
       "1"
      ]
     },
     "execution_count": 36,
     "metadata": {},
     "output_type": "execute_result"
    }
   ],
   "source": [
    "obj.isnull().sum()  #True인 것만 합쳐서 출력함"
   ]
  },
  {
   "cell_type": "markdown",
   "id": "372c69fc",
   "metadata": {},
   "source": [
    "## 데이터프레임\n",
    "\n",
    " - 데이터프레임은 2차원 배열, R의 데이터프레임에서 유래\n",
    " - 데이터프레임의 열은 각각 시리즈 개체\n",
    " - 시리즈를 열백터하고 하면 데이터프레임은 여러개의 열백터들이 같은 행 인덱스를 기준으로 줄지어 결합된 2차원 백터 또는 행렬\n",
    " - 선형대수학에서 열 벡터(mx1행렬)는 m 원소들의 단일 열 행렬\n",
    " - 행 벡터(1xm 행렬)은 m원소들의 단일 행 행렬\n",
    " - 리스트, 딕셔너리, 배열 등 다양한 데이터로부터 생성\n",
    " - 반대로 리스트, 딕셔너리, 배열 등으로 변환될 수 있음.\n",
    " "
   ]
  },
  {
   "cell_type": "code",
   "execution_count": 43,
   "id": "781efac2",
   "metadata": {
    "scrolled": true
   },
   "outputs": [
    {
     "name": "stdout",
     "output_type": "stream",
     "text": [
      "[[105 112 118]\n",
      " [106 105 119]\n",
      " [108 115 112]] <class 'numpy.ndarray'> \n",
      "\n",
      "     pd  sales  int\n",
      "d1  105    112  118\n",
      "d2  106    105  119\n",
      "d3  108    115  112 <class 'pandas.core.frame.DataFrame'>\n"
     ]
    }
   ],
   "source": [
    "# 배열 - > 데이터프레임\n",
    "\n",
    "ar = np.random.randint(100,120,size=(3,3))\n",
    "print(ar,type(ar),'\\n')\n",
    "df = pd.DataFrame(ar,index=['d1','d2','d3'], \n",
    "                  columns=['pd','sales','int'])\n",
    "print(df,type(df))"
   ]
  },
  {
   "cell_type": "markdown",
   "id": "6717eefe",
   "metadata": {},
   "source": [
    "pandas indexing\n",
    "- iloc : integer location의 약어, 데이터프레임의 행이나 칼럼의 순서를 나타내는 정수로 특정값을 추출해오는 방법\n",
    "- loc : 인덱스명, 칼럼명을 직접 적거나 특정 조건식을 써줌으로써 사람이 읽기 좋은 방법으로 데이터에 접근하는 방법"
   ]
  },
  {
   "cell_type": "code",
   "execution_count": 44,
   "id": "a978370e",
   "metadata": {},
   "outputs": [
    {
     "data": {
      "text/plain": [
       "105"
      ]
     },
     "execution_count": 44,
     "metadata": {},
     "output_type": "execute_result"
    }
   ],
   "source": [
    "# 행선택\n",
    "df.iloc[1,1]    #2행 2열을 추출(pandas)"
   ]
  },
  {
   "cell_type": "code",
   "execution_count": 48,
   "id": "b9ef6e17",
   "metadata": {},
   "outputs": [
    {
     "name": "stdout",
     "output_type": "stream",
     "text": [
      "pd       106\n",
      "sales    105\n",
      "int      119\n",
      "Name: d2, dtype: int32\n"
     ]
    }
   ],
   "source": [
    "print(df.iloc[1])  #2행의 열을 추출(숫자를 직접써서 추출이 가능)"
   ]
  },
  {
   "cell_type": "code",
   "execution_count": 47,
   "id": "5cd93cd6",
   "metadata": {},
   "outputs": [
    {
     "name": "stdout",
     "output_type": "stream",
     "text": [
      "pd       106\n",
      "sales    105\n",
      "int      119\n",
      "Name: d2, dtype: int32\n"
     ]
    }
   ],
   "source": [
    "print(df.loc['d2'])  #인덱스 이름을 통해서도 열을 추출할 수 있다."
   ]
  },
  {
   "cell_type": "code",
   "execution_count": 49,
   "id": "58dae296",
   "metadata": {},
   "outputs": [
    {
     "name": "stdout",
     "output_type": "stream",
     "text": [
      "105 \n",
      "\n",
      "105\n"
     ]
    }
   ],
   "source": [
    "#특정 행,열 선택\n",
    "print(df.iloc[1,1],'\\n')       #행 : 1 , 열 : 1 =>iloc의 방식으로 선택하는방법\n",
    "print(df.loc['d2','sales'])    #행 index: 'd2',열 index:'sales  => loc"
   ]
  },
  {
   "cell_type": "code",
   "execution_count": 51,
   "id": "93c783a1",
   "metadata": {
    "scrolled": true
   },
   "outputs": [
    {
     "data": {
      "text/html": [
       "<div>\n",
       "<style scoped>\n",
       "    .dataframe tbody tr th:only-of-type {\n",
       "        vertical-align: middle;\n",
       "    }\n",
       "\n",
       "    .dataframe tbody tr th {\n",
       "        vertical-align: top;\n",
       "    }\n",
       "\n",
       "    .dataframe thead th {\n",
       "        text-align: right;\n",
       "    }\n",
       "</style>\n",
       "<table border=\"1\" class=\"dataframe\">\n",
       "  <thead>\n",
       "    <tr style=\"text-align: right;\">\n",
       "      <th></th>\n",
       "      <th>pd</th>\n",
       "      <th>sales</th>\n",
       "      <th>int</th>\n",
       "    </tr>\n",
       "  </thead>\n",
       "  <tbody>\n",
       "    <tr>\n",
       "      <th>d1</th>\n",
       "      <td>105</td>\n",
       "      <td>112</td>\n",
       "      <td>118</td>\n",
       "    </tr>\n",
       "    <tr>\n",
       "      <th>d2</th>\n",
       "      <td>106</td>\n",
       "      <td>105</td>\n",
       "      <td>119</td>\n",
       "    </tr>\n",
       "    <tr>\n",
       "      <th>d3</th>\n",
       "      <td>108</td>\n",
       "      <td>115</td>\n",
       "      <td>112</td>\n",
       "    </tr>\n",
       "    <tr>\n",
       "      <th>d5</th>\n",
       "      <td>0</td>\n",
       "      <td>0</td>\n",
       "      <td>0</td>\n",
       "    </tr>\n",
       "  </tbody>\n",
       "</table>\n",
       "</div>"
      ],
      "text/plain": [
       "     pd  sales  int\n",
       "d1  105    112  118\n",
       "d2  106    105  119\n",
       "d3  108    115  112\n",
       "d5    0      0    0"
      ]
     },
     "execution_count": 51,
     "metadata": {},
     "output_type": "execute_result"
    }
   ],
   "source": [
    "# 행, 열 추가\n",
    "df1 = df.copy()\n",
    "df1.loc['d5'] = 0\n",
    "df1"
   ]
  },
  {
   "cell_type": "code",
   "execution_count": 53,
   "id": "1fd15b32",
   "metadata": {
    "scrolled": true
   },
   "outputs": [
    {
     "data": {
      "text/html": [
       "<div>\n",
       "<style scoped>\n",
       "    .dataframe tbody tr th:only-of-type {\n",
       "        vertical-align: middle;\n",
       "    }\n",
       "\n",
       "    .dataframe tbody tr th {\n",
       "        vertical-align: top;\n",
       "    }\n",
       "\n",
       "    .dataframe thead th {\n",
       "        text-align: right;\n",
       "    }\n",
       "</style>\n",
       "<table border=\"1\" class=\"dataframe\">\n",
       "  <thead>\n",
       "    <tr style=\"text-align: right;\">\n",
       "      <th></th>\n",
       "      <th>pd</th>\n",
       "      <th>sales</th>\n",
       "      <th>int</th>\n",
       "      <th>pf</th>\n",
       "    </tr>\n",
       "  </thead>\n",
       "  <tbody>\n",
       "    <tr>\n",
       "      <th>d1</th>\n",
       "      <td>105</td>\n",
       "      <td>112.0</td>\n",
       "      <td>118</td>\n",
       "      <td>100</td>\n",
       "    </tr>\n",
       "    <tr>\n",
       "      <th>d2</th>\n",
       "      <td>106</td>\n",
       "      <td>NaN</td>\n",
       "      <td>119</td>\n",
       "      <td>100</td>\n",
       "    </tr>\n",
       "    <tr>\n",
       "      <th>d3</th>\n",
       "      <td>108</td>\n",
       "      <td>115.0</td>\n",
       "      <td>112</td>\n",
       "      <td>100</td>\n",
       "    </tr>\n",
       "    <tr>\n",
       "      <th>d5</th>\n",
       "      <td>0</td>\n",
       "      <td>0.0</td>\n",
       "      <td>0</td>\n",
       "      <td>0</td>\n",
       "    </tr>\n",
       "  </tbody>\n",
       "</table>\n",
       "</div>"
      ],
      "text/plain": [
       "     pd  sales  int   pf\n",
       "d1  105  112.0  118  100\n",
       "d2  106    NaN  119  100\n",
       "d3  108  115.0  112  100\n",
       "d5    0    0.0    0    0"
      ]
     },
     "execution_count": 53,
     "metadata": {},
     "output_type": "execute_result"
    }
   ],
   "source": [
    "#[유의] =>열을 추가하는 방법   새로운 colemn을 추가(대괄호안에 새로운 이름을 넣는다.)\n",
    "df1['pf'] = [100,100,100,0]  \n",
    "df1"
   ]
  },
  {
   "cell_type": "code",
   "execution_count": 55,
   "id": "b55f4e28",
   "metadata": {},
   "outputs": [
    {
     "name": "stdout",
     "output_type": "stream",
     "text": [
      "<class 'pandas.core.series.Series'>\n"
     ]
    },
    {
     "data": {
      "text/plain": [
       "d1    100\n",
       "d2    100\n",
       "d3    100\n",
       "d5      0\n",
       "Name: pf, dtype: int64"
      ]
     },
     "execution_count": 55,
     "metadata": {},
     "output_type": "execute_result"
    }
   ],
   "source": [
    "print(type(df1.pf))    #데이터의 타입은 시리즈\n",
    "df1.pf"
   ]
  },
  {
   "cell_type": "code",
   "execution_count": 52,
   "id": "0951acb1",
   "metadata": {
    "scrolled": false
   },
   "outputs": [
    {
     "data": {
      "text/html": [
       "<div>\n",
       "<style scoped>\n",
       "    .dataframe tbody tr th:only-of-type {\n",
       "        vertical-align: middle;\n",
       "    }\n",
       "\n",
       "    .dataframe tbody tr th {\n",
       "        vertical-align: top;\n",
       "    }\n",
       "\n",
       "    .dataframe thead th {\n",
       "        text-align: right;\n",
       "    }\n",
       "</style>\n",
       "<table border=\"1\" class=\"dataframe\">\n",
       "  <thead>\n",
       "    <tr style=\"text-align: right;\">\n",
       "      <th></th>\n",
       "      <th>pd</th>\n",
       "      <th>sales</th>\n",
       "      <th>int</th>\n",
       "    </tr>\n",
       "  </thead>\n",
       "  <tbody>\n",
       "    <tr>\n",
       "      <th>d1</th>\n",
       "      <td>105</td>\n",
       "      <td>112.0</td>\n",
       "      <td>118</td>\n",
       "    </tr>\n",
       "    <tr>\n",
       "      <th>d2</th>\n",
       "      <td>106</td>\n",
       "      <td>NaN</td>\n",
       "      <td>119</td>\n",
       "    </tr>\n",
       "    <tr>\n",
       "      <th>d3</th>\n",
       "      <td>108</td>\n",
       "      <td>115.0</td>\n",
       "      <td>112</td>\n",
       "    </tr>\n",
       "    <tr>\n",
       "      <th>d5</th>\n",
       "      <td>0</td>\n",
       "      <td>0.0</td>\n",
       "      <td>0</td>\n",
       "    </tr>\n",
       "  </tbody>\n",
       "</table>\n",
       "</div>"
      ],
      "text/plain": [
       "     pd  sales  int\n",
       "d1  105  112.0  118\n",
       "d2  106    NaN  119\n",
       "d3  108  115.0  112\n",
       "d5    0    0.0    0"
      ]
     },
     "execution_count": 52,
     "metadata": {},
     "output_type": "execute_result"
    }
   ],
   "source": [
    "#원소 값 변경\n",
    "df1.iloc[1,1] = np.nan  #nan = null과 동일\n",
    "df1"
   ]
  },
  {
   "cell_type": "code",
   "execution_count": 56,
   "id": "0874fac7",
   "metadata": {
    "scrolled": false
   },
   "outputs": [
    {
     "data": {
      "text/html": [
       "<div>\n",
       "<style scoped>\n",
       "    .dataframe tbody tr th:only-of-type {\n",
       "        vertical-align: middle;\n",
       "    }\n",
       "\n",
       "    .dataframe tbody tr th {\n",
       "        vertical-align: top;\n",
       "    }\n",
       "\n",
       "    .dataframe thead th {\n",
       "        text-align: right;\n",
       "    }\n",
       "</style>\n",
       "<table border=\"1\" class=\"dataframe\">\n",
       "  <thead>\n",
       "    <tr style=\"text-align: right;\">\n",
       "      <th></th>\n",
       "      <th>col1</th>\n",
       "      <th>col2</th>\n",
       "      <th>col3</th>\n",
       "    </tr>\n",
       "  </thead>\n",
       "  <tbody>\n",
       "    <tr>\n",
       "      <th>0</th>\n",
       "      <td>1</td>\n",
       "      <td>2</td>\n",
       "      <td>A</td>\n",
       "    </tr>\n",
       "    <tr>\n",
       "      <th>1</th>\n",
       "      <td>2</td>\n",
       "      <td>4</td>\n",
       "      <td>B</td>\n",
       "    </tr>\n",
       "    <tr>\n",
       "      <th>2</th>\n",
       "      <td>3</td>\n",
       "      <td>6</td>\n",
       "      <td>C</td>\n",
       "    </tr>\n",
       "    <tr>\n",
       "      <th>3</th>\n",
       "      <td>4</td>\n",
       "      <td>8</td>\n",
       "      <td>D</td>\n",
       "    </tr>\n",
       "    <tr>\n",
       "      <th>4</th>\n",
       "      <td>5</td>\n",
       "      <td>10</td>\n",
       "      <td>E</td>\n",
       "    </tr>\n",
       "  </tbody>\n",
       "</table>\n",
       "</div>"
      ],
      "text/plain": [
       "   col1  col2 col3\n",
       "0     1     2    A\n",
       "1     2     4    B\n",
       "2     3     6    C\n",
       "3     4     8    D\n",
       "4     5    10    E"
      ]
     },
     "execution_count": 56,
     "metadata": {},
     "output_type": "execute_result"
    }
   ],
   "source": [
    "# 사전 -> 데이터프레임\n",
    "sp1 = np.arange(1,6) \n",
    "df = pd.DataFrame({\n",
    "    'col1':sp1,\n",
    "    'col2':sp1 * 2,\n",
    "    'col3':['A','B','C','D','E'],\n",
    "})\n",
    "df"
   ]
  },
  {
   "cell_type": "code",
   "execution_count": 96,
   "id": "32c755b9",
   "metadata": {},
   "outputs": [
    {
     "name": "stdout",
     "output_type": "stream",
     "text": [
      "   A  B  C  D\n",
      "1  1  2  3  4\n",
      "2  1  2  3  4\n",
      "3  1  2  3  4\n",
      "4  1  2  3  4\n"
     ]
    }
   ],
   "source": [
    "#딕셔너리에서 값이 스칼라이면 인덱스 필요\n",
    "dic = {'A':1,'B':2,'C':3,'D':4}\n",
    "columns = ['a','b','c','d','e']\n",
    "index = [1,2,3,4]\n",
    "\n",
    "df_dic = pd.DataFrame(dic,index)\n",
    "print(df_dic)"
   ]
  },
  {
   "cell_type": "code",
   "execution_count": 60,
   "id": "40045f33",
   "metadata": {},
   "outputs": [
    {
     "data": {
      "text/html": [
       "<div>\n",
       "<style scoped>\n",
       "    .dataframe tbody tr th:only-of-type {\n",
       "        vertical-align: middle;\n",
       "    }\n",
       "\n",
       "    .dataframe tbody tr th {\n",
       "        vertical-align: top;\n",
       "    }\n",
       "\n",
       "    .dataframe thead th {\n",
       "        text-align: right;\n",
       "    }\n",
       "</style>\n",
       "<table border=\"1\" class=\"dataframe\">\n",
       "  <thead>\n",
       "    <tr style=\"text-align: right;\">\n",
       "      <th></th>\n",
       "      <th>c1</th>\n",
       "      <th>c2</th>\n",
       "      <th>c3</th>\n",
       "      <th>c4</th>\n",
       "      <th>c5</th>\n",
       "    </tr>\n",
       "  </thead>\n",
       "  <tbody>\n",
       "    <tr>\n",
       "      <th>1</th>\n",
       "      <td>3</td>\n",
       "      <td>4</td>\n",
       "      <td>2</td>\n",
       "      <td>1</td>\n",
       "      <td>1</td>\n",
       "    </tr>\n",
       "    <tr>\n",
       "      <th>2</th>\n",
       "      <td>3</td>\n",
       "      <td>1</td>\n",
       "      <td>2</td>\n",
       "      <td>1</td>\n",
       "      <td>4</td>\n",
       "    </tr>\n",
       "    <tr>\n",
       "      <th>3</th>\n",
       "      <td>3</td>\n",
       "      <td>3</td>\n",
       "      <td>2</td>\n",
       "      <td>2</td>\n",
       "      <td>1</td>\n",
       "    </tr>\n",
       "    <tr>\n",
       "      <th>4</th>\n",
       "      <td>2</td>\n",
       "      <td>2</td>\n",
       "      <td>2</td>\n",
       "      <td>1</td>\n",
       "      <td>3</td>\n",
       "    </tr>\n",
       "    <tr>\n",
       "      <th>5</th>\n",
       "      <td>4</td>\n",
       "      <td>3</td>\n",
       "      <td>4</td>\n",
       "      <td>3</td>\n",
       "      <td>4</td>\n",
       "    </tr>\n",
       "    <tr>\n",
       "      <th>6</th>\n",
       "      <td>4</td>\n",
       "      <td>4</td>\n",
       "      <td>3</td>\n",
       "      <td>3</td>\n",
       "      <td>2</td>\n",
       "    </tr>\n",
       "    <tr>\n",
       "      <th>7</th>\n",
       "      <td>2</td>\n",
       "      <td>1</td>\n",
       "      <td>1</td>\n",
       "      <td>1</td>\n",
       "      <td>1</td>\n",
       "    </tr>\n",
       "    <tr>\n",
       "      <th>8</th>\n",
       "      <td>1</td>\n",
       "      <td>2</td>\n",
       "      <td>3</td>\n",
       "      <td>3</td>\n",
       "      <td>4</td>\n",
       "    </tr>\n",
       "    <tr>\n",
       "      <th>9</th>\n",
       "      <td>3</td>\n",
       "      <td>1</td>\n",
       "      <td>3</td>\n",
       "      <td>3</td>\n",
       "      <td>2</td>\n",
       "    </tr>\n",
       "    <tr>\n",
       "      <th>10</th>\n",
       "      <td>4</td>\n",
       "      <td>3</td>\n",
       "      <td>2</td>\n",
       "      <td>2</td>\n",
       "      <td>3</td>\n",
       "    </tr>\n",
       "  </tbody>\n",
       "</table>\n",
       "</div>"
      ],
      "text/plain": [
       "    c1  c2  c3  c4  c5\n",
       "1    3   4   2   1   1\n",
       "2    3   1   2   1   4\n",
       "3    3   3   2   2   1\n",
       "4    2   2   2   1   3\n",
       "5    4   3   4   3   4\n",
       "6    4   4   3   3   2\n",
       "7    2   1   1   1   1\n",
       "8    1   2   3   3   4\n",
       "9    3   1   3   3   2\n",
       "10   4   3   2   2   3"
      ]
     },
     "execution_count": 60,
     "metadata": {},
     "output_type": "execute_result"
    }
   ],
   "source": [
    "# 리스트 -> 데이터프레임\n",
    "a = np.random.randint(1,5,size=(10,5))\n",
    "list1 = a.tolist()\n",
    "list1   #리스트형식\n",
    "index = np.arange(1,11)\n",
    "df = pd.DataFrame(list1,index,columns=['c1','c2','c3','c4','c5'])\n",
    "df"
   ]
  },
  {
   "cell_type": "code",
   "execution_count": 66,
   "id": "1e115fa8",
   "metadata": {},
   "outputs": [
    {
     "name": "stdout",
     "output_type": "stream",
     "text": [
      "[[3 4 2 1 1]\n",
      " [3 1 2 1 4]\n",
      " [3 3 2 2 1]\n",
      " [2 2 2 1 3]\n",
      " [4 3 4 3 4]\n",
      " [4 4 3 3 2]\n",
      " [2 1 1 1 1]\n",
      " [1 2 3 3 4]\n",
      " [3 1 3 3 2]\n",
      " [4 3 2 2 3]] <class 'numpy.ndarray'> \n",
      "\n",
      "[[3, 4, 2, 1, 1], [3, 1, 2, 1, 4], [3, 3, 2, 2, 1], [2, 2, 2, 1, 3], [4, 3, 4, 3, 4], [4, 4, 3, 3, 2], [2, 1, 1, 1, 1], [1, 2, 3, 3, 4], [3, 1, 3, 3, 2], [4, 3, 2, 2, 3]] <class 'list'> \n",
      "\n",
      "{'c1': [3, 3, 3, 2, 4, 4, 2, 1, 3, 4], 'c2': [4, 1, 3, 2, 3, 4, 1, 2, 1, 3], 'c3': [2, 2, 2, 2, 4, 3, 1, 3, 3, 2], 'c4': [1, 1, 2, 1, 3, 3, 1, 3, 3, 2], 'c5': [1, 4, 1, 3, 4, 2, 1, 4, 2, 3]} <class 'dict'>\n"
     ]
    }
   ],
   "source": [
    "# 데이터프레임을 -> 배열,리스트,딕셔너리\n",
    "ar = df.values\n",
    "print(ar,type(ar),'\\n')\n",
    "li = df.values.tolist()  #리스트로 바꾸기 위해서는 value뒤에 tolist를 붙인다\n",
    "print(li,type(li),'\\n')   \n",
    "dict = df.to_dict('list')   #딕셔너리는 column별 리스트로 만들어야 하기 때문이다\n",
    "print(dict,type(dict))"
   ]
  },
  {
   "cell_type": "code",
   "execution_count": null,
   "id": "04e625df",
   "metadata": {},
   "outputs": [],
   "source": [
    "# Q. 배열, 리스트, 딕셔너리로 데이터 프레임을 생성한 후 다시 배열, 리스트, 딕셔너리로 변환하여 출력하세요"
   ]
  },
  {
   "cell_type": "code",
   "execution_count": 87,
   "id": "d47fedbb",
   "metadata": {},
   "outputs": [
    {
     "name": "stdout",
     "output_type": "stream",
     "text": [
      "[[5 8 1 4 2]\n",
      " [2 1 5 8 2]\n",
      " [4 3 2 8 5]\n",
      " [5 2 7 7 3]\n",
      " [3 6 1 6 7]\n",
      " [5 7 3 1 3]\n",
      " [6 9 9 3 3]\n",
      " [7 1 5 7 2]\n",
      " [9 6 6 2 3]\n",
      " [9 3 4 6 4]] <class 'numpy.ndarray'> \n",
      "\n",
      "     pd  sales  int  prt  iot\n",
      "d1    5      8    1    4    2\n",
      "d2    2      1    5    8    2\n",
      "d3    4      3    2    8    5\n",
      "d4    5      2    7    7    3\n",
      "d5    3      6    1    6    7\n",
      "d6    5      7    3    1    3\n",
      "d7    6      9    9    3    3\n",
      "d8    7      1    5    7    2\n",
      "d9    9      6    6    2    3\n",
      "d10   9      3    4    6    4 <class 'pandas.core.frame.DataFrame'>\n"
     ]
    }
   ],
   "source": [
    "ar = np.random.randint(1,10,size=(10,5))\n",
    "print(ar,type(ar),'\\n')\n",
    "df = pd.DataFrame(ar,index=['d1','d2','d3','d4','d5','d6','d7','d8','d9','d10'], \n",
    "                  columns=['pd','sales','int','prt','iot'])\n",
    "print(df,type(df))"
   ]
  },
  {
   "cell_type": "code",
   "execution_count": 85,
   "id": "262247a6",
   "metadata": {},
   "outputs": [
    {
     "data": {
      "text/html": [
       "<div>\n",
       "<style scoped>\n",
       "    .dataframe tbody tr th:only-of-type {\n",
       "        vertical-align: middle;\n",
       "    }\n",
       "\n",
       "    .dataframe tbody tr th {\n",
       "        vertical-align: top;\n",
       "    }\n",
       "\n",
       "    .dataframe thead th {\n",
       "        text-align: right;\n",
       "    }\n",
       "</style>\n",
       "<table border=\"1\" class=\"dataframe\">\n",
       "  <thead>\n",
       "    <tr style=\"text-align: right;\">\n",
       "      <th></th>\n",
       "      <th>c1</th>\n",
       "      <th>c2</th>\n",
       "      <th>c3</th>\n",
       "      <th>c4</th>\n",
       "      <th>c5</th>\n",
       "    </tr>\n",
       "  </thead>\n",
       "  <tbody>\n",
       "    <tr>\n",
       "      <th>1</th>\n",
       "      <td>3</td>\n",
       "      <td>1</td>\n",
       "      <td>1</td>\n",
       "      <td>4</td>\n",
       "      <td>1</td>\n",
       "    </tr>\n",
       "    <tr>\n",
       "      <th>2</th>\n",
       "      <td>3</td>\n",
       "      <td>3</td>\n",
       "      <td>1</td>\n",
       "      <td>2</td>\n",
       "      <td>2</td>\n",
       "    </tr>\n",
       "    <tr>\n",
       "      <th>3</th>\n",
       "      <td>3</td>\n",
       "      <td>4</td>\n",
       "      <td>2</td>\n",
       "      <td>2</td>\n",
       "      <td>1</td>\n",
       "    </tr>\n",
       "    <tr>\n",
       "      <th>4</th>\n",
       "      <td>4</td>\n",
       "      <td>1</td>\n",
       "      <td>3</td>\n",
       "      <td>4</td>\n",
       "      <td>2</td>\n",
       "    </tr>\n",
       "    <tr>\n",
       "      <th>5</th>\n",
       "      <td>1</td>\n",
       "      <td>2</td>\n",
       "      <td>4</td>\n",
       "      <td>2</td>\n",
       "      <td>1</td>\n",
       "    </tr>\n",
       "    <tr>\n",
       "      <th>6</th>\n",
       "      <td>4</td>\n",
       "      <td>2</td>\n",
       "      <td>1</td>\n",
       "      <td>1</td>\n",
       "      <td>1</td>\n",
       "    </tr>\n",
       "    <tr>\n",
       "      <th>7</th>\n",
       "      <td>1</td>\n",
       "      <td>3</td>\n",
       "      <td>3</td>\n",
       "      <td>2</td>\n",
       "      <td>3</td>\n",
       "    </tr>\n",
       "    <tr>\n",
       "      <th>8</th>\n",
       "      <td>1</td>\n",
       "      <td>3</td>\n",
       "      <td>2</td>\n",
       "      <td>4</td>\n",
       "      <td>1</td>\n",
       "    </tr>\n",
       "    <tr>\n",
       "      <th>9</th>\n",
       "      <td>4</td>\n",
       "      <td>4</td>\n",
       "      <td>4</td>\n",
       "      <td>4</td>\n",
       "      <td>1</td>\n",
       "    </tr>\n",
       "    <tr>\n",
       "      <th>10</th>\n",
       "      <td>3</td>\n",
       "      <td>1</td>\n",
       "      <td>2</td>\n",
       "      <td>3</td>\n",
       "      <td>1</td>\n",
       "    </tr>\n",
       "  </tbody>\n",
       "</table>\n",
       "</div>"
      ],
      "text/plain": [
       "    c1  c2  c3  c4  c5\n",
       "1    3   1   1   4   1\n",
       "2    3   3   1   2   2\n",
       "3    3   4   2   2   1\n",
       "4    4   1   3   4   2\n",
       "5    1   2   4   2   1\n",
       "6    4   2   1   1   1\n",
       "7    1   3   3   2   3\n",
       "8    1   3   2   4   1\n",
       "9    4   4   4   4   1\n",
       "10   3   1   2   3   1"
      ]
     },
     "execution_count": 85,
     "metadata": {},
     "output_type": "execute_result"
    }
   ],
   "source": []
  },
  {
   "cell_type": "code",
   "execution_count": null,
   "id": "31b28d48",
   "metadata": {},
   "outputs": [],
   "source": []
  },
  {
   "cell_type": "code",
   "execution_count": 76,
   "id": "2cf6c68a",
   "metadata": {},
   "outputs": [
    {
     "data": {
      "text/html": [
       "<div>\n",
       "<style scoped>\n",
       "    .dataframe tbody tr th:only-of-type {\n",
       "        vertical-align: middle;\n",
       "    }\n",
       "\n",
       "    .dataframe tbody tr th {\n",
       "        vertical-align: top;\n",
       "    }\n",
       "\n",
       "    .dataframe thead th {\n",
       "        text-align: right;\n",
       "    }\n",
       "</style>\n",
       "<table border=\"1\" class=\"dataframe\">\n",
       "  <thead>\n",
       "    <tr style=\"text-align: right;\">\n",
       "      <th></th>\n",
       "      <th>k1</th>\n",
       "      <th>k2</th>\n",
       "      <th>k3</th>\n",
       "      <th>k4</th>\n",
       "      <th>k5</th>\n",
       "    </tr>\n",
       "  </thead>\n",
       "  <tbody>\n",
       "    <tr>\n",
       "      <th>1</th>\n",
       "      <td>1</td>\n",
       "      <td>4</td>\n",
       "      <td>4</td>\n",
       "      <td>9</td>\n",
       "      <td>7</td>\n",
       "    </tr>\n",
       "    <tr>\n",
       "      <th>2</th>\n",
       "      <td>5</td>\n",
       "      <td>7</td>\n",
       "      <td>6</td>\n",
       "      <td>9</td>\n",
       "      <td>7</td>\n",
       "    </tr>\n",
       "    <tr>\n",
       "      <th>3</th>\n",
       "      <td>7</td>\n",
       "      <td>6</td>\n",
       "      <td>8</td>\n",
       "      <td>7</td>\n",
       "      <td>9</td>\n",
       "    </tr>\n",
       "    <tr>\n",
       "      <th>4</th>\n",
       "      <td>5</td>\n",
       "      <td>3</td>\n",
       "      <td>7</td>\n",
       "      <td>1</td>\n",
       "      <td>3</td>\n",
       "    </tr>\n",
       "    <tr>\n",
       "      <th>5</th>\n",
       "      <td>2</td>\n",
       "      <td>6</td>\n",
       "      <td>1</td>\n",
       "      <td>8</td>\n",
       "      <td>5</td>\n",
       "    </tr>\n",
       "    <tr>\n",
       "      <th>6</th>\n",
       "      <td>2</td>\n",
       "      <td>2</td>\n",
       "      <td>9</td>\n",
       "      <td>7</td>\n",
       "      <td>9</td>\n",
       "    </tr>\n",
       "    <tr>\n",
       "      <th>7</th>\n",
       "      <td>2</td>\n",
       "      <td>5</td>\n",
       "      <td>8</td>\n",
       "      <td>4</td>\n",
       "      <td>3</td>\n",
       "    </tr>\n",
       "    <tr>\n",
       "      <th>8</th>\n",
       "      <td>7</td>\n",
       "      <td>2</td>\n",
       "      <td>1</td>\n",
       "      <td>9</td>\n",
       "      <td>4</td>\n",
       "    </tr>\n",
       "    <tr>\n",
       "      <th>9</th>\n",
       "      <td>7</td>\n",
       "      <td>5</td>\n",
       "      <td>6</td>\n",
       "      <td>7</td>\n",
       "      <td>2</td>\n",
       "    </tr>\n",
       "    <tr>\n",
       "      <th>10</th>\n",
       "      <td>3</td>\n",
       "      <td>8</td>\n",
       "      <td>5</td>\n",
       "      <td>7</td>\n",
       "      <td>9</td>\n",
       "    </tr>\n",
       "  </tbody>\n",
       "</table>\n",
       "</div>"
      ],
      "text/plain": [
       "    k1  k2  k3  k4  k5\n",
       "1    1   4   4   9   7\n",
       "2    5   7   6   9   7\n",
       "3    7   6   8   7   9\n",
       "4    5   3   7   1   3\n",
       "5    2   6   1   8   5\n",
       "6    2   2   9   7   9\n",
       "7    2   5   8   4   3\n",
       "8    7   2   1   9   4\n",
       "9    7   5   6   7   2\n",
       "10   3   8   5   7   9"
      ]
     },
     "execution_count": 76,
     "metadata": {},
     "output_type": "execute_result"
    }
   ],
   "source": [
    "a = np.random.randint(1,10,size=(10,5))\n",
    "list1 = a.tolist()\n",
    "list1\n",
    "index = np.arange(1,11)\n",
    "df = pd.DataFrame(list1,index,columns=['k1','k2','k3','k4','k5'])\n",
    "df"
   ]
  },
  {
   "cell_type": "code",
   "execution_count": 79,
   "id": "c6c92d02",
   "metadata": {},
   "outputs": [
    {
     "name": "stdout",
     "output_type": "stream",
     "text": [
      "[[1 4 4 9 7]\n",
      " [5 7 6 9 7]\n",
      " [7 6 8 7 9]\n",
      " [5 3 7 1 3]\n",
      " [2 6 1 8 5]\n",
      " [2 2 9 7 9]\n",
      " [2 5 8 4 3]\n",
      " [7 2 1 9 4]\n",
      " [7 5 6 7 2]\n",
      " [3 8 5 7 9]] <class 'numpy.ndarray'> \n",
      "\n",
      "[[1, 4, 4, 9, 7], [5, 7, 6, 9, 7], [7, 6, 8, 7, 9], [5, 3, 7, 1, 3], [2, 6, 1, 8, 5], [2, 2, 9, 7, 9], [2, 5, 8, 4, 3], [7, 2, 1, 9, 4], [7, 5, 6, 7, 2], [3, 8, 5, 7, 9]] <class 'list'> \n",
      "\n",
      "{'k1': [1, 5, 7, 5, 2, 2, 2, 7, 7, 3], 'k2': [4, 7, 6, 3, 6, 2, 5, 2, 5, 8], 'k3': [4, 6, 8, 7, 1, 9, 8, 1, 6, 5], 'k4': [9, 9, 7, 1, 8, 7, 4, 9, 7, 7], 'k5': [7, 7, 9, 3, 5, 9, 3, 4, 2, 9]} <class 'dict'>\n"
     ]
    }
   ],
   "source": [
    "ar = df.values\n",
    "print(ar,type(ar),'\\n')\n",
    "li = df.values.tolist()\n",
    "print(li,type(li),'\\n')\n",
    "dict = df.to_dict('list')\n",
    "print(dict,type(dict))\n"
   ]
  },
  {
   "cell_type": "code",
   "execution_count": 88,
   "id": "3a751e75",
   "metadata": {
    "scrolled": true
   },
   "outputs": [
    {
     "name": "stdout",
     "output_type": "stream",
     "text": [
      "메뉴1      냉면\n",
      "메뉴2     칼국수\n",
      "메뉴3    잔치국수\n",
      "메뉴4     수제비\n",
      "메뉴5      우동\n",
      "dtype: object \n",
      "\n",
      "['냉면', '칼국수', '잔치국수', '수제비', '우동'] <class 'list'> \n",
      "\n",
      "      커피    쿠키   케이크\n",
      "가격  4000  3000  6500 \n",
      "\n",
      "{'커피': [4000], '쿠키': [3000], '케이크': [6500]} <class 'dict'> \n",
      "\n",
      "    달리기  줄다리기  무궁화\n",
      "1반    9     4    7\n",
      "2반    6     4    2\n",
      "3반    5     3    4 \n",
      "\n",
      "[[9 4 7]\n",
      " [6 4 2]\n",
      " [5 3 4]]\n",
      "      차림표\n",
      "메뉴1    냉면\n",
      "메뉴2   칼국수\n",
      "메뉴3  잔치국수\n",
      "메뉴4   수제비\n",
      "메뉴5    우동 \n",
      "\n",
      "[['냉면'], ['칼국수'], ['잔치국수'], ['수제비'], ['우동']] <class 'list'> \n",
      "\n"
     ]
    }
   ],
   "source": [
    "# 리스트\n",
    "li = ['냉면','칼국수','잔치국수','수제비','우동']\n",
    "df1 = pd.Series(li,index=['메뉴1','메뉴2','메뉴3','메뉴4','메뉴5'])\n",
    "print(df1,'\\n')\n",
    "print(df1.tolist(),type(df1.tolist()),'\\n')\n",
    "\n",
    "# 딕셔너리\n",
    "df2 = pd.DataFrame({\n",
    "    '커피':4000,\n",
    "    '쿠키':3000,\n",
    "    '케이크':6500\n",
    "},index=['가격'])\n",
    "print(df2,'\\n')\n",
    "print(df2.to_dict('list'),type(df2.to_dict('list')),'\\n')\n",
    "\n",
    "# 배열\n",
    "df3 = pd.DataFrame(np.random.randint(1,10,size=(3,3)),index=['1반','2반','3반'],\n",
    "                   columns=['달리기','줄다리기','무궁화'])\n",
    "print(df3,'\\n')\n",
    "print(df3.values)\n",
    "li = ['냉면','칼국수','잔치국수','수제비','우동']\n",
    "df1 = pd.DataFrame(li,index=['메뉴1','메뉴2','메뉴3','메뉴4','메뉴5'],columns=['차림표'])\n",
    "print(df1,'\\n')\n",
    "print(df1.values.tolist(),type(df1.values.tolist()),'\\n')\n"
   ]
  },
  {
   "cell_type": "code",
   "execution_count": 94,
   "id": "48200d41",
   "metadata": {},
   "outputs": [
    {
     "data": {
      "text/html": [
       "<div>\n",
       "<style scoped>\n",
       "    .dataframe tbody tr th:only-of-type {\n",
       "        vertical-align: middle;\n",
       "    }\n",
       "\n",
       "    .dataframe tbody tr th {\n",
       "        vertical-align: top;\n",
       "    }\n",
       "\n",
       "    .dataframe thead th {\n",
       "        text-align: right;\n",
       "    }\n",
       "</style>\n",
       "<table border=\"1\" class=\"dataframe\">\n",
       "  <thead>\n",
       "    <tr style=\"text-align: right;\">\n",
       "      <th></th>\n",
       "      <th>0</th>\n",
       "    </tr>\n",
       "  </thead>\n",
       "  <tbody>\n",
       "    <tr>\n",
       "      <th>0</th>\n",
       "      <td>냉면</td>\n",
       "    </tr>\n",
       "    <tr>\n",
       "      <th>1</th>\n",
       "      <td>칼국수</td>\n",
       "    </tr>\n",
       "    <tr>\n",
       "      <th>2</th>\n",
       "      <td>잔치국수</td>\n",
       "    </tr>\n",
       "    <tr>\n",
       "      <th>3</th>\n",
       "      <td>수제비</td>\n",
       "    </tr>\n",
       "    <tr>\n",
       "      <th>4</th>\n",
       "      <td>우동</td>\n",
       "    </tr>\n",
       "  </tbody>\n",
       "</table>\n",
       "</div>"
      ],
      "text/plain": [
       "      0\n",
       "0    냉면\n",
       "1   칼국수\n",
       "2  잔치국수\n",
       "3   수제비\n",
       "4    우동"
      ]
     },
     "execution_count": 94,
     "metadata": {},
     "output_type": "execute_result"
    }
   ],
   "source": [
    "# file 생성, 저장[to csv(\"저장위치\")], 읽기(read_csv)\n",
    "li = ['냉면','칼국수','잔치국수','수제비','우동']\n",
    "df1 = pd.Series(li,index=['메뉴1','메뉴2','메뉴3','메뉴4','메뉴5'])\n",
    "df1.to_csv(\"./dataset/file_data.csv\", index=None)   \n",
    "#파일을 저장할 때는 df1.to_csv를 사용하고(\"\")안에 저장할 위치를 넣고, index=None를 넣어야 한다.\n",
    "file_data = pd.read_csv(\"./dataset/file_data.csv\")   #저장한 파일을 읽는 방법은 pd.read_csv를 사용하면 된다.\n",
    "file_data       "
   ]
  },
  {
   "cell_type": "code",
   "execution_count": 99,
   "id": "b85f6de0",
   "metadata": {},
   "outputs": [
    {
     "data": {
      "text/html": [
       "<div>\n",
       "<style scoped>\n",
       "    .dataframe tbody tr th:only-of-type {\n",
       "        vertical-align: middle;\n",
       "    }\n",
       "\n",
       "    .dataframe tbody tr th {\n",
       "        vertical-align: top;\n",
       "    }\n",
       "\n",
       "    .dataframe thead th {\n",
       "        text-align: right;\n",
       "    }\n",
       "</style>\n",
       "<table border=\"1\" class=\"dataframe\">\n",
       "  <thead>\n",
       "    <tr style=\"text-align: right;\">\n",
       "      <th></th>\n",
       "      <th>0</th>\n",
       "    </tr>\n",
       "  </thead>\n",
       "  <tbody>\n",
       "    <tr>\n",
       "      <th>0</th>\n",
       "      <td>안성탕면</td>\n",
       "    </tr>\n",
       "    <tr>\n",
       "      <th>1</th>\n",
       "      <td>사리곰탕</td>\n",
       "    </tr>\n",
       "    <tr>\n",
       "      <th>2</th>\n",
       "      <td>짜파게티</td>\n",
       "    </tr>\n",
       "    <tr>\n",
       "      <th>3</th>\n",
       "      <td>우동</td>\n",
       "    </tr>\n",
       "    <tr>\n",
       "      <th>4</th>\n",
       "      <td>신라면</td>\n",
       "    </tr>\n",
       "    <tr>\n",
       "      <th>5</th>\n",
       "      <td>무파마</td>\n",
       "    </tr>\n",
       "  </tbody>\n",
       "</table>\n",
       "</div>"
      ],
      "text/plain": [
       "      0\n",
       "0  안성탕면\n",
       "1  사리곰탕\n",
       "2  짜파게티\n",
       "3    우동\n",
       "4   신라면\n",
       "5   무파마"
      ]
     },
     "execution_count": 99,
     "metadata": {},
     "output_type": "execute_result"
    }
   ],
   "source": [
    "li = ['안성탕면','사리곰탕','짜파게티','우동','신라면','무파마']\n",
    "dfs1 = pd.Series(li, index=['메뉴1','메뉴2','메뉴3','메뉴4','메뉴5','메뉴6'])\n",
    "dfs1.to_csv(\"./dataset/file_data.csv\",index=None)\n",
    "file_data = pd.read_csv(\"./dataset/file_data.csv\")\n",
    "file_data"
   ]
  },
  {
   "cell_type": "code",
   "execution_count": null,
   "id": "ce0e4569",
   "metadata": {},
   "outputs": [],
   "source": []
  }
 ],
 "metadata": {
  "kernelspec": {
   "display_name": "Python 3 (ipykernel)",
   "language": "python",
   "name": "python3"
  },
  "language_info": {
   "codemirror_mode": {
    "name": "ipython",
    "version": 3
   },
   "file_extension": ".py",
   "mimetype": "text/x-python",
   "name": "python",
   "nbconvert_exporter": "python",
   "pygments_lexer": "ipython3",
   "version": "3.9.7"
  }
 },
 "nbformat": 4,
 "nbformat_minor": 5
}
