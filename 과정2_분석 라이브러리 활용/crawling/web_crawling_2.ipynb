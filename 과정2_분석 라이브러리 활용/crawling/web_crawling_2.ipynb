{
 "cells": [
  {
   "cell_type": "markdown",
   "id": "bd88549c",
   "metadata": {},
   "source": [
    "#### selenium 모듈\n",
    " \n",
    " - 웹 어플리케이션 테스트를 위한 프레임워크 : 홈페이지 테스트용으로 사용\n",
    " - 사용자가 아닌 프로그램이 웹 브라우저를 제어할 수 있도록 지원\n",
    " - 웝 브라우저마다 클라이언트 프로그램(Web Driver)이 별도로 필요(웹 브라우저 <-> 프로그램간 통신 목적)\n",
    " - 크롤링보다는 웹을 제어하는 목적이 더 큼\n",
    " - pip install selenium으로 설치\n",
    " - web driver 설치(크롬 버전 확인) : https://chromedriver.chromium.org/downloads\n",
    " - 압축 해제한 후 chromedrive.exe를 적당한 경로로 이동\n",
    " - selenium 모듈 호출 후 설치한 web driver 경로를 지정\n",
    " \n",
    "이벤트로 제어하기 : 브라우저를 직접 제어하기 때문에 직접 컨트롤하여 마우스 클릭, 키보드 입력 자바 스크립트 이벤트 처리 가능\n",
    " - 마우스 클릭 : click()\n",
    " - 키보드 입력 : send_keys()\n",
    " - 자바스크립트 삽입 : execute_script()\n",
    " - 입력 양식 전송 : submit()\n",
    " - 스크린샷 : screenshot(파일이름)\n",
    " - 글자 지움 : clear()\n",
    " - 뒤로 가기 : back()\n",
    " - 앞으로 가기 : forward()\n",
    "\n",
    "#### 셀레니움 함수(총 15개, element와 elements두개임)\n",
    " - find_element_by_id: id속성을 사용하여 접근\n",
    " - find_element(s)_by_class_name : 클래스를 사용하여 접근\n",
    " - find_element(s)_by_name : name 속성을 사용하여 접근\n",
    " - find_element(s)_by_xpath : xpath 속성을 사용하여 접근\n",
    " - find_element(s)_by_link_text : 엥커태그(a)에 사용되는 텍스트로 접근\n",
    " - find_element(s)_by_partial_link_text : 엥커태그(a)에 사용되는 일부 텍스트로 접근\n",
    " - find_element(s)_by_tag_name : 태그를 사용하여 접근\n",
    " - find_element(s)_by_css_selector : CSS 선택자를 사용하여 접근"
   ]
  },
  {
   "cell_type": "code",
   "execution_count": 1,
   "id": "1a36022a",
   "metadata": {},
   "outputs": [
    {
     "name": "stdout",
     "output_type": "stream",
     "text": [
      "Requirement already satisfied: selenium in c:\\users\\kal19\\anaconda3\\lib\\site-packages (4.1.0)\n",
      "Requirement already satisfied: urllib3[secure]~=1.26 in c:\\users\\kal19\\anaconda3\\lib\\site-packages (from selenium) (1.26.7)\n",
      "Requirement already satisfied: trio-websocket~=0.9 in c:\\users\\kal19\\anaconda3\\lib\\site-packages (from selenium) (0.9.2)\n",
      "Requirement already satisfied: trio~=0.17 in c:\\users\\kal19\\anaconda3\\lib\\site-packages (from selenium) (0.19.0)\n",
      "Requirement already satisfied: sniffio in c:\\users\\kal19\\anaconda3\\lib\\site-packages (from trio~=0.17->selenium) (1.2.0)\n",
      "Requirement already satisfied: cffi>=1.14 in c:\\users\\kal19\\anaconda3\\lib\\site-packages (from trio~=0.17->selenium) (1.14.6)\n",
      "Requirement already satisfied: attrs>=19.2.0 in c:\\users\\kal19\\anaconda3\\lib\\site-packages (from trio~=0.17->selenium) (21.2.0)\n",
      "Requirement already satisfied: sortedcontainers in c:\\users\\kal19\\anaconda3\\lib\\site-packages (from trio~=0.17->selenium) (2.4.0)\n",
      "Requirement already satisfied: outcome in c:\\users\\kal19\\anaconda3\\lib\\site-packages (from trio~=0.17->selenium) (1.1.0)\n",
      "Requirement already satisfied: async-generator>=1.9 in c:\\users\\kal19\\anaconda3\\lib\\site-packages (from trio~=0.17->selenium) (1.10)\n",
      "Requirement already satisfied: idna in c:\\users\\kal19\\anaconda3\\lib\\site-packages (from trio~=0.17->selenium) (3.2)\n",
      "Requirement already satisfied: pycparser in c:\\users\\kal19\\anaconda3\\lib\\site-packages (from cffi>=1.14->trio~=0.17->selenium) (2.20)\n",
      "Requirement already satisfied: wsproto>=0.14 in c:\\users\\kal19\\anaconda3\\lib\\site-packages (from trio-websocket~=0.9->selenium) (1.0.0)\n",
      "Requirement already satisfied: pyOpenSSL>=0.14 in c:\\users\\kal19\\anaconda3\\lib\\site-packages (from urllib3[secure]~=1.26->selenium) (21.0.0)\n",
      "Requirement already satisfied: cryptography>=1.3.4 in c:\\users\\kal19\\anaconda3\\lib\\site-packages (from urllib3[secure]~=1.26->selenium) (3.4.8)\n",
      "Requirement already satisfied: certifi in c:\\users\\kal19\\anaconda3\\lib\\site-packages (from urllib3[secure]~=1.26->selenium) (2021.10.8)\n",
      "Requirement already satisfied: six>=1.5.2 in c:\\users\\kal19\\anaconda3\\lib\\site-packages (from pyOpenSSL>=0.14->urllib3[secure]~=1.26->selenium) (1.16.0)\n",
      "Requirement already satisfied: h11<1,>=0.9.0 in c:\\users\\kal19\\anaconda3\\lib\\site-packages (from wsproto>=0.14->trio-websocket~=0.9->selenium) (0.13.0)\n"
     ]
    }
   ],
   "source": [
    "!pip install selenium"
   ]
  },
  {
   "cell_type": "code",
   "execution_count": 2,
   "id": "9444f5a3",
   "metadata": {},
   "outputs": [],
   "source": [
    "# 네이버 사이트 불러오기\n",
    "import selenium\n",
    "from selenium import webdriver\n",
    "from selenium.webdriver.common.keys import Keys\n",
    "import warnings\n",
    "warnings.filterwarnings('ignore')\n",
    "\n",
    "url = 'https://naver.com'\n",
    "path = 'C:/tool/chromedriver.exe'\n",
    "driver = webdriver.Chrome(path)\n",
    "driver.get(url)"
   ]
  },
  {
   "cell_type": "code",
   "execution_count": 3,
   "id": "bffe320c",
   "metadata": {},
   "outputs": [
    {
     "name": "stdout",
     "output_type": "stream",
     "text": [
      "https://www.naver.com/\n"
     ]
    }
   ],
   "source": [
    "print(driver.current_url)"
   ]
  },
  {
   "cell_type": "code",
   "execution_count": 4,
   "id": "49efe960",
   "metadata": {},
   "outputs": [],
   "source": [
    "driver.close()"
   ]
  },
  {
   "cell_type": "code",
   "execution_count": 5,
   "id": "59915dbb",
   "metadata": {},
   "outputs": [
    {
     "name": "stdout",
     "output_type": "stream",
     "text": [
      "https://www.google.com/\n"
     ]
    }
   ],
   "source": [
    "# 브라우저 창을 띄우지 않고 수행하는 방법\n",
    "options = webdriver.ChromeOptions()\n",
    "options.add_argument('headless')\n",
    "driver = webdriver.Chrome('C:/tool/chromedriver.exe',options=options)\n",
    "driver.get('https://google.com')\n",
    "print(driver.current_url)\n",
    "driver.close()"
   ]
  },
  {
   "cell_type": "code",
   "execution_count": 6,
   "id": "b2c5611d",
   "metadata": {},
   "outputs": [],
   "source": [
    "# 브라우저 최소화/최대화\n",
    "driver = webdriver.Chrome(path)\n",
    "driver.get('https://google.com')\n",
    "driver.maximize_window()"
   ]
  },
  {
   "cell_type": "code",
   "execution_count": 7,
   "id": "124f2b65",
   "metadata": {},
   "outputs": [],
   "source": [
    "driver.minimize_window()"
   ]
  },
  {
   "cell_type": "code",
   "execution_count": 8,
   "id": "652e81f8",
   "metadata": {},
   "outputs": [],
   "source": [
    "# implicit Waits(암묵적 대기) : 찾으려는 element가 로드 될 때 까지 지정한 시간만큼 대기 할 수 있도록 설정\n",
    "from selenium.webdriver.common.by import By\n",
    "from selenium.webdriver.support.ui import WebDriverWait\n",
    "from selenium.webdriver.support import expected_conditions as EC\n",
    "\n",
    "driver = webdriver.Chrome(path)\n",
    "driver.get('https://google.com')\n",
    "\n",
    "try:\n",
    "    element = WebDriverWait(driver,5).until(\n",
    "    EC.presence_of_element_located((By.CLASS_NAME,'gLFyf'))\n",
    "    )\n",
    "finally:\n",
    "    driver.quit()\n"
   ]
  },
  {
   "cell_type": "code",
   "execution_count": 9,
   "id": "0a015446",
   "metadata": {},
   "outputs": [
    {
     "name": "stdout",
     "output_type": "stream",
     "text": [
      "빅데이터란\n",
      "빅데이터\n",
      "빅데이터\n"
     ]
    }
   ],
   "source": [
    "from time import sleep\n",
    "driver = webdriver.Chrome(path)\n",
    "driver.get('https://naver.com')\n",
    "search_box = driver.find_element_by_xpath('//*[@id=\"query\"]')\n",
    "search_box.send_keys('빅데이터')\n",
    "search_box.send_keys(Keys.RETURN)\n",
    "\n",
    "# 직접 들어가서 찾을 필요없이 출력함\n",
    "elements = driver.find_elements_by_xpath('//*[@id=\"main_pack\"]/section/div/div/div/div/h3/a')\n",
    "\n",
    "for element in elements:\n",
    "    print(element.text)\n",
    "    print(element.text, file=open('dataset/test_set.txt','a',encoding='utf-8'))\n",
    "sleep(3)                # 직접 찾은것을 저장하는 방법\n",
    "driver.close()\n",
    "\n",
    "# //*[@id=\"main_pack\"]/section[2]/div/div[2]/div[1]/div[1]/h3/a\n",
    "# //*[@id=\"main_pack\"]/section[2]/div/div[2]/div[3]/div[1]/h3/a"
   ]
  },
  {
   "cell_type": "code",
   "execution_count": 10,
   "id": "abe60be4",
   "metadata": {},
   "outputs": [
    {
     "name": "stdout",
     "output_type": "stream",
     "text": [
      "https://search.naver.com/search.naver?where=nexearch&sm=top_hty&fbm=0&ie=utf8&query=#lnb\n",
      "https://search.naver.com/search.naver?where=nexearch&sm=top_hty&fbm=0&ie=utf8&query=#content\n",
      "https://www.naver.com/\n",
      "https://search.naver.com/search.naver?where=nexearch&sm=top_hty&fbm=0&ie=utf8&query=#\n",
      "https://search.naver.com/search.naver?where=nexearch&sm=top_hty&fbm=0&ie=utf8&query=#\n",
      "https://search.naver.com/search.naver?where=nexearch&sm=top_hty&fbm=0&ie=utf8&query=#\n",
      "https://search.naver.com/search.naver?where=nexearch&sm=top_hty&fbm=0&ie=utf8&query=#\n",
      "https://search.naver.com/search.naver?where=nexearch&sm=top_hty&fbm=0&ie=utf8&query=#\n",
      "https://help.naver.com/support/alias/search/word/word_29.naver\n",
      "https://help.naver.com/support/alias/search/word/word_29.naver\n",
      "https://help.naver.com/support/alias/search/word/word_29.naver\n",
      "https://search.naver.com/search.naver?where=nexearch&sm=top_hty&fbm=0&ie=utf8&query=#\n",
      "https://search.naver.com/search.naver?where=nexearch&sm=top_hty&fbm=0&ie=utf8&query=#\n",
      "https://help.naver.com/support/alias/search/word/word_16.naver\n",
      "https://search.naver.com/search.naver?where=nexearch&sm=top_hty&fbm=0&ie=utf8&query=#\n",
      "https://help.naver.com/support/alias/search/word/word_16.naver\n",
      "https://nid.naver.com/nidlogin.login?url=https%3A%2F%2Fsearch.naver.com%2Fsearch.naver%3Fwhere%3Dnexearch%26sm%3Dtop_hty%26fbm%3D0%26ie%3Dutf8%26query%3D\n",
      "https://help.naver.com/support/alias/search/word/word_16.naver\n",
      "https://search.naver.com/search.naver?where=nexearch&sm=top_hty&fbm=0&ie=utf8&query=#\n",
      "https://help.naver.com/support/alias/search/word/word_17.naver\n",
      "https://help.naver.com/support/alias/search/word/word_18.naver\n",
      "https://search.naver.com/search.naver?where=nexearch&sm=top_hty&fbm=0&ie=utf8&query=#\n",
      "https://nid.naver.com/nidlogin.login?url=https%3A%2F%2Fsearch.naver.com%2Fsearch.naver%3Fwhere%3Dnexearch%26sm%3Dtop_hty%26fbm%3D0%26ie%3Dutf8%26query%3D\n",
      "javascript:;\n",
      "https://search.naver.com/search.naver?where=nexearch&sm=top_hty&fbm=0&ie=utf8&query=#\n",
      "https://nid.naver.com/user2/api/naverProfile?m=checkIdType\n",
      "https://nid.naver.com/user2/api/naverProfile?m=checkIdType\n",
      "https://nid.naver.com/nidlogin.logout?returl=https%3A%2F%2Fsearch.naver.com%2Fsearch.naver%3Fwhere%3Dnexearch%26sm%3Dtop_hty%26fbm%3D0%26ie%3Dutf8%26query%3D\n",
      "https://mail.naver.com/\n",
      "https://nid.naver.com/user2/help/myInfo?menu=home\n",
      "https://nid.naver.com/user2/help/myInfo?m=viewSecurity&menu=security\n",
      "https://nid.naver.com/user2/eSign/v1/home/land\n",
      "https://nid.naver.com/membership/my\n",
      "https://pay.naver.com/\n",
      "https://blog.naver.com/MyBlog.naver\n",
      "https://section.cafe.naver.com/\n",
      "https://pay.naver.com/\n",
      "https://search.naver.com/search.naver?where=nexearch&sm=top_hty&fbm=0&ie=utf8&query=#\n",
      "javascript:;\n",
      "https://noti.naver.com/index.nhn\n",
      "https://mail.naver.com/\n",
      "javascript:;\n",
      "https://search.naver.com/search.naver?where=nexearch&sm=top_hty&fbm=0&ie=utf8&query=#\n",
      "https://search.naver.com/search.naver?where=nexearch&sm=top_hty&fbm=0&ie=utf8&query=#\n",
      "https://search.naver.com/search.naver?where=nexearch&sm=top_hty&fbm=0&ie=utf8&query=#\n",
      "https://search.naver.com/search.naver?where=nexearch&sm=top_hty&fbm=0&ie=utf8&query=#\n",
      "https://search.naver.com/search.naver?where=nexearch&sm=top_hty&fbm=0&ie=utf8&query=#\n",
      "https://search.naver.com/search.naver?where=nexearch&sm=top_hty&fbm=0&ie=utf8&query=#\n",
      "https://search.naver.com/search.naver?where=nexearch&sm=top_hty&fbm=0&ie=utf8&query=#\n",
      "https://cafe.naver.com/\n",
      "https://news.naver.com/\n",
      "https://map.naver.com/\n",
      "https://sports.news.naver.com/\n",
      "https://game.naver.com/\n",
      "https://section.blog.naver.com/\n",
      "https://post.naver.com/main.nhn\n",
      "https://dict.naver.com/\n",
      "https://kin.naver.com/\n",
      "https://n.weather.naver.com/\n",
      "https://mail.naver.com/\n",
      "https://stock.naver.com/\n",
      "https://land.naver.com/\n",
      "https://vibe.naver.com/today/\n",
      "https://book.naver.com/\n",
      "https://shopping.naver.com/\n",
      "https://comic.naver.com/\n",
      "https://movie.naver.com/\n",
      "https://mybox.naver.com/\n",
      "https://auto.naver.com/\n",
      "https://campaign.naver.com/npay/rediret/index.nhn\n",
      "https://www.naver.com/more.html\n",
      "https://www.naver.com/more.html\n",
      "https://dict.naver.com/\n",
      "https://search.naver.com/search.naver?where=nexearch&sm=tab_jum&query=\n",
      "https://search.naver.com/search.naver?where=view&sm=tab_jum&query=\n",
      "https://search.naver.com/search.naver?where=image&sm=tab_jum&query=\n",
      "https://search.naver.com/search.naver?where=kin&sm=tab_jum&query=\n",
      "https://search.naver.com/search.naver?where=influencer&sm=tab_jum&query=\n",
      "https://search.naver.com/search.naver?where=video&sm=tab_jum&query=\n",
      "https://search.shopping.naver.com/search/all?where=all&frm=NVSCTAB&query=\n",
      "https://search.naver.com/search.naver?where=news&sm=tab_jum&query=\n",
      "https://dict.naver.com/search.nhn?dicQuery=&query=&target=dic&query_utf=&isOnlyViewEE=\n",
      "https://map.naver.com/v5/search/\n",
      "https://search.naver.com/search.naver?where=nexearch&sm=top_hty&fbm=0&ie=utf8&query=#\n",
      "https://book.naver.com/search/search.nhn?query=\n",
      "https://vibe.naver.com/search?query=\n",
      "https://search.naver.com/search.naver?where=kdic&sm=tab_jum&query=\n",
      "https://audioclip.naver.com/search/all?keyword=\n",
      "https://academic.naver.com/search.naver?field=0&query=\n",
      "https://search.naver.com/search.naver?where=nexearch&sm=top_hty&fbm=0&ie=utf8&query=#\n",
      "https://search.naver.com/search.naver?where=nexearch&sm=top_hty&fbm=0&ie=utf8&query=#\n",
      "https://search.naver.com/search.naver?where=nexearch&sm=tab_opt&query=&nso=so%3Ar&nso_open=1\n",
      "https://search.naver.com/search.naver?where=nexearch&sm=tab_opt&query=&nso=so%3Add&nso_open=1\n",
      "https://search.naver.com/search.naver?where=nexearch&sm=tab_opt&query=&nso=p%3Aall&nso_open=1\n",
      "https://search.naver.com/search.naver?where=nexearch&sm=tab_opt&query=&nso=p%3A1h&nso_open=1\n",
      "https://search.naver.com/search.naver?where=nexearch&sm=tab_opt&query=&nso=p%3A1d&nso_open=1\n",
      "https://search.naver.com/search.naver?where=nexearch&sm=tab_opt&query=&nso=p%3A1w&nso_open=1\n",
      "https://search.naver.com/search.naver?where=nexearch&sm=tab_opt&query=&nso=p%3A1m&nso_open=1\n",
      "https://search.naver.com/search.naver?where=nexearch&sm=tab_opt&query=&nso=p%3A3m&nso_open=1\n",
      "https://search.naver.com/search.naver?where=nexearch&sm=tab_opt&query=&nso=p%3A6m&nso_open=1\n",
      "https://search.naver.com/search.naver?where=nexearch&sm=tab_opt&query=&nso=p%3A1y&nso_open=1\n",
      "https://search.naver.com/search.naver?where=nexearch&sm=top_hty&fbm=0&ie=utf8&query=#\n",
      "https://search.naver.com/search.naver?where=nexearch&sm=top_hty&fbm=0&ie=utf8&query=#\n",
      "https://search.naver.com/search.naver?where=nexearch&sm=top_hty&fbm=0&ie=utf8&query=#\n",
      "https://search.naver.com/search.naver?where=nexearch&sm=tab_opt&query=&nso_open=1\n",
      "https://help.naver.com/support/alias/search/integration/intergration_84.naver\n",
      "https://kin.naver.com/qna/question.naver\n",
      "https://kin.naver.com/qna/detail.naver?d1id=4&dirId=409&docId=263104983&qb=MTAwMDAwMDlfMDAwMDBmYWVhOWQ3IDEwMDAwMDA5XzAwMDAxMmMzNmQ3YyAxMDAwMDAwOV8xYzk5Nzk3MTBiOGIgMTAwMDAwMDlfMDAwMDE0ODIzYTRi&enc=utf8&section=kin.ext&rank=1&search_sort=0&spq=0\n",
      "https://kin.naver.com/search/one2oneLink?dirId=409&docId=263104983&answerNo=1\n",
      "https://kin.naver.com/search/profileLink?dirId=409&docId=263104983&answerNo=1\n",
      "https://kin.naver.com/qna/detail.naver?d1id=4&dirId=409&docId=263104983&qb=MTAwMDAwMDlfMDAwMDBmYWVhOWQ3IDEwMDAwMDA5XzAwMDAxMmMzNmQ3YyAxMDAwMDAwOV8xYzk5Nzk3MTBiOGIgMTAwMDAwMDlfMDAwMDE0ODIzYTRi&enc=utf8&section=kin.ext&rank=1&search_sort=0&spq=0\n",
      "https://search.naver.com/search.naver?where=nexearch&query=%EB%AA%A8%EB%9D%BC%ED%86%A0%EB%A6%AC%EC%97%84%EA%B3%BC+%EB%94%94%ED%8F%B4%ED%8A%B8%EC%9D%98+%EC%B0%A8%EC%9D%B4%EB%A5%BC+%EC%95%8C%EB%A0%A4%EC%A3%BC%EC%8B%AD%EC%8B%9C%EC%98%A4.&x_kin=%7B%22random_search%22%3A+%7B%22gdid%22%3A%2210000009_00000faea9d7%22%7D%7D&mra=S05J&sm=tab_rnd.more\n",
      "https://search.naver.com/search.naver?where=nexearch&&query=&sm=tab_rnd.another\n",
      "https://search.naver.com/search.naver?where=nexearch&sm=tab_knw&query=%EB%B0%B8%EB%9F%B0%ED%83%80%EC%9D%B8%EB%8D%B0%EC%9D%B4&qdt=0&mra=S0NE\n",
      "https://search.naver.com/search.naver?where=nexearch&sm=tab_knw&query=%EC%BB%AC%EB%A7%81&qdt=0&mra=S0NE\n",
      "https://search.naver.com/search.naver?where=nexearch&sm=tab_knw&query=%EC%9A%B0%ED%81%AC%EB%9D%BC%EC%9D%B4%EB%82%98&qdt=0&mra=S0NE\n",
      "https://search.naver.com/search.naver?where=nexearch&sm=tab_knw&query=%ED%81%B4%EB%9D%BC%EC%9D%B8%ED%8E%A0%ED%84%B0+%EC%A6%9D%ED%9B%84%EA%B5%B0&qdt=0&mra=S0NE\n",
      "https://search.naver.com/search.naver?where=nexearch&sm=tab_knw&query=%EB%B3%B4%EC%9D%B4%EC%BD%A7&qdt=0&mra=S0NE\n",
      "https://search.naver.com/search.naver?where=nexearch&sm=tab_knw&query=ROC&qdt=0&mra=S0NE\n",
      "https://search.naver.com/search.naver?where=nexearch&sm=tab_knw&query=%EB%8C%80%EB%B3%B4%EB%A6%84&qdt=0&mra=S0NE\n",
      "https://search.naver.com/search.naver?where=nexearch&sm=tab_knw&query=%EC%84%B1%EC%9D%B8+ADHD&qdt=0&mra=S0NE\n",
      "https://search.naver.com/search.naver?where=nexearch&sm=tab_knw&query=%EB%82%98%ED%86%A0&qdt=0&mra=S0NE\n",
      "https://search.naver.com/search.naver?where=nexearch&sm=tab_knw&query=MBTI&qdt=0&mra=S0NE\n",
      "https://search.naver.com/search.naver?where=nexearch&sm=top_hty&fbm=0&ie=utf8&query=#\n",
      "https://search.naver.com/search.naver?where=nexearch&sm=top_hty&fbm=0&ie=utf8&query=#\n"
     ]
    },
    {
     "name": "stdout",
     "output_type": "stream",
     "text": [
      "https://help.naver.com/support/alias/search/word/word_30.naver\n",
      "https://m.news.naver.com/covid19/index.nhn\n",
      "https://search.naver.com/search.naver?where=nexearch&query=%EC%BD%94%EB%A1%9C%EB%82%9819+%EC%84%A0%EB%B3%84%EC%A7%84%EB%A3%8C%EC%86%8C&sm=tab_etc\n",
      "https://news.naver.com/main/factcheck/main.nhn?section=%C4%DA%B7%CE%B3%AA%B9%E9%BD%C5\n",
      "https://search.naver.com/search.naver?where=nexearch&query=%EC%9A%B0%EB%A6%AC%EB%8F%99%EB%84%A4+%EB%B0%B1%EC%8B%A0%EC%95%8C%EB%A6%BC&sm=tab_etc\n",
      "https://search.naver.com/search.naver?where=nexearch&query=%EC%BD%94%EB%A1%9C%EB%82%9819+%EB%B3%91%EC%83%81%EA%B0%80%EB%8F%99%EB%A5%A0&sm=tab_etc\n",
      "https://search.naver.com/search.naver?where=nexearch&sm=top_hty&fbm=0&ie=utf8&query=#\n",
      "https://www.naver.com/more.html\n",
      "https://policy.naver.com/policy/service.html\n",
      "https://policy.naver.com/policy/privacy.html\n",
      "https://help.naver.com/support/alias/search/integration/integration_1.naver\n",
      "https://www.navercorp.com/\n"
     ]
    }
   ],
   "source": [
    "import time\n",
    "driver = webdriver.Chrome(path)\n",
    "driver.get('https://naver.com')\n",
    "driver.maximize_window()\n",
    "driver.find_element_by_class_name('link_login').click()\n",
    "time.sleep(1)\n",
    "driver.back()\n",
    "driver.forward()\n",
    "driver.refresh()\n",
    "time.sleep(2)\n",
    "driver.back()\n",
    "elem = driver.find_element_by_id('query')\n",
    "elem.send_keys(Keys.ENTER)\n",
    "els = driver.find_elements_by_tag_name('a')\n",
    "for e in els:\n",
    "    print(e.get_attribute('href'))\n",
    "driver.close()"
   ]
  },
  {
   "cell_type": "code",
   "execution_count": 11,
   "id": "7d8606e3",
   "metadata": {},
   "outputs": [
    {
     "name": "stdout",
     "output_type": "stream",
     "text": [
      "https://search.naver.com/search.naver?where=nexearch&sm=top_hty&fbm=0&ie=utf8&query=#lnb\n",
      "https://search.naver.com/search.naver?where=nexearch&sm=top_hty&fbm=0&ie=utf8&query=#content\n",
      "https://www.naver.com/\n",
      "https://search.naver.com/search.naver?where=nexearch&sm=top_hty&fbm=0&ie=utf8&query=#\n",
      "https://search.naver.com/search.naver?where=nexearch&sm=top_hty&fbm=0&ie=utf8&query=#\n"
     ]
    }
   ],
   "source": [
    "# 실행하여 연습해봐야 된다....(실행해보자)\n",
    "import time\n",
    "driver = webdriver.Chrome(path)\n",
    "driver.get('https://naver.com')\n",
    "driver.maximize_window()\n",
    "driver.find_element_by_class_name('link_login').click()\n",
    "time.sleep(1)\n",
    "driver.back()\n",
    "elem = driver.find_element_by_id('query')\n",
    "elem.send_keys(Keys.ENTER)\n",
    "els = driver.find_elements_by_tag_name('a')\n",
    "for i,e in enumerate(els):\n",
    "    if i < 5:\n",
    "        print(e.get_attribute('href'))\n",
    "    else:\n",
    "        pass\n",
    "driver.refresh()\n",
    "driver.get('http://daum.net')\n",
    "driver.close()"
   ]
  },
  {
   "cell_type": "code",
   "execution_count": 12,
   "id": "a37aa086",
   "metadata": {},
   "outputs": [],
   "source": [
    "import time\n",
    "driver = webdriver.Chrome(path)\n",
    "driver.get('https://naver.com')\n",
    "driver.maximize_window()"
   ]
  },
  {
   "cell_type": "code",
   "execution_count": 13,
   "id": "2e889b80",
   "metadata": {},
   "outputs": [],
   "source": [
    "# Q. 다음사이트에서 빅데이터 관련 검색하여 출력한 후 구글 페이지로 이동\n"
   ]
  },
  {
   "cell_type": "code",
   "execution_count": 14,
   "id": "49543b44",
   "metadata": {},
   "outputs": [],
   "source": [
    "from time import sleep\n",
    "driver = webdriver.Chrome(path)\n",
    "driver.get('https://daum.net')\n",
    "driver.maximize_window()\n",
    "time.sleep(2)\n",
    "search_box = driver.find_element_by_xpath('//*[@id=\"q\"]')\n",
    "search_box.send_keys('빅데이터')\n",
    "search_box.send_keys(Keys.RETURN)\n",
    "driver.refresh()\n",
    "time.sleep(2)\n",
    "driver.get('http://google.com')\n",
    "search_box = driver.find_element_by_xpath('/html/body/div[1]/div[3]/form/div[1]/div[1]/div[1]/div/div[2]/input')\n",
    "search_box.send_keys('빅데이터')\n",
    "search_box.send_keys(Keys.RETURN)\n",
    "time.sleep(2)\n",
    "driver.close()"
   ]
  },
  {
   "cell_type": "code",
   "execution_count": 15,
   "id": "8d32c8bc",
   "metadata": {},
   "outputs": [
    {
     "name": "stdout",
     "output_type": "stream",
     "text": [
      "머니투데이\n",
      "내용작성전\n",
      "\n",
      "\n",
      "\n",
      "이재명 민주당 대선 후보 제주 방문...도민 지지 호소\n"
     ]
    }
   ],
   "source": [
    "import time\n",
    "driver = webdriver.Chrome(path)\n",
    "driver.get('https://naver.com')\n",
    "driver.maximize_window()\n",
    "driver.find_element_by_css_selector('#NM_FAVORITE > div.group_nav > ul.list_nav.NM_FAVORITE_LIST > li:nth-child(2) > a').click()\n",
    "elements = driver.find_elements_by_css_selector('#ct > div > section.main_content > div.main_brick > div > div> div > div > div > div> a > div> div')\n",
    "for i, e in enumerate(elements):\n",
    "    if i < 5:\n",
    "        print(e.text)\n",
    "    else:\n",
    "        pass\n",
    "driver.close()"
   ]
  },
  {
   "cell_type": "code",
   "execution_count": 16,
   "id": "a4fec28e",
   "metadata": {},
   "outputs": [],
   "source": [
    "# [과제] 한빛미디어 사이트로 자동 로그인을 하여 들어가서 마일리지 점수 2000을 출력하세요(셀레니움 이용 브라우저 제방식으로 진행)"
   ]
  },
  {
   "cell_type": "code",
   "execution_count": 20,
   "id": "84b871bb",
   "metadata": {},
   "outputs": [
    {
     "name": "stdout",
     "output_type": "stream",
     "text": [
      "마일리지\n",
      "2,000 점\n"
     ]
    }
   ],
   "source": [
    "url = 'https://www.hanbit.co.kr/index.html'\n",
    "path = 'C:/tool/chromedriver.exe'\n",
    "driver = webdriver.Chrome(path)\n",
    "driver.get(url)\n",
    "driver.find_element_by_class_name('login').click()\n",
    "\n",
    "id_box = driver.find_element_by_css_selector('#m_id')\n",
    "pw_box = driver.find_element_by_id('m_passwd')\n",
    "id_box.send_keys('')\n",
    "pw_box.send_keys('')\n",
    "driver.find_element_by_xpath('//*[@id=\"login_btn\"]').click()\n",
    "driver.find_element_by_xpath('//*[@id=\"wrap_nav\"]/ul[2]/li[3]/a').click()\n",
    "\n",
    "mileage_sections = driver.find_elements_by_xpath('//*[@id=\"container\"]/div/div[2]/dl[1]')\n",
    "\n",
    "for mileage_section in mileage_sections:\n",
    "    print(mileage_section.text)\n",
    "\n",
    "driver.refresh()\n",
    "# driver.close()\n"
   ]
  },
  {
   "cell_type": "code",
   "execution_count": null,
   "id": "136a9a0b",
   "metadata": {},
   "outputs": [],
   "source": [
    "# [도전과제] 네이버 로그인 후 메일 리스트 출력하기"
   ]
  },
  {
   "cell_type": "code",
   "execution_count": null,
   "id": "47411f3d",
   "metadata": {},
   "outputs": [],
   "source": [
    "import time\n",
    "import selenium\n",
    "from selenium import webdriver\n",
    "\n",
    "path = 'C:/tool/chromedriver.exe'\n",
    "driver = webdriver.Chrome(path)\n",
    "driver.get('https://www.naver.com')\n",
    "driver.maximize_window()\n",
    "time.sleep(1)\n",
    "element = driver.find_element_by_class_name('link_login')\n",
    "element.click()\n",
    "id  = ''\n",
    "pw = ''\n",
    "\n",
    "# execute_script 함수를 사용하면 자바스크립트 코드를 실행\n",
    "# js는 getElementById('id').value로 값을 가져올 수 있다.\n",
    "driver.execute_script(\"document.getElementById('id').value=\\'\" + id + \"\\'\") # text\n",
    "time.sleep(1)\n",
    "driver.execute_script(\"document.getElementById('pw').value=\\'\" + pw + \"\\'\")\n",
    "time.sleep(1)\n",
    "\n",
    "element = driver.find_element_by_class_name('btn_login')\n",
    "element.click()\n",
    "print(driver.page_source)\n"
   ]
  }
 ],
 "metadata": {
  "kernelspec": {
   "display_name": "Python 3 (ipykernel)",
   "language": "python",
   "name": "python3"
  },
  "language_info": {
   "codemirror_mode": {
    "name": "ipython",
    "version": 3
   },
   "file_extension": ".py",
   "mimetype": "text/x-python",
   "name": "python",
   "nbconvert_exporter": "python",
   "pygments_lexer": "ipython3",
   "version": "3.9.7"
  }
 },
 "nbformat": 4,
 "nbformat_minor": 5
}
