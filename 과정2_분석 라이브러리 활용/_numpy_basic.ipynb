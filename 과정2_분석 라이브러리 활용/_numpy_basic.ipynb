{
 "cells": [
  {
   "cell_type": "markdown",
   "id": "9b9d3d1a",
   "metadata": {},
   "source": [
    "Numpy는 \"Numerical Python\"의 약자로 대규모 다차원 배열과 행렬 연산에 필요한 다양한 함수를 제공\n",
    "\n",
    "-  Numerical Python을 의미하는 Numpy는 파이썬에서 선형대수 기반의 프로그램을 쉽게 만들 수 있도록 지원하는 대표적인 패키지.\n",
    "-  많은 머신러닝 알고리즘이 넘파이 기반으로 작성되어 있으며 알고리즘의 입출력 데이터를 넘파이 배열 타입으로 사용함.\n",
    "-  Numpy의 기본 데이터 타입은 ndarray.ndarray를 이용하여 넘파이에서 다차열 배열을 쉽게 생성하고 다양한 연산을 수행함.\n",
    "\n",
    "Numpy 특징\n",
    "\n",
    " - 강력한 N차원 배열 객체\n",
    " - 정교한 브로드케스팅 기능\n",
    " - 유용한 선형 대수학, 푸리에 변환 및 난수 기능\n",
    " - 푸리에 변환은 시간이나 공간에 대한 함수를 시간 또는 공간 주파수 성분으로 분해하는 변환\n",
    " - 범용적 데이터 처리에 사용 가능한 다차원 컨테이너"
   ]
  },
  {
   "cell_type": "code",
   "execution_count": 1,
   "id": "27bfee5a",
   "metadata": {},
   "outputs": [
    {
     "name": "stderr",
     "output_type": "stream",
     "text": [
      "WARNING: Ignoring invalid distribution -pencv-python (c:\\users\\kal19\\anaconda3\\lib\\site-packages)\n",
      "WARNING: Ignoring invalid distribution -illow (c:\\users\\kal19\\anaconda3\\lib\\site-packages)\n",
      "ERROR: Invalid requirement: '(Numpy설치)'\n",
      "WARNING: Ignoring invalid distribution -pencv-python (c:\\users\\kal19\\anaconda3\\lib\\site-packages)\n",
      "WARNING: Ignoring invalid distribution -illow (c:\\users\\kal19\\anaconda3\\lib\\site-packages)\n",
      "WARNING: Ignoring invalid distribution -pencv-python (c:\\users\\kal19\\anaconda3\\lib\\site-packages)\n",
      "WARNING: Ignoring invalid distribution -illow (c:\\users\\kal19\\anaconda3\\lib\\site-packages)\n",
      "WARNING: Ignoring invalid distribution -pencv-python (c:\\users\\kal19\\anaconda3\\lib\\site-packages)\n",
      "WARNING: Ignoring invalid distribution -illow (c:\\users\\kal19\\anaconda3\\lib\\site-packages)\n"
     ]
    }
   ],
   "source": [
    " !pip install numpy (Numpy설치)"
   ]
  },
  {
   "cell_type": "code",
   "execution_count": 2,
   "id": "d7b300c4",
   "metadata": {},
   "outputs": [
    {
     "name": "stdout",
     "output_type": "stream",
     "text": [
      "[0 1 2 3 4 5 6 7 8 9] <class 'numpy.ndarray'>\n"
     ]
    }
   ],
   "source": [
    "import numpy as np\n",
    "z = np.arange(10)    #1차원 배열\n",
    "print(z,type(z))"
   ]
  },
  {
   "cell_type": "code",
   "execution_count": 3,
   "id": "474ac1d5",
   "metadata": {},
   "outputs": [],
   "source": [
    "my_arr = np.arange(1000000)\n",
    "my_list = list(range(1000000))"
   ]
  },
  {
   "cell_type": "code",
   "execution_count": 4,
   "id": "2ecbdb2d",
   "metadata": {
    "scrolled": true
   },
   "outputs": [
    {
     "name": "stdout",
     "output_type": "stream",
     "text": [
      "Wall time: 36.3 ms\n"
     ]
    }
   ],
   "source": [
    "%time for _  in range(10): my_array2 = my_arr * 2     #시간재기 일반"
   ]
  },
  {
   "cell_type": "code",
   "execution_count": 5,
   "id": "b895e439",
   "metadata": {},
   "outputs": [
    {
     "name": "stdout",
     "output_type": "stream",
     "text": [
      "Wall time: 1.52 s\n"
     ]
    }
   ],
   "source": [
    "%time for _ in range(10): my_list2 = [x*2 for x in my_list]  #시간재기 배열방식"
   ]
  },
  {
   "cell_type": "code",
   "execution_count": 6,
   "id": "d1f59598",
   "metadata": {},
   "outputs": [
    {
     "name": "stdout",
     "output_type": "stream",
     "text": [
      "[[-0.08865147  1.17899351 -0.13956361]\n",
      " [ 0.40610069 -0.20150913  0.71264515]] \n",
      "\n",
      "[[-0.88651475 11.78993507 -1.39563608]\n",
      " [ 4.06100689 -2.01509125  7.1264515 ]] \n",
      "\n",
      "[[-0.17730295  2.35798701 -0.27912722]\n",
      " [ 0.81220138 -0.40301825  1.4252903 ]]\n"
     ]
    }
   ],
   "source": [
    "# 배열 연산\n",
    "# np.random.randn 가우시안 표준 정규분포에서 난수 매트릭스 array생성\n",
    "data = np.random.randn(2,3) #표준 정규분포로 구성되는 2행 3열 매트릭스 만들기(무작위로)\n",
    "print(data, '\\n')      # 표준 정규분표 요소로 만듦\n",
    "print(data * 10 , '\\n')  # 요소에다가 10을 곱한 값\n",
    "print(data + data)     #data와 data를 더한 값"
   ]
  },
  {
   "cell_type": "code",
   "execution_count": 7,
   "id": "ca58457f",
   "metadata": {},
   "outputs": [
    {
     "name": "stdout",
     "output_type": "stream",
     "text": [
      "(2, 3)\n",
      "float64\n",
      "2\n"
     ]
    }
   ],
   "source": [
    "# 위의 행렬에 대한 정보제공 범례\n",
    "print(data.shape)  # 데이타 크기\n",
    "print(data.dtype) # 데이타 타입\n",
    "print(data.ndim) # 차원을 알려줌"
   ]
  },
  {
   "cell_type": "markdown",
   "id": "0fecc9d8",
   "metadata": {},
   "source": [
    " 다차원 배열\n",
    " <img src = 'numpy차원.jpg' STYLE= 'width:300px;'>"
   ]
  },
  {
   "cell_type": "code",
   "execution_count": 8,
   "id": "4540b8c7",
   "metadata": {},
   "outputs": [
    {
     "name": "stdout",
     "output_type": "stream",
     "text": [
      "<class 'list'> \n",
      "\n",
      "[[1 2 3 4]\n",
      " [5 6 7 8]] <class 'numpy.ndarray'>\n"
     ]
    }
   ],
   "source": [
    "data2 = [[1,2,3,4],[5,6,7,8]]\n",
    "print(type(data2),'\\n')\n",
    "arr2 = np.array(data2)\n",
    "print(arr2,type(arr2))"
   ]
  },
  {
   "cell_type": "code",
   "execution_count": 9,
   "id": "a3f804b4",
   "metadata": {},
   "outputs": [
    {
     "name": "stdout",
     "output_type": "stream",
     "text": [
      "2 \n",
      "\n",
      "(2, 4)\n"
     ]
    }
   ],
   "source": [
    "print(arr2.ndim,'\\n')   #행렬의 차원\n",
    "print(arr2.shape)       #행렬의 크기\n"
   ]
  },
  {
   "cell_type": "code",
   "execution_count": 10,
   "id": "2725fd11",
   "metadata": {},
   "outputs": [
    {
     "name": "stdout",
     "output_type": "stream",
     "text": [
      "[1 2 3] <class 'numpy.ndarray'> (3,)\n"
     ]
    }
   ],
   "source": [
    "#1차원 배열로 3개의 데이터 \n",
    "array1 = np.array([1,2,3])\n",
    "print(array1,type(array1),array1.shape)   #(,열)이 아닌 (열,) 형태로 출력한다"
   ]
  },
  {
   "cell_type": "code",
   "execution_count": 11,
   "id": "f3c291bf",
   "metadata": {},
   "outputs": [
    {
     "name": "stdout",
     "output_type": "stream",
     "text": [
      "[[1 2 3]\n",
      " [2 3 4]] <class 'numpy.ndarray'> (2, 3)\n"
     ]
    }
   ],
   "source": [
    "#2차원 배열로 2개의 row(행)와 3개의 column(열)으로 구성된 6개의 데이터\n",
    "array2 = np.array([[1,2,3],[2,3,4]])\n",
    "print(array2,type(array2),array2.shape)"
   ]
  },
  {
   "cell_type": "code",
   "execution_count": 12,
   "id": "795840f8",
   "metadata": {},
   "outputs": [
    {
     "name": "stdout",
     "output_type": "stream",
     "text": [
      "[[1 2 3]] (1, 3)\n"
     ]
    }
   ],
   "source": [
    "#1개의 row(행)과 3개의 column으로 구성된 2차원 배열(유의!!) -> 대괄호 하나를 더 첨가하여 2차원으로 표시\n",
    "array21 = np.array([[1,2,3]])\n",
    "print(array21,array21.shape)"
   ]
  },
  {
   "cell_type": "code",
   "execution_count": 13,
   "id": "934e40d1",
   "metadata": {},
   "outputs": [
    {
     "name": "stdout",
     "output_type": "stream",
     "text": [
      "[[[1 2 3 4 5]\n",
      "  [6 7 8 9 10]]\n",
      "\n",
      " [[1 2 3 4 5]\n",
      "  [6 7 8 9 10]]\n",
      "\n",
      " [[1 2 3 4 5]\n",
      "  [6 7 8 9 10]]] (3, 2, 5) \n",
      "\n",
      "<class 'numpy.ndarray'>\n"
     ]
    }
   ],
   "source": [
    "#3차원\n",
    "array3 = np.array([[[1,2,3,4,5],[6,7,8,9,10]],\n",
    "                  [[1,2,3,4,5],[6,7,8,9,10]],\n",
    "                  [[1,2,3,4,5],[6,7,8,9,10]]],dtype=object)   #dtype은 객체\n",
    "print(array3,array3.shape,'\\n')\n",
    "print(type(array3))                   #(차원의 수{2행5열이 몇개},행,렬)"
   ]
  },
  {
   "cell_type": "code",
   "execution_count": 14,
   "id": "c7cfc47f",
   "metadata": {},
   "outputs": [],
   "source": [
    "#경고 메시지 제외 처리\n",
    "import warnings                             \n",
    "warnings.filterwarnings('ignore')"
   ]
  },
  {
   "cell_type": "markdown",
   "id": "fb3b8a28",
   "metadata": {},
   "source": [
    "배열 생성 및 초기화\n",
    " -  Numpy는 원하는 shape로 배열을 설정하고 각 요소를 특정 값으로 초기화하는 zeros, ones, full,eye함수제공\n",
    " - 파라미터로 입력한 배열과 같은 shape의 배열을 만드는 zeros_like, ones_like, full_like 함수도 제공"
   ]
  },
  {
   "cell_type": "code",
   "execution_count": 15,
   "id": "34ed9be7",
   "metadata": {},
   "outputs": [
    {
     "name": "stdout",
     "output_type": "stream",
     "text": [
      "[0. 0. 0. 0. 0. 0. 0. 0. 0. 0.] \n",
      "\n",
      "[[0. 0. 0. 0. 0. 0.]\n",
      " [0. 0. 0. 0. 0. 0.]\n",
      " [0. 0. 0. 0. 0. 0.]] \n",
      "\n",
      "[[[0. 0.]\n",
      "  [0. 0.]\n",
      "  [0. 0.]]\n",
      "\n",
      " [[0. 0.]\n",
      "  [0. 0.]\n",
      "  [0. 0.]]]\n"
     ]
    }
   ],
   "source": [
    "print(np.zeros(10),'\\n')\n",
    "print(np.zeros((3,6)),'\\n')     #3행6열배열 - 안의 값은 0\n",
    "print(np.zeros((2,3,2)))   #3행 2열의 3차원 요소값은 0\n",
    "\n",
    "#이미지 데이터의 빈그릇을 만들때 사용"
   ]
  },
  {
   "cell_type": "code",
   "execution_count": 16,
   "id": "f6e0a4b3",
   "metadata": {},
   "outputs": [
    {
     "name": "stdout",
     "output_type": "stream",
     "text": [
      "[[[1. 1.]\n",
      "  [1. 1.]\n",
      "  [1. 1.]]\n",
      "\n",
      " [[1. 1.]\n",
      "  [1. 1.]\n",
      "  [1. 1.]]]\n"
     ]
    }
   ],
   "source": [
    "print(np.ones((2,3,2)))   #전부 요소값은 1 (1뒤에 .은 실수를 표현함), .을 없애려면 ,dtype =int를 작성하면됨"
   ]
  },
  {
   "cell_type": "code",
   "execution_count": 17,
   "id": "00b2f152",
   "metadata": {},
   "outputs": [
    {
     "data": {
      "text/plain": [
       "array([[5, 5],\n",
       "       [5, 5]])"
      ]
     },
     "execution_count": 17,
     "metadata": {},
     "output_type": "execute_result"
    }
   ],
   "source": [
    "ar1 =np.full((2,2),5)  #2행 2열을 전부 5로 출력(전부 특정한 수로 출력-)\n",
    "ar1"
   ]
  },
  {
   "cell_type": "code",
   "execution_count": 18,
   "id": "b712ea0e",
   "metadata": {},
   "outputs": [
    {
     "data": {
      "text/plain": [
       "array([[1., 0., 0.],\n",
       "       [0., 1., 0.],\n",
       "       [0., 0., 1.]])"
      ]
     },
     "execution_count": 18,
     "metadata": {},
     "output_type": "execute_result"
    }
   ],
   "source": [
    "#항등행렬(대각선), 단위행렬\n",
    "ar2 = np.eye(3)    \n",
    "ar2"
   ]
  },
  {
   "cell_type": "code",
   "execution_count": 19,
   "id": "966d1dc5",
   "metadata": {},
   "outputs": [],
   "source": [
    "# [과제] zeros_like, ones_like, full_like 함수를 사용하여 예를 하나씩 작성하세요.(구글링가능)"
   ]
  },
  {
   "cell_type": "code",
   "execution_count": 20,
   "id": "0419ba17",
   "metadata": {},
   "outputs": [
    {
     "name": "stdout",
     "output_type": "stream",
     "text": [
      "[[1 2 3]\n",
      " [4 5 6]\n",
      " [7 8 9]]\n",
      "\n",
      "[[0. 0. 0.]\n",
      " [0. 0. 0.]\n",
      " [0. 0. 0.]] float64\n",
      "\n",
      "[[1. 1. 1.]\n",
      " [1. 1. 1.]\n",
      " [1. 1. 1.]] float64\n",
      "\n",
      "[[6. 6. 6.]\n",
      " [6. 6. 6.]\n",
      " [6. 6. 6.]] float32\n",
      "\n"
     ]
    }
   ],
   "source": [
    "import numpy as np\n",
    "a = np.array([[1,2,3],[4,5,6],[7,8,9]])\n",
    "print(a)\n",
    "print()\n",
    "\n",
    "ar1 = np.zeros_like(a)\n",
    "ar2 = ar1.astype(float)\n",
    "print(ar2, ar2.dtype)\n",
    "print()\n",
    "\n",
    "ar3 = np.ones_like(a)\n",
    "ar4 = ar3.astype(float)\n",
    "print(ar4, ar4.dtype)\n",
    "print()\n",
    "\n",
    "ar5 = np.full_like(a, 6)\n",
    "ar6 = ar5.astype('float32')\n",
    "print(ar6, ar6.dtype)\n",
    "print()\n"
   ]
  },
  {
   "cell_type": "code",
   "execution_count": 21,
   "id": "23002ce4",
   "metadata": {},
   "outputs": [],
   "source": [
    "v1= np.array([1,2,3])\n",
    "z1 = np.zeros_like(v1)"
   ]
  },
  {
   "cell_type": "code",
   "execution_count": 22,
   "id": "a6c3cc26",
   "metadata": {},
   "outputs": [
    {
     "data": {
      "text/plain": [
       "array([ 0,  1,  2,  3,  4,  5,  6,  7,  8,  9, 10, 11, 12, 13, 14])"
      ]
     },
     "execution_count": 22,
     "metadata": {},
     "output_type": "execute_result"
    }
   ],
   "source": [
    "#arange 함수 : python의 range함수의 배열 버전(걸리는 시간이 짧다)\n",
    "arr1 = np.arange(15)\n",
    "arr1"
   ]
  },
  {
   "cell_type": "code",
   "execution_count": 23,
   "id": "1dc31e03",
   "metadata": {},
   "outputs": [
    {
     "data": {
      "text/plain": [
       "range(0, 15)"
      ]
     },
     "execution_count": 23,
     "metadata": {},
     "output_type": "execute_result"
    }
   ],
   "source": [
    "arr2 = range(15)    # 사용하려면 for문을 사용해야되는데 걸리는 시간이 더 길다\n",
    "arr2            "
   ]
  },
  {
   "cell_type": "code",
   "execution_count": 24,
   "id": "7c803fc9",
   "metadata": {},
   "outputs": [
    {
     "name": "stdout",
     "output_type": "stream",
     "text": [
      "[[ 0  1  2  3  4]\n",
      " [ 5  6  7  8  9]\n",
      " [10 11 12 13 14]] (3, 5) \n",
      "\n",
      "[[[ 0  1  2  3  4]\n",
      "  [ 5  6  7  8  9]\n",
      "  [10 11 12 13 14]]] (1, 3, 5)\n"
     ]
    }
   ],
   "source": [
    "arr2 = arr1.reshape(3,5)    #reshape = 형태를 다시 만듦\n",
    "print(arr2,arr2.shape,'\\n')\n",
    "arr3 = arr1.reshape(1,3,5)\n",
    "print(arr3,arr3.shape)"
   ]
  },
  {
   "cell_type": "code",
   "execution_count": 25,
   "id": "3153f676",
   "metadata": {},
   "outputs": [
    {
     "data": {
      "text/plain": [
       "array([[0, 1],\n",
       "       [2, 3],\n",
       "       [4, 5],\n",
       "       [6, 7],\n",
       "       [8, 9]])"
      ]
     },
     "execution_count": 25,
     "metadata": {},
     "output_type": "execute_result"
    }
   ],
   "source": [
    "# Q.  array1을 생성하고 에 reshape 함수를 이용, (5,2) 배열을 생성하고 크기를 같이 출력하세요\n",
    "array1 = np.arange(10)\n",
    "array2 = array1.reshape(5,2)\n",
    "array2"
   ]
  },
  {
   "cell_type": "code",
   "execution_count": 26,
   "id": "8cbdb5bf",
   "metadata": {},
   "outputs": [
    {
     "name": "stdout",
     "output_type": "stream",
     "text": [
      "[[ 0  1  2  3  4  5]\n",
      " [ 6  7  8  9 10 11]\n",
      " [12 13 14 15 16 17]\n",
      " [18 19 20 21 22 23]\n",
      " [24 25 26 27 28 29]] (5, 6) \n",
      "\n",
      "[[[1 2 3 4 5]\n",
      "  [6 7 8 9 10]]\n",
      "\n",
      " [[1 2 3 4 5]\n",
      "  [6 7 8 9 10]]\n",
      "\n",
      " [[1 2 3 4 5]\n",
      "  [6 7 8 9 10]]] (3, 2, 5)\n"
     ]
    }
   ],
   "source": [
    "# 0~29 일차원 배열을 생성한 후 다시 2,3차원 배열로 변환하여 출력하세요.\n",
    "arr1 = np.arange(30)\n",
    "arr2 = arr1.reshape(5,6)\n",
    "print(arr2,arr2.shape,'\\n')\n",
    "arr3 = arr2.reshape(2,3,5)\n",
    "print(array3,array3.shape)"
   ]
  },
  {
   "cell_type": "code",
   "execution_count": 27,
   "id": "aea75e83",
   "metadata": {},
   "outputs": [
    {
     "name": "stdout",
     "output_type": "stream",
     "text": [
      "[[ 0  1  2  3  4  5]\n",
      " [ 6  7  8  9 10 11]\n",
      " [12 13 14 15 16 17]\n",
      " [18 19 20 21 22 23]\n",
      " [24 25 26 27 28 29]] (5, 6) \n",
      "\n",
      "[[[ 0  1  2  3  4]\n",
      "  [ 5  6  7  8  9]]\n",
      "\n",
      " [[10 11 12 13 14]\n",
      "  [15 16 17 18 19]]\n",
      "\n",
      " [[20 21 22 23 24]\n",
      "  [25 26 27 28 29]]] (3, 2, 5)\n"
     ]
    }
   ],
   "source": [
    "# reshape(-1,-1)이용, 차원 변경   -1을 사용하여 알아서 계산하게 만듦\n",
    "array1 = np.arange(30)\n",
    "ar12 = array1.reshape(5,-1)   #행은 5개 나머지는 알아서 계산할것, 계산 가능한 것으로 해야함\n",
    "print(ar12,ar12.shape,'\\n')\n",
    "ar13 = array1.reshape(-1,2,5)\n",
    "print(ar13,ar13.shape)"
   ]
  },
  {
   "cell_type": "code",
   "execution_count": 28,
   "id": "1497bd5c",
   "metadata": {},
   "outputs": [
    {
     "name": "stdout",
     "output_type": "stream",
     "text": [
      "[ 0  1  2  3  4  5  6  7  8  9 10 11 12 13 14 15 16 17 18 19 20 21 22 23\n",
      " 24 25 26 27 28 29] (30,) \n",
      "\n",
      "[[[ 0  1  2  3  4]\n",
      "  [ 5  6  7  8  9]]\n",
      "\n",
      " [[10 11 12 13 14]\n",
      "  [15 16 17 18 19]]\n",
      "\n",
      " [[20 21 22 23 24]\n",
      "  [25 26 27 28 29]]] (3, 2, 5) \n",
      "\n"
     ]
    }
   ],
   "source": [
    "# 2차원을 1차원 or 3차원으로 변환\n",
    "ar1 = ar12.reshape(-1,)    #가능한 콤마를 같이 할것\n",
    "ar3 = ar12.reshape(-1,2,5)\n",
    "print(ar1,ar1.shape,'\\n')\n",
    "print(ar3,ar3.shape,'\\n')"
   ]
  },
  {
   "cell_type": "code",
   "execution_count": 29,
   "id": "952f546b",
   "metadata": {},
   "outputs": [
    {
     "name": "stdout",
     "output_type": "stream",
     "text": [
      "[ 0  1  2  3  4  5  6  7  8  9 10 11 12 13 14 15 16 17 18 19 20 21 22 23\n",
      " 24 25 26 27 28 29] <built-in method reshape of numpy.ndarray object at 0x0000015EA9010D50> \n",
      "\n",
      "[[ 0  1  2  3  4  5  6  7  8  9]\n",
      " [10 11 12 13 14 15 16 17 18 19]\n",
      " [20 21 22 23 24 25 26 27 28 29]] <built-in method reshape of numpy.ndarray object at 0x0000015EA8CC3450> \n",
      "\n"
     ]
    }
   ],
   "source": [
    "#3차원을 1,2차원으로 변환하여 출력하세요\n",
    "ar4 = ar3.reshape(-1,)\n",
    "ar5 = ar3.reshape(3,-1)\n",
    "print(ar4,ar4.reshape,'\\n')\n",
    "print(ar5,ar5.reshape,'\\n')"
   ]
  },
  {
   "cell_type": "code",
   "execution_count": 30,
   "id": "ab32d105",
   "metadata": {
    "scrolled": false
   },
   "outputs": [
    {
     "name": "stdout",
     "output_type": "stream",
     "text": [
      "[ 0  1  2  3  4  5  6  7  8  9 10 11 12 13 14 15 16 17 18 19 20 21 22 23\n",
      " 24 25 26 27 28 29] \n",
      "\n",
      "[[ 0  1  2  3  4  5  6  7  8  9]\n",
      " [10 11 12 13 14 15 16 17 18 19]\n",
      " [20 21 22 23 24 25 26 27 28 29]]\n"
     ]
    }
   ],
   "source": [
    "ar3 = np.arange(30).reshape(3,2,5)\n",
    "ar31 = ar3.reshape(-1,)\n",
    "ar32 = ar3.reshape(3,-1)\n",
    "\n",
    "print(ar31,'\\n')\n",
    "print(ar32)"
   ]
  },
  {
   "cell_type": "markdown",
   "id": "a482d0a8",
   "metadata": {},
   "source": [
    "행렬의 종류\n",
    " -  정방행렬은 행과 열의 수가 같은 행렬\n",
    " -  대각행렬은 주 대각선 원소를 제외한 모든 원소들이 0인 정방행렬\n",
    " -  항등행렬은 행렬 곱셈 연산에 항등원으로 작용하는 행렬\n",
    " -  영행렬은 모든 원소가 0인 행렬로 곱셈 연산에서 영원으로 작용하는 행렬\n",
    " -  전치행렬은 주대각선 원소를 기준으로 행과 열을 바꿔주는 행렬\n",
    " -  직교행렬은 행렬 A의 역행렬이 A의 전치행렬이고 A의 전치행렬과 A 행렬을 곱하였을때 항등행렬이 나오는 행렬 "
   ]
  },
  {
   "cell_type": "code",
   "execution_count": 31,
   "id": "4d8193db",
   "metadata": {},
   "outputs": [
    {
     "data": {
      "text/plain": [
       "array([[7, 7, 7, 7, 7],\n",
       "       [7, 7, 7, 7, 7],\n",
       "       [7, 7, 7, 7, 7],\n",
       "       [7, 7, 7, 7, 7],\n",
       "       [7, 7, 7, 7, 7]])"
      ]
     },
     "execution_count": 31,
     "metadata": {},
     "output_type": "execute_result"
    }
   ],
   "source": [
    "# 정방행렬\n",
    "\n",
    "ar = np.full((5,5),7)\n",
    "ar "
   ]
  },
  {
   "cell_type": "code",
   "execution_count": 32,
   "id": "53e3fe1c",
   "metadata": {},
   "outputs": [
    {
     "data": {
      "text/plain": [
       "array([[1., 0., 0., 0., 0.],\n",
       "       [0., 1., 0., 0., 0.],\n",
       "       [0., 0., 1., 0., 0.],\n",
       "       [0., 0., 0., 1., 0.],\n",
       "       [0., 0., 0., 0., 1.]])"
      ]
     },
     "execution_count": 32,
     "metadata": {},
     "output_type": "execute_result"
    }
   ],
   "source": [
    "# 항등행렬, 단위행렬\n",
    "a = np.eye(5)\n",
    "a "
   ]
  },
  {
   "cell_type": "code",
   "execution_count": 33,
   "id": "72544066",
   "metadata": {},
   "outputs": [
    {
     "data": {
      "text/plain": [
       "array([[0., 0., 0., 0., 0.],\n",
       "       [0., 0., 0., 0., 0.],\n",
       "       [0., 0., 0., 0., 0.],\n",
       "       [0., 0., 0., 0., 0.],\n",
       "       [0., 0., 0., 0., 0.]])"
      ]
     },
     "execution_count": 33,
     "metadata": {},
     "output_type": "execute_result"
    }
   ],
   "source": [
    "# 영행렬\n",
    "a = np.zeros(25)\n",
    "a.reshape(5,5)"
   ]
  },
  {
   "cell_type": "markdown",
   "id": "d01c7ea0",
   "metadata": {},
   "source": [
    "#ndarray 데이터 형태 지정 및 변경\n",
    "\n",
    "<img src = '데이터형태.jpg' STYLE= 'width:300px;'>"
   ]
  },
  {
   "cell_type": "code",
   "execution_count": 34,
   "id": "0d1f81bd",
   "metadata": {},
   "outputs": [
    {
     "name": "stdout",
     "output_type": "stream",
     "text": [
      "[1. 2. 3.] float64\n",
      "[1 2 3] int32\n"
     ]
    }
   ],
   "source": [
    "arr1 = np.array([1,2,3],dtype=np.float64)\n",
    "arr2 = np.array([1,2,3],dtype=np.int32)\n",
    "print(arr1,arr1.dtype)\n",
    "print(arr2,arr2.dtype)"
   ]
  },
  {
   "cell_type": "code",
   "execution_count": 35,
   "id": "52695bef",
   "metadata": {
    "scrolled": true
   },
   "outputs": [
    {
     "name": "stdout",
     "output_type": "stream",
     "text": [
      "int32\n",
      "float64\n"
     ]
    }
   ],
   "source": [
    "#타입 변경\n",
    "arr = np.array([1,2,3,4,5])\n",
    "print(arr.dtype)\n",
    "float_arr = arr.astype(np.float64)\n",
    "print(float_arr.dtype)"
   ]
  },
  {
   "cell_type": "code",
   "execution_count": 36,
   "id": "a3cc7997",
   "metadata": {},
   "outputs": [
    {
     "data": {
      "text/plain": [
       "array([1., 1., 1., 1., 1., 1., 1., 1., 1., 1.])"
      ]
     },
     "execution_count": 36,
     "metadata": {},
     "output_type": "execute_result"
    }
   ],
   "source": [
    "np.ones(10)"
   ]
  },
  {
   "cell_type": "code",
   "execution_count": 37,
   "id": "b764bfc0",
   "metadata": {},
   "outputs": [
    {
     "name": "stdout",
     "output_type": "stream",
     "text": [
      "[1 1 1 1 1 1 1 1 1 1]\n",
      "[0 0 0 0 0 0 0 0 0 0]\n"
     ]
    }
   ],
   "source": [
    "#empty 함수 : shape와 dtype을 입력 받아 초기화되지 않은 배열을 만들어준다.\n",
    "#cf. zeros함수와 비교(zeros함수는 초기화하나 empty함수는 메모리 안에 있음-초기화 안함)\n",
    "# empty 함수를 실행할 때 마다 값이 다른것을 확인 할 수있다. 이는 해당 메모리 영역에 어떤 데이터가 \n",
    "#남아 있었던지 상관없이 그대로 영역의 주소만 알려줄 뿐 초기화는 사용자에게 맡기기 때문임.\n",
    "\n",
    "print(np.empty(shape=(10,),dtype=np.int8))\n",
    "print(np.zeros(shape=(10,),dtype=np.int8))"
   ]
  },
  {
   "cell_type": "code",
   "execution_count": 39,
   "id": "bbd17f04",
   "metadata": {},
   "outputs": [
    {
     "name": "stdout",
     "output_type": "stream",
     "text": [
      "[b'1' b'2' b'3' b'4'] |S1\n"
     ]
    }
   ],
   "source": [
    "#문자열 타입으로 배열 만들기\n",
    "# arr = np.array([1,2,3,4],dtype='S')\n",
    "arr = np.array([1,2,3,4],dtype=np.string_)   #>>따옴표 없이 사용함\n",
    "print(arr, arr.dtype)"
   ]
  },
  {
   "cell_type": "code",
   "execution_count": 40,
   "id": "16ea87a0",
   "metadata": {},
   "outputs": [
    {
     "name": "stdout",
     "output_type": "stream",
     "text": [
      "[1. 2. 3. 4.] float64\n"
     ]
    }
   ],
   "source": [
    "arr1 = arr.astype(float)  #타입을 float로 변경하면 실수가 됨> 자동인식\n",
    "# 만약 float 32를 써야 한다면 'float32'로 변경하면됨\n",
    "print(arr1,arr1.dtype)"
   ]
  },
  {
   "cell_type": "code",
   "execution_count": 41,
   "id": "987f9e3a",
   "metadata": {},
   "outputs": [
    {
     "name": "stdout",
     "output_type": "stream",
     "text": [
      "[1 2 3 4] int32\n"
     ]
    }
   ],
   "source": [
    "arr1 = arr.astype(int)  #타입을 int로 변경하면 정수가 됨\n",
    "print(arr1,arr1.dtype)"
   ]
  },
  {
   "cell_type": "code",
   "execution_count": 42,
   "id": "c4acb2a5",
   "metadata": {},
   "outputs": [
    {
     "name": "stdout",
     "output_type": "stream",
     "text": [
      "[1.2 2.3 3. ] float64 \n",
      "\n",
      "[1 2 3] int32\n"
     ]
    }
   ],
   "source": [
    "# 정수와 실수로 구성된 list_e = [1.2,2.3,3]을 numpy를 이용하여 실수형과 정수형으로 각각 출력하세요.\n",
    "list_e = [1.2,2.3,3]\n",
    "array_e1 = np.array(list_e)     #배열로 바꿈\n",
    "print(array_e1,array_e1.dtype,'\\n')\n",
    "array_e2 = array_e1.astype(int)  #e1을 정수로 바꿈\n",
    "print(array_e2,array_e2.dtype)"
   ]
  },
  {
   "cell_type": "code",
   "execution_count": 43,
   "id": "20a229e2",
   "metadata": {},
   "outputs": [
    {
     "name": "stdout",
     "output_type": "stream",
     "text": [
      "[[1 2 3]\n",
      " [4 5 6]] int32\n"
     ]
    }
   ],
   "source": [
    "# 배열의 산술 연산\n",
    "arr = np.array([[1,2,3],[4,5,6]])   #2차원 배열\n",
    "arr = np.arange(1,7).reshape(2,3)   #\n",
    "print(arr,arr.dtype)"
   ]
  },
  {
   "cell_type": "code",
   "execution_count": 44,
   "id": "746d5223",
   "metadata": {},
   "outputs": [
    {
     "data": {
      "text/plain": [
       "array([[ 1,  4,  9],\n",
       "       [16, 25, 36]])"
      ]
     },
     "execution_count": 44,
     "metadata": {},
     "output_type": "execute_result"
    }
   ],
   "source": [
    "#곱셈(같은 위치로)\n",
    "arr * arr"
   ]
  },
  {
   "cell_type": "code",
   "execution_count": 45,
   "id": "87371c71",
   "metadata": {},
   "outputs": [
    {
     "data": {
      "text/plain": [
       "array([[0, 0, 0],\n",
       "       [0, 0, 0]])"
      ]
     },
     "execution_count": 45,
     "metadata": {},
     "output_type": "execute_result"
    }
   ],
   "source": [
    "#뺄셈\n",
    "arr - arr"
   ]
  },
  {
   "cell_type": "code",
   "execution_count": 46,
   "id": "ed85b71e",
   "metadata": {},
   "outputs": [
    {
     "data": {
      "text/plain": [
       "array([[ 0.,  4.,  1.],\n",
       "       [ 7.,  2., 12.]])"
      ]
     },
     "execution_count": 46,
     "metadata": {},
     "output_type": "execute_result"
    }
   ],
   "source": [
    "\n",
    "arr2 = np.array([[0.,4,1],[7.,2.,12.]])\n",
    "arr2"
   ]
  },
  {
   "cell_type": "code",
   "execution_count": 47,
   "id": "51ad5af2",
   "metadata": {},
   "outputs": [
    {
     "data": {
      "text/plain": [
       "array([[False,  True, False],\n",
       "       [ True, False,  True]])"
      ]
     },
     "execution_count": 47,
     "metadata": {},
     "output_type": "execute_result"
    }
   ],
   "source": [
    "# 부등호\n",
    "arr2 > arr"
   ]
  },
  {
   "cell_type": "code",
   "execution_count": 48,
   "id": "04381e73",
   "metadata": {},
   "outputs": [
    {
     "name": "stdout",
     "output_type": "stream",
     "text": [
      "[[1 2 3]\n",
      " [4 5 6]\n",
      " [7 8 9]]\n",
      "[[11 12 13]\n",
      " [14 15 16]\n",
      " [17 18 19]] \n",
      "\n",
      "[[12 14 16]\n",
      " [18 20 22]\n",
      " [24 26 28]]\n",
      "[[12 14 16]\n",
      " [18 20 22]\n",
      " [24 26 28]] \n",
      "\n",
      "[[ 11  24  39]\n",
      " [ 56  75  96]\n",
      " [119 144 171]]\n",
      "[[ 11  24  39]\n",
      " [ 56  75  96]\n",
      " [119 144 171]] \n",
      "\n",
      "[[10 10 10]\n",
      " [10 10 10]\n",
      " [10 10 10]]\n",
      "[[10 10 10]\n",
      " [10 10 10]\n",
      " [10 10 10]] \n",
      "\n",
      "[[11.          6.          4.33333333]\n",
      " [ 3.5         3.          2.66666667]\n",
      " [ 2.42857143  2.25        2.11111111]]\n",
      "[[11.          6.          4.33333333]\n",
      " [ 3.5         3.          2.66666667]\n",
      " [ 2.42857143  2.25        2.11111111]]\n"
     ]
    }
   ],
   "source": [
    "# 기본 사칙연산\n",
    "value1 = np.arange(1,10).reshape(3,3)\n",
    "value2 = np.arange(11,20).reshape(3,3)\n",
    "\n",
    "print(value1)\n",
    "print(value2,'\\n')\n",
    "print(value1 + value2)\n",
    "print(np.add(value1,value2),'\\n')\n",
    "print(value1 * value2)\n",
    "print(np.multiply(value2,value1),'\\n')\n",
    "print(value2 - value1)\n",
    "print(np.subtract(value2,value1),'\\n')\n",
    "print(value2/value1)\n",
    "print(np.divide(value2,value1))"
   ]
  },
  {
   "cell_type": "code",
   "execution_count": 49,
   "id": "aa664797",
   "metadata": {},
   "outputs": [
    {
     "data": {
      "text/plain": [
       "array([[0.74184024, 0.17071103],\n",
       "       [0.12813729, 1.15354472]])"
      ]
     },
     "execution_count": 49,
     "metadata": {},
     "output_type": "execute_result"
    }
   ],
   "source": [
    "arr = np.random.randn(2,2)\n",
    "arr"
   ]
  },
  {
   "cell_type": "code",
   "execution_count": 50,
   "id": "4ac6d3d8",
   "metadata": {},
   "outputs": [
    {
     "data": {
      "text/plain": [
       "0.5486"
      ]
     },
     "execution_count": 50,
     "metadata": {},
     "output_type": "execute_result"
    }
   ],
   "source": [
    "arr.mean().round(4)   #mean->평균, round(수소점 n까지 나타냄)"
   ]
  },
  {
   "cell_type": "code",
   "execution_count": 51,
   "id": "752d79c9",
   "metadata": {},
   "outputs": [
    {
     "data": {
      "text/plain": [
       "array([0.45627564, 0.64084101])"
      ]
     },
     "execution_count": 51,
     "metadata": {},
     "output_type": "execute_result"
    }
   ],
   "source": [
    "arr.mean(axis=1)  #열방향으로 평균(가로)"
   ]
  },
  {
   "cell_type": "code",
   "execution_count": 52,
   "id": "33f50dc5",
   "metadata": {},
   "outputs": [
    {
     "data": {
      "text/plain": [
       "array([0.43498876, 0.66212788])"
      ]
     },
     "execution_count": 52,
     "metadata": {},
     "output_type": "execute_result"
    }
   ],
   "source": [
    "arr.mean(axis=0)  #행방향의 평균(세로)"
   ]
  },
  {
   "cell_type": "code",
   "execution_count": 53,
   "id": "04697f14",
   "metadata": {},
   "outputs": [
    {
     "data": {
      "text/plain": [
       "2.1942"
      ]
     },
     "execution_count": 53,
     "metadata": {},
     "output_type": "execute_result"
    }
   ],
   "source": [
    "arr.sum().round(4)"
   ]
  },
  {
   "cell_type": "code",
   "execution_count": 54,
   "id": "1e5c6555",
   "metadata": {},
   "outputs": [
    {
     "data": {
      "text/plain": [
       "array([0.74184024, 0.12664031, 0.01622735, 0.01871897])"
      ]
     },
     "execution_count": 54,
     "metadata": {},
     "output_type": "execute_result"
    }
   ],
   "source": [
    "arr.cumprod()  #누적으로 곱한 값"
   ]
  },
  {
   "cell_type": "code",
   "execution_count": 55,
   "id": "3f4c34b7",
   "metadata": {},
   "outputs": [
    {
     "data": {
      "text/plain": [
       "array([[1, 2, 3],\n",
       "       [4, 5, 6],\n",
       "       [7, 8, 9]])"
      ]
     },
     "execution_count": 55,
     "metadata": {},
     "output_type": "execute_result"
    }
   ],
   "source": [
    "# 인덱싱,슬라이싱\n",
    "arr2d = np.arange(1,10).reshape(3,3)\n",
    "arr2d"
   ]
  },
  {
   "cell_type": "code",
   "execution_count": 56,
   "id": "9a0c6daf",
   "metadata": {},
   "outputs": [
    {
     "data": {
      "text/plain": [
       "array([7, 8, 9])"
      ]
     },
     "execution_count": 56,
     "metadata": {},
     "output_type": "execute_result"
    }
   ],
   "source": [
    "arr2d[2]  #2번째 열"
   ]
  },
  {
   "cell_type": "code",
   "execution_count": 57,
   "id": "5b6360e2",
   "metadata": {},
   "outputs": [
    {
     "data": {
      "text/plain": [
       "9"
      ]
     },
     "execution_count": 57,
     "metadata": {},
     "output_type": "execute_result"
    }
   ],
   "source": [
    "arr2d[2][2] #2번째 열과 2번째 행 (0->1->2), (0->1->2)"
   ]
  },
  {
   "cell_type": "code",
   "execution_count": 58,
   "id": "afdb90bd",
   "metadata": {},
   "outputs": [
    {
     "data": {
      "text/plain": [
       "array([1, 4, 7])"
      ]
     },
     "execution_count": 58,
     "metadata": {},
     "output_type": "execute_result"
    }
   ],
   "source": [
    "arr2d[:,0]  #앞에는 행 전부, 뒤에는 0번째 열"
   ]
  },
  {
   "cell_type": "code",
   "execution_count": 59,
   "id": "377ab2a8",
   "metadata": {},
   "outputs": [
    {
     "data": {
      "text/plain": [
       "array([[1, 2, 3],\n",
       "       [4, 5, 6]])"
      ]
     },
     "execution_count": 59,
     "metadata": {},
     "output_type": "execute_result"
    }
   ],
   "source": [
    "arr2d[:2,:] #:2(슬라이싱)-> 0부터 1까지 슬라이싱하여 1,2열, :를 사용하여 행 전부"
   ]
  },
  {
   "cell_type": "code",
   "execution_count": 60,
   "id": "46967373",
   "metadata": {},
   "outputs": [
    {
     "data": {
      "text/plain": [
       "(array([3, 6]),\n",
       " array([[1, 2],\n",
       "        [4, 5]]))"
      ]
     },
     "execution_count": 60,
     "metadata": {},
     "output_type": "execute_result"
    }
   ],
   "source": [
    "# arr2d에서 [3,6],[[1,2],[4,5]]를 출력하세요\n",
    "arr2d[:2,2],arr2d[:2,:2]"
   ]
  },
  {
   "cell_type": "code",
   "execution_count": 61,
   "id": "895d3398",
   "metadata": {},
   "outputs": [],
   "source": [
    "#arr2d를 다음과 같은 방식으로 아래와 같이 출력하세요\n",
    "#[[1,2,3]\n",
    "#[4,5,6]]\n"
   ]
  },
  {
   "cell_type": "code",
   "execution_count": 62,
   "id": "b3bf78f2",
   "metadata": {},
   "outputs": [
    {
     "data": {
      "text/plain": [
       "array([[1, 2, 3],\n",
       "       [4, 5, 6]])"
      ]
     },
     "execution_count": 62,
     "metadata": {},
     "output_type": "execute_result"
    }
   ],
   "source": [
    "arr2d[[0,1],:]  #리스트의 형식으로 할수 있음."
   ]
  },
  {
   "cell_type": "code",
   "execution_count": 63,
   "id": "64b6ab84",
   "metadata": {},
   "outputs": [
    {
     "data": {
      "text/plain": [
       "array([[ 0,  1,  2,  3,  4,  5],\n",
       "       [ 6,  7,  8,  9, 10, 11],\n",
       "       [12, 13, 14, 15, 16, 17],\n",
       "       [18, 19, 20, 21, 22, 23],\n",
       "       [24, 25, 26, 27, 28, 29]])"
      ]
     },
     "execution_count": 63,
     "metadata": {},
     "output_type": "execute_result"
    }
   ],
   "source": [
    "arr =np.arange(30).reshape(5,6)\n",
    "arr"
   ]
  },
  {
   "cell_type": "code",
   "execution_count": 64,
   "id": "be5a115d",
   "metadata": {},
   "outputs": [
    {
     "data": {
      "text/plain": [
       "[1, 7, 13]"
      ]
     },
     "execution_count": 64,
     "metadata": {},
     "output_type": "execute_result"
    }
   ],
   "source": [
    "[14,15,16]\n",
    "[3,9]\n",
    "[1,7,13]"
   ]
  },
  {
   "cell_type": "code",
   "execution_count": 65,
   "id": "151a89a3",
   "metadata": {},
   "outputs": [
    {
     "data": {
      "text/plain": [
       "array([14, 15, 16])"
      ]
     },
     "execution_count": 65,
     "metadata": {},
     "output_type": "execute_result"
    }
   ],
   "source": [
    "arr[2,[2,3,4]]\n",
    "arr[2][2:5]    #2번째 행 , 2부터 5앞까지의 열(2~4열)"
   ]
  },
  {
   "cell_type": "code",
   "execution_count": 66,
   "id": "defcb344",
   "metadata": {},
   "outputs": [
    {
     "data": {
      "text/plain": [
       "array([3, 9])"
      ]
     },
     "execution_count": 66,
     "metadata": {},
     "output_type": "execute_result"
    }
   ],
   "source": [
    "arr[[0,1],3]   #리스트 형태로\n",
    "arr[:2,3]      #슬라이싱형태"
   ]
  },
  {
   "cell_type": "code",
   "execution_count": 67,
   "id": "01884fef",
   "metadata": {
    "scrolled": true
   },
   "outputs": [
    {
     "data": {
      "text/plain": [
       "array([ 1,  7, 13])"
      ]
     },
     "execution_count": 67,
     "metadata": {},
     "output_type": "execute_result"
    }
   ],
   "source": [
    "arr[[0,1,2],1]\n",
    "arr[:3,1]"
   ]
  },
  {
   "cell_type": "code",
   "execution_count": 68,
   "id": "c60f761f",
   "metadata": {},
   "outputs": [
    {
     "name": "stdout",
     "output_type": "stream",
     "text": [
      "[[0, 1, 2, 3, 4, 5], [6, 7, 8, 9, 10, 11], [12, 13, 14, 15, 16, 17], [18, 19, 20, 21, 22, 23], [24, 25, 26, 27, 28, 29]] <class 'list'>\n"
     ]
    }
   ],
   "source": [
    "#배열을 리스트로 변환\n",
    "li = arr.tolist()\n",
    "print(li,type(li))"
   ]
  },
  {
   "cell_type": "code",
   "execution_count": 69,
   "id": "b0ae51fb",
   "metadata": {},
   "outputs": [
    {
     "name": "stdout",
     "output_type": "stream",
     "text": [
      "[1 2 3 4 5 6 7 8 9]\n",
      "[6 7 8 9]\n",
      "[False False False False False  True  True  True  True]\n"
     ]
    }
   ],
   "source": [
    "# Boolean indexing  불특정,특정조건에 맞는것은 true 아닌것은 false(참인것만 판별함) - 자주 사용함-\n",
    "arr1d = np.arange(1,10)\n",
    "print(arr1d)\n",
    "arr3 = arr1d[arr1d > 5]   #[]를 이용하여 조건을 걸어줌\n",
    "print(arr3)              #true만 뽑힘\n",
    "print(arr1d > 5)         #true,false판별"
   ]
  },
  {
   "cell_type": "code",
   "execution_count": 70,
   "id": "644fffbd",
   "metadata": {},
   "outputs": [
    {
     "data": {
      "text/plain": [
       "array([6, 7, 8, 9])"
      ]
     },
     "execution_count": 70,
     "metadata": {},
     "output_type": "execute_result"
    }
   ],
   "source": [
    "# arr1d에서 일반 인덱스를 이용해서 [6,7,8,9]를 출력하세요\n",
    "arr1d[5:]\n"
   ]
  },
  {
   "cell_type": "code",
   "execution_count": 71,
   "id": "4ae6b9e1",
   "metadata": {},
   "outputs": [
    {
     "name": "stdout",
     "output_type": "stream",
     "text": [
      "[11 12 13 14]\n"
     ]
    }
   ],
   "source": [
    "# Q. 1~14까지 ndarry를 만들어 array_e로 저장하고 (array_e/2)>5를 만족하는 값을 불린 인덱싱으로 출력하세요.\n",
    " \n",
    "array_e = np.arange(1,15)\n",
    "arr1 = array_e[(array_e/2)>5]\n",
    "print(arr1)\n",
    "    \n"
   ]
  },
  {
   "cell_type": "code",
   "execution_count": 72,
   "id": "e9ab595a",
   "metadata": {},
   "outputs": [
    {
     "name": "stdout",
     "output_type": "stream",
     "text": [
      "['Bob' 'Joe' 'Will' 'Bob' 'Will' 'Joe' 'Joe'] \n",
      "\n",
      "[[ 1.92027207  0.35849439  0.87986279 -0.30824811]\n",
      " [ 0.46891326  1.46596276 -1.49039517  0.98772245]\n",
      " [ 1.52641742 -1.23765739 -0.5820634  -0.08269221]\n",
      " [-0.97824891 -0.11237714  0.25107636  1.12043987]\n",
      " [ 0.41848184  0.05869697  1.10415895  0.77461071]\n",
      " [-1.21513591  0.38641459 -0.64853466  1.35679482]\n",
      " [-1.84681834 -0.09831791 -1.39912216 -0.74254342]]\n"
     ]
    }
   ],
   "source": [
    "names = np.array(['Bob','Joe','Will','Bob','Will','Joe','Joe'])\n",
    "data = np.random.randn(7,4)\n",
    "print(names,'\\n')\n",
    "print(data)"
   ]
  },
  {
   "cell_type": "code",
   "execution_count": 73,
   "id": "25f5456c",
   "metadata": {},
   "outputs": [
    {
     "data": {
      "text/plain": [
       "array([ True, False, False,  True, False, False, False])"
      ]
     },
     "execution_count": 73,
     "metadata": {},
     "output_type": "execute_result"
    }
   ],
   "source": [
    "names =='Bob'"
   ]
  },
  {
   "cell_type": "code",
   "execution_count": 74,
   "id": "22c70e95",
   "metadata": {},
   "outputs": [
    {
     "data": {
      "text/plain": [
       "array([[ 1.92027207,  0.35849439,  0.87986279, -0.30824811],\n",
       "       [-0.97824891, -0.11237714,  0.25107636,  1.12043987]])"
      ]
     },
     "execution_count": 74,
     "metadata": {},
     "output_type": "execute_result"
    }
   ],
   "source": [
    "data[names =='Bob']"
   ]
  },
  {
   "cell_type": "code",
   "execution_count": 75,
   "id": "ec288d9d",
   "metadata": {},
   "outputs": [
    {
     "data": {
      "text/plain": [
       "array([[ 0.87986279, -0.30824811],\n",
       "       [ 0.25107636,  1.12043987]])"
      ]
     },
     "execution_count": 75,
     "metadata": {},
     "output_type": "execute_result"
    }
   ],
   "source": [
    "data[names =='Bob',2:]"
   ]
  },
  {
   "cell_type": "code",
   "execution_count": 76,
   "id": "dafab672",
   "metadata": {},
   "outputs": [
    {
     "data": {
      "text/plain": [
       "array([[ 0.46891326,  1.46596276, -1.49039517,  0.98772245],\n",
       "       [ 1.52641742, -1.23765739, -0.5820634 , -0.08269221],\n",
       "       [ 0.41848184,  0.05869697,  1.10415895,  0.77461071],\n",
       "       [-1.21513591,  0.38641459, -0.64853466,  1.35679482],\n",
       "       [-1.84681834, -0.09831791, -1.39912216, -0.74254342]])"
      ]
     },
     "execution_count": 76,
     "metadata": {},
     "output_type": "execute_result"
    }
   ],
   "source": [
    "data[names != 'Bob'] #(Bob이 아닌것)"
   ]
  },
  {
   "cell_type": "code",
   "execution_count": 77,
   "id": "1c4efc40",
   "metadata": {
    "scrolled": true
   },
   "outputs": [
    {
     "data": {
      "text/plain": [
       "array([[ 1.92027207,  0.35849439,  0.87986279, -0.30824811],\n",
       "       [ 1.52641742, -1.23765739, -0.5820634 , -0.08269221],\n",
       "       [-0.97824891, -0.11237714,  0.25107636,  1.12043987],\n",
       "       [ 0.41848184,  0.05869697,  1.10415895,  0.77461071]])"
      ]
     },
     "execution_count": 77,
     "metadata": {},
     "output_type": "execute_result"
    }
   ],
   "source": [
    "# Bob이거나 Will 인것을 출력\n",
    "data[(names =='Bob') | (names =='Will')]\n",
    "\n",
    "mask = (names =='Bob') | (names =='Will')\n",
    "data[mask]"
   ]
  },
  {
   "cell_type": "code",
   "execution_count": 78,
   "id": "54f440c4",
   "metadata": {
    "scrolled": true
   },
   "outputs": [
    {
     "name": "stdout",
     "output_type": "stream",
     "text": [
      "[[1.92027207 0.35849439 0.87986279 0.        ]\n",
      " [0.46891326 1.46596276 0.         0.98772245]\n",
      " [1.52641742 0.         0.         0.        ]\n",
      " [0.         0.         0.25107636 1.12043987]\n",
      " [0.41848184 0.05869697 1.10415895 0.77461071]\n",
      " [0.         0.38641459 0.         1.35679482]\n",
      " [0.         0.         0.         0.        ]]\n"
     ]
    }
   ],
   "source": [
    "#음수를 모두 0으로 바꾸어서 출력\n",
    "data[data<0] =0\n",
    "print(data)"
   ]
  },
  {
   "cell_type": "code",
   "execution_count": 79,
   "id": "761717c6",
   "metadata": {},
   "outputs": [
    {
     "data": {
      "text/plain": [
       "array([ 3,  6,  9, 12, 15, 18, 21, 24, 27, 30, 33, 36, 39, 42, 45, 48, 51,\n",
       "       54, 57, 60, 63, 66, 69, 72, 75, 78, 81, 84, 87, 90, 93, 96, 99])"
      ]
     },
     "execution_count": 79,
     "metadata": {},
     "output_type": "execute_result"
    }
   ],
   "source": [
    "#[과제] 1~100까지의 정수에서 3의 배수인 것만 출력(for문과 배열 두가지 방식)\n",
    "\n",
    "import numpy as np\n",
    "arr = np.arange(3,101,3)\n",
    "arr"
   ]
  },
  {
   "cell_type": "code",
   "execution_count": 80,
   "id": "f0b8c721",
   "metadata": {},
   "outputs": [
    {
     "name": "stdout",
     "output_type": "stream",
     "text": [
      "3 6 9 12 15 18 21 24 27 30 33 36 39 42 45 48 51 54 57 60 63 66 69 72 75 78 81 84 87 90 93 96 99 "
     ]
    }
   ],
   "source": [
    "for num in range(1,101):\n",
    "    if num%3 == 0:\n",
    "       print(num,end= ' ')\n",
    "    else:\n",
    "        continue"
   ]
  },
  {
   "cell_type": "code",
   "execution_count": 81,
   "id": "d5578ec4",
   "metadata": {},
   "outputs": [
    {
     "name": "stdout",
     "output_type": "stream",
     "text": [
      "[ 3  6  9 12 15 18 21 24 27 30 33 36 39 42 45 48 51 54 57 60 63 66 69 72\n",
      " 75 78 81 84 87 90 93 96 99]\n",
      "\n",
      "100 "
     ]
    }
   ],
   "source": [
    "arr=np.arange(1,101)\n",
    "print(arr[arr%3==0])\n",
    "print()\n",
    "\n",
    "li = []\n",
    "arr_li=arr.tolist()\n",
    "for i in arr_li:\n",
    "    if i%3==0:\n",
    "        li.append(i)\n",
    "print(i,end=\" \")\n"
   ]
  },
  {
   "cell_type": "code",
   "execution_count": 82,
   "id": "991796ff",
   "metadata": {},
   "outputs": [],
   "source": [
    "#[과제] 1~100까지의 정수에서 5의 배수이면서 2의 배수인 것만을 출력(for문과 배열 두가지 방식)"
   ]
  },
  {
   "cell_type": "code",
   "execution_count": 83,
   "id": "2ac48817",
   "metadata": {},
   "outputs": [
    {
     "name": "stdout",
     "output_type": "stream",
     "text": [
      "10 20 30 40 50 60 70 80 90 100 "
     ]
    }
   ],
   "source": [
    "for num in range (1,101):\n",
    "    if (num%2 == 0) & (num%5 == 0):\n",
    "        print(num,end=' ')\n",
    "    else:\n",
    "        continue"
   ]
  },
  {
   "cell_type": "code",
   "execution_count": 84,
   "id": "64c833fc",
   "metadata": {
    "scrolled": true
   },
   "outputs": [
    {
     "data": {
      "text/plain": [
       "array([ 10,  20,  30,  40,  50,  60,  70,  80,  90, 100])"
      ]
     },
     "execution_count": 84,
     "metadata": {},
     "output_type": "execute_result"
    }
   ],
   "source": [
    "\n",
    "import numpy as np\n",
    "arr = np.arange(10,101,10)\n",
    "arr"
   ]
  },
  {
   "cell_type": "code",
   "execution_count": 85,
   "id": "b306231b",
   "metadata": {},
   "outputs": [
    {
     "name": "stdout",
     "output_type": "stream",
     "text": [
      "[10, 20, 30, 40, 50, 60, 70, 80, 90, 100]\n",
      "[ 10  20  30  40  50  60  70  80  90 100]\n"
     ]
    }
   ],
   "source": [
    "li = []\n",
    "for i in range(1,101):\n",
    "    if i % 5 == 0 and i % 2 == 0:\n",
    "        li.append(i)\n",
    "print(li)\n",
    "        \n",
    "arr = np.arange(1,101)\n",
    "arr2 = arr[arr % 10 == 0]\n",
    "print(arr2)\n"
   ]
  },
  {
   "cell_type": "code",
   "execution_count": 86,
   "id": "0f0fc9bd",
   "metadata": {},
   "outputs": [
    {
     "name": "stdout",
     "output_type": "stream",
     "text": [
      "[[ 1.15397509  0.07440921  0.0383494   1.12484146  0.3389977 ]\n",
      " [-0.9600154   2.1143004  -1.3133954  -1.56354448  1.08613243]\n",
      " [-1.11095549  1.25799033 -0.53075294  0.90066229 -0.01313055]\n",
      " [ 0.64028022  0.53269974 -2.30683056  0.16618548  0.54913269]\n",
      " [-1.40741547  0.17715226  0.80345899  0.33272161  0.87280781]] \n",
      "\n"
     ]
    },
    {
     "data": {
      "text/plain": [
       "0.11832227264872472"
      ]
     },
     "execution_count": 86,
     "metadata": {},
     "output_type": "execute_result"
    }
   ],
   "source": [
    "#[과제] 표준정규분포로 구성된 5행 5열 다차원 배열을 생성하고 함수를 이용하여 평균과 표준편차를 구하세요\n",
    "arr = np.random.randn(5,5)\n",
    "print(arr, '\\n')\n",
    "# 표준정규분포 평균\n",
    "arr.mean()\n"
   ]
  },
  {
   "cell_type": "code",
   "execution_count": 87,
   "id": "5fd92eda",
   "metadata": {},
   "outputs": [
    {
     "name": "stdout",
     "output_type": "stream",
     "text": [
      "4.9228604319102494e-05\n",
      "1.0000138378540344\n"
     ]
    }
   ],
   "source": [
    "arr1 = np.random.randn(10000,10000)\n",
    "print(arr1.mean())\n",
    "print(arr1.std())"
   ]
  },
  {
   "cell_type": "code",
   "execution_count": 88,
   "id": "730dcf62",
   "metadata": {},
   "outputs": [
    {
     "data": {
      "text/plain": [
       "1.0371988685878113"
      ]
     },
     "execution_count": 88,
     "metadata": {},
     "output_type": "execute_result"
    }
   ],
   "source": [
    "#표준 정규분포 표준편차\n",
    "arr.std()"
   ]
  },
  {
   "cell_type": "code",
   "execution_count": 89,
   "id": "9aeb5419",
   "metadata": {},
   "outputs": [],
   "source": [
    "#[과제] 현재 사용하고 있는 numpy의 버전을 출력하세요"
   ]
  },
  {
   "cell_type": "code",
   "execution_count": 90,
   "id": "e7ef76f2",
   "metadata": {},
   "outputs": [
    {
     "name": "stdout",
     "output_type": "stream",
     "text": [
      "1.20.3\n"
     ]
    }
   ],
   "source": [
    "import numpy\n",
    "print(numpy.__version__)"
   ]
  },
  {
   "cell_type": "code",
   "execution_count": 91,
   "id": "769a2551",
   "metadata": {},
   "outputs": [],
   "source": [
    "#[과제] numpy 함수의 도움말 기능을 볼 수 있는 방법을 수행하여 add 함수의 가이드를 출력하세요"
   ]
  },
  {
   "cell_type": "code",
   "execution_count": 92,
   "id": "2faaa1b5",
   "metadata": {
    "scrolled": true
   },
   "outputs": [
    {
     "name": "stdout",
     "output_type": "stream",
     "text": [
      "add(x1, x2, /, out=None, *, where=True, casting='same_kind', order='K', dtype=None, subok=True[, signature, extobj])\n",
      "\n",
      "Add arguments element-wise.\n",
      "\n",
      "Parameters\n",
      "----------\n",
      "x1, x2 : array_like\n",
      "    The arrays to be added.\n",
      "    If ``x1.shape != x2.shape``, they must be broadcastable to a common\n",
      "    shape (which becomes the shape of the output).\n",
      "out : ndarray, None, or tuple of ndarray and None, optional\n",
      "    A location into which the result is stored. If provided, it must have\n",
      "    a shape that the inputs broadcast to. If not provided or None,\n",
      "    a freshly-allocated array is returned. A tuple (possible only as a\n",
      "    keyword argument) must have length equal to the number of outputs.\n",
      "where : array_like, optional\n",
      "    This condition is broadcast over the input. At locations where the\n",
      "    condition is True, the `out` array will be set to the ufunc result.\n",
      "    Elsewhere, the `out` array will retain its original value.\n",
      "    Note that if an uninitialized `out` array is created via the default\n",
      "    ``out=None``, locations within it where the condition is False will\n",
      "    remain uninitialized.\n",
      "**kwargs\n",
      "    For other keyword-only arguments, see the\n",
      "    :ref:`ufunc docs <ufuncs.kwargs>`.\n",
      "\n",
      "Returns\n",
      "-------\n",
      "add : ndarray or scalar\n",
      "    The sum of `x1` and `x2`, element-wise.\n",
      "    This is a scalar if both `x1` and `x2` are scalars.\n",
      "\n",
      "Notes\n",
      "-----\n",
      "Equivalent to `x1` + `x2` in terms of array broadcasting.\n",
      "\n",
      "Examples\n",
      "--------\n",
      ">>> np.add(1.0, 4.0)\n",
      "5.0\n",
      ">>> x1 = np.arange(9.0).reshape((3, 3))\n",
      ">>> x2 = np.arange(3.0)\n",
      ">>> np.add(x1, x2)\n",
      "array([[  0.,   2.,   4.],\n",
      "       [  3.,   5.,   7.],\n",
      "       [  6.,   8.,  10.]])\n",
      "\n",
      "The ``+`` operator can be used as a shorthand for ``np.add`` on ndarrays.\n",
      "\n",
      ">>> x1 = np.arange(9.0).reshape((3, 3))\n",
      ">>> x2 = np.arange(3.0)\n",
      ">>> x1 + x2\n",
      "array([[ 0.,  2.,  4.],\n",
      "       [ 3.,  5.,  7.],\n",
      "       [ 6.,  8., 10.]])\n"
     ]
    }
   ],
   "source": [
    "np.info(np.add)"
   ]
  },
  {
   "cell_type": "code",
   "execution_count": 94,
   "id": "aae43669",
   "metadata": {},
   "outputs": [],
   "source": [
    "# [과제] zeros 함수를 이용해서 아래와 같이 출력하세요.\n",
    "#array([0., 0., 0., 0., 1., 0., 0., 0., 0., 0.])"
   ]
  },
  {
   "cell_type": "code",
   "execution_count": 95,
   "id": "2fb3e801",
   "metadata": {},
   "outputs": [
    {
     "data": {
      "text/plain": [
       "array([0., 0., 0., 0., 1., 0., 0., 0., 0., 0.])"
      ]
     },
     "execution_count": 95,
     "metadata": {},
     "output_type": "execute_result"
    }
   ],
   "source": [
    "n = np.zeros(10)\n",
    "n[4] = 1\n",
    "n"
   ]
  },
  {
   "cell_type": "code",
   "execution_count": 96,
   "id": "865120de",
   "metadata": {},
   "outputs": [
    {
     "data": {
      "text/plain": [
       "array([0., 0., 0., 0., 1., 0., 0., 0., 0., 0.])"
      ]
     },
     "execution_count": 96,
     "metadata": {},
     "output_type": "execute_result"
    }
   ],
   "source": [
    "a = np.arange(10,dtype = float)\n",
    "b = np.zeros_like(a)\n",
    "b[4]=1\n",
    "b\n"
   ]
  },
  {
   "cell_type": "code",
   "execution_count": 97,
   "id": "cb9f66d3",
   "metadata": {},
   "outputs": [
    {
     "data": {
      "text/plain": [
       "array([0., 0., 0., 0., 0., 0., 0., 0., 0., 0.])"
      ]
     },
     "execution_count": 97,
     "metadata": {},
     "output_type": "execute_result"
    }
   ],
   "source": [
    "import numpy as np\n",
    "np.zeros(10)\n"
   ]
  },
  {
   "cell_type": "markdown",
   "id": "5e0cb32f",
   "metadata": {},
   "source": [
    "[과제] 인덱싱을 이용하여 아래 배열을 내림차순으로 정렬하세요.\n",
    "[0, 1, 2, 3, 4, 5, 6, 7, 8, 9]\n",
    "array([0,1,2,3,4,5,6,7,8,9])"
   ]
  },
  {
   "cell_type": "code",
   "execution_count": 99,
   "id": "1c58aa9e",
   "metadata": {},
   "outputs": [
    {
     "data": {
      "text/plain": [
       "array([9, 8, 7, 6, 5, 4, 3, 2, 1, 0])"
      ]
     },
     "execution_count": 99,
     "metadata": {},
     "output_type": "execute_result"
    }
   ],
   "source": [
    "li=np.array([0, 1, 2, 3, 4, 5, 6, 7, 8, 9])\n",
    "li[9::-1]\n"
   ]
  },
  {
   "cell_type": "code",
   "execution_count": 100,
   "id": "0bfb4f35",
   "metadata": {},
   "outputs": [
    {
     "name": "stdout",
     "output_type": "stream",
     "text": [
      "[9 8 7 6 5 4 3 2 1 0]\n"
     ]
    }
   ],
   "source": [
    "array = np.array([0, 1, 2, 3, 4, 5, 6, 7, 8, 9])\n",
    "array_desc = np.sort(array)[::-1]\n",
    "print(array_desc)"
   ]
  },
  {
   "cell_type": "code",
   "execution_count": null,
   "id": "500d6723",
   "metadata": {},
   "outputs": [],
   "source": [
    "#[과제] [1,2,0,0,4,0]에서 zero가 아닌 인덱스의 방식으로 출력하세요"
   ]
  },
  {
   "cell_type": "code",
   "execution_count": 101,
   "id": "8957d827",
   "metadata": {},
   "outputs": [
    {
     "ename": "TypeError",
     "evalue": "arange() missing required argument 'start' (pos 1)",
     "output_type": "error",
     "traceback": [
      "\u001b[1;31m---------------------------------------------------------------------------\u001b[0m",
      "\u001b[1;31mTypeError\u001b[0m                                 Traceback (most recent call last)",
      "\u001b[1;32m~\\AppData\\Local\\Temp/ipykernel_28000/2731991801.py\u001b[0m in \u001b[0;36m<module>\u001b[1;34m\u001b[0m\n\u001b[1;32m----> 1\u001b[1;33m \u001b[0marr1d\u001b[0m \u001b[1;33m=\u001b[0m \u001b[0mnp\u001b[0m\u001b[1;33m.\u001b[0m\u001b[0marange\u001b[0m\u001b[1;33m(\u001b[0m\u001b[1;33m)\u001b[0m\u001b[1;33m\u001b[0m\u001b[1;33m\u001b[0m\u001b[0m\n\u001b[0m",
      "\u001b[1;31mTypeError\u001b[0m: arange() missing required argument 'start' (pos 1)"
     ]
    }
   ],
   "source": [
    "# arr1d = np.arange()"
   ]
  },
  {
   "cell_type": "code",
   "execution_count": 102,
   "id": "b4635fb4",
   "metadata": {},
   "outputs": [
    {
     "name": "stdout",
     "output_type": "stream",
     "text": [
      "[1 2 4]\n"
     ]
    }
   ],
   "source": [
    "import numpy as np\n",
    "\n",
    "Array = np.array([1,2,0,0,4,0])\n",
    "index = [2,3,5]\n",
    "Array_e = np.delete(Array, index)\n",
    "print(Array_e)"
   ]
  },
  {
   "cell_type": "code",
   "execution_count": 103,
   "id": "9799c3dd",
   "metadata": {},
   "outputs": [
    {
     "data": {
      "text/plain": [
       "(array([0, 1, 4], dtype=int64),)"
      ]
     },
     "execution_count": 103,
     "metadata": {},
     "output_type": "execute_result"
    }
   ],
   "source": [
    "# 0이 아닌 인덱스 반환\n",
    "a= np.array([1,2,0,0,4,0])\n",
    "np.nonzero(a)\n"
   ]
  },
  {
   "cell_type": "code",
   "execution_count": 104,
   "id": "b50a258f",
   "metadata": {},
   "outputs": [
    {
     "data": {
      "text/plain": [
       "array([[0., 0., 0., 0.],\n",
       "       [1., 1., 1., 1.],\n",
       "       [2., 2., 2., 2.],\n",
       "       [3., 3., 3., 3.],\n",
       "       [4., 4., 4., 4.],\n",
       "       [5., 5., 5., 5.],\n",
       "       [6., 6., 6., 6.],\n",
       "       [7., 7., 7., 7.]])"
      ]
     },
     "execution_count": 104,
     "metadata": {},
     "output_type": "execute_result"
    }
   ],
   "source": [
    "# Fancy indexing\n",
    "arr = np.empty((8,4))    #형태만 8행4열 틀만 만들어줌(무작위 숫자)\n",
    "arr\n",
    "for i in range(8):       #0~7까지의 숫자를 8행 4열로 만들어줌\n",
    "    arr[i] = i\n",
    "arr"
   ]
  },
  {
   "cell_type": "code",
   "execution_count": 105,
   "id": "6a488319",
   "metadata": {},
   "outputs": [
    {
     "data": {
      "text/plain": [
       "array([[4., 4., 4., 4.],\n",
       "       [3., 3., 3., 3.],\n",
       "       [0., 0., 0., 0.],\n",
       "       [6., 6., 6., 6.]])"
      ]
     },
     "execution_count": 105,
     "metadata": {},
     "output_type": "execute_result"
    }
   ],
   "source": [
    "arr[[4,3,0,6]]     #자기가 원하는 행만 출력"
   ]
  },
  {
   "cell_type": "code",
   "execution_count": 106,
   "id": "d70fd7e3",
   "metadata": {},
   "outputs": [
    {
     "data": {
      "text/plain": [
       "array([[5., 5., 5., 5.],\n",
       "       [3., 3., 3., 3.],\n",
       "       [1., 1., 1., 1.]])"
      ]
     },
     "execution_count": 106,
     "metadata": {},
     "output_type": "execute_result"
    }
   ],
   "source": [
    "arr[[-3,-5,-7]]    #역순의 방식으로 행을 출력( -1 , -2,-3~~)"
   ]
  },
  {
   "cell_type": "code",
   "execution_count": 107,
   "id": "9169d80e",
   "metadata": {},
   "outputs": [
    {
     "name": "stdout",
     "output_type": "stream",
     "text": [
      "[[ 0  1  2  3]\n",
      " [ 4  5  6  7]\n",
      " [ 8  9 10 11]\n",
      " [12 13 14 15]\n",
      " [16 17 18 19]\n",
      " [20 21 22 23]\n",
      " [24 25 26 27]\n",
      " [28 29 30 31]] \n",
      "\n"
     ]
    },
    {
     "data": {
      "text/plain": [
       "array([ 4, 23, 29, 10])"
      ]
     },
     "execution_count": 107,
     "metadata": {},
     "output_type": "execute_result"
    }
   ],
   "source": [
    "arr = np.arange(32).reshape((8,4))\n",
    "print(arr,'\\n')\n",
    "\n",
    "arr[[1,5,7,2],[0,3,1,2]]    # 원하는 특정 숫자를 [[행],[열]] 의 방식으로 출력 ex 10 =>[[2],[2]]"
   ]
  },
  {
   "cell_type": "code",
   "execution_count": 108,
   "id": "6b94f251",
   "metadata": {},
   "outputs": [
    {
     "name": "stdout",
     "output_type": "stream",
     "text": [
      "[[ 4  5  6  7]\n",
      " [20 21 22 23]\n",
      " [28 29 30 31]\n",
      " [ 8  9 10 11]] \n",
      "\n",
      "[[ 4  7  5  6]\n",
      " [20 23 21 22]\n",
      " [28 31 29 30]\n",
      " [ 8 11  9 10]]\n"
     ]
    }
   ],
   "source": [
    "print(arr[[1,5,7,2]],'\\n')\n",
    "print(arr[[1,5,7,2]][:,[0,3,1,2]])   #앞의 행렬은 그대로 오고 0->3->1->2열의 순서대로 작성"
   ]
  },
  {
   "cell_type": "code",
   "execution_count": 109,
   "id": "95d2b560",
   "metadata": {},
   "outputs": [
    {
     "name": "stdout",
     "output_type": "stream",
     "text": [
      "[[ 0  1  2  3  4]\n",
      " [ 5  6  7  8  9]\n",
      " [10 11 12 13 14]] \n",
      "\n",
      "[[ 0  5 10]\n",
      " [ 1  6 11]\n",
      " [ 2  7 12]\n",
      " [ 3  8 13]\n",
      " [ 4  9 14]]\n"
     ]
    }
   ],
   "source": [
    "# 배열 전치와 축 바꾸기\n",
    "arr = np.arange(15).reshape(3,5)\n",
    "print(arr,'\\n')\n",
    "print(arr.T)        #T:transform(전치) : 행을 열로 변형"
   ]
  },
  {
   "cell_type": "code",
   "execution_count": null,
   "id": "de8cfe56",
   "metadata": {},
   "outputs": [],
   "source": []
  },
  {
   "cell_type": "code",
   "execution_count": null,
   "id": "2ae7cb60",
   "metadata": {},
   "outputs": [],
   "source": []
  }
 ],
 "metadata": {
  "kernelspec": {
   "display_name": "Python 3 (ipykernel)",
   "language": "python",
   "name": "python3"
  },
  "language_info": {
   "codemirror_mode": {
    "name": "ipython",
    "version": 3
   },
   "file_extension": ".py",
   "mimetype": "text/x-python",
   "name": "python",
   "nbconvert_exporter": "python",
   "pygments_lexer": "ipython3",
   "version": "3.9.7"
  }
 },
 "nbformat": 4,
 "nbformat_minor": 5
}
